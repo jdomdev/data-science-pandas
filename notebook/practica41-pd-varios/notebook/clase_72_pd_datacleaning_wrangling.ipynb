{
 "cells": [
  {
   "cell_type": "markdown",
   "id": "f426c096",
   "metadata": {
    "slideshow": {
     "slide_type": "slide"
    }
   },
   "source": [
    "# Limpieza y preparación de datos"
   ]
  },
  {
   "cell_type": "markdown",
   "id": "35668dfe",
   "metadata": {
    "slideshow": {
     "slide_type": "slide"
    }
   },
   "source": [
    "## 2.1 Tratamiento de los datos que faltan"
   ]
  },
  {
   "cell_type": "markdown",
   "id": "bf93f8b5",
   "metadata": {},
   "source": [
    "### En muchas aplicaciones de análisis de datos es habitual que falten datos. Uno de los objetivos de pandas es hacer que trabajar con datos perdidos sea lo menos doloroso posible. Por ejemplo, todas las estadísticas descriptivas de los objetos de pandas excluyen por defecto los datos que faltan."
   ]
  },
  {
   "cell_type": "markdown",
   "id": "18d7e1f4",
   "metadata": {
    "slideshow": {
     "slide_type": "slide"
    }
   },
   "source": [
    "### La forma en que se representan los datos que faltan en los objetos de pandas es algo imperfecta, pero es suficiente para la mayoría de los usos en el mundo real. Para datos con dtype float64, pandas utiliza el valor de coma flotante NaN (`Not a Number`) para representar los datos que faltan."
   ]
  },
  {
   "cell_type": "markdown",
   "id": "dddd97d7",
   "metadata": {},
   "source": [
    "Lo llamamos valor centinela (sentinel value): cuando está presente, indica un valor ausente (o nulo):"
   ]
  },
  {
   "cell_type": "code",
   "execution_count": 3,
   "id": "2acec2f6",
   "metadata": {
    "slideshow": {
     "slide_type": "slide"
    }
   },
   "outputs": [],
   "source": [
    "import pandas as pd\n",
    "import numpy as np\n",
    "float_data = pd.Series([1.8, -3.5, np.nan, 0])"
   ]
  },
  {
   "cell_type": "code",
   "execution_count": 4,
   "id": "f8221898",
   "metadata": {},
   "outputs": [
    {
     "data": {
      "text/plain": [
       "0    1.8\n",
       "1   -3.5\n",
       "2    NaN\n",
       "3    0.0\n",
       "dtype: float64"
      ]
     },
     "execution_count": 4,
     "metadata": {},
     "output_type": "execute_result"
    }
   ],
   "source": [
    "float_data"
   ]
  },
  {
   "cell_type": "code",
   "execution_count": 5,
   "id": "9aee05d8",
   "metadata": {},
   "outputs": [],
   "source": [
    "my_float_data = pd.Series([-2, -1.3, 1.1, 0, np.nan, 4.7, np.nan])"
   ]
  },
  {
   "cell_type": "code",
   "execution_count": 6,
   "id": "c1d06aa4",
   "metadata": {},
   "outputs": [
    {
     "data": {
      "text/plain": [
       "0   -2.0\n",
       "1   -1.3\n",
       "2    1.1\n",
       "3    0.0\n",
       "4    NaN\n",
       "5    4.7\n",
       "6    NaN\n",
       "dtype: float64"
      ]
     },
     "execution_count": 6,
     "metadata": {},
     "output_type": "execute_result"
    }
   ],
   "source": [
    "my_float_data"
   ]
  },
  {
   "cell_type": "markdown",
   "id": "5d6e522e",
   "metadata": {
    "slideshow": {
     "slide_type": "slide"
    }
   },
   "source": [
    "El método `isna` nos da una Serie Booleana con `True` donde los valores son 'nulos':"
   ]
  },
  {
   "cell_type": "code",
   "execution_count": 7,
   "id": "8f642842",
   "metadata": {},
   "outputs": [
    {
     "data": {
      "text/plain": [
       "0    False\n",
       "1    False\n",
       "2     True\n",
       "3    False\n",
       "dtype: bool"
      ]
     },
     "execution_count": 7,
     "metadata": {},
     "output_type": "execute_result"
    }
   ],
   "source": [
    "float_data.isna()"
   ]
  },
  {
   "cell_type": "code",
   "execution_count": 8,
   "id": "4d4b6b61",
   "metadata": {},
   "outputs": [
    {
     "data": {
      "text/plain": [
       "0    False\n",
       "1    False\n",
       "2    False\n",
       "3    False\n",
       "4     True\n",
       "5    False\n",
       "6     True\n",
       "dtype: bool"
      ]
     },
     "execution_count": 8,
     "metadata": {},
     "output_type": "execute_result"
    }
   ],
   "source": [
    "my_float_data.isna()"
   ]
  },
  {
   "cell_type": "markdown",
   "id": "83ac8723",
   "metadata": {
    "slideshow": {
     "slide_type": "slide"
    }
   },
   "source": [
    "En pandas, hemos adoptado una convención utilizada en el lenguaje de programación R refiriéndonos a los datos perdidos como `NA`, que significa no disponible (`Not Available`). "
   ]
  },
  {
   "cell_type": "markdown",
   "id": "0f641407",
   "metadata": {
    "slideshow": {
     "slide_type": "slide"
    }
   },
   "source": [
    "El valor `None` (ausencia de un valor o un valor nulo) incorporado en Python también se trata como `NA`:"
   ]
  },
  {
   "cell_type": "code",
   "execution_count": 9,
   "id": "32fc5765",
   "metadata": {},
   "outputs": [
    {
     "data": {
      "text/plain": [
       "0    abcd\n",
       "1     NaN\n",
       "2    None\n",
       "3    dfeg\n",
       "dtype: object"
      ]
     },
     "execution_count": 9,
     "metadata": {},
     "output_type": "execute_result"
    }
   ],
   "source": [
    "string_data = pd.Series(['abcd', np.nan, None, 'dfeg'])\n",
    "\n",
    "string_data"
   ]
  },
  {
   "cell_type": "code",
   "execution_count": 10,
   "id": "86111bf1",
   "metadata": {
    "slideshow": {
     "slide_type": "slide"
    }
   },
   "outputs": [
    {
     "data": {
      "text/plain": [
       "0    False\n",
       "1     True\n",
       "2     True\n",
       "3    False\n",
       "dtype: bool"
      ]
     },
     "execution_count": 10,
     "metadata": {},
     "output_type": "execute_result"
    }
   ],
   "source": [
    "string_data.isna()"
   ]
  },
  {
   "cell_type": "code",
   "execution_count": 11,
   "id": "56702b03",
   "metadata": {},
   "outputs": [
    {
     "data": {
      "text/plain": [
       "0     NaN\n",
       "1    None\n",
       "2    tuvw\n",
       "3     xyz\n",
       "4    None\n",
       "5     NaN\n",
       "dtype: object"
      ]
     },
     "execution_count": 11,
     "metadata": {},
     "output_type": "execute_result"
    }
   ],
   "source": [
    "my_string_data = pd.Series([ np.nan, None, 'tuvw', 'xyz', None, np.nan])\n",
    "my_string_data"
   ]
  },
  {
   "cell_type": "code",
   "execution_count": 12,
   "id": "cc2ebf6e",
   "metadata": {},
   "outputs": [
    {
     "data": {
      "text/plain": [
       "0     True\n",
       "1     True\n",
       "2    False\n",
       "3    False\n",
       "4     True\n",
       "5     True\n",
       "dtype: bool"
      ]
     },
     "execution_count": 12,
     "metadata": {},
     "output_type": "execute_result"
    }
   ],
   "source": [
    "my_string_data.isna()"
   ]
  },
  {
   "cell_type": "markdown",
   "id": "fcae94e1-dc6f-4f9d-8d6e-cf45dec1ad94",
   "metadata": {},
   "source": [
    "El método `isna` nos da una Serie Booleana con `True` donde los valores son 'nulos':"
   ]
  },
  {
   "cell_type": "code",
   "execution_count": 13,
   "id": "c0aa58d8",
   "metadata": {
    "slideshow": {
     "slide_type": "slide"
    }
   },
   "outputs": [
    {
     "data": {
      "text/plain": [
       "0    1.0\n",
       "1    2.0\n",
       "2    NaN\n",
       "dtype: float64"
      ]
     },
     "execution_count": 13,
     "metadata": {},
     "output_type": "execute_result"
    }
   ],
   "source": [
    "float_data = pd.Series([1, 2, None], dtype='float64')\n",
    "float_data"
   ]
  },
  {
   "cell_type": "code",
   "execution_count": 14,
   "id": "a99d981f",
   "metadata": {
    "slideshow": {
     "slide_type": "slide"
    }
   },
   "outputs": [
    {
     "data": {
      "text/plain": [
       "0    False\n",
       "1    False\n",
       "2     True\n",
       "dtype: bool"
      ]
     },
     "execution_count": 14,
     "metadata": {},
     "output_type": "execute_result"
    }
   ],
   "source": [
    "float_data.isna()"
   ]
  },
  {
   "cell_type": "code",
   "execution_count": 15,
   "id": "9d1ce816",
   "metadata": {},
   "outputs": [
    {
     "data": {
      "text/plain": [
       "0   -3.0\n",
       "1    0.5\n",
       "2    NaN\n",
       "3    NaN\n",
       "4   -4.8\n",
       "5    NaN\n",
       "dtype: float64"
      ]
     },
     "execution_count": 15,
     "metadata": {},
     "output_type": "execute_result"
    }
   ],
   "source": [
    "my_float_data = pd.Series([-3, 0.5, np.nan, None, -4.8, None], dtype='float64')\n",
    "my_float_data"
   ]
  },
  {
   "cell_type": "code",
   "execution_count": 16,
   "id": "264bc123",
   "metadata": {},
   "outputs": [
    {
     "data": {
      "text/plain": [
       "0    False\n",
       "1    False\n",
       "2     True\n",
       "3     True\n",
       "4    False\n",
       "5     True\n",
       "dtype: bool"
      ]
     },
     "execution_count": 16,
     "metadata": {},
     "output_type": "execute_result"
    }
   ],
   "source": [
    "my_float_data.isna()"
   ]
  },
  {
   "cell_type": "markdown",
   "id": "e512e237",
   "metadata": {
    "slideshow": {
     "slide_type": "slide"
    }
   },
   "source": [
    "**Otros metodos**\n",
    "\n",
    "\n",
    "`dropna()`: es un método utilizado para eliminar filas o columnas que contienen valores nulos (NaN).  \n",
    "\n",
    "`fillna`: Rellena los datos que faltan con algún valor o utilizando un método de interpolación como `ffill` o `bfill`.\n",
    "\n",
    "`ìsna()`: Devuelve valores booleanos que indican qué valores faltan `NA`. \n",
    "\n",
    "`notna`: Negación de `isna`, devuelve `True` para valores no `NA` y False para valores `NA`."
   ]
  },
  {
   "cell_type": "markdown",
   "id": "89d8f485",
   "metadata": {
    "slideshow": {
     "slide_type": "slide"
    }
   },
   "source": [
    "### Filtrar los datos que faltan"
   ]
  },
  {
   "cell_type": "markdown",
   "id": "4386985b",
   "metadata": {
    "slideshow": {
     "slide_type": "slide"
    }
   },
   "source": [
    "Hay algunas formas de filtrar los datos que faltan. Aunque siempre se tiene la opción de hacerlo a mano usando `pandas.isna()` y la indexación booleana, `dropna()` puede ser útil. En una Serie, devuelve la Serie con sólo los datos no nulos y los valores de índice:"
   ]
  },
  {
   "cell_type": "code",
   "execution_count": 17,
   "id": "fe62beda",
   "metadata": {},
   "outputs": [
    {
     "data": {
      "text/plain": [
       "0    1.0\n",
       "2    3.5\n",
       "4    7.0\n",
       "dtype: float64"
      ]
     },
     "execution_count": 17,
     "metadata": {},
     "output_type": "execute_result"
    }
   ],
   "source": [
    "data = pd.Series([1, np.nan, 3.5, np.nan, 7])\n",
    "data.dropna()"
   ]
  },
  {
   "cell_type": "markdown",
   "id": "9401408b",
   "metadata": {
    "slideshow": {
     "slide_type": "slide"
    }
   },
   "source": [
    "Esto es lo mismo que hacer:"
   ]
  },
  {
   "cell_type": "code",
   "execution_count": 18,
   "id": "247e345f",
   "metadata": {},
   "outputs": [
    {
     "data": {
      "text/plain": [
       "0    1.0\n",
       "2    3.5\n",
       "4    7.0\n",
       "dtype: float64"
      ]
     },
     "execution_count": 18,
     "metadata": {},
     "output_type": "execute_result"
    }
   ],
   "source": [
    "data[data.notna()]"
   ]
  },
  {
   "cell_type": "code",
   "execution_count": 19,
   "id": "af4ec617",
   "metadata": {},
   "outputs": [
    {
     "data": {
      "text/plain": [
       "0    3.6\n",
       "2   -1.0\n",
       "4    3.5\n",
       "5   -4.5\n",
       "7    7.0\n",
       "dtype: float64"
      ]
     },
     "execution_count": 19,
     "metadata": {},
     "output_type": "execute_result"
    }
   ],
   "source": [
    "my_data = pd.Series([3.6, None, -1, np.nan, 3.5, -4.5, np.nan, 7, None])\n",
    "my_data.dropna()"
   ]
  },
  {
   "cell_type": "code",
   "execution_count": 20,
   "id": "618e6ab0",
   "metadata": {},
   "outputs": [
    {
     "data": {
      "text/plain": [
       "0    3.6\n",
       "2   -1.0\n",
       "4    3.5\n",
       "5   -4.5\n",
       "7    7.0\n",
       "dtype: float64"
      ]
     },
     "execution_count": 20,
     "metadata": {},
     "output_type": "execute_result"
    }
   ],
   "source": [
    "my_data[my_data.notna()]"
   ]
  },
  {
   "cell_type": "markdown",
   "id": "dfbee4cc",
   "metadata": {
    "slideshow": {
     "slide_type": "slide"
    }
   },
   "source": [
    "Con los objetos DataFrame, hay diferentes formas de eliminar los datos que faltan. Es posible que desee eliminar las filas o columnas que son todas NA, o sólo las filas o columnas que contienen cualquier NA en absoluto. `dropna()` por defecto elimina cualquier fila que contenga un valor perdido:"
   ]
  },
  {
   "cell_type": "code",
   "execution_count": 21,
   "id": "fd5a3341",
   "metadata": {},
   "outputs": [
    {
     "data": {
      "text/html": [
       "<div>\n",
       "<style scoped>\n",
       "    .dataframe tbody tr th:only-of-type {\n",
       "        vertical-align: middle;\n",
       "    }\n",
       "\n",
       "    .dataframe tbody tr th {\n",
       "        vertical-align: top;\n",
       "    }\n",
       "\n",
       "    .dataframe thead th {\n",
       "        text-align: right;\n",
       "    }\n",
       "</style>\n",
       "<table border=\"1\" class=\"dataframe\">\n",
       "  <thead>\n",
       "    <tr style=\"text-align: right;\">\n",
       "      <th></th>\n",
       "      <th>0</th>\n",
       "      <th>1</th>\n",
       "      <th>2</th>\n",
       "    </tr>\n",
       "  </thead>\n",
       "  <tbody>\n",
       "    <tr>\n",
       "      <th>0</th>\n",
       "      <td>1.0</td>\n",
       "      <td>6.5</td>\n",
       "      <td>3.0</td>\n",
       "    </tr>\n",
       "    <tr>\n",
       "      <th>1</th>\n",
       "      <td>1.0</td>\n",
       "      <td>NaN</td>\n",
       "      <td>NaN</td>\n",
       "    </tr>\n",
       "    <tr>\n",
       "      <th>2</th>\n",
       "      <td>NaN</td>\n",
       "      <td>NaN</td>\n",
       "      <td>NaN</td>\n",
       "    </tr>\n",
       "    <tr>\n",
       "      <th>3</th>\n",
       "      <td>NaN</td>\n",
       "      <td>6.5</td>\n",
       "      <td>3.0</td>\n",
       "    </tr>\n",
       "  </tbody>\n",
       "</table>\n",
       "</div>"
      ],
      "text/plain": [
       "     0    1    2\n",
       "0  1.0  6.5  3.0\n",
       "1  1.0  NaN  NaN\n",
       "2  NaN  NaN  NaN\n",
       "3  NaN  6.5  3.0"
      ]
     },
     "execution_count": 21,
     "metadata": {},
     "output_type": "execute_result"
    }
   ],
   "source": [
    "data = pd.DataFrame([[1., 6.5, 3.], \n",
    "                     [1., np.nan, np.nan],\n",
    "                     [np.nan, np.nan, np.nan],\n",
    "                     [np.nan, 6.5, 3.]])\n",
    "\n",
    "data"
   ]
  },
  {
   "cell_type": "code",
   "execution_count": 22,
   "id": "16d5374e",
   "metadata": {
    "slideshow": {
     "slide_type": "slide"
    }
   },
   "outputs": [
    {
     "data": {
      "text/html": [
       "<div>\n",
       "<style scoped>\n",
       "    .dataframe tbody tr th:only-of-type {\n",
       "        vertical-align: middle;\n",
       "    }\n",
       "\n",
       "    .dataframe tbody tr th {\n",
       "        vertical-align: top;\n",
       "    }\n",
       "\n",
       "    .dataframe thead th {\n",
       "        text-align: right;\n",
       "    }\n",
       "</style>\n",
       "<table border=\"1\" class=\"dataframe\">\n",
       "  <thead>\n",
       "    <tr style=\"text-align: right;\">\n",
       "      <th></th>\n",
       "      <th>0</th>\n",
       "      <th>1</th>\n",
       "      <th>2</th>\n",
       "    </tr>\n",
       "  </thead>\n",
       "  <tbody>\n",
       "    <tr>\n",
       "      <th>0</th>\n",
       "      <td>1.0</td>\n",
       "      <td>6.5</td>\n",
       "      <td>3.0</td>\n",
       "    </tr>\n",
       "  </tbody>\n",
       "</table>\n",
       "</div>"
      ],
      "text/plain": [
       "     0    1    2\n",
       "0  1.0  6.5  3.0"
      ]
     },
     "execution_count": 22,
     "metadata": {},
     "output_type": "execute_result"
    }
   ],
   "source": [
    "data.dropna()"
   ]
  },
  {
   "cell_type": "code",
   "execution_count": 23,
   "id": "bcddd277",
   "metadata": {},
   "outputs": [
    {
     "data": {
      "text/html": [
       "<div>\n",
       "<style scoped>\n",
       "    .dataframe tbody tr th:only-of-type {\n",
       "        vertical-align: middle;\n",
       "    }\n",
       "\n",
       "    .dataframe tbody tr th {\n",
       "        vertical-align: top;\n",
       "    }\n",
       "\n",
       "    .dataframe thead th {\n",
       "        text-align: right;\n",
       "    }\n",
       "</style>\n",
       "<table border=\"1\" class=\"dataframe\">\n",
       "  <thead>\n",
       "    <tr style=\"text-align: right;\">\n",
       "      <th></th>\n",
       "      <th>0</th>\n",
       "      <th>1</th>\n",
       "      <th>2</th>\n",
       "      <th>3</th>\n",
       "      <th>4</th>\n",
       "    </tr>\n",
       "  </thead>\n",
       "  <tbody>\n",
       "    <tr>\n",
       "      <th>0</th>\n",
       "      <td>0.0</td>\n",
       "      <td>NaN</td>\n",
       "      <td>2.9</td>\n",
       "      <td>-1.6</td>\n",
       "      <td>NaN</td>\n",
       "    </tr>\n",
       "    <tr>\n",
       "      <th>1</th>\n",
       "      <td>NaN</td>\n",
       "      <td>NaN</td>\n",
       "      <td>3.1</td>\n",
       "      <td>NaN</td>\n",
       "      <td>2.0</td>\n",
       "    </tr>\n",
       "    <tr>\n",
       "      <th>2</th>\n",
       "      <td>NaN</td>\n",
       "      <td>NaN</td>\n",
       "      <td>NaN</td>\n",
       "      <td>NaN</td>\n",
       "      <td>NaN</td>\n",
       "    </tr>\n",
       "    <tr>\n",
       "      <th>3</th>\n",
       "      <td>NaN</td>\n",
       "      <td>6.5</td>\n",
       "      <td>3.0</td>\n",
       "      <td>7.0</td>\n",
       "      <td>-5.0</td>\n",
       "    </tr>\n",
       "    <tr>\n",
       "      <th>4</th>\n",
       "      <td>1.0</td>\n",
       "      <td>8.3</td>\n",
       "      <td>-3.3</td>\n",
       "      <td>9.0</td>\n",
       "      <td>100.1</td>\n",
       "    </tr>\n",
       "  </tbody>\n",
       "</table>\n",
       "</div>"
      ],
      "text/plain": [
       "     0    1    2    3      4\n",
       "0  0.0  NaN  2.9 -1.6    NaN\n",
       "1  NaN  NaN  3.1  NaN    2.0\n",
       "2  NaN  NaN  NaN  NaN    NaN\n",
       "3  NaN  6.5  3.0  7.0   -5.0\n",
       "4  1.0  8.3 -3.3  9.0  100.1"
      ]
     },
     "execution_count": 23,
     "metadata": {},
     "output_type": "execute_result"
    }
   ],
   "source": [
    "my_data = pd.DataFrame([[0., np.nan, 2.9, -1.6, None], \n",
    "                     [None, np.nan, 3.1, None, 2],\n",
    "                     [np.nan, np.nan, np.nan, None, None],\n",
    "                     [np.nan, 6.5, 3., 7, -5],\n",
    "                     [1., 8.3, -3.3, 9, 100.100]])\n",
    "my_data"
   ]
  },
  {
   "cell_type": "code",
   "execution_count": 24,
   "id": "cc420f96",
   "metadata": {},
   "outputs": [
    {
     "data": {
      "text/html": [
       "<div>\n",
       "<style scoped>\n",
       "    .dataframe tbody tr th:only-of-type {\n",
       "        vertical-align: middle;\n",
       "    }\n",
       "\n",
       "    .dataframe tbody tr th {\n",
       "        vertical-align: top;\n",
       "    }\n",
       "\n",
       "    .dataframe thead th {\n",
       "        text-align: right;\n",
       "    }\n",
       "</style>\n",
       "<table border=\"1\" class=\"dataframe\">\n",
       "  <thead>\n",
       "    <tr style=\"text-align: right;\">\n",
       "      <th></th>\n",
       "      <th>0</th>\n",
       "      <th>1</th>\n",
       "      <th>2</th>\n",
       "      <th>3</th>\n",
       "      <th>4</th>\n",
       "    </tr>\n",
       "  </thead>\n",
       "  <tbody>\n",
       "    <tr>\n",
       "      <th>4</th>\n",
       "      <td>1.0</td>\n",
       "      <td>8.3</td>\n",
       "      <td>-3.3</td>\n",
       "      <td>9.0</td>\n",
       "      <td>100.1</td>\n",
       "    </tr>\n",
       "  </tbody>\n",
       "</table>\n",
       "</div>"
      ],
      "text/plain": [
       "     0    1    2    3      4\n",
       "4  1.0  8.3 -3.3  9.0  100.1"
      ]
     },
     "execution_count": 24,
     "metadata": {},
     "output_type": "execute_result"
    }
   ],
   "source": [
    "my_data.dropna()"
   ]
  },
  {
   "cell_type": "markdown",
   "id": "5f7baa20",
   "metadata": {
    "slideshow": {
     "slide_type": "slide"
    }
   },
   "source": [
    "Si se pasa `how=\"all\"`, sólo se eliminarán las filas que sean todas NA:"
   ]
  },
  {
   "cell_type": "code",
   "execution_count": 25,
   "id": "6375e3c0",
   "metadata": {},
   "outputs": [
    {
     "data": {
      "text/html": [
       "<div>\n",
       "<style scoped>\n",
       "    .dataframe tbody tr th:only-of-type {\n",
       "        vertical-align: middle;\n",
       "    }\n",
       "\n",
       "    .dataframe tbody tr th {\n",
       "        vertical-align: top;\n",
       "    }\n",
       "\n",
       "    .dataframe thead th {\n",
       "        text-align: right;\n",
       "    }\n",
       "</style>\n",
       "<table border=\"1\" class=\"dataframe\">\n",
       "  <thead>\n",
       "    <tr style=\"text-align: right;\">\n",
       "      <th></th>\n",
       "      <th>0</th>\n",
       "      <th>1</th>\n",
       "      <th>2</th>\n",
       "    </tr>\n",
       "  </thead>\n",
       "  <tbody>\n",
       "    <tr>\n",
       "      <th>0</th>\n",
       "      <td>1.0</td>\n",
       "      <td>6.5</td>\n",
       "      <td>3.0</td>\n",
       "    </tr>\n",
       "    <tr>\n",
       "      <th>1</th>\n",
       "      <td>1.0</td>\n",
       "      <td>NaN</td>\n",
       "      <td>NaN</td>\n",
       "    </tr>\n",
       "    <tr>\n",
       "      <th>3</th>\n",
       "      <td>NaN</td>\n",
       "      <td>6.5</td>\n",
       "      <td>3.0</td>\n",
       "    </tr>\n",
       "  </tbody>\n",
       "</table>\n",
       "</div>"
      ],
      "text/plain": [
       "     0    1    2\n",
       "0  1.0  6.5  3.0\n",
       "1  1.0  NaN  NaN\n",
       "3  NaN  6.5  3.0"
      ]
     },
     "execution_count": 25,
     "metadata": {},
     "output_type": "execute_result"
    }
   ],
   "source": [
    "data.dropna(how=\"all\")"
   ]
  },
  {
   "cell_type": "code",
   "execution_count": 26,
   "id": "290dcc8c",
   "metadata": {},
   "outputs": [
    {
     "data": {
      "text/html": [
       "<div>\n",
       "<style scoped>\n",
       "    .dataframe tbody tr th:only-of-type {\n",
       "        vertical-align: middle;\n",
       "    }\n",
       "\n",
       "    .dataframe tbody tr th {\n",
       "        vertical-align: top;\n",
       "    }\n",
       "\n",
       "    .dataframe thead th {\n",
       "        text-align: right;\n",
       "    }\n",
       "</style>\n",
       "<table border=\"1\" class=\"dataframe\">\n",
       "  <thead>\n",
       "    <tr style=\"text-align: right;\">\n",
       "      <th></th>\n",
       "      <th>0</th>\n",
       "      <th>1</th>\n",
       "      <th>2</th>\n",
       "      <th>3</th>\n",
       "      <th>4</th>\n",
       "    </tr>\n",
       "  </thead>\n",
       "  <tbody>\n",
       "    <tr>\n",
       "      <th>0</th>\n",
       "      <td>0.0</td>\n",
       "      <td>NaN</td>\n",
       "      <td>2.9</td>\n",
       "      <td>-1.6</td>\n",
       "      <td>NaN</td>\n",
       "    </tr>\n",
       "    <tr>\n",
       "      <th>1</th>\n",
       "      <td>NaN</td>\n",
       "      <td>NaN</td>\n",
       "      <td>3.1</td>\n",
       "      <td>NaN</td>\n",
       "      <td>2.0</td>\n",
       "    </tr>\n",
       "    <tr>\n",
       "      <th>3</th>\n",
       "      <td>NaN</td>\n",
       "      <td>6.5</td>\n",
       "      <td>3.0</td>\n",
       "      <td>7.0</td>\n",
       "      <td>-5.0</td>\n",
       "    </tr>\n",
       "    <tr>\n",
       "      <th>4</th>\n",
       "      <td>1.0</td>\n",
       "      <td>8.3</td>\n",
       "      <td>-3.3</td>\n",
       "      <td>9.0</td>\n",
       "      <td>100.1</td>\n",
       "    </tr>\n",
       "  </tbody>\n",
       "</table>\n",
       "</div>"
      ],
      "text/plain": [
       "     0    1    2    3      4\n",
       "0  0.0  NaN  2.9 -1.6    NaN\n",
       "1  NaN  NaN  3.1  NaN    2.0\n",
       "3  NaN  6.5  3.0  7.0   -5.0\n",
       "4  1.0  8.3 -3.3  9.0  100.1"
      ]
     },
     "execution_count": 26,
     "metadata": {},
     "output_type": "execute_result"
    }
   ],
   "source": [
    "my_data.dropna(how=\"all\")"
   ]
  },
  {
   "cell_type": "markdown",
   "id": "e7ad93a8",
   "metadata": {
    "slideshow": {
     "slide_type": "slide"
    }
   },
   "source": [
    "Tenga en cuenta que estas funciones devuelven nuevos objetos por defecto y no modifican el contenido del objeto original.\n",
    "\n",
    "Para soltar (drop) columnas del mismo modo, pase `axis=\"columns\"`:\n"
   ]
  },
  {
   "cell_type": "code",
   "execution_count": 27,
   "id": "805cac59",
   "metadata": {},
   "outputs": [
    {
     "data": {
      "text/html": [
       "<div>\n",
       "<style scoped>\n",
       "    .dataframe tbody tr th:only-of-type {\n",
       "        vertical-align: middle;\n",
       "    }\n",
       "\n",
       "    .dataframe tbody tr th {\n",
       "        vertical-align: top;\n",
       "    }\n",
       "\n",
       "    .dataframe thead th {\n",
       "        text-align: right;\n",
       "    }\n",
       "</style>\n",
       "<table border=\"1\" class=\"dataframe\">\n",
       "  <thead>\n",
       "    <tr style=\"text-align: right;\">\n",
       "      <th></th>\n",
       "      <th>0</th>\n",
       "      <th>1</th>\n",
       "      <th>2</th>\n",
       "      <th>4</th>\n",
       "    </tr>\n",
       "  </thead>\n",
       "  <tbody>\n",
       "    <tr>\n",
       "      <th>0</th>\n",
       "      <td>1.0</td>\n",
       "      <td>6.5</td>\n",
       "      <td>3.0</td>\n",
       "      <td>NaN</td>\n",
       "    </tr>\n",
       "    <tr>\n",
       "      <th>1</th>\n",
       "      <td>1.0</td>\n",
       "      <td>NaN</td>\n",
       "      <td>NaN</td>\n",
       "      <td>NaN</td>\n",
       "    </tr>\n",
       "    <tr>\n",
       "      <th>2</th>\n",
       "      <td>NaN</td>\n",
       "      <td>NaN</td>\n",
       "      <td>NaN</td>\n",
       "      <td>NaN</td>\n",
       "    </tr>\n",
       "    <tr>\n",
       "      <th>3</th>\n",
       "      <td>NaN</td>\n",
       "      <td>6.5</td>\n",
       "      <td>3.0</td>\n",
       "      <td>NaN</td>\n",
       "    </tr>\n",
       "  </tbody>\n",
       "</table>\n",
       "</div>"
      ],
      "text/plain": [
       "     0    1    2   4\n",
       "0  1.0  6.5  3.0 NaN\n",
       "1  1.0  NaN  NaN NaN\n",
       "2  NaN  NaN  NaN NaN\n",
       "3  NaN  6.5  3.0 NaN"
      ]
     },
     "execution_count": 27,
     "metadata": {},
     "output_type": "execute_result"
    }
   ],
   "source": [
    "data[4] = np.nan\n",
    "data"
   ]
  },
  {
   "cell_type": "code",
   "execution_count": 28,
   "id": "60dc7053",
   "metadata": {
    "slideshow": {
     "slide_type": "slide"
    }
   },
   "outputs": [
    {
     "data": {
      "text/html": [
       "<div>\n",
       "<style scoped>\n",
       "    .dataframe tbody tr th:only-of-type {\n",
       "        vertical-align: middle;\n",
       "    }\n",
       "\n",
       "    .dataframe tbody tr th {\n",
       "        vertical-align: top;\n",
       "    }\n",
       "\n",
       "    .dataframe thead th {\n",
       "        text-align: right;\n",
       "    }\n",
       "</style>\n",
       "<table border=\"1\" class=\"dataframe\">\n",
       "  <thead>\n",
       "    <tr style=\"text-align: right;\">\n",
       "      <th></th>\n",
       "      <th>0</th>\n",
       "      <th>1</th>\n",
       "      <th>2</th>\n",
       "    </tr>\n",
       "  </thead>\n",
       "  <tbody>\n",
       "    <tr>\n",
       "      <th>0</th>\n",
       "      <td>1.0</td>\n",
       "      <td>6.5</td>\n",
       "      <td>3.0</td>\n",
       "    </tr>\n",
       "    <tr>\n",
       "      <th>1</th>\n",
       "      <td>1.0</td>\n",
       "      <td>NaN</td>\n",
       "      <td>NaN</td>\n",
       "    </tr>\n",
       "    <tr>\n",
       "      <th>2</th>\n",
       "      <td>NaN</td>\n",
       "      <td>NaN</td>\n",
       "      <td>NaN</td>\n",
       "    </tr>\n",
       "    <tr>\n",
       "      <th>3</th>\n",
       "      <td>NaN</td>\n",
       "      <td>6.5</td>\n",
       "      <td>3.0</td>\n",
       "    </tr>\n",
       "  </tbody>\n",
       "</table>\n",
       "</div>"
      ],
      "text/plain": [
       "     0    1    2\n",
       "0  1.0  6.5  3.0\n",
       "1  1.0  NaN  NaN\n",
       "2  NaN  NaN  NaN\n",
       "3  NaN  6.5  3.0"
      ]
     },
     "execution_count": 28,
     "metadata": {},
     "output_type": "execute_result"
    }
   ],
   "source": [
    "data.dropna(axis=\"columns\", how=\"all\")"
   ]
  },
  {
   "cell_type": "code",
   "execution_count": 29,
   "id": "6b6ca3cd",
   "metadata": {},
   "outputs": [
    {
     "data": {
      "text/html": [
       "<div>\n",
       "<style scoped>\n",
       "    .dataframe tbody tr th:only-of-type {\n",
       "        vertical-align: middle;\n",
       "    }\n",
       "\n",
       "    .dataframe tbody tr th {\n",
       "        vertical-align: top;\n",
       "    }\n",
       "\n",
       "    .dataframe thead th {\n",
       "        text-align: right;\n",
       "    }\n",
       "</style>\n",
       "<table border=\"1\" class=\"dataframe\">\n",
       "  <thead>\n",
       "    <tr style=\"text-align: right;\">\n",
       "      <th></th>\n",
       "      <th>0</th>\n",
       "      <th>1</th>\n",
       "      <th>2</th>\n",
       "      <th>3</th>\n",
       "      <th>4</th>\n",
       "      <th>6</th>\n",
       "    </tr>\n",
       "  </thead>\n",
       "  <tbody>\n",
       "    <tr>\n",
       "      <th>0</th>\n",
       "      <td>0.0</td>\n",
       "      <td>NaN</td>\n",
       "      <td>2.9</td>\n",
       "      <td>-1.6</td>\n",
       "      <td>NaN</td>\n",
       "      <td>NaN</td>\n",
       "    </tr>\n",
       "    <tr>\n",
       "      <th>1</th>\n",
       "      <td>NaN</td>\n",
       "      <td>NaN</td>\n",
       "      <td>3.1</td>\n",
       "      <td>NaN</td>\n",
       "      <td>2.0</td>\n",
       "      <td>NaN</td>\n",
       "    </tr>\n",
       "    <tr>\n",
       "      <th>2</th>\n",
       "      <td>NaN</td>\n",
       "      <td>NaN</td>\n",
       "      <td>NaN</td>\n",
       "      <td>NaN</td>\n",
       "      <td>NaN</td>\n",
       "      <td>NaN</td>\n",
       "    </tr>\n",
       "    <tr>\n",
       "      <th>3</th>\n",
       "      <td>NaN</td>\n",
       "      <td>6.5</td>\n",
       "      <td>3.0</td>\n",
       "      <td>7.0</td>\n",
       "      <td>-5.0</td>\n",
       "      <td>NaN</td>\n",
       "    </tr>\n",
       "    <tr>\n",
       "      <th>4</th>\n",
       "      <td>1.0</td>\n",
       "      <td>8.3</td>\n",
       "      <td>-3.3</td>\n",
       "      <td>9.0</td>\n",
       "      <td>100.1</td>\n",
       "      <td>NaN</td>\n",
       "    </tr>\n",
       "  </tbody>\n",
       "</table>\n",
       "</div>"
      ],
      "text/plain": [
       "     0    1    2    3      4   6\n",
       "0  0.0  NaN  2.9 -1.6    NaN NaN\n",
       "1  NaN  NaN  3.1  NaN    2.0 NaN\n",
       "2  NaN  NaN  NaN  NaN    NaN NaN\n",
       "3  NaN  6.5  3.0  7.0   -5.0 NaN\n",
       "4  1.0  8.3 -3.3  9.0  100.1 NaN"
      ]
     },
     "execution_count": 29,
     "metadata": {},
     "output_type": "execute_result"
    }
   ],
   "source": [
    "my_data[6] = np.nan\n",
    "my_data"
   ]
  },
  {
   "cell_type": "code",
   "execution_count": 30,
   "id": "074ac8ab",
   "metadata": {},
   "outputs": [
    {
     "data": {
      "text/html": [
       "<div>\n",
       "<style scoped>\n",
       "    .dataframe tbody tr th:only-of-type {\n",
       "        vertical-align: middle;\n",
       "    }\n",
       "\n",
       "    .dataframe tbody tr th {\n",
       "        vertical-align: top;\n",
       "    }\n",
       "\n",
       "    .dataframe thead th {\n",
       "        text-align: right;\n",
       "    }\n",
       "</style>\n",
       "<table border=\"1\" class=\"dataframe\">\n",
       "  <thead>\n",
       "    <tr style=\"text-align: right;\">\n",
       "      <th></th>\n",
       "      <th>0</th>\n",
       "      <th>1</th>\n",
       "      <th>2</th>\n",
       "      <th>3</th>\n",
       "      <th>4</th>\n",
       "    </tr>\n",
       "  </thead>\n",
       "  <tbody>\n",
       "    <tr>\n",
       "      <th>0</th>\n",
       "      <td>0.0</td>\n",
       "      <td>NaN</td>\n",
       "      <td>2.9</td>\n",
       "      <td>-1.6</td>\n",
       "      <td>NaN</td>\n",
       "    </tr>\n",
       "    <tr>\n",
       "      <th>1</th>\n",
       "      <td>NaN</td>\n",
       "      <td>NaN</td>\n",
       "      <td>3.1</td>\n",
       "      <td>NaN</td>\n",
       "      <td>2.0</td>\n",
       "    </tr>\n",
       "    <tr>\n",
       "      <th>2</th>\n",
       "      <td>NaN</td>\n",
       "      <td>NaN</td>\n",
       "      <td>NaN</td>\n",
       "      <td>NaN</td>\n",
       "      <td>NaN</td>\n",
       "    </tr>\n",
       "    <tr>\n",
       "      <th>3</th>\n",
       "      <td>NaN</td>\n",
       "      <td>6.5</td>\n",
       "      <td>3.0</td>\n",
       "      <td>7.0</td>\n",
       "      <td>-5.0</td>\n",
       "    </tr>\n",
       "    <tr>\n",
       "      <th>4</th>\n",
       "      <td>1.0</td>\n",
       "      <td>8.3</td>\n",
       "      <td>-3.3</td>\n",
       "      <td>9.0</td>\n",
       "      <td>100.1</td>\n",
       "    </tr>\n",
       "  </tbody>\n",
       "</table>\n",
       "</div>"
      ],
      "text/plain": [
       "     0    1    2    3      4\n",
       "0  0.0  NaN  2.9 -1.6    NaN\n",
       "1  NaN  NaN  3.1  NaN    2.0\n",
       "2  NaN  NaN  NaN  NaN    NaN\n",
       "3  NaN  6.5  3.0  7.0   -5.0\n",
       "4  1.0  8.3 -3.3  9.0  100.1"
      ]
     },
     "execution_count": 30,
     "metadata": {},
     "output_type": "execute_result"
    }
   ],
   "source": [
    "my_data.dropna(axis=\"columns\", how=\"all\")"
   ]
  },
  {
   "cell_type": "markdown",
   "id": "5e9af624",
   "metadata": {
    "slideshow": {
     "slide_type": "slide"
    }
   },
   "source": [
    "Supongamos que desea conservar sólo las filas que contengan como máximo un determinado número de observaciones omitidas.  \n",
    "Puede indicarlo con el argumento `thresh`, el cual especifica el número mínimo de valores no nulos que deben estar presentes en una fila o columna para que no sea eliminada.  \n",
    "Si una fila o columna no cumple con este umbral mínimo de valores no nulos, será eliminada del DataFrame."
   ]
  },
  {
   "cell_type": "code",
   "execution_count": 31,
   "id": "50c52525",
   "metadata": {
    "slideshow": {
     "slide_type": "-"
    }
   },
   "outputs": [],
   "source": [
    "df = pd.DataFrame(np.random.standard_normal((7, 3)))"
   ]
  },
  {
   "cell_type": "code",
   "execution_count": 32,
   "id": "35c692d5",
   "metadata": {
    "slideshow": {
     "slide_type": "slide"
    }
   },
   "outputs": [
    {
     "data": {
      "text/html": [
       "<div>\n",
       "<style scoped>\n",
       "    .dataframe tbody tr th:only-of-type {\n",
       "        vertical-align: middle;\n",
       "    }\n",
       "\n",
       "    .dataframe tbody tr th {\n",
       "        vertical-align: top;\n",
       "    }\n",
       "\n",
       "    .dataframe thead th {\n",
       "        text-align: right;\n",
       "    }\n",
       "</style>\n",
       "<table border=\"1\" class=\"dataframe\">\n",
       "  <thead>\n",
       "    <tr style=\"text-align: right;\">\n",
       "      <th></th>\n",
       "      <th>0</th>\n",
       "      <th>1</th>\n",
       "      <th>2</th>\n",
       "    </tr>\n",
       "  </thead>\n",
       "  <tbody>\n",
       "    <tr>\n",
       "      <th>0</th>\n",
       "      <td>2.003452</td>\n",
       "      <td>0.526054</td>\n",
       "      <td>1.852686</td>\n",
       "    </tr>\n",
       "    <tr>\n",
       "      <th>1</th>\n",
       "      <td>0.607935</td>\n",
       "      <td>0.750542</td>\n",
       "      <td>-0.476243</td>\n",
       "    </tr>\n",
       "    <tr>\n",
       "      <th>2</th>\n",
       "      <td>0.006515</td>\n",
       "      <td>-1.415891</td>\n",
       "      <td>-1.040755</td>\n",
       "    </tr>\n",
       "    <tr>\n",
       "      <th>3</th>\n",
       "      <td>0.749938</td>\n",
       "      <td>-0.973077</td>\n",
       "      <td>0.836821</td>\n",
       "    </tr>\n",
       "    <tr>\n",
       "      <th>4</th>\n",
       "      <td>-0.235439</td>\n",
       "      <td>-2.121606</td>\n",
       "      <td>-1.435675</td>\n",
       "    </tr>\n",
       "    <tr>\n",
       "      <th>5</th>\n",
       "      <td>-1.016124</td>\n",
       "      <td>1.830382</td>\n",
       "      <td>1.057033</td>\n",
       "    </tr>\n",
       "    <tr>\n",
       "      <th>6</th>\n",
       "      <td>-0.024809</td>\n",
       "      <td>2.504004</td>\n",
       "      <td>0.245685</td>\n",
       "    </tr>\n",
       "  </tbody>\n",
       "</table>\n",
       "</div>"
      ],
      "text/plain": [
       "          0         1         2\n",
       "0  2.003452  0.526054  1.852686\n",
       "1  0.607935  0.750542 -0.476243\n",
       "2  0.006515 -1.415891 -1.040755\n",
       "3  0.749938 -0.973077  0.836821\n",
       "4 -0.235439 -2.121606 -1.435675\n",
       "5 -1.016124  1.830382  1.057033\n",
       "6 -0.024809  2.504004  0.245685"
      ]
     },
     "execution_count": 32,
     "metadata": {},
     "output_type": "execute_result"
    }
   ],
   "source": [
    "df"
   ]
  },
  {
   "cell_type": "code",
   "execution_count": 33,
   "id": "40eb8b4c",
   "metadata": {
    "slideshow": {
     "slide_type": "slide"
    }
   },
   "outputs": [],
   "source": [
    "df.iloc[:4, 1] = np.nan\n",
    "df.iloc[:2, 2] = np.nan"
   ]
  },
  {
   "cell_type": "code",
   "execution_count": 34,
   "id": "fe53aa86",
   "metadata": {},
   "outputs": [
    {
     "data": {
      "text/html": [
       "<div>\n",
       "<style scoped>\n",
       "    .dataframe tbody tr th:only-of-type {\n",
       "        vertical-align: middle;\n",
       "    }\n",
       "\n",
       "    .dataframe tbody tr th {\n",
       "        vertical-align: top;\n",
       "    }\n",
       "\n",
       "    .dataframe thead th {\n",
       "        text-align: right;\n",
       "    }\n",
       "</style>\n",
       "<table border=\"1\" class=\"dataframe\">\n",
       "  <thead>\n",
       "    <tr style=\"text-align: right;\">\n",
       "      <th></th>\n",
       "      <th>0</th>\n",
       "      <th>1</th>\n",
       "      <th>2</th>\n",
       "    </tr>\n",
       "  </thead>\n",
       "  <tbody>\n",
       "    <tr>\n",
       "      <th>0</th>\n",
       "      <td>2.003452</td>\n",
       "      <td>NaN</td>\n",
       "      <td>NaN</td>\n",
       "    </tr>\n",
       "    <tr>\n",
       "      <th>1</th>\n",
       "      <td>0.607935</td>\n",
       "      <td>NaN</td>\n",
       "      <td>NaN</td>\n",
       "    </tr>\n",
       "    <tr>\n",
       "      <th>2</th>\n",
       "      <td>0.006515</td>\n",
       "      <td>NaN</td>\n",
       "      <td>-1.040755</td>\n",
       "    </tr>\n",
       "    <tr>\n",
       "      <th>3</th>\n",
       "      <td>0.749938</td>\n",
       "      <td>NaN</td>\n",
       "      <td>0.836821</td>\n",
       "    </tr>\n",
       "    <tr>\n",
       "      <th>4</th>\n",
       "      <td>-0.235439</td>\n",
       "      <td>-2.121606</td>\n",
       "      <td>-1.435675</td>\n",
       "    </tr>\n",
       "    <tr>\n",
       "      <th>5</th>\n",
       "      <td>-1.016124</td>\n",
       "      <td>1.830382</td>\n",
       "      <td>1.057033</td>\n",
       "    </tr>\n",
       "    <tr>\n",
       "      <th>6</th>\n",
       "      <td>-0.024809</td>\n",
       "      <td>2.504004</td>\n",
       "      <td>0.245685</td>\n",
       "    </tr>\n",
       "  </tbody>\n",
       "</table>\n",
       "</div>"
      ],
      "text/plain": [
       "          0         1         2\n",
       "0  2.003452       NaN       NaN\n",
       "1  0.607935       NaN       NaN\n",
       "2  0.006515       NaN -1.040755\n",
       "3  0.749938       NaN  0.836821\n",
       "4 -0.235439 -2.121606 -1.435675\n",
       "5 -1.016124  1.830382  1.057033\n",
       "6 -0.024809  2.504004  0.245685"
      ]
     },
     "execution_count": 34,
     "metadata": {},
     "output_type": "execute_result"
    }
   ],
   "source": [
    "df"
   ]
  },
  {
   "cell_type": "code",
   "execution_count": 35,
   "id": "7132de74",
   "metadata": {
    "slideshow": {
     "slide_type": "slide"
    }
   },
   "outputs": [
    {
     "data": {
      "text/html": [
       "<div>\n",
       "<style scoped>\n",
       "    .dataframe tbody tr th:only-of-type {\n",
       "        vertical-align: middle;\n",
       "    }\n",
       "\n",
       "    .dataframe tbody tr th {\n",
       "        vertical-align: top;\n",
       "    }\n",
       "\n",
       "    .dataframe thead th {\n",
       "        text-align: right;\n",
       "    }\n",
       "</style>\n",
       "<table border=\"1\" class=\"dataframe\">\n",
       "  <thead>\n",
       "    <tr style=\"text-align: right;\">\n",
       "      <th></th>\n",
       "      <th>0</th>\n",
       "      <th>1</th>\n",
       "      <th>2</th>\n",
       "    </tr>\n",
       "  </thead>\n",
       "  <tbody>\n",
       "    <tr>\n",
       "      <th>4</th>\n",
       "      <td>-0.235439</td>\n",
       "      <td>-2.121606</td>\n",
       "      <td>-1.435675</td>\n",
       "    </tr>\n",
       "    <tr>\n",
       "      <th>5</th>\n",
       "      <td>-1.016124</td>\n",
       "      <td>1.830382</td>\n",
       "      <td>1.057033</td>\n",
       "    </tr>\n",
       "    <tr>\n",
       "      <th>6</th>\n",
       "      <td>-0.024809</td>\n",
       "      <td>2.504004</td>\n",
       "      <td>0.245685</td>\n",
       "    </tr>\n",
       "  </tbody>\n",
       "</table>\n",
       "</div>"
      ],
      "text/plain": [
       "          0         1         2\n",
       "4 -0.235439 -2.121606 -1.435675\n",
       "5 -1.016124  1.830382  1.057033\n",
       "6 -0.024809  2.504004  0.245685"
      ]
     },
     "execution_count": 35,
     "metadata": {},
     "output_type": "execute_result"
    }
   ],
   "source": [
    "df.dropna()"
   ]
  },
  {
   "cell_type": "code",
   "execution_count": 36,
   "id": "b3b0f144",
   "metadata": {
    "slideshow": {
     "slide_type": "slide"
    }
   },
   "outputs": [
    {
     "data": {
      "text/html": [
       "<div>\n",
       "<style scoped>\n",
       "    .dataframe tbody tr th:only-of-type {\n",
       "        vertical-align: middle;\n",
       "    }\n",
       "\n",
       "    .dataframe tbody tr th {\n",
       "        vertical-align: top;\n",
       "    }\n",
       "\n",
       "    .dataframe thead th {\n",
       "        text-align: right;\n",
       "    }\n",
       "</style>\n",
       "<table border=\"1\" class=\"dataframe\">\n",
       "  <thead>\n",
       "    <tr style=\"text-align: right;\">\n",
       "      <th></th>\n",
       "      <th>0</th>\n",
       "      <th>1</th>\n",
       "      <th>2</th>\n",
       "    </tr>\n",
       "  </thead>\n",
       "  <tbody>\n",
       "    <tr>\n",
       "      <th>2</th>\n",
       "      <td>0.006515</td>\n",
       "      <td>NaN</td>\n",
       "      <td>-1.040755</td>\n",
       "    </tr>\n",
       "    <tr>\n",
       "      <th>3</th>\n",
       "      <td>0.749938</td>\n",
       "      <td>NaN</td>\n",
       "      <td>0.836821</td>\n",
       "    </tr>\n",
       "    <tr>\n",
       "      <th>4</th>\n",
       "      <td>-0.235439</td>\n",
       "      <td>-2.121606</td>\n",
       "      <td>-1.435675</td>\n",
       "    </tr>\n",
       "    <tr>\n",
       "      <th>5</th>\n",
       "      <td>-1.016124</td>\n",
       "      <td>1.830382</td>\n",
       "      <td>1.057033</td>\n",
       "    </tr>\n",
       "    <tr>\n",
       "      <th>6</th>\n",
       "      <td>-0.024809</td>\n",
       "      <td>2.504004</td>\n",
       "      <td>0.245685</td>\n",
       "    </tr>\n",
       "  </tbody>\n",
       "</table>\n",
       "</div>"
      ],
      "text/plain": [
       "          0         1         2\n",
       "2  0.006515       NaN -1.040755\n",
       "3  0.749938       NaN  0.836821\n",
       "4 -0.235439 -2.121606 -1.435675\n",
       "5 -1.016124  1.830382  1.057033\n",
       "6 -0.024809  2.504004  0.245685"
      ]
     },
     "execution_count": 36,
     "metadata": {},
     "output_type": "execute_result"
    }
   ],
   "source": [
    "df.dropna(thresh=2)"
   ]
  },
  {
   "cell_type": "code",
   "execution_count": 37,
   "id": "57a6c0ba",
   "metadata": {},
   "outputs": [],
   "source": [
    "my_df = pd.DataFrame(np.random.standard_normal((9, 4)))"
   ]
  },
  {
   "cell_type": "code",
   "execution_count": 38,
   "id": "f3d6c9b8",
   "metadata": {},
   "outputs": [
    {
     "data": {
      "text/html": [
       "<div>\n",
       "<style scoped>\n",
       "    .dataframe tbody tr th:only-of-type {\n",
       "        vertical-align: middle;\n",
       "    }\n",
       "\n",
       "    .dataframe tbody tr th {\n",
       "        vertical-align: top;\n",
       "    }\n",
       "\n",
       "    .dataframe thead th {\n",
       "        text-align: right;\n",
       "    }\n",
       "</style>\n",
       "<table border=\"1\" class=\"dataframe\">\n",
       "  <thead>\n",
       "    <tr style=\"text-align: right;\">\n",
       "      <th></th>\n",
       "      <th>0</th>\n",
       "      <th>1</th>\n",
       "      <th>2</th>\n",
       "      <th>3</th>\n",
       "    </tr>\n",
       "  </thead>\n",
       "  <tbody>\n",
       "    <tr>\n",
       "      <th>0</th>\n",
       "      <td>-0.178059</td>\n",
       "      <td>-0.243503</td>\n",
       "      <td>-2.193963</td>\n",
       "      <td>1.064556</td>\n",
       "    </tr>\n",
       "    <tr>\n",
       "      <th>1</th>\n",
       "      <td>0.127736</td>\n",
       "      <td>-0.526841</td>\n",
       "      <td>-1.175341</td>\n",
       "      <td>-0.478401</td>\n",
       "    </tr>\n",
       "    <tr>\n",
       "      <th>2</th>\n",
       "      <td>-1.720443</td>\n",
       "      <td>0.464570</td>\n",
       "      <td>0.710125</td>\n",
       "      <td>-0.137185</td>\n",
       "    </tr>\n",
       "    <tr>\n",
       "      <th>3</th>\n",
       "      <td>-0.099271</td>\n",
       "      <td>0.640109</td>\n",
       "      <td>-0.009660</td>\n",
       "      <td>-0.383093</td>\n",
       "    </tr>\n",
       "    <tr>\n",
       "      <th>4</th>\n",
       "      <td>-1.306933</td>\n",
       "      <td>-2.018659</td>\n",
       "      <td>-0.383110</td>\n",
       "      <td>0.271927</td>\n",
       "    </tr>\n",
       "    <tr>\n",
       "      <th>5</th>\n",
       "      <td>0.982632</td>\n",
       "      <td>0.462662</td>\n",
       "      <td>0.681133</td>\n",
       "      <td>0.767632</td>\n",
       "    </tr>\n",
       "    <tr>\n",
       "      <th>6</th>\n",
       "      <td>-1.500833</td>\n",
       "      <td>0.723975</td>\n",
       "      <td>-0.153373</td>\n",
       "      <td>-1.638014</td>\n",
       "    </tr>\n",
       "    <tr>\n",
       "      <th>7</th>\n",
       "      <td>-0.855267</td>\n",
       "      <td>-0.360181</td>\n",
       "      <td>1.421912</td>\n",
       "      <td>0.386957</td>\n",
       "    </tr>\n",
       "    <tr>\n",
       "      <th>8</th>\n",
       "      <td>-0.545654</td>\n",
       "      <td>-0.338460</td>\n",
       "      <td>1.058968</td>\n",
       "      <td>-1.821071</td>\n",
       "    </tr>\n",
       "  </tbody>\n",
       "</table>\n",
       "</div>"
      ],
      "text/plain": [
       "          0         1         2         3\n",
       "0 -0.178059 -0.243503 -2.193963  1.064556\n",
       "1  0.127736 -0.526841 -1.175341 -0.478401\n",
       "2 -1.720443  0.464570  0.710125 -0.137185\n",
       "3 -0.099271  0.640109 -0.009660 -0.383093\n",
       "4 -1.306933 -2.018659 -0.383110  0.271927\n",
       "5  0.982632  0.462662  0.681133  0.767632\n",
       "6 -1.500833  0.723975 -0.153373 -1.638014\n",
       "7 -0.855267 -0.360181  1.421912  0.386957\n",
       "8 -0.545654 -0.338460  1.058968 -1.821071"
      ]
     },
     "execution_count": 38,
     "metadata": {},
     "output_type": "execute_result"
    }
   ],
   "source": [
    "my_df"
   ]
  },
  {
   "cell_type": "code",
   "execution_count": 39,
   "id": "7c4fbdae",
   "metadata": {},
   "outputs": [],
   "source": [
    "my_df.iloc[:5, 3] = np.nan\n",
    "my_df.iloc[:2, 0] = np.nan"
   ]
  },
  {
   "cell_type": "code",
   "execution_count": 40,
   "id": "beac5b79",
   "metadata": {},
   "outputs": [
    {
     "data": {
      "text/html": [
       "<div>\n",
       "<style scoped>\n",
       "    .dataframe tbody tr th:only-of-type {\n",
       "        vertical-align: middle;\n",
       "    }\n",
       "\n",
       "    .dataframe tbody tr th {\n",
       "        vertical-align: top;\n",
       "    }\n",
       "\n",
       "    .dataframe thead th {\n",
       "        text-align: right;\n",
       "    }\n",
       "</style>\n",
       "<table border=\"1\" class=\"dataframe\">\n",
       "  <thead>\n",
       "    <tr style=\"text-align: right;\">\n",
       "      <th></th>\n",
       "      <th>0</th>\n",
       "      <th>1</th>\n",
       "      <th>2</th>\n",
       "      <th>3</th>\n",
       "    </tr>\n",
       "  </thead>\n",
       "  <tbody>\n",
       "    <tr>\n",
       "      <th>0</th>\n",
       "      <td>NaN</td>\n",
       "      <td>-0.243503</td>\n",
       "      <td>-2.193963</td>\n",
       "      <td>NaN</td>\n",
       "    </tr>\n",
       "    <tr>\n",
       "      <th>1</th>\n",
       "      <td>NaN</td>\n",
       "      <td>-0.526841</td>\n",
       "      <td>-1.175341</td>\n",
       "      <td>NaN</td>\n",
       "    </tr>\n",
       "    <tr>\n",
       "      <th>2</th>\n",
       "      <td>-1.720443</td>\n",
       "      <td>0.464570</td>\n",
       "      <td>0.710125</td>\n",
       "      <td>NaN</td>\n",
       "    </tr>\n",
       "    <tr>\n",
       "      <th>3</th>\n",
       "      <td>-0.099271</td>\n",
       "      <td>0.640109</td>\n",
       "      <td>-0.009660</td>\n",
       "      <td>NaN</td>\n",
       "    </tr>\n",
       "    <tr>\n",
       "      <th>4</th>\n",
       "      <td>-1.306933</td>\n",
       "      <td>-2.018659</td>\n",
       "      <td>-0.383110</td>\n",
       "      <td>NaN</td>\n",
       "    </tr>\n",
       "    <tr>\n",
       "      <th>5</th>\n",
       "      <td>0.982632</td>\n",
       "      <td>0.462662</td>\n",
       "      <td>0.681133</td>\n",
       "      <td>0.767632</td>\n",
       "    </tr>\n",
       "    <tr>\n",
       "      <th>6</th>\n",
       "      <td>-1.500833</td>\n",
       "      <td>0.723975</td>\n",
       "      <td>-0.153373</td>\n",
       "      <td>-1.638014</td>\n",
       "    </tr>\n",
       "    <tr>\n",
       "      <th>7</th>\n",
       "      <td>-0.855267</td>\n",
       "      <td>-0.360181</td>\n",
       "      <td>1.421912</td>\n",
       "      <td>0.386957</td>\n",
       "    </tr>\n",
       "    <tr>\n",
       "      <th>8</th>\n",
       "      <td>-0.545654</td>\n",
       "      <td>-0.338460</td>\n",
       "      <td>1.058968</td>\n",
       "      <td>-1.821071</td>\n",
       "    </tr>\n",
       "  </tbody>\n",
       "</table>\n",
       "</div>"
      ],
      "text/plain": [
       "          0         1         2         3\n",
       "0       NaN -0.243503 -2.193963       NaN\n",
       "1       NaN -0.526841 -1.175341       NaN\n",
       "2 -1.720443  0.464570  0.710125       NaN\n",
       "3 -0.099271  0.640109 -0.009660       NaN\n",
       "4 -1.306933 -2.018659 -0.383110       NaN\n",
       "5  0.982632  0.462662  0.681133  0.767632\n",
       "6 -1.500833  0.723975 -0.153373 -1.638014\n",
       "7 -0.855267 -0.360181  1.421912  0.386957\n",
       "8 -0.545654 -0.338460  1.058968 -1.821071"
      ]
     },
     "execution_count": 40,
     "metadata": {},
     "output_type": "execute_result"
    }
   ],
   "source": [
    "my_df"
   ]
  },
  {
   "cell_type": "code",
   "execution_count": 41,
   "id": "eafb6ac3",
   "metadata": {},
   "outputs": [
    {
     "data": {
      "text/html": [
       "<div>\n",
       "<style scoped>\n",
       "    .dataframe tbody tr th:only-of-type {\n",
       "        vertical-align: middle;\n",
       "    }\n",
       "\n",
       "    .dataframe tbody tr th {\n",
       "        vertical-align: top;\n",
       "    }\n",
       "\n",
       "    .dataframe thead th {\n",
       "        text-align: right;\n",
       "    }\n",
       "</style>\n",
       "<table border=\"1\" class=\"dataframe\">\n",
       "  <thead>\n",
       "    <tr style=\"text-align: right;\">\n",
       "      <th></th>\n",
       "      <th>0</th>\n",
       "      <th>1</th>\n",
       "      <th>2</th>\n",
       "      <th>3</th>\n",
       "    </tr>\n",
       "  </thead>\n",
       "  <tbody>\n",
       "    <tr>\n",
       "      <th>5</th>\n",
       "      <td>0.982632</td>\n",
       "      <td>0.462662</td>\n",
       "      <td>0.681133</td>\n",
       "      <td>0.767632</td>\n",
       "    </tr>\n",
       "    <tr>\n",
       "      <th>6</th>\n",
       "      <td>-1.500833</td>\n",
       "      <td>0.723975</td>\n",
       "      <td>-0.153373</td>\n",
       "      <td>-1.638014</td>\n",
       "    </tr>\n",
       "    <tr>\n",
       "      <th>7</th>\n",
       "      <td>-0.855267</td>\n",
       "      <td>-0.360181</td>\n",
       "      <td>1.421912</td>\n",
       "      <td>0.386957</td>\n",
       "    </tr>\n",
       "    <tr>\n",
       "      <th>8</th>\n",
       "      <td>-0.545654</td>\n",
       "      <td>-0.338460</td>\n",
       "      <td>1.058968</td>\n",
       "      <td>-1.821071</td>\n",
       "    </tr>\n",
       "  </tbody>\n",
       "</table>\n",
       "</div>"
      ],
      "text/plain": [
       "          0         1         2         3\n",
       "5  0.982632  0.462662  0.681133  0.767632\n",
       "6 -1.500833  0.723975 -0.153373 -1.638014\n",
       "7 -0.855267 -0.360181  1.421912  0.386957\n",
       "8 -0.545654 -0.338460  1.058968 -1.821071"
      ]
     },
     "execution_count": 41,
     "metadata": {},
     "output_type": "execute_result"
    }
   ],
   "source": [
    "my_df.dropna()"
   ]
  },
  {
   "cell_type": "code",
   "execution_count": 42,
   "id": "38546f41",
   "metadata": {},
   "outputs": [
    {
     "data": {
      "text/html": [
       "<div>\n",
       "<style scoped>\n",
       "    .dataframe tbody tr th:only-of-type {\n",
       "        vertical-align: middle;\n",
       "    }\n",
       "\n",
       "    .dataframe tbody tr th {\n",
       "        vertical-align: top;\n",
       "    }\n",
       "\n",
       "    .dataframe thead th {\n",
       "        text-align: right;\n",
       "    }\n",
       "</style>\n",
       "<table border=\"1\" class=\"dataframe\">\n",
       "  <thead>\n",
       "    <tr style=\"text-align: right;\">\n",
       "      <th></th>\n",
       "      <th>0</th>\n",
       "      <th>1</th>\n",
       "      <th>2</th>\n",
       "      <th>3</th>\n",
       "    </tr>\n",
       "  </thead>\n",
       "  <tbody>\n",
       "    <tr>\n",
       "      <th>2</th>\n",
       "      <td>-1.720443</td>\n",
       "      <td>0.464570</td>\n",
       "      <td>0.710125</td>\n",
       "      <td>NaN</td>\n",
       "    </tr>\n",
       "    <tr>\n",
       "      <th>3</th>\n",
       "      <td>-0.099271</td>\n",
       "      <td>0.640109</td>\n",
       "      <td>-0.009660</td>\n",
       "      <td>NaN</td>\n",
       "    </tr>\n",
       "    <tr>\n",
       "      <th>4</th>\n",
       "      <td>-1.306933</td>\n",
       "      <td>-2.018659</td>\n",
       "      <td>-0.383110</td>\n",
       "      <td>NaN</td>\n",
       "    </tr>\n",
       "    <tr>\n",
       "      <th>5</th>\n",
       "      <td>0.982632</td>\n",
       "      <td>0.462662</td>\n",
       "      <td>0.681133</td>\n",
       "      <td>0.767632</td>\n",
       "    </tr>\n",
       "    <tr>\n",
       "      <th>6</th>\n",
       "      <td>-1.500833</td>\n",
       "      <td>0.723975</td>\n",
       "      <td>-0.153373</td>\n",
       "      <td>-1.638014</td>\n",
       "    </tr>\n",
       "    <tr>\n",
       "      <th>7</th>\n",
       "      <td>-0.855267</td>\n",
       "      <td>-0.360181</td>\n",
       "      <td>1.421912</td>\n",
       "      <td>0.386957</td>\n",
       "    </tr>\n",
       "    <tr>\n",
       "      <th>8</th>\n",
       "      <td>-0.545654</td>\n",
       "      <td>-0.338460</td>\n",
       "      <td>1.058968</td>\n",
       "      <td>-1.821071</td>\n",
       "    </tr>\n",
       "  </tbody>\n",
       "</table>\n",
       "</div>"
      ],
      "text/plain": [
       "          0         1         2         3\n",
       "2 -1.720443  0.464570  0.710125       NaN\n",
       "3 -0.099271  0.640109 -0.009660       NaN\n",
       "4 -1.306933 -2.018659 -0.383110       NaN\n",
       "5  0.982632  0.462662  0.681133  0.767632\n",
       "6 -1.500833  0.723975 -0.153373 -1.638014\n",
       "7 -0.855267 -0.360181  1.421912  0.386957\n",
       "8 -0.545654 -0.338460  1.058968 -1.821071"
      ]
     },
     "execution_count": 42,
     "metadata": {},
     "output_type": "execute_result"
    }
   ],
   "source": [
    "my_df.dropna(thresh=3)"
   ]
  },
  {
   "cell_type": "markdown",
   "id": "dddf0605",
   "metadata": {
    "slideshow": {
     "slide_type": "slide"
    }
   },
   "source": [
    "### Rellenar los datos que faltan"
   ]
  },
  {
   "cell_type": "markdown",
   "id": "fa10ace8",
   "metadata": {},
   "source": [
    "En lugar de filtrar los datos que faltan (y potencialmente descartar otros datos junto con ellos), es posible que desee rellenar los \"huecos\" de varias maneras. Para la mayoría de los propósitos, el método `fillna()` es la función a utilizar. Llamar a `fillna()` con una constante sustituye los valores que faltan por ese valor:"
   ]
  },
  {
   "cell_type": "code",
   "execution_count": 43,
   "id": "7e08146e-138f-4b2f-8f8a-643eb59ea827",
   "metadata": {},
   "outputs": [
    {
     "data": {
      "text/html": [
       "<div>\n",
       "<style scoped>\n",
       "    .dataframe tbody tr th:only-of-type {\n",
       "        vertical-align: middle;\n",
       "    }\n",
       "\n",
       "    .dataframe tbody tr th {\n",
       "        vertical-align: top;\n",
       "    }\n",
       "\n",
       "    .dataframe thead th {\n",
       "        text-align: right;\n",
       "    }\n",
       "</style>\n",
       "<table border=\"1\" class=\"dataframe\">\n",
       "  <thead>\n",
       "    <tr style=\"text-align: right;\">\n",
       "      <th></th>\n",
       "      <th>0</th>\n",
       "      <th>1</th>\n",
       "      <th>2</th>\n",
       "    </tr>\n",
       "  </thead>\n",
       "  <tbody>\n",
       "    <tr>\n",
       "      <th>0</th>\n",
       "      <td>2.003452</td>\n",
       "      <td>NaN</td>\n",
       "      <td>NaN</td>\n",
       "    </tr>\n",
       "    <tr>\n",
       "      <th>1</th>\n",
       "      <td>0.607935</td>\n",
       "      <td>NaN</td>\n",
       "      <td>NaN</td>\n",
       "    </tr>\n",
       "    <tr>\n",
       "      <th>2</th>\n",
       "      <td>0.006515</td>\n",
       "      <td>NaN</td>\n",
       "      <td>-1.040755</td>\n",
       "    </tr>\n",
       "    <tr>\n",
       "      <th>3</th>\n",
       "      <td>0.749938</td>\n",
       "      <td>NaN</td>\n",
       "      <td>0.836821</td>\n",
       "    </tr>\n",
       "    <tr>\n",
       "      <th>4</th>\n",
       "      <td>-0.235439</td>\n",
       "      <td>-2.121606</td>\n",
       "      <td>-1.435675</td>\n",
       "    </tr>\n",
       "    <tr>\n",
       "      <th>5</th>\n",
       "      <td>-1.016124</td>\n",
       "      <td>1.830382</td>\n",
       "      <td>1.057033</td>\n",
       "    </tr>\n",
       "    <tr>\n",
       "      <th>6</th>\n",
       "      <td>-0.024809</td>\n",
       "      <td>2.504004</td>\n",
       "      <td>0.245685</td>\n",
       "    </tr>\n",
       "  </tbody>\n",
       "</table>\n",
       "</div>"
      ],
      "text/plain": [
       "          0         1         2\n",
       "0  2.003452       NaN       NaN\n",
       "1  0.607935       NaN       NaN\n",
       "2  0.006515       NaN -1.040755\n",
       "3  0.749938       NaN  0.836821\n",
       "4 -0.235439 -2.121606 -1.435675\n",
       "5 -1.016124  1.830382  1.057033\n",
       "6 -0.024809  2.504004  0.245685"
      ]
     },
     "execution_count": 43,
     "metadata": {},
     "output_type": "execute_result"
    }
   ],
   "source": [
    "df"
   ]
  },
  {
   "cell_type": "code",
   "execution_count": 44,
   "id": "b2966f30",
   "metadata": {
    "slideshow": {
     "slide_type": "slide"
    }
   },
   "outputs": [
    {
     "data": {
      "text/html": [
       "<div>\n",
       "<style scoped>\n",
       "    .dataframe tbody tr th:only-of-type {\n",
       "        vertical-align: middle;\n",
       "    }\n",
       "\n",
       "    .dataframe tbody tr th {\n",
       "        vertical-align: top;\n",
       "    }\n",
       "\n",
       "    .dataframe thead th {\n",
       "        text-align: right;\n",
       "    }\n",
       "</style>\n",
       "<table border=\"1\" class=\"dataframe\">\n",
       "  <thead>\n",
       "    <tr style=\"text-align: right;\">\n",
       "      <th></th>\n",
       "      <th>0</th>\n",
       "      <th>1</th>\n",
       "      <th>2</th>\n",
       "    </tr>\n",
       "  </thead>\n",
       "  <tbody>\n",
       "    <tr>\n",
       "      <th>0</th>\n",
       "      <td>2.003452</td>\n",
       "      <td>0.000000</td>\n",
       "      <td>0.000000</td>\n",
       "    </tr>\n",
       "    <tr>\n",
       "      <th>1</th>\n",
       "      <td>0.607935</td>\n",
       "      <td>0.000000</td>\n",
       "      <td>0.000000</td>\n",
       "    </tr>\n",
       "    <tr>\n",
       "      <th>2</th>\n",
       "      <td>0.006515</td>\n",
       "      <td>0.000000</td>\n",
       "      <td>-1.040755</td>\n",
       "    </tr>\n",
       "    <tr>\n",
       "      <th>3</th>\n",
       "      <td>0.749938</td>\n",
       "      <td>0.000000</td>\n",
       "      <td>0.836821</td>\n",
       "    </tr>\n",
       "    <tr>\n",
       "      <th>4</th>\n",
       "      <td>-0.235439</td>\n",
       "      <td>-2.121606</td>\n",
       "      <td>-1.435675</td>\n",
       "    </tr>\n",
       "    <tr>\n",
       "      <th>5</th>\n",
       "      <td>-1.016124</td>\n",
       "      <td>1.830382</td>\n",
       "      <td>1.057033</td>\n",
       "    </tr>\n",
       "    <tr>\n",
       "      <th>6</th>\n",
       "      <td>-0.024809</td>\n",
       "      <td>2.504004</td>\n",
       "      <td>0.245685</td>\n",
       "    </tr>\n",
       "  </tbody>\n",
       "</table>\n",
       "</div>"
      ],
      "text/plain": [
       "          0         1         2\n",
       "0  2.003452  0.000000  0.000000\n",
       "1  0.607935  0.000000  0.000000\n",
       "2  0.006515  0.000000 -1.040755\n",
       "3  0.749938  0.000000  0.836821\n",
       "4 -0.235439 -2.121606 -1.435675\n",
       "5 -1.016124  1.830382  1.057033\n",
       "6 -0.024809  2.504004  0.245685"
      ]
     },
     "execution_count": 44,
     "metadata": {},
     "output_type": "execute_result"
    }
   ],
   "source": [
    "df.fillna(0)"
   ]
  },
  {
   "cell_type": "code",
   "execution_count": 45,
   "id": "2171e982",
   "metadata": {},
   "outputs": [
    {
     "data": {
      "text/html": [
       "<div>\n",
       "<style scoped>\n",
       "    .dataframe tbody tr th:only-of-type {\n",
       "        vertical-align: middle;\n",
       "    }\n",
       "\n",
       "    .dataframe tbody tr th {\n",
       "        vertical-align: top;\n",
       "    }\n",
       "\n",
       "    .dataframe thead th {\n",
       "        text-align: right;\n",
       "    }\n",
       "</style>\n",
       "<table border=\"1\" class=\"dataframe\">\n",
       "  <thead>\n",
       "    <tr style=\"text-align: right;\">\n",
       "      <th></th>\n",
       "      <th>0</th>\n",
       "      <th>1</th>\n",
       "      <th>2</th>\n",
       "      <th>3</th>\n",
       "    </tr>\n",
       "  </thead>\n",
       "  <tbody>\n",
       "    <tr>\n",
       "      <th>0</th>\n",
       "      <td>NaN</td>\n",
       "      <td>-0.243503</td>\n",
       "      <td>-2.193963</td>\n",
       "      <td>NaN</td>\n",
       "    </tr>\n",
       "    <tr>\n",
       "      <th>1</th>\n",
       "      <td>NaN</td>\n",
       "      <td>-0.526841</td>\n",
       "      <td>-1.175341</td>\n",
       "      <td>NaN</td>\n",
       "    </tr>\n",
       "    <tr>\n",
       "      <th>2</th>\n",
       "      <td>-1.720443</td>\n",
       "      <td>0.464570</td>\n",
       "      <td>0.710125</td>\n",
       "      <td>NaN</td>\n",
       "    </tr>\n",
       "    <tr>\n",
       "      <th>3</th>\n",
       "      <td>-0.099271</td>\n",
       "      <td>0.640109</td>\n",
       "      <td>-0.009660</td>\n",
       "      <td>NaN</td>\n",
       "    </tr>\n",
       "    <tr>\n",
       "      <th>4</th>\n",
       "      <td>-1.306933</td>\n",
       "      <td>-2.018659</td>\n",
       "      <td>-0.383110</td>\n",
       "      <td>NaN</td>\n",
       "    </tr>\n",
       "    <tr>\n",
       "      <th>5</th>\n",
       "      <td>0.982632</td>\n",
       "      <td>0.462662</td>\n",
       "      <td>0.681133</td>\n",
       "      <td>0.767632</td>\n",
       "    </tr>\n",
       "    <tr>\n",
       "      <th>6</th>\n",
       "      <td>-1.500833</td>\n",
       "      <td>0.723975</td>\n",
       "      <td>-0.153373</td>\n",
       "      <td>-1.638014</td>\n",
       "    </tr>\n",
       "    <tr>\n",
       "      <th>7</th>\n",
       "      <td>-0.855267</td>\n",
       "      <td>-0.360181</td>\n",
       "      <td>1.421912</td>\n",
       "      <td>0.386957</td>\n",
       "    </tr>\n",
       "    <tr>\n",
       "      <th>8</th>\n",
       "      <td>-0.545654</td>\n",
       "      <td>-0.338460</td>\n",
       "      <td>1.058968</td>\n",
       "      <td>-1.821071</td>\n",
       "    </tr>\n",
       "  </tbody>\n",
       "</table>\n",
       "</div>"
      ],
      "text/plain": [
       "          0         1         2         3\n",
       "0       NaN -0.243503 -2.193963       NaN\n",
       "1       NaN -0.526841 -1.175341       NaN\n",
       "2 -1.720443  0.464570  0.710125       NaN\n",
       "3 -0.099271  0.640109 -0.009660       NaN\n",
       "4 -1.306933 -2.018659 -0.383110       NaN\n",
       "5  0.982632  0.462662  0.681133  0.767632\n",
       "6 -1.500833  0.723975 -0.153373 -1.638014\n",
       "7 -0.855267 -0.360181  1.421912  0.386957\n",
       "8 -0.545654 -0.338460  1.058968 -1.821071"
      ]
     },
     "execution_count": 45,
     "metadata": {},
     "output_type": "execute_result"
    }
   ],
   "source": [
    "my_df"
   ]
  },
  {
   "cell_type": "code",
   "execution_count": 46,
   "id": "95fd00b9",
   "metadata": {},
   "outputs": [
    {
     "data": {
      "text/html": [
       "<div>\n",
       "<style scoped>\n",
       "    .dataframe tbody tr th:only-of-type {\n",
       "        vertical-align: middle;\n",
       "    }\n",
       "\n",
       "    .dataframe tbody tr th {\n",
       "        vertical-align: top;\n",
       "    }\n",
       "\n",
       "    .dataframe thead th {\n",
       "        text-align: right;\n",
       "    }\n",
       "</style>\n",
       "<table border=\"1\" class=\"dataframe\">\n",
       "  <thead>\n",
       "    <tr style=\"text-align: right;\">\n",
       "      <th></th>\n",
       "      <th>0</th>\n",
       "      <th>1</th>\n",
       "      <th>2</th>\n",
       "      <th>3</th>\n",
       "    </tr>\n",
       "  </thead>\n",
       "  <tbody>\n",
       "    <tr>\n",
       "      <th>0</th>\n",
       "      <td>0.000000</td>\n",
       "      <td>-0.243503</td>\n",
       "      <td>-2.193963</td>\n",
       "      <td>0.000000</td>\n",
       "    </tr>\n",
       "    <tr>\n",
       "      <th>1</th>\n",
       "      <td>0.000000</td>\n",
       "      <td>-0.526841</td>\n",
       "      <td>-1.175341</td>\n",
       "      <td>0.000000</td>\n",
       "    </tr>\n",
       "    <tr>\n",
       "      <th>2</th>\n",
       "      <td>-1.720443</td>\n",
       "      <td>0.464570</td>\n",
       "      <td>0.710125</td>\n",
       "      <td>0.000000</td>\n",
       "    </tr>\n",
       "    <tr>\n",
       "      <th>3</th>\n",
       "      <td>-0.099271</td>\n",
       "      <td>0.640109</td>\n",
       "      <td>-0.009660</td>\n",
       "      <td>0.000000</td>\n",
       "    </tr>\n",
       "    <tr>\n",
       "      <th>4</th>\n",
       "      <td>-1.306933</td>\n",
       "      <td>-2.018659</td>\n",
       "      <td>-0.383110</td>\n",
       "      <td>0.000000</td>\n",
       "    </tr>\n",
       "    <tr>\n",
       "      <th>5</th>\n",
       "      <td>0.982632</td>\n",
       "      <td>0.462662</td>\n",
       "      <td>0.681133</td>\n",
       "      <td>0.767632</td>\n",
       "    </tr>\n",
       "    <tr>\n",
       "      <th>6</th>\n",
       "      <td>-1.500833</td>\n",
       "      <td>0.723975</td>\n",
       "      <td>-0.153373</td>\n",
       "      <td>-1.638014</td>\n",
       "    </tr>\n",
       "    <tr>\n",
       "      <th>7</th>\n",
       "      <td>-0.855267</td>\n",
       "      <td>-0.360181</td>\n",
       "      <td>1.421912</td>\n",
       "      <td>0.386957</td>\n",
       "    </tr>\n",
       "    <tr>\n",
       "      <th>8</th>\n",
       "      <td>-0.545654</td>\n",
       "      <td>-0.338460</td>\n",
       "      <td>1.058968</td>\n",
       "      <td>-1.821071</td>\n",
       "    </tr>\n",
       "  </tbody>\n",
       "</table>\n",
       "</div>"
      ],
      "text/plain": [
       "          0         1         2         3\n",
       "0  0.000000 -0.243503 -2.193963  0.000000\n",
       "1  0.000000 -0.526841 -1.175341  0.000000\n",
       "2 -1.720443  0.464570  0.710125  0.000000\n",
       "3 -0.099271  0.640109 -0.009660  0.000000\n",
       "4 -1.306933 -2.018659 -0.383110  0.000000\n",
       "5  0.982632  0.462662  0.681133  0.767632\n",
       "6 -1.500833  0.723975 -0.153373 -1.638014\n",
       "7 -0.855267 -0.360181  1.421912  0.386957\n",
       "8 -0.545654 -0.338460  1.058968 -1.821071"
      ]
     },
     "execution_count": 46,
     "metadata": {},
     "output_type": "execute_result"
    }
   ],
   "source": [
    "my_df.fillna(0)"
   ]
  },
  {
   "cell_type": "markdown",
   "id": "23202be6",
   "metadata": {
    "slideshow": {
     "slide_type": "slide"
    }
   },
   "source": [
    "Llamando a `fillna()` con un diccionario, puede utilizar un valor de relleno diferente para cada columna:"
   ]
  },
  {
   "cell_type": "code",
   "execution_count": 47,
   "id": "e52707d5",
   "metadata": {},
   "outputs": [
    {
     "data": {
      "text/html": [
       "<div>\n",
       "<style scoped>\n",
       "    .dataframe tbody tr th:only-of-type {\n",
       "        vertical-align: middle;\n",
       "    }\n",
       "\n",
       "    .dataframe tbody tr th {\n",
       "        vertical-align: top;\n",
       "    }\n",
       "\n",
       "    .dataframe thead th {\n",
       "        text-align: right;\n",
       "    }\n",
       "</style>\n",
       "<table border=\"1\" class=\"dataframe\">\n",
       "  <thead>\n",
       "    <tr style=\"text-align: right;\">\n",
       "      <th></th>\n",
       "      <th>0</th>\n",
       "      <th>1</th>\n",
       "      <th>2</th>\n",
       "    </tr>\n",
       "  </thead>\n",
       "  <tbody>\n",
       "    <tr>\n",
       "      <th>0</th>\n",
       "      <td>2.003452</td>\n",
       "      <td>0.500000</td>\n",
       "      <td>0.000000</td>\n",
       "    </tr>\n",
       "    <tr>\n",
       "      <th>1</th>\n",
       "      <td>0.607935</td>\n",
       "      <td>0.500000</td>\n",
       "      <td>0.000000</td>\n",
       "    </tr>\n",
       "    <tr>\n",
       "      <th>2</th>\n",
       "      <td>0.006515</td>\n",
       "      <td>0.500000</td>\n",
       "      <td>-1.040755</td>\n",
       "    </tr>\n",
       "    <tr>\n",
       "      <th>3</th>\n",
       "      <td>0.749938</td>\n",
       "      <td>0.500000</td>\n",
       "      <td>0.836821</td>\n",
       "    </tr>\n",
       "    <tr>\n",
       "      <th>4</th>\n",
       "      <td>-0.235439</td>\n",
       "      <td>-2.121606</td>\n",
       "      <td>-1.435675</td>\n",
       "    </tr>\n",
       "    <tr>\n",
       "      <th>5</th>\n",
       "      <td>-1.016124</td>\n",
       "      <td>1.830382</td>\n",
       "      <td>1.057033</td>\n",
       "    </tr>\n",
       "    <tr>\n",
       "      <th>6</th>\n",
       "      <td>-0.024809</td>\n",
       "      <td>2.504004</td>\n",
       "      <td>0.245685</td>\n",
       "    </tr>\n",
       "  </tbody>\n",
       "</table>\n",
       "</div>"
      ],
      "text/plain": [
       "          0         1         2\n",
       "0  2.003452  0.500000  0.000000\n",
       "1  0.607935  0.500000  0.000000\n",
       "2  0.006515  0.500000 -1.040755\n",
       "3  0.749938  0.500000  0.836821\n",
       "4 -0.235439 -2.121606 -1.435675\n",
       "5 -1.016124  1.830382  1.057033\n",
       "6 -0.024809  2.504004  0.245685"
      ]
     },
     "execution_count": 47,
     "metadata": {},
     "output_type": "execute_result"
    }
   ],
   "source": [
    "df.fillna({1: 0.5, 2: 0})"
   ]
  },
  {
   "cell_type": "code",
   "execution_count": 48,
   "id": "e366dfb3",
   "metadata": {},
   "outputs": [
    {
     "data": {
      "text/html": [
       "<div>\n",
       "<style scoped>\n",
       "    .dataframe tbody tr th:only-of-type {\n",
       "        vertical-align: middle;\n",
       "    }\n",
       "\n",
       "    .dataframe tbody tr th {\n",
       "        vertical-align: top;\n",
       "    }\n",
       "\n",
       "    .dataframe thead th {\n",
       "        text-align: right;\n",
       "    }\n",
       "</style>\n",
       "<table border=\"1\" class=\"dataframe\">\n",
       "  <thead>\n",
       "    <tr style=\"text-align: right;\">\n",
       "      <th></th>\n",
       "      <th>0</th>\n",
       "      <th>1</th>\n",
       "      <th>2</th>\n",
       "      <th>3</th>\n",
       "    </tr>\n",
       "  </thead>\n",
       "  <tbody>\n",
       "    <tr>\n",
       "      <th>0</th>\n",
       "      <td>0.330000</td>\n",
       "      <td>-0.243503</td>\n",
       "      <td>-2.193963</td>\n",
       "      <td>0.100000</td>\n",
       "    </tr>\n",
       "    <tr>\n",
       "      <th>1</th>\n",
       "      <td>0.330000</td>\n",
       "      <td>-0.526841</td>\n",
       "      <td>-1.175341</td>\n",
       "      <td>0.100000</td>\n",
       "    </tr>\n",
       "    <tr>\n",
       "      <th>2</th>\n",
       "      <td>-1.720443</td>\n",
       "      <td>0.464570</td>\n",
       "      <td>0.710125</td>\n",
       "      <td>0.100000</td>\n",
       "    </tr>\n",
       "    <tr>\n",
       "      <th>3</th>\n",
       "      <td>-0.099271</td>\n",
       "      <td>0.640109</td>\n",
       "      <td>-0.009660</td>\n",
       "      <td>0.100000</td>\n",
       "    </tr>\n",
       "    <tr>\n",
       "      <th>4</th>\n",
       "      <td>-1.306933</td>\n",
       "      <td>-2.018659</td>\n",
       "      <td>-0.383110</td>\n",
       "      <td>0.100000</td>\n",
       "    </tr>\n",
       "    <tr>\n",
       "      <th>5</th>\n",
       "      <td>0.982632</td>\n",
       "      <td>0.462662</td>\n",
       "      <td>0.681133</td>\n",
       "      <td>0.767632</td>\n",
       "    </tr>\n",
       "    <tr>\n",
       "      <th>6</th>\n",
       "      <td>-1.500833</td>\n",
       "      <td>0.723975</td>\n",
       "      <td>-0.153373</td>\n",
       "      <td>-1.638014</td>\n",
       "    </tr>\n",
       "    <tr>\n",
       "      <th>7</th>\n",
       "      <td>-0.855267</td>\n",
       "      <td>-0.360181</td>\n",
       "      <td>1.421912</td>\n",
       "      <td>0.386957</td>\n",
       "    </tr>\n",
       "    <tr>\n",
       "      <th>8</th>\n",
       "      <td>-0.545654</td>\n",
       "      <td>-0.338460</td>\n",
       "      <td>1.058968</td>\n",
       "      <td>-1.821071</td>\n",
       "    </tr>\n",
       "  </tbody>\n",
       "</table>\n",
       "</div>"
      ],
      "text/plain": [
       "          0         1         2         3\n",
       "0  0.330000 -0.243503 -2.193963  0.100000\n",
       "1  0.330000 -0.526841 -1.175341  0.100000\n",
       "2 -1.720443  0.464570  0.710125  0.100000\n",
       "3 -0.099271  0.640109 -0.009660  0.100000\n",
       "4 -1.306933 -2.018659 -0.383110  0.100000\n",
       "5  0.982632  0.462662  0.681133  0.767632\n",
       "6 -1.500833  0.723975 -0.153373 -1.638014\n",
       "7 -0.855267 -0.360181  1.421912  0.386957\n",
       "8 -0.545654 -0.338460  1.058968 -1.821071"
      ]
     },
     "execution_count": 48,
     "metadata": {},
     "output_type": "execute_result"
    }
   ],
   "source": [
    "my_df.fillna({0: 0.33, 3: 0.1})"
   ]
  },
  {
   "cell_type": "markdown",
   "id": "48fa124e",
   "metadata": {
    "slideshow": {
     "slide_type": "slide"
    }
   },
   "source": [
    "Los mismos métodos de interpolación disponibles para la reindexación pueden utilizarse con `fillna()`:"
   ]
  },
  {
   "cell_type": "code",
   "execution_count": 49,
   "id": "d4762cdd",
   "metadata": {},
   "outputs": [],
   "source": [
    "df = pd.DataFrame(np.random.standard_normal((6, 3)))"
   ]
  },
  {
   "cell_type": "code",
   "execution_count": 50,
   "id": "24d67c3a",
   "metadata": {
    "slideshow": {
     "slide_type": "slide"
    }
   },
   "outputs": [
    {
     "data": {
      "text/html": [
       "<div>\n",
       "<style scoped>\n",
       "    .dataframe tbody tr th:only-of-type {\n",
       "        vertical-align: middle;\n",
       "    }\n",
       "\n",
       "    .dataframe tbody tr th {\n",
       "        vertical-align: top;\n",
       "    }\n",
       "\n",
       "    .dataframe thead th {\n",
       "        text-align: right;\n",
       "    }\n",
       "</style>\n",
       "<table border=\"1\" class=\"dataframe\">\n",
       "  <thead>\n",
       "    <tr style=\"text-align: right;\">\n",
       "      <th></th>\n",
       "      <th>0</th>\n",
       "      <th>1</th>\n",
       "      <th>2</th>\n",
       "    </tr>\n",
       "  </thead>\n",
       "  <tbody>\n",
       "    <tr>\n",
       "      <th>0</th>\n",
       "      <td>-0.189200</td>\n",
       "      <td>0.375242</td>\n",
       "      <td>-1.689308</td>\n",
       "    </tr>\n",
       "    <tr>\n",
       "      <th>1</th>\n",
       "      <td>0.615221</td>\n",
       "      <td>1.377501</td>\n",
       "      <td>-0.991450</td>\n",
       "    </tr>\n",
       "    <tr>\n",
       "      <th>2</th>\n",
       "      <td>-0.360851</td>\n",
       "      <td>NaN</td>\n",
       "      <td>0.301553</td>\n",
       "    </tr>\n",
       "    <tr>\n",
       "      <th>3</th>\n",
       "      <td>-0.046934</td>\n",
       "      <td>NaN</td>\n",
       "      <td>-0.470151</td>\n",
       "    </tr>\n",
       "    <tr>\n",
       "      <th>4</th>\n",
       "      <td>0.398884</td>\n",
       "      <td>NaN</td>\n",
       "      <td>NaN</td>\n",
       "    </tr>\n",
       "    <tr>\n",
       "      <th>5</th>\n",
       "      <td>-0.545352</td>\n",
       "      <td>NaN</td>\n",
       "      <td>NaN</td>\n",
       "    </tr>\n",
       "  </tbody>\n",
       "</table>\n",
       "</div>"
      ],
      "text/plain": [
       "          0         1         2\n",
       "0 -0.189200  0.375242 -1.689308\n",
       "1  0.615221  1.377501 -0.991450\n",
       "2 -0.360851       NaN  0.301553\n",
       "3 -0.046934       NaN -0.470151\n",
       "4  0.398884       NaN       NaN\n",
       "5 -0.545352       NaN       NaN"
      ]
     },
     "execution_count": 50,
     "metadata": {},
     "output_type": "execute_result"
    }
   ],
   "source": [
    "df.iloc[2:, 1] = np.nan\n",
    "df.iloc[4:, 2] = np.nan\n",
    "df"
   ]
  },
  {
   "cell_type": "code",
   "execution_count": 51,
   "id": "70734613",
   "metadata": {
    "slideshow": {
     "slide_type": "slide"
    }
   },
   "outputs": [
    {
     "name": "stderr",
     "output_type": "stream",
     "text": [
      "C:\\Users\\CursosTardes\\AppData\\Local\\Temp\\ipykernel_11736\\3944122520.py:1: FutureWarning: DataFrame.fillna with 'method' is deprecated and will raise in a future version. Use obj.ffill() or obj.bfill() instead.\n",
      "  df.fillna(method=\"ffill\")\n"
     ]
    },
    {
     "data": {
      "text/html": [
       "<div>\n",
       "<style scoped>\n",
       "    .dataframe tbody tr th:only-of-type {\n",
       "        vertical-align: middle;\n",
       "    }\n",
       "\n",
       "    .dataframe tbody tr th {\n",
       "        vertical-align: top;\n",
       "    }\n",
       "\n",
       "    .dataframe thead th {\n",
       "        text-align: right;\n",
       "    }\n",
       "</style>\n",
       "<table border=\"1\" class=\"dataframe\">\n",
       "  <thead>\n",
       "    <tr style=\"text-align: right;\">\n",
       "      <th></th>\n",
       "      <th>0</th>\n",
       "      <th>1</th>\n",
       "      <th>2</th>\n",
       "    </tr>\n",
       "  </thead>\n",
       "  <tbody>\n",
       "    <tr>\n",
       "      <th>0</th>\n",
       "      <td>-0.189200</td>\n",
       "      <td>0.375242</td>\n",
       "      <td>-1.689308</td>\n",
       "    </tr>\n",
       "    <tr>\n",
       "      <th>1</th>\n",
       "      <td>0.615221</td>\n",
       "      <td>1.377501</td>\n",
       "      <td>-0.991450</td>\n",
       "    </tr>\n",
       "    <tr>\n",
       "      <th>2</th>\n",
       "      <td>-0.360851</td>\n",
       "      <td>1.377501</td>\n",
       "      <td>0.301553</td>\n",
       "    </tr>\n",
       "    <tr>\n",
       "      <th>3</th>\n",
       "      <td>-0.046934</td>\n",
       "      <td>1.377501</td>\n",
       "      <td>-0.470151</td>\n",
       "    </tr>\n",
       "    <tr>\n",
       "      <th>4</th>\n",
       "      <td>0.398884</td>\n",
       "      <td>1.377501</td>\n",
       "      <td>-0.470151</td>\n",
       "    </tr>\n",
       "    <tr>\n",
       "      <th>5</th>\n",
       "      <td>-0.545352</td>\n",
       "      <td>1.377501</td>\n",
       "      <td>-0.470151</td>\n",
       "    </tr>\n",
       "  </tbody>\n",
       "</table>\n",
       "</div>"
      ],
      "text/plain": [
       "          0         1         2\n",
       "0 -0.189200  0.375242 -1.689308\n",
       "1  0.615221  1.377501 -0.991450\n",
       "2 -0.360851  1.377501  0.301553\n",
       "3 -0.046934  1.377501 -0.470151\n",
       "4  0.398884  1.377501 -0.470151\n",
       "5 -0.545352  1.377501 -0.470151"
      ]
     },
     "execution_count": 51,
     "metadata": {},
     "output_type": "execute_result"
    }
   ],
   "source": [
    "df.fillna(method=\"ffill\")"
   ]
  },
  {
   "cell_type": "code",
   "execution_count": 52,
   "id": "0af4c4fc",
   "metadata": {
    "slideshow": {
     "slide_type": "slide"
    }
   },
   "outputs": [
    {
     "name": "stderr",
     "output_type": "stream",
     "text": [
      "C:\\Users\\CursosTardes\\AppData\\Local\\Temp\\ipykernel_11736\\1627181726.py:1: FutureWarning: DataFrame.fillna with 'method' is deprecated and will raise in a future version. Use obj.ffill() or obj.bfill() instead.\n",
      "  df.fillna(method=\"ffill\", limit=2)\n"
     ]
    },
    {
     "data": {
      "text/html": [
       "<div>\n",
       "<style scoped>\n",
       "    .dataframe tbody tr th:only-of-type {\n",
       "        vertical-align: middle;\n",
       "    }\n",
       "\n",
       "    .dataframe tbody tr th {\n",
       "        vertical-align: top;\n",
       "    }\n",
       "\n",
       "    .dataframe thead th {\n",
       "        text-align: right;\n",
       "    }\n",
       "</style>\n",
       "<table border=\"1\" class=\"dataframe\">\n",
       "  <thead>\n",
       "    <tr style=\"text-align: right;\">\n",
       "      <th></th>\n",
       "      <th>0</th>\n",
       "      <th>1</th>\n",
       "      <th>2</th>\n",
       "    </tr>\n",
       "  </thead>\n",
       "  <tbody>\n",
       "    <tr>\n",
       "      <th>0</th>\n",
       "      <td>-0.189200</td>\n",
       "      <td>0.375242</td>\n",
       "      <td>-1.689308</td>\n",
       "    </tr>\n",
       "    <tr>\n",
       "      <th>1</th>\n",
       "      <td>0.615221</td>\n",
       "      <td>1.377501</td>\n",
       "      <td>-0.991450</td>\n",
       "    </tr>\n",
       "    <tr>\n",
       "      <th>2</th>\n",
       "      <td>-0.360851</td>\n",
       "      <td>1.377501</td>\n",
       "      <td>0.301553</td>\n",
       "    </tr>\n",
       "    <tr>\n",
       "      <th>3</th>\n",
       "      <td>-0.046934</td>\n",
       "      <td>1.377501</td>\n",
       "      <td>-0.470151</td>\n",
       "    </tr>\n",
       "    <tr>\n",
       "      <th>4</th>\n",
       "      <td>0.398884</td>\n",
       "      <td>NaN</td>\n",
       "      <td>-0.470151</td>\n",
       "    </tr>\n",
       "    <tr>\n",
       "      <th>5</th>\n",
       "      <td>-0.545352</td>\n",
       "      <td>NaN</td>\n",
       "      <td>-0.470151</td>\n",
       "    </tr>\n",
       "  </tbody>\n",
       "</table>\n",
       "</div>"
      ],
      "text/plain": [
       "          0         1         2\n",
       "0 -0.189200  0.375242 -1.689308\n",
       "1  0.615221  1.377501 -0.991450\n",
       "2 -0.360851  1.377501  0.301553\n",
       "3 -0.046934  1.377501 -0.470151\n",
       "4  0.398884       NaN -0.470151\n",
       "5 -0.545352       NaN -0.470151"
      ]
     },
     "execution_count": 52,
     "metadata": {},
     "output_type": "execute_result"
    }
   ],
   "source": [
    "df.fillna(method=\"ffill\", limit=2)"
   ]
  },
  {
   "cell_type": "code",
   "execution_count": 53,
   "id": "b457be60",
   "metadata": {},
   "outputs": [],
   "source": [
    "my_df = pd.DataFrame(np.random.standard_normal((9, 5)))"
   ]
  },
  {
   "cell_type": "code",
   "execution_count": 54,
   "id": "3c659159",
   "metadata": {},
   "outputs": [
    {
     "data": {
      "text/html": [
       "<div>\n",
       "<style scoped>\n",
       "    .dataframe tbody tr th:only-of-type {\n",
       "        vertical-align: middle;\n",
       "    }\n",
       "\n",
       "    .dataframe tbody tr th {\n",
       "        vertical-align: top;\n",
       "    }\n",
       "\n",
       "    .dataframe thead th {\n",
       "        text-align: right;\n",
       "    }\n",
       "</style>\n",
       "<table border=\"1\" class=\"dataframe\">\n",
       "  <thead>\n",
       "    <tr style=\"text-align: right;\">\n",
       "      <th></th>\n",
       "      <th>0</th>\n",
       "      <th>1</th>\n",
       "      <th>2</th>\n",
       "      <th>3</th>\n",
       "      <th>4</th>\n",
       "    </tr>\n",
       "  </thead>\n",
       "  <tbody>\n",
       "    <tr>\n",
       "      <th>0</th>\n",
       "      <td>0.239128</td>\n",
       "      <td>-1.191449</td>\n",
       "      <td>-0.152052</td>\n",
       "      <td>-0.069038</td>\n",
       "      <td>1.790458</td>\n",
       "    </tr>\n",
       "    <tr>\n",
       "      <th>1</th>\n",
       "      <td>-0.384910</td>\n",
       "      <td>0.364906</td>\n",
       "      <td>-0.499362</td>\n",
       "      <td>0.572912</td>\n",
       "      <td>0.276092</td>\n",
       "    </tr>\n",
       "    <tr>\n",
       "      <th>2</th>\n",
       "      <td>1.620691</td>\n",
       "      <td>-0.970478</td>\n",
       "      <td>0.909945</td>\n",
       "      <td>-0.887020</td>\n",
       "      <td>-0.172047</td>\n",
       "    </tr>\n",
       "    <tr>\n",
       "      <th>3</th>\n",
       "      <td>1.176694</td>\n",
       "      <td>0.387166</td>\n",
       "      <td>2.826296</td>\n",
       "      <td>1.153694</td>\n",
       "      <td>-0.670021</td>\n",
       "    </tr>\n",
       "    <tr>\n",
       "      <th>4</th>\n",
       "      <td>0.416956</td>\n",
       "      <td>NaN</td>\n",
       "      <td>1.284898</td>\n",
       "      <td>2.039344</td>\n",
       "      <td>-2.258834</td>\n",
       "    </tr>\n",
       "    <tr>\n",
       "      <th>5</th>\n",
       "      <td>-0.600146</td>\n",
       "      <td>NaN</td>\n",
       "      <td>-3.263314</td>\n",
       "      <td>-1.202225</td>\n",
       "      <td>0.270233</td>\n",
       "    </tr>\n",
       "    <tr>\n",
       "      <th>6</th>\n",
       "      <td>-2.200880</td>\n",
       "      <td>NaN</td>\n",
       "      <td>0.146566</td>\n",
       "      <td>1.459964</td>\n",
       "      <td>0.035560</td>\n",
       "    </tr>\n",
       "    <tr>\n",
       "      <th>7</th>\n",
       "      <td>NaN</td>\n",
       "      <td>NaN</td>\n",
       "      <td>-0.914318</td>\n",
       "      <td>0.429685</td>\n",
       "      <td>0.898146</td>\n",
       "    </tr>\n",
       "    <tr>\n",
       "      <th>8</th>\n",
       "      <td>NaN</td>\n",
       "      <td>NaN</td>\n",
       "      <td>-1.863911</td>\n",
       "      <td>-1.073349</td>\n",
       "      <td>-1.550987</td>\n",
       "    </tr>\n",
       "  </tbody>\n",
       "</table>\n",
       "</div>"
      ],
      "text/plain": [
       "          0         1         2         3         4\n",
       "0  0.239128 -1.191449 -0.152052 -0.069038  1.790458\n",
       "1 -0.384910  0.364906 -0.499362  0.572912  0.276092\n",
       "2  1.620691 -0.970478  0.909945 -0.887020 -0.172047\n",
       "3  1.176694  0.387166  2.826296  1.153694 -0.670021\n",
       "4  0.416956       NaN  1.284898  2.039344 -2.258834\n",
       "5 -0.600146       NaN -3.263314 -1.202225  0.270233\n",
       "6 -2.200880       NaN  0.146566  1.459964  0.035560\n",
       "7       NaN       NaN -0.914318  0.429685  0.898146\n",
       "8       NaN       NaN -1.863911 -1.073349 -1.550987"
      ]
     },
     "execution_count": 54,
     "metadata": {},
     "output_type": "execute_result"
    }
   ],
   "source": [
    "my_df.iloc[4:, 1] = np.nan\n",
    "my_df.iloc[7:, 0] = np.nan\n",
    "my_df"
   ]
  },
  {
   "cell_type": "code",
   "execution_count": 55,
   "id": "99cc51e2",
   "metadata": {},
   "outputs": [
    {
     "name": "stderr",
     "output_type": "stream",
     "text": [
      "C:\\Users\\CursosTardes\\AppData\\Local\\Temp\\ipykernel_11736\\1189938214.py:1: FutureWarning: DataFrame.fillna with 'method' is deprecated and will raise in a future version. Use obj.ffill() or obj.bfill() instead.\n",
      "  my_df.fillna(method=\"ffill\")\n"
     ]
    },
    {
     "data": {
      "text/html": [
       "<div>\n",
       "<style scoped>\n",
       "    .dataframe tbody tr th:only-of-type {\n",
       "        vertical-align: middle;\n",
       "    }\n",
       "\n",
       "    .dataframe tbody tr th {\n",
       "        vertical-align: top;\n",
       "    }\n",
       "\n",
       "    .dataframe thead th {\n",
       "        text-align: right;\n",
       "    }\n",
       "</style>\n",
       "<table border=\"1\" class=\"dataframe\">\n",
       "  <thead>\n",
       "    <tr style=\"text-align: right;\">\n",
       "      <th></th>\n",
       "      <th>0</th>\n",
       "      <th>1</th>\n",
       "      <th>2</th>\n",
       "      <th>3</th>\n",
       "      <th>4</th>\n",
       "    </tr>\n",
       "  </thead>\n",
       "  <tbody>\n",
       "    <tr>\n",
       "      <th>0</th>\n",
       "      <td>0.239128</td>\n",
       "      <td>-1.191449</td>\n",
       "      <td>-0.152052</td>\n",
       "      <td>-0.069038</td>\n",
       "      <td>1.790458</td>\n",
       "    </tr>\n",
       "    <tr>\n",
       "      <th>1</th>\n",
       "      <td>-0.384910</td>\n",
       "      <td>0.364906</td>\n",
       "      <td>-0.499362</td>\n",
       "      <td>0.572912</td>\n",
       "      <td>0.276092</td>\n",
       "    </tr>\n",
       "    <tr>\n",
       "      <th>2</th>\n",
       "      <td>1.620691</td>\n",
       "      <td>-0.970478</td>\n",
       "      <td>0.909945</td>\n",
       "      <td>-0.887020</td>\n",
       "      <td>-0.172047</td>\n",
       "    </tr>\n",
       "    <tr>\n",
       "      <th>3</th>\n",
       "      <td>1.176694</td>\n",
       "      <td>0.387166</td>\n",
       "      <td>2.826296</td>\n",
       "      <td>1.153694</td>\n",
       "      <td>-0.670021</td>\n",
       "    </tr>\n",
       "    <tr>\n",
       "      <th>4</th>\n",
       "      <td>0.416956</td>\n",
       "      <td>0.387166</td>\n",
       "      <td>1.284898</td>\n",
       "      <td>2.039344</td>\n",
       "      <td>-2.258834</td>\n",
       "    </tr>\n",
       "    <tr>\n",
       "      <th>5</th>\n",
       "      <td>-0.600146</td>\n",
       "      <td>0.387166</td>\n",
       "      <td>-3.263314</td>\n",
       "      <td>-1.202225</td>\n",
       "      <td>0.270233</td>\n",
       "    </tr>\n",
       "    <tr>\n",
       "      <th>6</th>\n",
       "      <td>-2.200880</td>\n",
       "      <td>0.387166</td>\n",
       "      <td>0.146566</td>\n",
       "      <td>1.459964</td>\n",
       "      <td>0.035560</td>\n",
       "    </tr>\n",
       "    <tr>\n",
       "      <th>7</th>\n",
       "      <td>-2.200880</td>\n",
       "      <td>0.387166</td>\n",
       "      <td>-0.914318</td>\n",
       "      <td>0.429685</td>\n",
       "      <td>0.898146</td>\n",
       "    </tr>\n",
       "    <tr>\n",
       "      <th>8</th>\n",
       "      <td>-2.200880</td>\n",
       "      <td>0.387166</td>\n",
       "      <td>-1.863911</td>\n",
       "      <td>-1.073349</td>\n",
       "      <td>-1.550987</td>\n",
       "    </tr>\n",
       "  </tbody>\n",
       "</table>\n",
       "</div>"
      ],
      "text/plain": [
       "          0         1         2         3         4\n",
       "0  0.239128 -1.191449 -0.152052 -0.069038  1.790458\n",
       "1 -0.384910  0.364906 -0.499362  0.572912  0.276092\n",
       "2  1.620691 -0.970478  0.909945 -0.887020 -0.172047\n",
       "3  1.176694  0.387166  2.826296  1.153694 -0.670021\n",
       "4  0.416956  0.387166  1.284898  2.039344 -2.258834\n",
       "5 -0.600146  0.387166 -3.263314 -1.202225  0.270233\n",
       "6 -2.200880  0.387166  0.146566  1.459964  0.035560\n",
       "7 -2.200880  0.387166 -0.914318  0.429685  0.898146\n",
       "8 -2.200880  0.387166 -1.863911 -1.073349 -1.550987"
      ]
     },
     "execution_count": 55,
     "metadata": {},
     "output_type": "execute_result"
    }
   ],
   "source": [
    "my_df.fillna(method=\"ffill\")"
   ]
  },
  {
   "cell_type": "code",
   "execution_count": 56,
   "id": "29ccd7f2",
   "metadata": {},
   "outputs": [
    {
     "name": "stderr",
     "output_type": "stream",
     "text": [
      "C:\\Users\\CursosTardes\\AppData\\Local\\Temp\\ipykernel_11736\\2791448424.py:1: FutureWarning: DataFrame.fillna with 'method' is deprecated and will raise in a future version. Use obj.ffill() or obj.bfill() instead.\n",
      "  my_df.fillna(method=\"ffill\", limit=4)\n"
     ]
    },
    {
     "data": {
      "text/html": [
       "<div>\n",
       "<style scoped>\n",
       "    .dataframe tbody tr th:only-of-type {\n",
       "        vertical-align: middle;\n",
       "    }\n",
       "\n",
       "    .dataframe tbody tr th {\n",
       "        vertical-align: top;\n",
       "    }\n",
       "\n",
       "    .dataframe thead th {\n",
       "        text-align: right;\n",
       "    }\n",
       "</style>\n",
       "<table border=\"1\" class=\"dataframe\">\n",
       "  <thead>\n",
       "    <tr style=\"text-align: right;\">\n",
       "      <th></th>\n",
       "      <th>0</th>\n",
       "      <th>1</th>\n",
       "      <th>2</th>\n",
       "      <th>3</th>\n",
       "      <th>4</th>\n",
       "    </tr>\n",
       "  </thead>\n",
       "  <tbody>\n",
       "    <tr>\n",
       "      <th>0</th>\n",
       "      <td>0.239128</td>\n",
       "      <td>-1.191449</td>\n",
       "      <td>-0.152052</td>\n",
       "      <td>-0.069038</td>\n",
       "      <td>1.790458</td>\n",
       "    </tr>\n",
       "    <tr>\n",
       "      <th>1</th>\n",
       "      <td>-0.384910</td>\n",
       "      <td>0.364906</td>\n",
       "      <td>-0.499362</td>\n",
       "      <td>0.572912</td>\n",
       "      <td>0.276092</td>\n",
       "    </tr>\n",
       "    <tr>\n",
       "      <th>2</th>\n",
       "      <td>1.620691</td>\n",
       "      <td>-0.970478</td>\n",
       "      <td>0.909945</td>\n",
       "      <td>-0.887020</td>\n",
       "      <td>-0.172047</td>\n",
       "    </tr>\n",
       "    <tr>\n",
       "      <th>3</th>\n",
       "      <td>1.176694</td>\n",
       "      <td>0.387166</td>\n",
       "      <td>2.826296</td>\n",
       "      <td>1.153694</td>\n",
       "      <td>-0.670021</td>\n",
       "    </tr>\n",
       "    <tr>\n",
       "      <th>4</th>\n",
       "      <td>0.416956</td>\n",
       "      <td>0.387166</td>\n",
       "      <td>1.284898</td>\n",
       "      <td>2.039344</td>\n",
       "      <td>-2.258834</td>\n",
       "    </tr>\n",
       "    <tr>\n",
       "      <th>5</th>\n",
       "      <td>-0.600146</td>\n",
       "      <td>0.387166</td>\n",
       "      <td>-3.263314</td>\n",
       "      <td>-1.202225</td>\n",
       "      <td>0.270233</td>\n",
       "    </tr>\n",
       "    <tr>\n",
       "      <th>6</th>\n",
       "      <td>-2.200880</td>\n",
       "      <td>0.387166</td>\n",
       "      <td>0.146566</td>\n",
       "      <td>1.459964</td>\n",
       "      <td>0.035560</td>\n",
       "    </tr>\n",
       "    <tr>\n",
       "      <th>7</th>\n",
       "      <td>-2.200880</td>\n",
       "      <td>0.387166</td>\n",
       "      <td>-0.914318</td>\n",
       "      <td>0.429685</td>\n",
       "      <td>0.898146</td>\n",
       "    </tr>\n",
       "    <tr>\n",
       "      <th>8</th>\n",
       "      <td>-2.200880</td>\n",
       "      <td>NaN</td>\n",
       "      <td>-1.863911</td>\n",
       "      <td>-1.073349</td>\n",
       "      <td>-1.550987</td>\n",
       "    </tr>\n",
       "  </tbody>\n",
       "</table>\n",
       "</div>"
      ],
      "text/plain": [
       "          0         1         2         3         4\n",
       "0  0.239128 -1.191449 -0.152052 -0.069038  1.790458\n",
       "1 -0.384910  0.364906 -0.499362  0.572912  0.276092\n",
       "2  1.620691 -0.970478  0.909945 -0.887020 -0.172047\n",
       "3  1.176694  0.387166  2.826296  1.153694 -0.670021\n",
       "4  0.416956  0.387166  1.284898  2.039344 -2.258834\n",
       "5 -0.600146  0.387166 -3.263314 -1.202225  0.270233\n",
       "6 -2.200880  0.387166  0.146566  1.459964  0.035560\n",
       "7 -2.200880  0.387166 -0.914318  0.429685  0.898146\n",
       "8 -2.200880       NaN -1.863911 -1.073349 -1.550987"
      ]
     },
     "execution_count": 56,
     "metadata": {},
     "output_type": "execute_result"
    }
   ],
   "source": [
    "my_df.fillna(method=\"ffill\", limit=4)"
   ]
  },
  {
   "cell_type": "markdown",
   "id": "c0d3fddb",
   "metadata": {
    "slideshow": {
     "slide_type": "slide"
    }
   },
   "source": [
    "Con `fillna()` puede hacer muchas otras cosas, como la imputación simple de datos utilizando la mediana o la media estadística:"
   ]
  },
  {
   "cell_type": "code",
   "execution_count": 57,
   "id": "b1ddf7bd",
   "metadata": {},
   "outputs": [
    {
     "data": {
      "text/plain": [
       "0    1.0\n",
       "1    NaN\n",
       "2    3.5\n",
       "3    NaN\n",
       "4    7.0\n",
       "dtype: float64"
      ]
     },
     "execution_count": 57,
     "metadata": {},
     "output_type": "execute_result"
    }
   ],
   "source": [
    "data = pd.Series([1., np.nan, 3.5, np.nan, 7])\n",
    "data"
   ]
  },
  {
   "cell_type": "code",
   "execution_count": 58,
   "id": "3909395f-ab48-42aa-aa78-b191c70fde3a",
   "metadata": {},
   "outputs": [
    {
     "data": {
      "text/plain": [
       "0    1.000000\n",
       "1    3.833333\n",
       "2    3.500000\n",
       "3    3.833333\n",
       "4    7.000000\n",
       "dtype: float64"
      ]
     },
     "execution_count": 58,
     "metadata": {},
     "output_type": "execute_result"
    }
   ],
   "source": [
    "data.fillna(data.mean())"
   ]
  },
  {
   "cell_type": "code",
   "execution_count": 59,
   "id": "615130a4",
   "metadata": {},
   "outputs": [
    {
     "data": {
      "text/plain": [
       "0    NaN\n",
       "1    0.1\n",
       "2    NaN\n",
       "3    NaN\n",
       "4    9.7\n",
       "5   -3.5\n",
       "6    NaN\n",
       "7    2.1\n",
       "dtype: float64"
      ]
     },
     "execution_count": 59,
     "metadata": {},
     "output_type": "execute_result"
    }
   ],
   "source": [
    "my_data = pd.Series([None, 0.1, np.nan, np.nan, 9.7, -3.5, np.nan, 2.1])\n",
    "my_data"
   ]
  },
  {
   "cell_type": "code",
   "execution_count": 60,
   "id": "12a6a901",
   "metadata": {},
   "outputs": [
    {
     "data": {
      "text/plain": [
       "0    2.1\n",
       "1    0.1\n",
       "2    2.1\n",
       "3    2.1\n",
       "4    9.7\n",
       "5   -3.5\n",
       "6    2.1\n",
       "7    2.1\n",
       "dtype: float64"
      ]
     },
     "execution_count": 60,
     "metadata": {},
     "output_type": "execute_result"
    }
   ],
   "source": [
    "my_data.fillna(my_data.mean())"
   ]
  },
  {
   "cell_type": "markdown",
   "id": "cbfebee6",
   "metadata": {
    "slideshow": {
     "slide_type": "slide"
    }
   },
   "source": [
    "**Funciones de argumento para `fillna`**\n",
    "\n",
    "`value`: Valor escalar u objeto tipo diccionario que se utilizará para rellenar los valores que faltan.\n",
    "\n",
    "`method`: Método de interpolación: uno de \"bfill\" (relleno hacia atrás) o \"ffill\" (relleno hacia delante); por defecto es None\n",
    "\n",
    "`axis`: Eje de relleno (\"index\" o \"columns\"); por defecto axis=\"index\".\n",
    "\n",
    "`limit`: Para el llenado hacia delante y hacia atrás, número máximo de periodos consecutivos a llenar"
   ]
  },
  {
   "cell_type": "markdown",
   "id": "7b7e3e23",
   "metadata": {
    "slideshow": {
     "slide_type": "slide"
    }
   },
   "source": [
    "## Transformación de datos"
   ]
  },
  {
   "cell_type": "markdown",
   "id": "5279922c",
   "metadata": {},
   "source": [
    "Hasta ahora nos hemos ocupado de la gestión de los datos que faltan. El filtrado, la limpieza y otras transformaciones son otra clase de operaciones importantes."
   ]
  },
  {
   "cell_type": "markdown",
   "id": "a1275d31",
   "metadata": {
    "slideshow": {
     "slide_type": "slide"
    }
   },
   "source": [
    "### Remover duplicados"
   ]
  },
  {
   "cell_type": "markdown",
   "id": "2cd9a09a",
   "metadata": {},
   "source": [
    "Pueden encontrarse filas duplicadas en un DataFrame por cualquier número de razones. He aquí un ejemplo:"
   ]
  },
  {
   "cell_type": "code",
   "execution_count": 61,
   "id": "ff7fa13c",
   "metadata": {
    "slideshow": {
     "slide_type": "slide"
    }
   },
   "outputs": [],
   "source": [
    "data = pd.DataFrame({\"k1\": [\"one\", \"two\"] * 3 + [\"two\"],\n",
    "                     \"k2\":[1, 1, 2, 3, 3, 4, 4]})"
   ]
  },
  {
   "cell_type": "code",
   "execution_count": 62,
   "id": "80bc42d4",
   "metadata": {},
   "outputs": [
    {
     "data": {
      "text/html": [
       "<div>\n",
       "<style scoped>\n",
       "    .dataframe tbody tr th:only-of-type {\n",
       "        vertical-align: middle;\n",
       "    }\n",
       "\n",
       "    .dataframe tbody tr th {\n",
       "        vertical-align: top;\n",
       "    }\n",
       "\n",
       "    .dataframe thead th {\n",
       "        text-align: right;\n",
       "    }\n",
       "</style>\n",
       "<table border=\"1\" class=\"dataframe\">\n",
       "  <thead>\n",
       "    <tr style=\"text-align: right;\">\n",
       "      <th></th>\n",
       "      <th>k1</th>\n",
       "      <th>k2</th>\n",
       "    </tr>\n",
       "  </thead>\n",
       "  <tbody>\n",
       "    <tr>\n",
       "      <th>0</th>\n",
       "      <td>one</td>\n",
       "      <td>1</td>\n",
       "    </tr>\n",
       "    <tr>\n",
       "      <th>1</th>\n",
       "      <td>two</td>\n",
       "      <td>1</td>\n",
       "    </tr>\n",
       "    <tr>\n",
       "      <th>2</th>\n",
       "      <td>one</td>\n",
       "      <td>2</td>\n",
       "    </tr>\n",
       "    <tr>\n",
       "      <th>3</th>\n",
       "      <td>two</td>\n",
       "      <td>3</td>\n",
       "    </tr>\n",
       "    <tr>\n",
       "      <th>4</th>\n",
       "      <td>one</td>\n",
       "      <td>3</td>\n",
       "    </tr>\n",
       "    <tr>\n",
       "      <th>5</th>\n",
       "      <td>two</td>\n",
       "      <td>4</td>\n",
       "    </tr>\n",
       "    <tr>\n",
       "      <th>6</th>\n",
       "      <td>two</td>\n",
       "      <td>4</td>\n",
       "    </tr>\n",
       "  </tbody>\n",
       "</table>\n",
       "</div>"
      ],
      "text/plain": [
       "    k1  k2\n",
       "0  one   1\n",
       "1  two   1\n",
       "2  one   2\n",
       "3  two   3\n",
       "4  one   3\n",
       "5  two   4\n",
       "6  two   4"
      ]
     },
     "execution_count": 62,
     "metadata": {},
     "output_type": "execute_result"
    }
   ],
   "source": [
    "data"
   ]
  },
  {
   "cell_type": "code",
   "execution_count": 63,
   "id": "35b639ac",
   "metadata": {},
   "outputs": [],
   "source": [
    "my_data = pd.DataFrame({\"k1\": [\"alfa\", \"beta\", \"gamma\", \"epsilon\"] * 3 + [\"gamma\"],\n",
    "                     \"k2\":[9, 9, 10, 70, 20, 9, 90, 30, 20, 80, 20, 10, 90]})"
   ]
  },
  {
   "cell_type": "code",
   "execution_count": 64,
   "id": "4156d42e",
   "metadata": {},
   "outputs": [
    {
     "data": {
      "text/html": [
       "<div>\n",
       "<style scoped>\n",
       "    .dataframe tbody tr th:only-of-type {\n",
       "        vertical-align: middle;\n",
       "    }\n",
       "\n",
       "    .dataframe tbody tr th {\n",
       "        vertical-align: top;\n",
       "    }\n",
       "\n",
       "    .dataframe thead th {\n",
       "        text-align: right;\n",
       "    }\n",
       "</style>\n",
       "<table border=\"1\" class=\"dataframe\">\n",
       "  <thead>\n",
       "    <tr style=\"text-align: right;\">\n",
       "      <th></th>\n",
       "      <th>k1</th>\n",
       "      <th>k2</th>\n",
       "    </tr>\n",
       "  </thead>\n",
       "  <tbody>\n",
       "    <tr>\n",
       "      <th>0</th>\n",
       "      <td>alfa</td>\n",
       "      <td>9</td>\n",
       "    </tr>\n",
       "    <tr>\n",
       "      <th>1</th>\n",
       "      <td>beta</td>\n",
       "      <td>9</td>\n",
       "    </tr>\n",
       "    <tr>\n",
       "      <th>2</th>\n",
       "      <td>gamma</td>\n",
       "      <td>10</td>\n",
       "    </tr>\n",
       "    <tr>\n",
       "      <th>3</th>\n",
       "      <td>epsilon</td>\n",
       "      <td>70</td>\n",
       "    </tr>\n",
       "    <tr>\n",
       "      <th>4</th>\n",
       "      <td>alfa</td>\n",
       "      <td>20</td>\n",
       "    </tr>\n",
       "    <tr>\n",
       "      <th>5</th>\n",
       "      <td>beta</td>\n",
       "      <td>9</td>\n",
       "    </tr>\n",
       "    <tr>\n",
       "      <th>6</th>\n",
       "      <td>gamma</td>\n",
       "      <td>90</td>\n",
       "    </tr>\n",
       "    <tr>\n",
       "      <th>7</th>\n",
       "      <td>epsilon</td>\n",
       "      <td>30</td>\n",
       "    </tr>\n",
       "    <tr>\n",
       "      <th>8</th>\n",
       "      <td>alfa</td>\n",
       "      <td>20</td>\n",
       "    </tr>\n",
       "    <tr>\n",
       "      <th>9</th>\n",
       "      <td>beta</td>\n",
       "      <td>80</td>\n",
       "    </tr>\n",
       "    <tr>\n",
       "      <th>10</th>\n",
       "      <td>gamma</td>\n",
       "      <td>20</td>\n",
       "    </tr>\n",
       "    <tr>\n",
       "      <th>11</th>\n",
       "      <td>epsilon</td>\n",
       "      <td>10</td>\n",
       "    </tr>\n",
       "    <tr>\n",
       "      <th>12</th>\n",
       "      <td>gamma</td>\n",
       "      <td>90</td>\n",
       "    </tr>\n",
       "  </tbody>\n",
       "</table>\n",
       "</div>"
      ],
      "text/plain": [
       "         k1  k2\n",
       "0      alfa   9\n",
       "1      beta   9\n",
       "2     gamma  10\n",
       "3   epsilon  70\n",
       "4      alfa  20\n",
       "5      beta   9\n",
       "6     gamma  90\n",
       "7   epsilon  30\n",
       "8      alfa  20\n",
       "9      beta  80\n",
       "10    gamma  20\n",
       "11  epsilon  10\n",
       "12    gamma  90"
      ]
     },
     "execution_count": 64,
     "metadata": {},
     "output_type": "execute_result"
    }
   ],
   "source": [
    "my_data"
   ]
  },
  {
   "cell_type": "markdown",
   "id": "86b0e37d",
   "metadata": {
    "slideshow": {
     "slide_type": "slide"
    }
   },
   "source": [
    "El método DataFrame `duplicated` devuelve una serie booleana que indica si cada fila es un duplicado (sus valores de columna son exactamente iguales a los de una fila anterior) o no:"
   ]
  },
  {
   "cell_type": "code",
   "execution_count": 65,
   "id": "6a344d4d",
   "metadata": {},
   "outputs": [
    {
     "data": {
      "text/plain": [
       "0    False\n",
       "1    False\n",
       "2    False\n",
       "3    False\n",
       "4    False\n",
       "5    False\n",
       "6     True\n",
       "dtype: bool"
      ]
     },
     "execution_count": 65,
     "metadata": {},
     "output_type": "execute_result"
    }
   ],
   "source": [
    "data.duplicated()"
   ]
  },
  {
   "cell_type": "code",
   "execution_count": 66,
   "id": "3a9cb467",
   "metadata": {},
   "outputs": [
    {
     "data": {
      "text/plain": [
       "0     False\n",
       "1     False\n",
       "2     False\n",
       "3     False\n",
       "4     False\n",
       "5      True\n",
       "6     False\n",
       "7     False\n",
       "8      True\n",
       "9     False\n",
       "10    False\n",
       "11    False\n",
       "12     True\n",
       "dtype: bool"
      ]
     },
     "execution_count": 66,
     "metadata": {},
     "output_type": "execute_result"
    }
   ],
   "source": [
    "my_data.duplicated()"
   ]
  },
  {
   "cell_type": "markdown",
   "id": "2c5737c0",
   "metadata": {
    "slideshow": {
     "slide_type": "slide"
    }
   },
   "source": [
    "En relación con esto, `drop_duplicates` devuelve un DataFrame con filas en las que se ha filtrado False el array duplicado:"
   ]
  },
  {
   "cell_type": "code",
   "execution_count": 67,
   "id": "b6f56a7b",
   "metadata": {},
   "outputs": [
    {
     "data": {
      "text/html": [
       "<div>\n",
       "<style scoped>\n",
       "    .dataframe tbody tr th:only-of-type {\n",
       "        vertical-align: middle;\n",
       "    }\n",
       "\n",
       "    .dataframe tbody tr th {\n",
       "        vertical-align: top;\n",
       "    }\n",
       "\n",
       "    .dataframe thead th {\n",
       "        text-align: right;\n",
       "    }\n",
       "</style>\n",
       "<table border=\"1\" class=\"dataframe\">\n",
       "  <thead>\n",
       "    <tr style=\"text-align: right;\">\n",
       "      <th></th>\n",
       "      <th>k1</th>\n",
       "      <th>k2</th>\n",
       "    </tr>\n",
       "  </thead>\n",
       "  <tbody>\n",
       "    <tr>\n",
       "      <th>0</th>\n",
       "      <td>one</td>\n",
       "      <td>1</td>\n",
       "    </tr>\n",
       "    <tr>\n",
       "      <th>1</th>\n",
       "      <td>two</td>\n",
       "      <td>1</td>\n",
       "    </tr>\n",
       "    <tr>\n",
       "      <th>2</th>\n",
       "      <td>one</td>\n",
       "      <td>2</td>\n",
       "    </tr>\n",
       "    <tr>\n",
       "      <th>3</th>\n",
       "      <td>two</td>\n",
       "      <td>3</td>\n",
       "    </tr>\n",
       "    <tr>\n",
       "      <th>4</th>\n",
       "      <td>one</td>\n",
       "      <td>3</td>\n",
       "    </tr>\n",
       "    <tr>\n",
       "      <th>5</th>\n",
       "      <td>two</td>\n",
       "      <td>4</td>\n",
       "    </tr>\n",
       "  </tbody>\n",
       "</table>\n",
       "</div>"
      ],
      "text/plain": [
       "    k1  k2\n",
       "0  one   1\n",
       "1  two   1\n",
       "2  one   2\n",
       "3  two   3\n",
       "4  one   3\n",
       "5  two   4"
      ]
     },
     "execution_count": 67,
     "metadata": {},
     "output_type": "execute_result"
    }
   ],
   "source": [
    "data.drop_duplicates()"
   ]
  },
  {
   "cell_type": "code",
   "execution_count": 68,
   "id": "6f689e0d",
   "metadata": {},
   "outputs": [
    {
     "data": {
      "text/html": [
       "<div>\n",
       "<style scoped>\n",
       "    .dataframe tbody tr th:only-of-type {\n",
       "        vertical-align: middle;\n",
       "    }\n",
       "\n",
       "    .dataframe tbody tr th {\n",
       "        vertical-align: top;\n",
       "    }\n",
       "\n",
       "    .dataframe thead th {\n",
       "        text-align: right;\n",
       "    }\n",
       "</style>\n",
       "<table border=\"1\" class=\"dataframe\">\n",
       "  <thead>\n",
       "    <tr style=\"text-align: right;\">\n",
       "      <th></th>\n",
       "      <th>k1</th>\n",
       "      <th>k2</th>\n",
       "    </tr>\n",
       "  </thead>\n",
       "  <tbody>\n",
       "    <tr>\n",
       "      <th>0</th>\n",
       "      <td>alfa</td>\n",
       "      <td>9</td>\n",
       "    </tr>\n",
       "    <tr>\n",
       "      <th>1</th>\n",
       "      <td>beta</td>\n",
       "      <td>9</td>\n",
       "    </tr>\n",
       "    <tr>\n",
       "      <th>2</th>\n",
       "      <td>gamma</td>\n",
       "      <td>10</td>\n",
       "    </tr>\n",
       "    <tr>\n",
       "      <th>3</th>\n",
       "      <td>epsilon</td>\n",
       "      <td>70</td>\n",
       "    </tr>\n",
       "    <tr>\n",
       "      <th>4</th>\n",
       "      <td>alfa</td>\n",
       "      <td>20</td>\n",
       "    </tr>\n",
       "    <tr>\n",
       "      <th>6</th>\n",
       "      <td>gamma</td>\n",
       "      <td>90</td>\n",
       "    </tr>\n",
       "    <tr>\n",
       "      <th>7</th>\n",
       "      <td>epsilon</td>\n",
       "      <td>30</td>\n",
       "    </tr>\n",
       "    <tr>\n",
       "      <th>9</th>\n",
       "      <td>beta</td>\n",
       "      <td>80</td>\n",
       "    </tr>\n",
       "    <tr>\n",
       "      <th>10</th>\n",
       "      <td>gamma</td>\n",
       "      <td>20</td>\n",
       "    </tr>\n",
       "    <tr>\n",
       "      <th>11</th>\n",
       "      <td>epsilon</td>\n",
       "      <td>10</td>\n",
       "    </tr>\n",
       "  </tbody>\n",
       "</table>\n",
       "</div>"
      ],
      "text/plain": [
       "         k1  k2\n",
       "0      alfa   9\n",
       "1      beta   9\n",
       "2     gamma  10\n",
       "3   epsilon  70\n",
       "4      alfa  20\n",
       "6     gamma  90\n",
       "7   epsilon  30\n",
       "9      beta  80\n",
       "10    gamma  20\n",
       "11  epsilon  10"
      ]
     },
     "execution_count": 68,
     "metadata": {},
     "output_type": "execute_result"
    }
   ],
   "source": [
    "my_data.drop_duplicates()"
   ]
  },
  {
   "cell_type": "markdown",
   "id": "60f1c4b3",
   "metadata": {
    "slideshow": {
     "slide_type": "slide"
    }
   },
   "source": [
    "Ambos métodos consideran por defecto todas las columnas; alternativamente, puede especificar cualquier subconjunto de ellas para detectar duplicados. Supongamos que tenemos una columna adicional de valores y queremos filtrar los duplicados basándonos sólo en la columna \"k1\":"
   ]
  },
  {
   "cell_type": "code",
   "execution_count": 69,
   "id": "c3f02963-6593-4a30-8a84-d4b3194e3db5",
   "metadata": {},
   "outputs": [
    {
     "data": {
      "text/html": [
       "<div>\n",
       "<style scoped>\n",
       "    .dataframe tbody tr th:only-of-type {\n",
       "        vertical-align: middle;\n",
       "    }\n",
       "\n",
       "    .dataframe tbody tr th {\n",
       "        vertical-align: top;\n",
       "    }\n",
       "\n",
       "    .dataframe thead th {\n",
       "        text-align: right;\n",
       "    }\n",
       "</style>\n",
       "<table border=\"1\" class=\"dataframe\">\n",
       "  <thead>\n",
       "    <tr style=\"text-align: right;\">\n",
       "      <th></th>\n",
       "      <th>k1</th>\n",
       "      <th>k2</th>\n",
       "    </tr>\n",
       "  </thead>\n",
       "  <tbody>\n",
       "    <tr>\n",
       "      <th>0</th>\n",
       "      <td>one</td>\n",
       "      <td>1</td>\n",
       "    </tr>\n",
       "    <tr>\n",
       "      <th>1</th>\n",
       "      <td>two</td>\n",
       "      <td>1</td>\n",
       "    </tr>\n",
       "    <tr>\n",
       "      <th>2</th>\n",
       "      <td>one</td>\n",
       "      <td>2</td>\n",
       "    </tr>\n",
       "    <tr>\n",
       "      <th>3</th>\n",
       "      <td>two</td>\n",
       "      <td>3</td>\n",
       "    </tr>\n",
       "    <tr>\n",
       "      <th>4</th>\n",
       "      <td>one</td>\n",
       "      <td>3</td>\n",
       "    </tr>\n",
       "    <tr>\n",
       "      <th>5</th>\n",
       "      <td>two</td>\n",
       "      <td>4</td>\n",
       "    </tr>\n",
       "    <tr>\n",
       "      <th>6</th>\n",
       "      <td>two</td>\n",
       "      <td>4</td>\n",
       "    </tr>\n",
       "  </tbody>\n",
       "</table>\n",
       "</div>"
      ],
      "text/plain": [
       "    k1  k2\n",
       "0  one   1\n",
       "1  two   1\n",
       "2  one   2\n",
       "3  two   3\n",
       "4  one   3\n",
       "5  two   4\n",
       "6  two   4"
      ]
     },
     "execution_count": 69,
     "metadata": {},
     "output_type": "execute_result"
    }
   ],
   "source": [
    "data"
   ]
  },
  {
   "cell_type": "code",
   "execution_count": 70,
   "id": "2f4723e7",
   "metadata": {},
   "outputs": [
    {
     "data": {
      "text/html": [
       "<div>\n",
       "<style scoped>\n",
       "    .dataframe tbody tr th:only-of-type {\n",
       "        vertical-align: middle;\n",
       "    }\n",
       "\n",
       "    .dataframe tbody tr th {\n",
       "        vertical-align: top;\n",
       "    }\n",
       "\n",
       "    .dataframe thead th {\n",
       "        text-align: right;\n",
       "    }\n",
       "</style>\n",
       "<table border=\"1\" class=\"dataframe\">\n",
       "  <thead>\n",
       "    <tr style=\"text-align: right;\">\n",
       "      <th></th>\n",
       "      <th>k1</th>\n",
       "      <th>k2</th>\n",
       "      <th>v1</th>\n",
       "    </tr>\n",
       "  </thead>\n",
       "  <tbody>\n",
       "    <tr>\n",
       "      <th>0</th>\n",
       "      <td>one</td>\n",
       "      <td>1</td>\n",
       "      <td>0</td>\n",
       "    </tr>\n",
       "    <tr>\n",
       "      <th>1</th>\n",
       "      <td>two</td>\n",
       "      <td>1</td>\n",
       "      <td>1</td>\n",
       "    </tr>\n",
       "    <tr>\n",
       "      <th>2</th>\n",
       "      <td>one</td>\n",
       "      <td>2</td>\n",
       "      <td>2</td>\n",
       "    </tr>\n",
       "    <tr>\n",
       "      <th>3</th>\n",
       "      <td>two</td>\n",
       "      <td>3</td>\n",
       "      <td>3</td>\n",
       "    </tr>\n",
       "    <tr>\n",
       "      <th>4</th>\n",
       "      <td>one</td>\n",
       "      <td>3</td>\n",
       "      <td>4</td>\n",
       "    </tr>\n",
       "    <tr>\n",
       "      <th>5</th>\n",
       "      <td>two</td>\n",
       "      <td>4</td>\n",
       "      <td>5</td>\n",
       "    </tr>\n",
       "    <tr>\n",
       "      <th>6</th>\n",
       "      <td>two</td>\n",
       "      <td>4</td>\n",
       "      <td>6</td>\n",
       "    </tr>\n",
       "  </tbody>\n",
       "</table>\n",
       "</div>"
      ],
      "text/plain": [
       "    k1  k2  v1\n",
       "0  one   1   0\n",
       "1  two   1   1\n",
       "2  one   2   2\n",
       "3  two   3   3\n",
       "4  one   3   4\n",
       "5  two   4   5\n",
       "6  two   4   6"
      ]
     },
     "execution_count": 70,
     "metadata": {},
     "output_type": "execute_result"
    }
   ],
   "source": [
    "# Añadimos una tercera columna\n",
    "data[\"v1\"] = range(7)\n",
    "data"
   ]
  },
  {
   "cell_type": "code",
   "execution_count": 71,
   "id": "400f99f1",
   "metadata": {
    "slideshow": {
     "slide_type": "slide"
    }
   },
   "outputs": [
    {
     "data": {
      "text/html": [
       "<div>\n",
       "<style scoped>\n",
       "    .dataframe tbody tr th:only-of-type {\n",
       "        vertical-align: middle;\n",
       "    }\n",
       "\n",
       "    .dataframe tbody tr th {\n",
       "        vertical-align: top;\n",
       "    }\n",
       "\n",
       "    .dataframe thead th {\n",
       "        text-align: right;\n",
       "    }\n",
       "</style>\n",
       "<table border=\"1\" class=\"dataframe\">\n",
       "  <thead>\n",
       "    <tr style=\"text-align: right;\">\n",
       "      <th></th>\n",
       "      <th>k1</th>\n",
       "      <th>k2</th>\n",
       "      <th>v1</th>\n",
       "    </tr>\n",
       "  </thead>\n",
       "  <tbody>\n",
       "    <tr>\n",
       "      <th>0</th>\n",
       "      <td>one</td>\n",
       "      <td>1</td>\n",
       "      <td>0</td>\n",
       "    </tr>\n",
       "    <tr>\n",
       "      <th>1</th>\n",
       "      <td>two</td>\n",
       "      <td>1</td>\n",
       "      <td>1</td>\n",
       "    </tr>\n",
       "  </tbody>\n",
       "</table>\n",
       "</div>"
      ],
      "text/plain": [
       "    k1  k2  v1\n",
       "0  one   1   0\n",
       "1  two   1   1"
      ]
     },
     "execution_count": 71,
     "metadata": {},
     "output_type": "execute_result"
    }
   ],
   "source": [
    "data.drop_duplicates(subset=[\"k1\"])"
   ]
  },
  {
   "cell_type": "code",
   "execution_count": 72,
   "id": "a031a1d4",
   "metadata": {},
   "outputs": [
    {
     "data": {
      "text/html": [
       "<div>\n",
       "<style scoped>\n",
       "    .dataframe tbody tr th:only-of-type {\n",
       "        vertical-align: middle;\n",
       "    }\n",
       "\n",
       "    .dataframe tbody tr th {\n",
       "        vertical-align: top;\n",
       "    }\n",
       "\n",
       "    .dataframe thead th {\n",
       "        text-align: right;\n",
       "    }\n",
       "</style>\n",
       "<table border=\"1\" class=\"dataframe\">\n",
       "  <thead>\n",
       "    <tr style=\"text-align: right;\">\n",
       "      <th></th>\n",
       "      <th>k1</th>\n",
       "      <th>k2</th>\n",
       "    </tr>\n",
       "  </thead>\n",
       "  <tbody>\n",
       "    <tr>\n",
       "      <th>0</th>\n",
       "      <td>alfa</td>\n",
       "      <td>9</td>\n",
       "    </tr>\n",
       "    <tr>\n",
       "      <th>1</th>\n",
       "      <td>beta</td>\n",
       "      <td>9</td>\n",
       "    </tr>\n",
       "    <tr>\n",
       "      <th>2</th>\n",
       "      <td>gamma</td>\n",
       "      <td>10</td>\n",
       "    </tr>\n",
       "    <tr>\n",
       "      <th>3</th>\n",
       "      <td>epsilon</td>\n",
       "      <td>70</td>\n",
       "    </tr>\n",
       "    <tr>\n",
       "      <th>4</th>\n",
       "      <td>alfa</td>\n",
       "      <td>20</td>\n",
       "    </tr>\n",
       "    <tr>\n",
       "      <th>5</th>\n",
       "      <td>beta</td>\n",
       "      <td>9</td>\n",
       "    </tr>\n",
       "    <tr>\n",
       "      <th>6</th>\n",
       "      <td>gamma</td>\n",
       "      <td>90</td>\n",
       "    </tr>\n",
       "    <tr>\n",
       "      <th>7</th>\n",
       "      <td>epsilon</td>\n",
       "      <td>30</td>\n",
       "    </tr>\n",
       "    <tr>\n",
       "      <th>8</th>\n",
       "      <td>alfa</td>\n",
       "      <td>20</td>\n",
       "    </tr>\n",
       "    <tr>\n",
       "      <th>9</th>\n",
       "      <td>beta</td>\n",
       "      <td>80</td>\n",
       "    </tr>\n",
       "    <tr>\n",
       "      <th>10</th>\n",
       "      <td>gamma</td>\n",
       "      <td>20</td>\n",
       "    </tr>\n",
       "    <tr>\n",
       "      <th>11</th>\n",
       "      <td>epsilon</td>\n",
       "      <td>10</td>\n",
       "    </tr>\n",
       "    <tr>\n",
       "      <th>12</th>\n",
       "      <td>gamma</td>\n",
       "      <td>90</td>\n",
       "    </tr>\n",
       "  </tbody>\n",
       "</table>\n",
       "</div>"
      ],
      "text/plain": [
       "         k1  k2\n",
       "0      alfa   9\n",
       "1      beta   9\n",
       "2     gamma  10\n",
       "3   epsilon  70\n",
       "4      alfa  20\n",
       "5      beta   9\n",
       "6     gamma  90\n",
       "7   epsilon  30\n",
       "8      alfa  20\n",
       "9      beta  80\n",
       "10    gamma  20\n",
       "11  epsilon  10\n",
       "12    gamma  90"
      ]
     },
     "execution_count": 72,
     "metadata": {},
     "output_type": "execute_result"
    }
   ],
   "source": [
    "my_data"
   ]
  },
  {
   "cell_type": "code",
   "execution_count": 73,
   "id": "b1e37448",
   "metadata": {},
   "outputs": [
    {
     "data": {
      "text/html": [
       "<div>\n",
       "<style scoped>\n",
       "    .dataframe tbody tr th:only-of-type {\n",
       "        vertical-align: middle;\n",
       "    }\n",
       "\n",
       "    .dataframe tbody tr th {\n",
       "        vertical-align: top;\n",
       "    }\n",
       "\n",
       "    .dataframe thead th {\n",
       "        text-align: right;\n",
       "    }\n",
       "</style>\n",
       "<table border=\"1\" class=\"dataframe\">\n",
       "  <thead>\n",
       "    <tr style=\"text-align: right;\">\n",
       "      <th></th>\n",
       "      <th>k1</th>\n",
       "      <th>k2</th>\n",
       "      <th>x1</th>\n",
       "    </tr>\n",
       "  </thead>\n",
       "  <tbody>\n",
       "    <tr>\n",
       "      <th>0</th>\n",
       "      <td>alfa</td>\n",
       "      <td>9</td>\n",
       "      <td>0</td>\n",
       "    </tr>\n",
       "    <tr>\n",
       "      <th>1</th>\n",
       "      <td>beta</td>\n",
       "      <td>9</td>\n",
       "      <td>1</td>\n",
       "    </tr>\n",
       "    <tr>\n",
       "      <th>2</th>\n",
       "      <td>gamma</td>\n",
       "      <td>10</td>\n",
       "      <td>2</td>\n",
       "    </tr>\n",
       "    <tr>\n",
       "      <th>3</th>\n",
       "      <td>epsilon</td>\n",
       "      <td>70</td>\n",
       "      <td>3</td>\n",
       "    </tr>\n",
       "    <tr>\n",
       "      <th>4</th>\n",
       "      <td>alfa</td>\n",
       "      <td>20</td>\n",
       "      <td>4</td>\n",
       "    </tr>\n",
       "    <tr>\n",
       "      <th>5</th>\n",
       "      <td>beta</td>\n",
       "      <td>9</td>\n",
       "      <td>5</td>\n",
       "    </tr>\n",
       "    <tr>\n",
       "      <th>6</th>\n",
       "      <td>gamma</td>\n",
       "      <td>90</td>\n",
       "      <td>6</td>\n",
       "    </tr>\n",
       "    <tr>\n",
       "      <th>7</th>\n",
       "      <td>epsilon</td>\n",
       "      <td>30</td>\n",
       "      <td>7</td>\n",
       "    </tr>\n",
       "    <tr>\n",
       "      <th>8</th>\n",
       "      <td>alfa</td>\n",
       "      <td>20</td>\n",
       "      <td>8</td>\n",
       "    </tr>\n",
       "    <tr>\n",
       "      <th>9</th>\n",
       "      <td>beta</td>\n",
       "      <td>80</td>\n",
       "      <td>9</td>\n",
       "    </tr>\n",
       "    <tr>\n",
       "      <th>10</th>\n",
       "      <td>gamma</td>\n",
       "      <td>20</td>\n",
       "      <td>10</td>\n",
       "    </tr>\n",
       "    <tr>\n",
       "      <th>11</th>\n",
       "      <td>epsilon</td>\n",
       "      <td>10</td>\n",
       "      <td>11</td>\n",
       "    </tr>\n",
       "    <tr>\n",
       "      <th>12</th>\n",
       "      <td>gamma</td>\n",
       "      <td>90</td>\n",
       "      <td>12</td>\n",
       "    </tr>\n",
       "  </tbody>\n",
       "</table>\n",
       "</div>"
      ],
      "text/plain": [
       "         k1  k2  x1\n",
       "0      alfa   9   0\n",
       "1      beta   9   1\n",
       "2     gamma  10   2\n",
       "3   epsilon  70   3\n",
       "4      alfa  20   4\n",
       "5      beta   9   5\n",
       "6     gamma  90   6\n",
       "7   epsilon  30   7\n",
       "8      alfa  20   8\n",
       "9      beta  80   9\n",
       "10    gamma  20  10\n",
       "11  epsilon  10  11\n",
       "12    gamma  90  12"
      ]
     },
     "execution_count": 73,
     "metadata": {},
     "output_type": "execute_result"
    }
   ],
   "source": [
    "my_data[\"x1\"] = range(13)\n",
    "my_data"
   ]
  },
  {
   "cell_type": "code",
   "execution_count": 74,
   "id": "e32bb9fa",
   "metadata": {},
   "outputs": [
    {
     "data": {
      "text/html": [
       "<div>\n",
       "<style scoped>\n",
       "    .dataframe tbody tr th:only-of-type {\n",
       "        vertical-align: middle;\n",
       "    }\n",
       "\n",
       "    .dataframe tbody tr th {\n",
       "        vertical-align: top;\n",
       "    }\n",
       "\n",
       "    .dataframe thead th {\n",
       "        text-align: right;\n",
       "    }\n",
       "</style>\n",
       "<table border=\"1\" class=\"dataframe\">\n",
       "  <thead>\n",
       "    <tr style=\"text-align: right;\">\n",
       "      <th></th>\n",
       "      <th>k1</th>\n",
       "      <th>k2</th>\n",
       "      <th>x1</th>\n",
       "    </tr>\n",
       "  </thead>\n",
       "  <tbody>\n",
       "    <tr>\n",
       "      <th>0</th>\n",
       "      <td>alfa</td>\n",
       "      <td>9</td>\n",
       "      <td>0</td>\n",
       "    </tr>\n",
       "    <tr>\n",
       "      <th>1</th>\n",
       "      <td>beta</td>\n",
       "      <td>9</td>\n",
       "      <td>1</td>\n",
       "    </tr>\n",
       "    <tr>\n",
       "      <th>2</th>\n",
       "      <td>gamma</td>\n",
       "      <td>10</td>\n",
       "      <td>2</td>\n",
       "    </tr>\n",
       "    <tr>\n",
       "      <th>3</th>\n",
       "      <td>epsilon</td>\n",
       "      <td>70</td>\n",
       "      <td>3</td>\n",
       "    </tr>\n",
       "  </tbody>\n",
       "</table>\n",
       "</div>"
      ],
      "text/plain": [
       "        k1  k2  x1\n",
       "0     alfa   9   0\n",
       "1     beta   9   1\n",
       "2    gamma  10   2\n",
       "3  epsilon  70   3"
      ]
     },
     "execution_count": 74,
     "metadata": {},
     "output_type": "execute_result"
    }
   ],
   "source": [
    "my_data.drop_duplicates(subset=[\"k1\"])"
   ]
  },
  {
   "cell_type": "markdown",
   "id": "6fd3e710",
   "metadata": {
    "slideshow": {
     "slide_type": "slide"
    }
   },
   "source": [
    "`duplicated` y `drop_duplicates` mantienen por defecto la primera combinación de valores observada. Si se pasa `keep=\"last\"` se devolverá la última.  \n",
    "El argumento `keep` puede tomar tres valores:\n",
    "\n",
    "`\"first\"`: (por defecto) Mantiene la primera aparición de una fila duplicada y elimina las subsecuentes.  \n",
    "\n",
    "`\"last\"`: Mantiene la última aparición de una fila duplicada y elimina las anteriores.  \n",
    "\n",
    "`\"False\"`: Elimina todas las filas duplicadas, no conservando ninguna."
   ]
  },
  {
   "cell_type": "code",
   "execution_count": 75,
   "id": "1f7a07aa-4903-4f3e-abd7-22d42dc5e94c",
   "metadata": {},
   "outputs": [
    {
     "data": {
      "text/html": [
       "<div>\n",
       "<style scoped>\n",
       "    .dataframe tbody tr th:only-of-type {\n",
       "        vertical-align: middle;\n",
       "    }\n",
       "\n",
       "    .dataframe tbody tr th {\n",
       "        vertical-align: top;\n",
       "    }\n",
       "\n",
       "    .dataframe thead th {\n",
       "        text-align: right;\n",
       "    }\n",
       "</style>\n",
       "<table border=\"1\" class=\"dataframe\">\n",
       "  <thead>\n",
       "    <tr style=\"text-align: right;\">\n",
       "      <th></th>\n",
       "      <th>k1</th>\n",
       "      <th>k2</th>\n",
       "      <th>v1</th>\n",
       "    </tr>\n",
       "  </thead>\n",
       "  <tbody>\n",
       "    <tr>\n",
       "      <th>0</th>\n",
       "      <td>one</td>\n",
       "      <td>1</td>\n",
       "      <td>0</td>\n",
       "    </tr>\n",
       "    <tr>\n",
       "      <th>1</th>\n",
       "      <td>two</td>\n",
       "      <td>1</td>\n",
       "      <td>1</td>\n",
       "    </tr>\n",
       "    <tr>\n",
       "      <th>2</th>\n",
       "      <td>one</td>\n",
       "      <td>2</td>\n",
       "      <td>2</td>\n",
       "    </tr>\n",
       "    <tr>\n",
       "      <th>3</th>\n",
       "      <td>two</td>\n",
       "      <td>3</td>\n",
       "      <td>3</td>\n",
       "    </tr>\n",
       "    <tr>\n",
       "      <th>4</th>\n",
       "      <td>one</td>\n",
       "      <td>3</td>\n",
       "      <td>4</td>\n",
       "    </tr>\n",
       "    <tr>\n",
       "      <th>5</th>\n",
       "      <td>two</td>\n",
       "      <td>4</td>\n",
       "      <td>5</td>\n",
       "    </tr>\n",
       "    <tr>\n",
       "      <th>6</th>\n",
       "      <td>two</td>\n",
       "      <td>4</td>\n",
       "      <td>6</td>\n",
       "    </tr>\n",
       "  </tbody>\n",
       "</table>\n",
       "</div>"
      ],
      "text/plain": [
       "    k1  k2  v1\n",
       "0  one   1   0\n",
       "1  two   1   1\n",
       "2  one   2   2\n",
       "3  two   3   3\n",
       "4  one   3   4\n",
       "5  two   4   5\n",
       "6  two   4   6"
      ]
     },
     "execution_count": 75,
     "metadata": {},
     "output_type": "execute_result"
    }
   ],
   "source": [
    "data"
   ]
  },
  {
   "cell_type": "code",
   "execution_count": 76,
   "id": "1cecd476",
   "metadata": {},
   "outputs": [
    {
     "data": {
      "text/html": [
       "<div>\n",
       "<style scoped>\n",
       "    .dataframe tbody tr th:only-of-type {\n",
       "        vertical-align: middle;\n",
       "    }\n",
       "\n",
       "    .dataframe tbody tr th {\n",
       "        vertical-align: top;\n",
       "    }\n",
       "\n",
       "    .dataframe thead th {\n",
       "        text-align: right;\n",
       "    }\n",
       "</style>\n",
       "<table border=\"1\" class=\"dataframe\">\n",
       "  <thead>\n",
       "    <tr style=\"text-align: right;\">\n",
       "      <th></th>\n",
       "      <th>k1</th>\n",
       "      <th>k2</th>\n",
       "      <th>v1</th>\n",
       "    </tr>\n",
       "  </thead>\n",
       "  <tbody>\n",
       "    <tr>\n",
       "      <th>0</th>\n",
       "      <td>one</td>\n",
       "      <td>1</td>\n",
       "      <td>0</td>\n",
       "    </tr>\n",
       "    <tr>\n",
       "      <th>1</th>\n",
       "      <td>two</td>\n",
       "      <td>1</td>\n",
       "      <td>1</td>\n",
       "    </tr>\n",
       "    <tr>\n",
       "      <th>2</th>\n",
       "      <td>one</td>\n",
       "      <td>2</td>\n",
       "      <td>2</td>\n",
       "    </tr>\n",
       "    <tr>\n",
       "      <th>3</th>\n",
       "      <td>two</td>\n",
       "      <td>3</td>\n",
       "      <td>3</td>\n",
       "    </tr>\n",
       "    <tr>\n",
       "      <th>4</th>\n",
       "      <td>one</td>\n",
       "      <td>3</td>\n",
       "      <td>4</td>\n",
       "    </tr>\n",
       "    <tr>\n",
       "      <th>6</th>\n",
       "      <td>two</td>\n",
       "      <td>4</td>\n",
       "      <td>6</td>\n",
       "    </tr>\n",
       "  </tbody>\n",
       "</table>\n",
       "</div>"
      ],
      "text/plain": [
       "    k1  k2  v1\n",
       "0  one   1   0\n",
       "1  two   1   1\n",
       "2  one   2   2\n",
       "3  two   3   3\n",
       "4  one   3   4\n",
       "6  two   4   6"
      ]
     },
     "execution_count": 76,
     "metadata": {},
     "output_type": "execute_result"
    }
   ],
   "source": [
    "data.drop_duplicates([\"k1\", \"k2\"], keep=\"last\")"
   ]
  },
  {
   "cell_type": "code",
   "execution_count": 77,
   "id": "5270e4a8",
   "metadata": {},
   "outputs": [
    {
     "data": {
      "text/html": [
       "<div>\n",
       "<style scoped>\n",
       "    .dataframe tbody tr th:only-of-type {\n",
       "        vertical-align: middle;\n",
       "    }\n",
       "\n",
       "    .dataframe tbody tr th {\n",
       "        vertical-align: top;\n",
       "    }\n",
       "\n",
       "    .dataframe thead th {\n",
       "        text-align: right;\n",
       "    }\n",
       "</style>\n",
       "<table border=\"1\" class=\"dataframe\">\n",
       "  <thead>\n",
       "    <tr style=\"text-align: right;\">\n",
       "      <th></th>\n",
       "      <th>k1</th>\n",
       "      <th>k2</th>\n",
       "      <th>x1</th>\n",
       "    </tr>\n",
       "  </thead>\n",
       "  <tbody>\n",
       "    <tr>\n",
       "      <th>0</th>\n",
       "      <td>alfa</td>\n",
       "      <td>9</td>\n",
       "      <td>0</td>\n",
       "    </tr>\n",
       "    <tr>\n",
       "      <th>1</th>\n",
       "      <td>beta</td>\n",
       "      <td>9</td>\n",
       "      <td>1</td>\n",
       "    </tr>\n",
       "    <tr>\n",
       "      <th>2</th>\n",
       "      <td>gamma</td>\n",
       "      <td>10</td>\n",
       "      <td>2</td>\n",
       "    </tr>\n",
       "    <tr>\n",
       "      <th>3</th>\n",
       "      <td>epsilon</td>\n",
       "      <td>70</td>\n",
       "      <td>3</td>\n",
       "    </tr>\n",
       "    <tr>\n",
       "      <th>4</th>\n",
       "      <td>alfa</td>\n",
       "      <td>20</td>\n",
       "      <td>4</td>\n",
       "    </tr>\n",
       "    <tr>\n",
       "      <th>5</th>\n",
       "      <td>beta</td>\n",
       "      <td>9</td>\n",
       "      <td>5</td>\n",
       "    </tr>\n",
       "    <tr>\n",
       "      <th>6</th>\n",
       "      <td>gamma</td>\n",
       "      <td>90</td>\n",
       "      <td>6</td>\n",
       "    </tr>\n",
       "    <tr>\n",
       "      <th>7</th>\n",
       "      <td>epsilon</td>\n",
       "      <td>30</td>\n",
       "      <td>7</td>\n",
       "    </tr>\n",
       "    <tr>\n",
       "      <th>8</th>\n",
       "      <td>alfa</td>\n",
       "      <td>20</td>\n",
       "      <td>8</td>\n",
       "    </tr>\n",
       "    <tr>\n",
       "      <th>9</th>\n",
       "      <td>beta</td>\n",
       "      <td>80</td>\n",
       "      <td>9</td>\n",
       "    </tr>\n",
       "    <tr>\n",
       "      <th>10</th>\n",
       "      <td>gamma</td>\n",
       "      <td>20</td>\n",
       "      <td>10</td>\n",
       "    </tr>\n",
       "    <tr>\n",
       "      <th>11</th>\n",
       "      <td>epsilon</td>\n",
       "      <td>10</td>\n",
       "      <td>11</td>\n",
       "    </tr>\n",
       "    <tr>\n",
       "      <th>12</th>\n",
       "      <td>gamma</td>\n",
       "      <td>90</td>\n",
       "      <td>12</td>\n",
       "    </tr>\n",
       "  </tbody>\n",
       "</table>\n",
       "</div>"
      ],
      "text/plain": [
       "         k1  k2  x1\n",
       "0      alfa   9   0\n",
       "1      beta   9   1\n",
       "2     gamma  10   2\n",
       "3   epsilon  70   3\n",
       "4      alfa  20   4\n",
       "5      beta   9   5\n",
       "6     gamma  90   6\n",
       "7   epsilon  30   7\n",
       "8      alfa  20   8\n",
       "9      beta  80   9\n",
       "10    gamma  20  10\n",
       "11  epsilon  10  11\n",
       "12    gamma  90  12"
      ]
     },
     "execution_count": 77,
     "metadata": {},
     "output_type": "execute_result"
    }
   ],
   "source": [
    "my_data"
   ]
  },
  {
   "cell_type": "code",
   "execution_count": 78,
   "id": "44bf206c",
   "metadata": {},
   "outputs": [
    {
     "data": {
      "text/html": [
       "<div>\n",
       "<style scoped>\n",
       "    .dataframe tbody tr th:only-of-type {\n",
       "        vertical-align: middle;\n",
       "    }\n",
       "\n",
       "    .dataframe tbody tr th {\n",
       "        vertical-align: top;\n",
       "    }\n",
       "\n",
       "    .dataframe thead th {\n",
       "        text-align: right;\n",
       "    }\n",
       "</style>\n",
       "<table border=\"1\" class=\"dataframe\">\n",
       "  <thead>\n",
       "    <tr style=\"text-align: right;\">\n",
       "      <th></th>\n",
       "      <th>k1</th>\n",
       "      <th>k2</th>\n",
       "      <th>x1</th>\n",
       "    </tr>\n",
       "  </thead>\n",
       "  <tbody>\n",
       "    <tr>\n",
       "      <th>0</th>\n",
       "      <td>alfa</td>\n",
       "      <td>9</td>\n",
       "      <td>0</td>\n",
       "    </tr>\n",
       "    <tr>\n",
       "      <th>2</th>\n",
       "      <td>gamma</td>\n",
       "      <td>10</td>\n",
       "      <td>2</td>\n",
       "    </tr>\n",
       "    <tr>\n",
       "      <th>3</th>\n",
       "      <td>epsilon</td>\n",
       "      <td>70</td>\n",
       "      <td>3</td>\n",
       "    </tr>\n",
       "    <tr>\n",
       "      <th>5</th>\n",
       "      <td>beta</td>\n",
       "      <td>9</td>\n",
       "      <td>5</td>\n",
       "    </tr>\n",
       "    <tr>\n",
       "      <th>7</th>\n",
       "      <td>epsilon</td>\n",
       "      <td>30</td>\n",
       "      <td>7</td>\n",
       "    </tr>\n",
       "    <tr>\n",
       "      <th>8</th>\n",
       "      <td>alfa</td>\n",
       "      <td>20</td>\n",
       "      <td>8</td>\n",
       "    </tr>\n",
       "    <tr>\n",
       "      <th>9</th>\n",
       "      <td>beta</td>\n",
       "      <td>80</td>\n",
       "      <td>9</td>\n",
       "    </tr>\n",
       "    <tr>\n",
       "      <th>10</th>\n",
       "      <td>gamma</td>\n",
       "      <td>20</td>\n",
       "      <td>10</td>\n",
       "    </tr>\n",
       "    <tr>\n",
       "      <th>11</th>\n",
       "      <td>epsilon</td>\n",
       "      <td>10</td>\n",
       "      <td>11</td>\n",
       "    </tr>\n",
       "    <tr>\n",
       "      <th>12</th>\n",
       "      <td>gamma</td>\n",
       "      <td>90</td>\n",
       "      <td>12</td>\n",
       "    </tr>\n",
       "  </tbody>\n",
       "</table>\n",
       "</div>"
      ],
      "text/plain": [
       "         k1  k2  x1\n",
       "0      alfa   9   0\n",
       "2     gamma  10   2\n",
       "3   epsilon  70   3\n",
       "5      beta   9   5\n",
       "7   epsilon  30   7\n",
       "8      alfa  20   8\n",
       "9      beta  80   9\n",
       "10    gamma  20  10\n",
       "11  epsilon  10  11\n",
       "12    gamma  90  12"
      ]
     },
     "execution_count": 78,
     "metadata": {},
     "output_type": "execute_result"
    }
   ],
   "source": [
    "my_data.drop_duplicates([\"k1\", \"k2\"], keep=\"last\")"
   ]
  },
  {
   "cell_type": "markdown",
   "id": "94f899d4",
   "metadata": {
    "slideshow": {
     "slide_type": "slide"
    }
   },
   "source": [
    "### Transformación de datos mediante una `Function` o `Mapping`"
   ]
  },
  {
   "cell_type": "markdown",
   "id": "d22a459b",
   "metadata": {},
   "source": [
    "Para muchos conjuntos de datos, es posible que desee realizar alguna transformación basada en los valores de un array, Serie o columna de un DataFrame. Considere los siguientes datos hipotéticos recogidos sobre varios tipos de jamón:"
   ]
  },
  {
   "cell_type": "code",
   "execution_count": 79,
   "id": "1c76dd2f",
   "metadata": {
    "slideshow": {
     "slide_type": "slide"
    }
   },
   "outputs": [
    {
     "data": {
      "text/html": [
       "<div>\n",
       "<style scoped>\n",
       "    .dataframe tbody tr th:only-of-type {\n",
       "        vertical-align: middle;\n",
       "    }\n",
       "\n",
       "    .dataframe tbody tr th {\n",
       "        vertical-align: top;\n",
       "    }\n",
       "\n",
       "    .dataframe thead th {\n",
       "        text-align: right;\n",
       "    }\n",
       "</style>\n",
       "<table border=\"1\" class=\"dataframe\">\n",
       "  <thead>\n",
       "    <tr style=\"text-align: right;\">\n",
       "      <th></th>\n",
       "      <th>food</th>\n",
       "      <th>ounces</th>\n",
       "    </tr>\n",
       "  </thead>\n",
       "  <tbody>\n",
       "    <tr>\n",
       "      <th>0</th>\n",
       "      <td>bacon</td>\n",
       "      <td>4.0</td>\n",
       "    </tr>\n",
       "    <tr>\n",
       "      <th>1</th>\n",
       "      <td>pulled pork</td>\n",
       "      <td>3.0</td>\n",
       "    </tr>\n",
       "    <tr>\n",
       "      <th>2</th>\n",
       "      <td>bacon</td>\n",
       "      <td>12.0</td>\n",
       "    </tr>\n",
       "    <tr>\n",
       "      <th>3</th>\n",
       "      <td>pastrami</td>\n",
       "      <td>6.0</td>\n",
       "    </tr>\n",
       "    <tr>\n",
       "      <th>4</th>\n",
       "      <td>corned beef</td>\n",
       "      <td>7.5</td>\n",
       "    </tr>\n",
       "    <tr>\n",
       "      <th>5</th>\n",
       "      <td>bacon</td>\n",
       "      <td>8.0</td>\n",
       "    </tr>\n",
       "    <tr>\n",
       "      <th>6</th>\n",
       "      <td>pastrami</td>\n",
       "      <td>3.0</td>\n",
       "    </tr>\n",
       "    <tr>\n",
       "      <th>7</th>\n",
       "      <td>honey ham</td>\n",
       "      <td>5.0</td>\n",
       "    </tr>\n",
       "    <tr>\n",
       "      <th>8</th>\n",
       "      <td>nova lox</td>\n",
       "      <td>6.0</td>\n",
       "    </tr>\n",
       "  </tbody>\n",
       "</table>\n",
       "</div>"
      ],
      "text/plain": [
       "          food  ounces\n",
       "0        bacon     4.0\n",
       "1  pulled pork     3.0\n",
       "2        bacon    12.0\n",
       "3     pastrami     6.0\n",
       "4  corned beef     7.5\n",
       "5        bacon     8.0\n",
       "6     pastrami     3.0\n",
       "7    honey ham     5.0\n",
       "8     nova lox     6.0"
      ]
     },
     "execution_count": 79,
     "metadata": {},
     "output_type": "execute_result"
    }
   ],
   "source": [
    "data = pd.DataFrame({\"food\": [\"bacon\", \"pulled pork\",\n",
    "                                \"bacon\",\"pastrami\", \"corned beef\",\n",
    "                                \"bacon\", \"pastrami\", \"honey ham\",\n",
    "                                \"nova lox\"],\n",
    "                        \"ounces\": [4, 3, 12, 6, 7.5, 8, 3, 5, 6]})\n",
    "data\n"
   ]
  },
  {
   "cell_type": "code",
   "execution_count": 80,
   "id": "c463abef",
   "metadata": {},
   "outputs": [
    {
     "data": {
      "text/html": [
       "<div>\n",
       "<style scoped>\n",
       "    .dataframe tbody tr th:only-of-type {\n",
       "        vertical-align: middle;\n",
       "    }\n",
       "\n",
       "    .dataframe tbody tr th {\n",
       "        vertical-align: top;\n",
       "    }\n",
       "\n",
       "    .dataframe thead th {\n",
       "        text-align: right;\n",
       "    }\n",
       "</style>\n",
       "<table border=\"1\" class=\"dataframe\">\n",
       "  <thead>\n",
       "    <tr style=\"text-align: right;\">\n",
       "      <th></th>\n",
       "      <th>fruta</th>\n",
       "      <th>gramos</th>\n",
       "    </tr>\n",
       "  </thead>\n",
       "  <tbody>\n",
       "    <tr>\n",
       "      <th>0</th>\n",
       "      <td>fresa</td>\n",
       "      <td>20</td>\n",
       "    </tr>\n",
       "    <tr>\n",
       "      <th>1</th>\n",
       "      <td>manzana</td>\n",
       "      <td>200</td>\n",
       "    </tr>\n",
       "    <tr>\n",
       "      <th>2</th>\n",
       "      <td>albaricoque</td>\n",
       "      <td>100</td>\n",
       "    </tr>\n",
       "    <tr>\n",
       "      <th>3</th>\n",
       "      <td>mandarina</td>\n",
       "      <td>80</td>\n",
       "    </tr>\n",
       "    <tr>\n",
       "      <th>4</th>\n",
       "      <td>cacahuete</td>\n",
       "      <td>3</td>\n",
       "    </tr>\n",
       "    <tr>\n",
       "      <th>5</th>\n",
       "      <td>pera</td>\n",
       "      <td>120</td>\n",
       "    </tr>\n",
       "    <tr>\n",
       "      <th>6</th>\n",
       "      <td>fresa</td>\n",
       "      <td>20</td>\n",
       "    </tr>\n",
       "    <tr>\n",
       "      <th>7</th>\n",
       "      <td>nuez</td>\n",
       "      <td>10</td>\n",
       "    </tr>\n",
       "    <tr>\n",
       "      <th>8</th>\n",
       "      <td>piña</td>\n",
       "      <td>1000</td>\n",
       "    </tr>\n",
       "    <tr>\n",
       "      <th>9</th>\n",
       "      <td>nuez</td>\n",
       "      <td>10</td>\n",
       "    </tr>\n",
       "  </tbody>\n",
       "</table>\n",
       "</div>"
      ],
      "text/plain": [
       "         fruta  gramos\n",
       "0        fresa      20\n",
       "1      manzana     200\n",
       "2  albaricoque     100\n",
       "3    mandarina      80\n",
       "4    cacahuete       3\n",
       "5         pera     120\n",
       "6        fresa      20\n",
       "7         nuez      10\n",
       "8         piña    1000\n",
       "9         nuez      10"
      ]
     },
     "execution_count": 80,
     "metadata": {},
     "output_type": "execute_result"
    }
   ],
   "source": [
    "my_data = pd.DataFrame({\"fruta\": [\"fresa\", \"manzana\",\n",
    "                                \"albaricoque\",\"mandarina\", \"cacahuete\",\n",
    "                                \"pera\", \"fresa\", \"nuez\",\n",
    "                                \"piña\", \"nuez\"],\n",
    "                        \"gramos\": [20, 200, 100, 80, 3, 120, 20, 10, 1000, 10]})\n",
    "my_data"
   ]
  },
  {
   "cell_type": "markdown",
   "id": "a76d43b6",
   "metadata": {
    "slideshow": {
     "slide_type": "slide"
    }
   },
   "source": [
    "Supongamos que queremos añadir una columna que indique el tipo de animal del que procede cada alimento. Escribamos una correspondencia entre cada tipo de carne y el tipo de animal:"
   ]
  },
  {
   "cell_type": "code",
   "execution_count": 81,
   "id": "cb6723a0",
   "metadata": {},
   "outputs": [],
   "source": [
    "meat_to_animal = {\n",
    "  \"bacon\": \"pig\",\n",
    "  \"pulled pork\": \"pig\",\n",
    "  \"pastrami\": \"cow\",\n",
    "  \"corned beef\": \"cow\",\n",
    "  \"honey ham\": \"pig\",\n",
    "  \"nova lox\": \"salmon\"\n",
    "}"
   ]
  },
  {
   "cell_type": "code",
   "execution_count": 82,
   "id": "89f3840b",
   "metadata": {},
   "outputs": [],
   "source": [
    "categoria_fruta = {\n",
    "    \"fresa\": \"carnosa\",\n",
    "    \"manzana\": \"carnosa\",\n",
    "    \"albaricoque\": \"carnosa\",\n",
    "    \"cacahuete\": \"seca\",\n",
    "    \"mango\": \"tropical\",\n",
    "    \"manzana\": \" clima_templado\",\n",
    "    \"piña\": \"tropical\",\n",
    "    \"pera\": \"clima_templado\",\n",
    "    \"nuez\": \"seca\",\n",
    "    \"mandarina\": \"carnosa\"\n",
    "}"
   ]
  },
  {
   "cell_type": "markdown",
   "id": "a3357a6a",
   "metadata": {
    "slideshow": {
     "slide_type": "slide"
    }
   },
   "source": [
    "El método `map` de una serie acepta una función u objeto de tipo diccionario que contenga un mapeo para realizar la transformación de los valores:"
   ]
  },
  {
   "cell_type": "code",
   "execution_count": 83,
   "id": "ffde4341",
   "metadata": {},
   "outputs": [
    {
     "data": {
      "text/html": [
       "<div>\n",
       "<style scoped>\n",
       "    .dataframe tbody tr th:only-of-type {\n",
       "        vertical-align: middle;\n",
       "    }\n",
       "\n",
       "    .dataframe tbody tr th {\n",
       "        vertical-align: top;\n",
       "    }\n",
       "\n",
       "    .dataframe thead th {\n",
       "        text-align: right;\n",
       "    }\n",
       "</style>\n",
       "<table border=\"1\" class=\"dataframe\">\n",
       "  <thead>\n",
       "    <tr style=\"text-align: right;\">\n",
       "      <th></th>\n",
       "      <th>food</th>\n",
       "      <th>ounces</th>\n",
       "      <th>animal</th>\n",
       "    </tr>\n",
       "  </thead>\n",
       "  <tbody>\n",
       "    <tr>\n",
       "      <th>0</th>\n",
       "      <td>bacon</td>\n",
       "      <td>4.0</td>\n",
       "      <td>pig</td>\n",
       "    </tr>\n",
       "    <tr>\n",
       "      <th>1</th>\n",
       "      <td>pulled pork</td>\n",
       "      <td>3.0</td>\n",
       "      <td>pig</td>\n",
       "    </tr>\n",
       "    <tr>\n",
       "      <th>2</th>\n",
       "      <td>bacon</td>\n",
       "      <td>12.0</td>\n",
       "      <td>pig</td>\n",
       "    </tr>\n",
       "    <tr>\n",
       "      <th>3</th>\n",
       "      <td>pastrami</td>\n",
       "      <td>6.0</td>\n",
       "      <td>cow</td>\n",
       "    </tr>\n",
       "    <tr>\n",
       "      <th>4</th>\n",
       "      <td>corned beef</td>\n",
       "      <td>7.5</td>\n",
       "      <td>cow</td>\n",
       "    </tr>\n",
       "    <tr>\n",
       "      <th>5</th>\n",
       "      <td>bacon</td>\n",
       "      <td>8.0</td>\n",
       "      <td>pig</td>\n",
       "    </tr>\n",
       "    <tr>\n",
       "      <th>6</th>\n",
       "      <td>pastrami</td>\n",
       "      <td>3.0</td>\n",
       "      <td>cow</td>\n",
       "    </tr>\n",
       "    <tr>\n",
       "      <th>7</th>\n",
       "      <td>honey ham</td>\n",
       "      <td>5.0</td>\n",
       "      <td>pig</td>\n",
       "    </tr>\n",
       "    <tr>\n",
       "      <th>8</th>\n",
       "      <td>nova lox</td>\n",
       "      <td>6.0</td>\n",
       "      <td>salmon</td>\n",
       "    </tr>\n",
       "  </tbody>\n",
       "</table>\n",
       "</div>"
      ],
      "text/plain": [
       "          food  ounces  animal\n",
       "0        bacon     4.0     pig\n",
       "1  pulled pork     3.0     pig\n",
       "2        bacon    12.0     pig\n",
       "3     pastrami     6.0     cow\n",
       "4  corned beef     7.5     cow\n",
       "5        bacon     8.0     pig\n",
       "6     pastrami     3.0     cow\n",
       "7    honey ham     5.0     pig\n",
       "8     nova lox     6.0  salmon"
      ]
     },
     "execution_count": 83,
     "metadata": {},
     "output_type": "execute_result"
    }
   ],
   "source": [
    "data[\"animal\"] = data[\"food\"].map(meat_to_animal)\n",
    "data"
   ]
  },
  {
   "cell_type": "code",
   "execution_count": 84,
   "id": "4c8870dd",
   "metadata": {},
   "outputs": [
    {
     "data": {
      "text/html": [
       "<div>\n",
       "<style scoped>\n",
       "    .dataframe tbody tr th:only-of-type {\n",
       "        vertical-align: middle;\n",
       "    }\n",
       "\n",
       "    .dataframe tbody tr th {\n",
       "        vertical-align: top;\n",
       "    }\n",
       "\n",
       "    .dataframe thead th {\n",
       "        text-align: right;\n",
       "    }\n",
       "</style>\n",
       "<table border=\"1\" class=\"dataframe\">\n",
       "  <thead>\n",
       "    <tr style=\"text-align: right;\">\n",
       "      <th></th>\n",
       "      <th>fruta</th>\n",
       "      <th>gramos</th>\n",
       "      <th>categoria</th>\n",
       "    </tr>\n",
       "  </thead>\n",
       "  <tbody>\n",
       "    <tr>\n",
       "      <th>0</th>\n",
       "      <td>fresa</td>\n",
       "      <td>20</td>\n",
       "      <td>carnosa</td>\n",
       "    </tr>\n",
       "    <tr>\n",
       "      <th>1</th>\n",
       "      <td>manzana</td>\n",
       "      <td>200</td>\n",
       "      <td>clima_templado</td>\n",
       "    </tr>\n",
       "    <tr>\n",
       "      <th>2</th>\n",
       "      <td>albaricoque</td>\n",
       "      <td>100</td>\n",
       "      <td>carnosa</td>\n",
       "    </tr>\n",
       "    <tr>\n",
       "      <th>3</th>\n",
       "      <td>mandarina</td>\n",
       "      <td>80</td>\n",
       "      <td>carnosa</td>\n",
       "    </tr>\n",
       "    <tr>\n",
       "      <th>4</th>\n",
       "      <td>cacahuete</td>\n",
       "      <td>3</td>\n",
       "      <td>seca</td>\n",
       "    </tr>\n",
       "    <tr>\n",
       "      <th>5</th>\n",
       "      <td>pera</td>\n",
       "      <td>120</td>\n",
       "      <td>clima_templado</td>\n",
       "    </tr>\n",
       "    <tr>\n",
       "      <th>6</th>\n",
       "      <td>fresa</td>\n",
       "      <td>20</td>\n",
       "      <td>carnosa</td>\n",
       "    </tr>\n",
       "    <tr>\n",
       "      <th>7</th>\n",
       "      <td>nuez</td>\n",
       "      <td>10</td>\n",
       "      <td>seca</td>\n",
       "    </tr>\n",
       "    <tr>\n",
       "      <th>8</th>\n",
       "      <td>piña</td>\n",
       "      <td>1000</td>\n",
       "      <td>tropical</td>\n",
       "    </tr>\n",
       "    <tr>\n",
       "      <th>9</th>\n",
       "      <td>nuez</td>\n",
       "      <td>10</td>\n",
       "      <td>seca</td>\n",
       "    </tr>\n",
       "  </tbody>\n",
       "</table>\n",
       "</div>"
      ],
      "text/plain": [
       "         fruta  gramos        categoria\n",
       "0        fresa      20          carnosa\n",
       "1      manzana     200   clima_templado\n",
       "2  albaricoque     100          carnosa\n",
       "3    mandarina      80          carnosa\n",
       "4    cacahuete       3             seca\n",
       "5         pera     120   clima_templado\n",
       "6        fresa      20          carnosa\n",
       "7         nuez      10             seca\n",
       "8         piña    1000         tropical\n",
       "9         nuez      10             seca"
      ]
     },
     "execution_count": 84,
     "metadata": {},
     "output_type": "execute_result"
    }
   ],
   "source": [
    "my_data[\"categoria\"] = my_data[\"fruta\"].map(categoria_fruta)\n",
    "my_data"
   ]
  },
  {
   "cell_type": "markdown",
   "id": "62fdc91c",
   "metadata": {
    "slideshow": {
     "slide_type": "slide"
    }
   },
   "source": [
    "También podríamos haber pasado una función que haga todo el trabajo:"
   ]
  },
  {
   "cell_type": "code",
   "execution_count": 85,
   "id": "4c20aa34",
   "metadata": {},
   "outputs": [
    {
     "data": {
      "text/html": [
       "<div>\n",
       "<style scoped>\n",
       "    .dataframe tbody tr th:only-of-type {\n",
       "        vertical-align: middle;\n",
       "    }\n",
       "\n",
       "    .dataframe tbody tr th {\n",
       "        vertical-align: top;\n",
       "    }\n",
       "\n",
       "    .dataframe thead th {\n",
       "        text-align: right;\n",
       "    }\n",
       "</style>\n",
       "<table border=\"1\" class=\"dataframe\">\n",
       "  <thead>\n",
       "    <tr style=\"text-align: right;\">\n",
       "      <th></th>\n",
       "      <th>food</th>\n",
       "      <th>ounces</th>\n",
       "      <th>animal</th>\n",
       "    </tr>\n",
       "  </thead>\n",
       "  <tbody>\n",
       "    <tr>\n",
       "      <th>0</th>\n",
       "      <td>bacon</td>\n",
       "      <td>4.0</td>\n",
       "      <td>pig</td>\n",
       "    </tr>\n",
       "    <tr>\n",
       "      <th>1</th>\n",
       "      <td>pulled pork</td>\n",
       "      <td>3.0</td>\n",
       "      <td>pig</td>\n",
       "    </tr>\n",
       "    <tr>\n",
       "      <th>2</th>\n",
       "      <td>bacon</td>\n",
       "      <td>12.0</td>\n",
       "      <td>pig</td>\n",
       "    </tr>\n",
       "    <tr>\n",
       "      <th>3</th>\n",
       "      <td>pastrami</td>\n",
       "      <td>6.0</td>\n",
       "      <td>cow</td>\n",
       "    </tr>\n",
       "    <tr>\n",
       "      <th>4</th>\n",
       "      <td>corned beef</td>\n",
       "      <td>7.5</td>\n",
       "      <td>cow</td>\n",
       "    </tr>\n",
       "    <tr>\n",
       "      <th>5</th>\n",
       "      <td>bacon</td>\n",
       "      <td>8.0</td>\n",
       "      <td>pig</td>\n",
       "    </tr>\n",
       "    <tr>\n",
       "      <th>6</th>\n",
       "      <td>pastrami</td>\n",
       "      <td>3.0</td>\n",
       "      <td>cow</td>\n",
       "    </tr>\n",
       "    <tr>\n",
       "      <th>7</th>\n",
       "      <td>honey ham</td>\n",
       "      <td>5.0</td>\n",
       "      <td>pig</td>\n",
       "    </tr>\n",
       "    <tr>\n",
       "      <th>8</th>\n",
       "      <td>nova lox</td>\n",
       "      <td>6.0</td>\n",
       "      <td>salmon</td>\n",
       "    </tr>\n",
       "  </tbody>\n",
       "</table>\n",
       "</div>"
      ],
      "text/plain": [
       "          food  ounces  animal\n",
       "0        bacon     4.0     pig\n",
       "1  pulled pork     3.0     pig\n",
       "2        bacon    12.0     pig\n",
       "3     pastrami     6.0     cow\n",
       "4  corned beef     7.5     cow\n",
       "5        bacon     8.0     pig\n",
       "6     pastrami     3.0     cow\n",
       "7    honey ham     5.0     pig\n",
       "8     nova lox     6.0  salmon"
      ]
     },
     "execution_count": 85,
     "metadata": {},
     "output_type": "execute_result"
    }
   ],
   "source": [
    "def get_animal(x):\n",
    "    return meat_to_animal[x]\n",
    "\n",
    "data[\"animal\"] = data[\"food\"].map(get_animal)\n",
    "data"
   ]
  },
  {
   "cell_type": "code",
   "execution_count": 86,
   "id": "e16fdae5",
   "metadata": {},
   "outputs": [
    {
     "data": {
      "text/html": [
       "<div>\n",
       "<style scoped>\n",
       "    .dataframe tbody tr th:only-of-type {\n",
       "        vertical-align: middle;\n",
       "    }\n",
       "\n",
       "    .dataframe tbody tr th {\n",
       "        vertical-align: top;\n",
       "    }\n",
       "\n",
       "    .dataframe thead th {\n",
       "        text-align: right;\n",
       "    }\n",
       "</style>\n",
       "<table border=\"1\" class=\"dataframe\">\n",
       "  <thead>\n",
       "    <tr style=\"text-align: right;\">\n",
       "      <th></th>\n",
       "      <th>fruta</th>\n",
       "      <th>gramos</th>\n",
       "      <th>categoria</th>\n",
       "    </tr>\n",
       "  </thead>\n",
       "  <tbody>\n",
       "    <tr>\n",
       "      <th>0</th>\n",
       "      <td>fresa</td>\n",
       "      <td>20</td>\n",
       "      <td>carnosa</td>\n",
       "    </tr>\n",
       "    <tr>\n",
       "      <th>1</th>\n",
       "      <td>manzana</td>\n",
       "      <td>200</td>\n",
       "      <td>clima_templado</td>\n",
       "    </tr>\n",
       "    <tr>\n",
       "      <th>2</th>\n",
       "      <td>albaricoque</td>\n",
       "      <td>100</td>\n",
       "      <td>carnosa</td>\n",
       "    </tr>\n",
       "    <tr>\n",
       "      <th>3</th>\n",
       "      <td>mandarina</td>\n",
       "      <td>80</td>\n",
       "      <td>carnosa</td>\n",
       "    </tr>\n",
       "    <tr>\n",
       "      <th>4</th>\n",
       "      <td>cacahuete</td>\n",
       "      <td>3</td>\n",
       "      <td>seca</td>\n",
       "    </tr>\n",
       "    <tr>\n",
       "      <th>5</th>\n",
       "      <td>pera</td>\n",
       "      <td>120</td>\n",
       "      <td>clima_templado</td>\n",
       "    </tr>\n",
       "    <tr>\n",
       "      <th>6</th>\n",
       "      <td>fresa</td>\n",
       "      <td>20</td>\n",
       "      <td>carnosa</td>\n",
       "    </tr>\n",
       "    <tr>\n",
       "      <th>7</th>\n",
       "      <td>nuez</td>\n",
       "      <td>10</td>\n",
       "      <td>seca</td>\n",
       "    </tr>\n",
       "    <tr>\n",
       "      <th>8</th>\n",
       "      <td>piña</td>\n",
       "      <td>1000</td>\n",
       "      <td>tropical</td>\n",
       "    </tr>\n",
       "    <tr>\n",
       "      <th>9</th>\n",
       "      <td>nuez</td>\n",
       "      <td>10</td>\n",
       "      <td>seca</td>\n",
       "    </tr>\n",
       "  </tbody>\n",
       "</table>\n",
       "</div>"
      ],
      "text/plain": [
       "         fruta  gramos        categoria\n",
       "0        fresa      20          carnosa\n",
       "1      manzana     200   clima_templado\n",
       "2  albaricoque     100          carnosa\n",
       "3    mandarina      80          carnosa\n",
       "4    cacahuete       3             seca\n",
       "5         pera     120   clima_templado\n",
       "6        fresa      20          carnosa\n",
       "7         nuez      10             seca\n",
       "8         piña    1000         tropical\n",
       "9         nuez      10             seca"
      ]
     },
     "execution_count": 86,
     "metadata": {},
     "output_type": "execute_result"
    }
   ],
   "source": [
    "def get_fruta(x):\n",
    "    return categoria_fruta[x]\n",
    "\n",
    "my_data[\"categoria\"] = my_data[\"fruta\"].map(get_fruta)\n",
    "my_data"
   ]
  },
  {
   "cell_type": "markdown",
   "id": "22882206",
   "metadata": {
    "slideshow": {
     "slide_type": "slide"
    }
   },
   "source": [
    "### Sustitución de valores"
   ]
  },
  {
   "cell_type": "markdown",
   "id": "6f501af1",
   "metadata": {},
   "source": [
    "Rellenar los datos que faltan con el método `fillna` es un caso especial de sustitución de valores más general. Como ya se ha visto, `map` puede utilizarse para modificar un subconjunto de valores de un objeto, tambien `replace` proporciona una forma más sencilla y flexible de hacerlo. Consideremos esta serie:"
   ]
  },
  {
   "cell_type": "code",
   "execution_count": 87,
   "id": "1c0038e4",
   "metadata": {
    "slideshow": {
     "slide_type": "slide"
    }
   },
   "outputs": [
    {
     "data": {
      "text/plain": [
       "0       1.0\n",
       "1    -999.0\n",
       "2       2.0\n",
       "3    -999.0\n",
       "4   -1000.0\n",
       "5       3.0\n",
       "dtype: float64"
      ]
     },
     "execution_count": 87,
     "metadata": {},
     "output_type": "execute_result"
    }
   ],
   "source": [
    "data = pd.Series([1., -999., 2., -999., -1000., 3.])\n",
    "data"
   ]
  },
  {
   "cell_type": "code",
   "execution_count": 88,
   "id": "fff58145",
   "metadata": {},
   "outputs": [
    {
     "data": {
      "text/plain": [
       "0      -0.9\n",
       "1      27.0\n",
       "2      -0.0\n",
       "3    1000.0\n",
       "4    -333.0\n",
       "5      -6.0\n",
       "6      10.0\n",
       "7    1000.0\n",
       "dtype: float64"
      ]
     },
     "execution_count": 88,
     "metadata": {},
     "output_type": "execute_result"
    }
   ],
   "source": [
    "my_data = pd.Series([-0.9, 27., -0., 1000., -333., -6, 10., 1000.])\n",
    "my_data"
   ]
  },
  {
   "cell_type": "markdown",
   "id": "b5ea227b",
   "metadata": {
    "slideshow": {
     "slide_type": "slide"
    }
   },
   "source": [
    "Los valores `-999` podrían ser valores centinela de datos perdidos. Para reemplazarlos por valores `NA` que pandas entienda, podemos usar `replace`, produciendo una nueva Serie:"
   ]
  },
  {
   "cell_type": "code",
   "execution_count": 89,
   "id": "b3bc7f20",
   "metadata": {},
   "outputs": [
    {
     "data": {
      "text/plain": [
       "0       1.0\n",
       "1       NaN\n",
       "2       2.0\n",
       "3       NaN\n",
       "4   -1000.0\n",
       "5       3.0\n",
       "dtype: float64"
      ]
     },
     "execution_count": 89,
     "metadata": {},
     "output_type": "execute_result"
    }
   ],
   "source": [
    "data.replace(-999, np.nan)"
   ]
  },
  {
   "cell_type": "code",
   "execution_count": 90,
   "id": "568c0848",
   "metadata": {},
   "outputs": [
    {
     "data": {
      "text/plain": [
       "0     -0.9\n",
       "1     27.0\n",
       "2     -0.0\n",
       "3      NaN\n",
       "4   -333.0\n",
       "5     -6.0\n",
       "6     10.0\n",
       "7      NaN\n",
       "dtype: float64"
      ]
     },
     "execution_count": 90,
     "metadata": {},
     "output_type": "execute_result"
    }
   ],
   "source": [
    "my_data.replace(1000, np.nan)"
   ]
  },
  {
   "cell_type": "markdown",
   "id": "c8443f96",
   "metadata": {
    "slideshow": {
     "slide_type": "slide"
    }
   },
   "source": [
    "Si desea sustituir varios valores a la vez, debe pasar una lista y, a continuación, el valor sustituido:"
   ]
  },
  {
   "cell_type": "code",
   "execution_count": 91,
   "id": "4020a035",
   "metadata": {},
   "outputs": [
    {
     "data": {
      "text/plain": [
       "0    1.0\n",
       "1    NaN\n",
       "2    2.0\n",
       "3    NaN\n",
       "4    NaN\n",
       "5    3.0\n",
       "dtype: float64"
      ]
     },
     "execution_count": 91,
     "metadata": {},
     "output_type": "execute_result"
    }
   ],
   "source": [
    "data.replace([-999, -1000], np.nan)"
   ]
  },
  {
   "cell_type": "code",
   "execution_count": 92,
   "id": "6f1cc9db",
   "metadata": {},
   "outputs": [
    {
     "data": {
      "text/plain": [
       "0     -0.9\n",
       "1     27.0\n",
       "2     -0.0\n",
       "3      NaN\n",
       "4   -333.0\n",
       "5     -6.0\n",
       "6      NaN\n",
       "7      NaN\n",
       "dtype: float64"
      ]
     },
     "execution_count": 92,
     "metadata": {},
     "output_type": "execute_result"
    }
   ],
   "source": [
    "my_data.replace([1000, 10], np.nan)"
   ]
  },
  {
   "cell_type": "markdown",
   "id": "cb8e3568",
   "metadata": {
    "slideshow": {
     "slide_type": "slide"
    }
   },
   "source": [
    "Para utilizar un sustituto diferente para cada valor, pase una lista de sustitutos:"
   ]
  },
  {
   "cell_type": "code",
   "execution_count": 93,
   "id": "b7c5cfd1",
   "metadata": {},
   "outputs": [
    {
     "data": {
      "text/plain": [
       "0    1.0\n",
       "1    NaN\n",
       "2    2.0\n",
       "3    NaN\n",
       "4    0.0\n",
       "5    3.0\n",
       "dtype: float64"
      ]
     },
     "execution_count": 93,
     "metadata": {},
     "output_type": "execute_result"
    }
   ],
   "source": [
    "data.replace([-999, -1000], [np.nan, 0])"
   ]
  },
  {
   "cell_type": "code",
   "execution_count": 94,
   "id": "7a5cd2de",
   "metadata": {},
   "outputs": [
    {
     "data": {
      "text/plain": [
       "0     -0.9\n",
       "1     27.0\n",
       "2     -0.0\n",
       "3      NaN\n",
       "4   -333.0\n",
       "5     -6.0\n",
       "6     99.0\n",
       "7      NaN\n",
       "dtype: float64"
      ]
     },
     "execution_count": 94,
     "metadata": {},
     "output_type": "execute_result"
    }
   ],
   "source": [
    "my_data.replace([1000, 10], [np.nan, 99])"
   ]
  },
  {
   "cell_type": "markdown",
   "id": "6efc9455",
   "metadata": {
    "slideshow": {
     "slide_type": "slide"
    }
   },
   "source": [
    "El argumento pasado también puede ser un diccionario:"
   ]
  },
  {
   "cell_type": "code",
   "execution_count": 95,
   "id": "fac8ce64",
   "metadata": {},
   "outputs": [
    {
     "data": {
      "text/plain": [
       "0    1.0\n",
       "1    NaN\n",
       "2    2.0\n",
       "3    NaN\n",
       "4    0.0\n",
       "5    3.0\n",
       "dtype: float64"
      ]
     },
     "execution_count": 95,
     "metadata": {},
     "output_type": "execute_result"
    }
   ],
   "source": [
    "data.replace({-999: np.nan, -1000: 0})"
   ]
  },
  {
   "cell_type": "code",
   "execution_count": 96,
   "id": "b667cc12",
   "metadata": {},
   "outputs": [
    {
     "data": {
      "text/plain": [
       "0     -0.9\n",
       "1     27.0\n",
       "2     -0.0\n",
       "3      NaN\n",
       "4   -333.0\n",
       "5     -6.0\n",
       "6      0.0\n",
       "7      NaN\n",
       "dtype: float64"
      ]
     },
     "execution_count": 96,
     "metadata": {},
     "output_type": "execute_result"
    }
   ],
   "source": [
    "my_data.replace({1000: np.nan, 10: 0})"
   ]
  },
  {
   "cell_type": "markdown",
   "id": "2ae92fc7",
   "metadata": {
    "slideshow": {
     "slide_type": "slide"
    }
   },
   "source": [
    "El método `data.replace()` es distinto de `data.str.replace`, que realiza la sustitución de cadenas por elementos. Veremos estos métodos de cadena en Series más adelante."
   ]
  },
  {
   "cell_type": "markdown",
   "id": "c85a5f58",
   "metadata": {
    "slideshow": {
     "slide_type": "slide"
    }
   },
   "source": [
    "### Renombrar índices de ejes"
   ]
  },
  {
   "cell_type": "markdown",
   "id": "9b569f7c",
   "metadata": {},
   "source": [
    "Al igual que los valores de una Serie, las etiquetas de los ejes pueden transformarse de forma similar mediante una función o un mapeo (`mapping`) de algún tipo para producir nuevos objetos etiquetados de forma diferente. También puede modificar los ejes in situ sin crear una nueva estructura de datos. He aquí un ejemplo sencillo:"
   ]
  },
  {
   "cell_type": "code",
   "execution_count": 97,
   "id": "7a793a5f",
   "metadata": {
    "slideshow": {
     "slide_type": "slide"
    }
   },
   "outputs": [
    {
     "data": {
      "text/html": [
       "<div>\n",
       "<style scoped>\n",
       "    .dataframe tbody tr th:only-of-type {\n",
       "        vertical-align: middle;\n",
       "    }\n",
       "\n",
       "    .dataframe tbody tr th {\n",
       "        vertical-align: top;\n",
       "    }\n",
       "\n",
       "    .dataframe thead th {\n",
       "        text-align: right;\n",
       "    }\n",
       "</style>\n",
       "<table border=\"1\" class=\"dataframe\">\n",
       "  <thead>\n",
       "    <tr style=\"text-align: right;\">\n",
       "      <th></th>\n",
       "      <th>one</th>\n",
       "      <th>two</th>\n",
       "      <th>three</th>\n",
       "      <th>four</th>\n",
       "    </tr>\n",
       "  </thead>\n",
       "  <tbody>\n",
       "    <tr>\n",
       "      <th>Ohio</th>\n",
       "      <td>0</td>\n",
       "      <td>1</td>\n",
       "      <td>2</td>\n",
       "      <td>3</td>\n",
       "    </tr>\n",
       "    <tr>\n",
       "      <th>Colorado</th>\n",
       "      <td>4</td>\n",
       "      <td>5</td>\n",
       "      <td>6</td>\n",
       "      <td>7</td>\n",
       "    </tr>\n",
       "    <tr>\n",
       "      <th>New York</th>\n",
       "      <td>8</td>\n",
       "      <td>9</td>\n",
       "      <td>10</td>\n",
       "      <td>11</td>\n",
       "    </tr>\n",
       "  </tbody>\n",
       "</table>\n",
       "</div>"
      ],
      "text/plain": [
       "          one  two  three  four\n",
       "Ohio        0    1      2     3\n",
       "Colorado    4    5      6     7\n",
       "New York    8    9     10    11"
      ]
     },
     "execution_count": 97,
     "metadata": {},
     "output_type": "execute_result"
    }
   ],
   "source": [
    "data = pd.DataFrame(np.arange(12).reshape((3, 4)),\n",
    "                    index=[\"Ohio\", \"Colorado\", \"New York\"],\n",
    "                    columns=[\"one\", \"two\", \"three\", \"four\"])\n",
    "                    \n",
    "data"
   ]
  },
  {
   "cell_type": "code",
   "execution_count": 98,
   "id": "2fb226ad",
   "metadata": {},
   "outputs": [
    {
     "data": {
      "text/html": [
       "<div>\n",
       "<style scoped>\n",
       "    .dataframe tbody tr th:only-of-type {\n",
       "        vertical-align: middle;\n",
       "    }\n",
       "\n",
       "    .dataframe tbody tr th {\n",
       "        vertical-align: top;\n",
       "    }\n",
       "\n",
       "    .dataframe thead th {\n",
       "        text-align: right;\n",
       "    }\n",
       "</style>\n",
       "<table border=\"1\" class=\"dataframe\">\n",
       "  <thead>\n",
       "    <tr style=\"text-align: right;\">\n",
       "      <th></th>\n",
       "      <th>alfa</th>\n",
       "      <th>beta</th>\n",
       "      <th>gamma</th>\n",
       "      <th>epsilon</th>\n",
       "    </tr>\n",
       "  </thead>\n",
       "  <tbody>\n",
       "    <tr>\n",
       "      <th>Madrid</th>\n",
       "      <td>0</td>\n",
       "      <td>1</td>\n",
       "      <td>2</td>\n",
       "      <td>3</td>\n",
       "    </tr>\n",
       "    <tr>\n",
       "      <th>Extremadura</th>\n",
       "      <td>4</td>\n",
       "      <td>5</td>\n",
       "      <td>6</td>\n",
       "      <td>7</td>\n",
       "    </tr>\n",
       "    <tr>\n",
       "      <th>Cantabria</th>\n",
       "      <td>8</td>\n",
       "      <td>9</td>\n",
       "      <td>10</td>\n",
       "      <td>11</td>\n",
       "    </tr>\n",
       "    <tr>\n",
       "      <th>Castilla_Leon</th>\n",
       "      <td>12</td>\n",
       "      <td>13</td>\n",
       "      <td>14</td>\n",
       "      <td>15</td>\n",
       "    </tr>\n",
       "  </tbody>\n",
       "</table>\n",
       "</div>"
      ],
      "text/plain": [
       "               alfa  beta  gamma  epsilon\n",
       "Madrid            0     1      2        3\n",
       "Extremadura       4     5      6        7\n",
       "Cantabria         8     9     10       11\n",
       "Castilla_Leon    12    13     14       15"
      ]
     },
     "execution_count": 98,
     "metadata": {},
     "output_type": "execute_result"
    }
   ],
   "source": [
    "my_data = pd.DataFrame(np.arange(16).reshape((4, 4)),\n",
    "                    index=[\"Madrid\", \"Extremadura\", \"Cantabria\", \"Castilla_Leon\"],\n",
    "                    columns=[\"alfa\", \"beta\", \"gamma\", \"epsilon\"])\n",
    "                    \n",
    "my_data"
   ]
  },
  {
   "cell_type": "markdown",
   "id": "72e3b4e2",
   "metadata": {
    "slideshow": {
     "slide_type": "slide"
    }
   },
   "source": [
    "Al igual que una Serie, los índices de eje tienen un método `map`:"
   ]
  },
  {
   "cell_type": "code",
   "execution_count": 99,
   "id": "5c06f4ee",
   "metadata": {},
   "outputs": [
    {
     "data": {
      "text/plain": [
       "Index(['OHIO', 'COLO', 'NEW '], dtype='object')"
      ]
     },
     "execution_count": 99,
     "metadata": {},
     "output_type": "execute_result"
    }
   ],
   "source": [
    "def transform(x):\n",
    "    return x[:4].upper()\n",
    "\n",
    "data.index.map(transform)\n",
    "#Index(['OHIO', 'COLO', 'NEW '], dtype='object')"
   ]
  },
  {
   "cell_type": "code",
   "execution_count": 100,
   "id": "fbbcd845-e27c-49f9-994f-11886013a701",
   "metadata": {},
   "outputs": [
    {
     "data": {
      "text/html": [
       "<div>\n",
       "<style scoped>\n",
       "    .dataframe tbody tr th:only-of-type {\n",
       "        vertical-align: middle;\n",
       "    }\n",
       "\n",
       "    .dataframe tbody tr th {\n",
       "        vertical-align: top;\n",
       "    }\n",
       "\n",
       "    .dataframe thead th {\n",
       "        text-align: right;\n",
       "    }\n",
       "</style>\n",
       "<table border=\"1\" class=\"dataframe\">\n",
       "  <thead>\n",
       "    <tr style=\"text-align: right;\">\n",
       "      <th></th>\n",
       "      <th>one</th>\n",
       "      <th>two</th>\n",
       "      <th>three</th>\n",
       "      <th>four</th>\n",
       "    </tr>\n",
       "  </thead>\n",
       "  <tbody>\n",
       "    <tr>\n",
       "      <th>Ohio</th>\n",
       "      <td>0</td>\n",
       "      <td>1</td>\n",
       "      <td>2</td>\n",
       "      <td>3</td>\n",
       "    </tr>\n",
       "    <tr>\n",
       "      <th>Colorado</th>\n",
       "      <td>4</td>\n",
       "      <td>5</td>\n",
       "      <td>6</td>\n",
       "      <td>7</td>\n",
       "    </tr>\n",
       "    <tr>\n",
       "      <th>New York</th>\n",
       "      <td>8</td>\n",
       "      <td>9</td>\n",
       "      <td>10</td>\n",
       "      <td>11</td>\n",
       "    </tr>\n",
       "  </tbody>\n",
       "</table>\n",
       "</div>"
      ],
      "text/plain": [
       "          one  two  three  four\n",
       "Ohio        0    1      2     3\n",
       "Colorado    4    5      6     7\n",
       "New York    8    9     10    11"
      ]
     },
     "execution_count": 100,
     "metadata": {},
     "output_type": "execute_result"
    }
   ],
   "source": [
    "data"
   ]
  },
  {
   "cell_type": "code",
   "execution_count": 145,
   "id": "12a5616f",
   "metadata": {},
   "outputs": [
    {
     "data": {
      "text/plain": [
       "Index(['MADR', 'EXTR', 'CANT', 'CAST'], dtype='object')"
      ]
     },
     "execution_count": 145,
     "metadata": {},
     "output_type": "execute_result"
    }
   ],
   "source": [
    "def transform(x):\n",
    "    return x[:4].upper()\n",
    "\n",
    "my_data.index.map(transform)"
   ]
  },
  {
   "cell_type": "code",
   "execution_count": 146,
   "id": "733fc35a",
   "metadata": {},
   "outputs": [
    {
     "data": {
      "text/html": [
       "<div>\n",
       "<style scoped>\n",
       "    .dataframe tbody tr th:only-of-type {\n",
       "        vertical-align: middle;\n",
       "    }\n",
       "\n",
       "    .dataframe tbody tr th {\n",
       "        vertical-align: top;\n",
       "    }\n",
       "\n",
       "    .dataframe thead th {\n",
       "        text-align: right;\n",
       "    }\n",
       "</style>\n",
       "<table border=\"1\" class=\"dataframe\">\n",
       "  <thead>\n",
       "    <tr style=\"text-align: right;\">\n",
       "      <th></th>\n",
       "      <th>alfa</th>\n",
       "      <th>beta</th>\n",
       "      <th>gamma</th>\n",
       "      <th>epsilon</th>\n",
       "    </tr>\n",
       "  </thead>\n",
       "  <tbody>\n",
       "    <tr>\n",
       "      <th>Madrid</th>\n",
       "      <td>0</td>\n",
       "      <td>1</td>\n",
       "      <td>2</td>\n",
       "      <td>3</td>\n",
       "    </tr>\n",
       "    <tr>\n",
       "      <th>Extremadura</th>\n",
       "      <td>4</td>\n",
       "      <td>5</td>\n",
       "      <td>6</td>\n",
       "      <td>7</td>\n",
       "    </tr>\n",
       "    <tr>\n",
       "      <th>Cantabria</th>\n",
       "      <td>8</td>\n",
       "      <td>9</td>\n",
       "      <td>10</td>\n",
       "      <td>11</td>\n",
       "    </tr>\n",
       "    <tr>\n",
       "      <th>Castilla_Leon</th>\n",
       "      <td>12</td>\n",
       "      <td>13</td>\n",
       "      <td>14</td>\n",
       "      <td>15</td>\n",
       "    </tr>\n",
       "  </tbody>\n",
       "</table>\n",
       "</div>"
      ],
      "text/plain": [
       "               alfa  beta  gamma  epsilon\n",
       "Madrid            0     1      2        3\n",
       "Extremadura       4     5      6        7\n",
       "Cantabria         8     9     10       11\n",
       "Castilla_Leon    12    13     14       15"
      ]
     },
     "execution_count": 146,
     "metadata": {},
     "output_type": "execute_result"
    }
   ],
   "source": [
    "my_data"
   ]
  },
  {
   "cell_type": "markdown",
   "id": "bee8d15e",
   "metadata": {
    "slideshow": {
     "slide_type": "slide"
    }
   },
   "source": [
    "You can assign to the `index` attribute, modifying the DataFrame in place:"
   ]
  },
  {
   "cell_type": "code",
   "execution_count": 101,
   "id": "6bc3cb76",
   "metadata": {},
   "outputs": [
    {
     "data": {
      "text/html": [
       "<div>\n",
       "<style scoped>\n",
       "    .dataframe tbody tr th:only-of-type {\n",
       "        vertical-align: middle;\n",
       "    }\n",
       "\n",
       "    .dataframe tbody tr th {\n",
       "        vertical-align: top;\n",
       "    }\n",
       "\n",
       "    .dataframe thead th {\n",
       "        text-align: right;\n",
       "    }\n",
       "</style>\n",
       "<table border=\"1\" class=\"dataframe\">\n",
       "  <thead>\n",
       "    <tr style=\"text-align: right;\">\n",
       "      <th></th>\n",
       "      <th>one</th>\n",
       "      <th>two</th>\n",
       "      <th>three</th>\n",
       "      <th>four</th>\n",
       "    </tr>\n",
       "  </thead>\n",
       "  <tbody>\n",
       "    <tr>\n",
       "      <th>OHIO</th>\n",
       "      <td>0</td>\n",
       "      <td>1</td>\n",
       "      <td>2</td>\n",
       "      <td>3</td>\n",
       "    </tr>\n",
       "    <tr>\n",
       "      <th>COLO</th>\n",
       "      <td>4</td>\n",
       "      <td>5</td>\n",
       "      <td>6</td>\n",
       "      <td>7</td>\n",
       "    </tr>\n",
       "    <tr>\n",
       "      <th>NEW</th>\n",
       "      <td>8</td>\n",
       "      <td>9</td>\n",
       "      <td>10</td>\n",
       "      <td>11</td>\n",
       "    </tr>\n",
       "  </tbody>\n",
       "</table>\n",
       "</div>"
      ],
      "text/plain": [
       "      one  two  three  four\n",
       "OHIO    0    1      2     3\n",
       "COLO    4    5      6     7\n",
       "NEW     8    9     10    11"
      ]
     },
     "execution_count": 101,
     "metadata": {},
     "output_type": "execute_result"
    }
   ],
   "source": [
    "data.index = data.index.map(transform)\n",
    "data"
   ]
  },
  {
   "cell_type": "code",
   "execution_count": 147,
   "id": "972514ee",
   "metadata": {},
   "outputs": [
    {
     "data": {
      "text/html": [
       "<div>\n",
       "<style scoped>\n",
       "    .dataframe tbody tr th:only-of-type {\n",
       "        vertical-align: middle;\n",
       "    }\n",
       "\n",
       "    .dataframe tbody tr th {\n",
       "        vertical-align: top;\n",
       "    }\n",
       "\n",
       "    .dataframe thead th {\n",
       "        text-align: right;\n",
       "    }\n",
       "</style>\n",
       "<table border=\"1\" class=\"dataframe\">\n",
       "  <thead>\n",
       "    <tr style=\"text-align: right;\">\n",
       "      <th></th>\n",
       "      <th>alfa</th>\n",
       "      <th>beta</th>\n",
       "      <th>gamma</th>\n",
       "      <th>epsilon</th>\n",
       "    </tr>\n",
       "  </thead>\n",
       "  <tbody>\n",
       "    <tr>\n",
       "      <th>MADR</th>\n",
       "      <td>0</td>\n",
       "      <td>1</td>\n",
       "      <td>2</td>\n",
       "      <td>3</td>\n",
       "    </tr>\n",
       "    <tr>\n",
       "      <th>EXTR</th>\n",
       "      <td>4</td>\n",
       "      <td>5</td>\n",
       "      <td>6</td>\n",
       "      <td>7</td>\n",
       "    </tr>\n",
       "    <tr>\n",
       "      <th>CANT</th>\n",
       "      <td>8</td>\n",
       "      <td>9</td>\n",
       "      <td>10</td>\n",
       "      <td>11</td>\n",
       "    </tr>\n",
       "    <tr>\n",
       "      <th>CAST</th>\n",
       "      <td>12</td>\n",
       "      <td>13</td>\n",
       "      <td>14</td>\n",
       "      <td>15</td>\n",
       "    </tr>\n",
       "  </tbody>\n",
       "</table>\n",
       "</div>"
      ],
      "text/plain": [
       "      alfa  beta  gamma  epsilon\n",
       "MADR     0     1      2        3\n",
       "EXTR     4     5      6        7\n",
       "CANT     8     9     10       11\n",
       "CAST    12    13     14       15"
      ]
     },
     "execution_count": 147,
     "metadata": {},
     "output_type": "execute_result"
    }
   ],
   "source": [
    "my_data.index = my_data.index.map(transform)\n",
    "my_data"
   ]
  },
  {
   "cell_type": "markdown",
   "id": "d42a10de",
   "metadata": {
    "slideshow": {
     "slide_type": "slide"
    }
   },
   "source": [
    "Si desea crear una versión transformada de un conjunto de datos sin modificar el original, un método útil es `rename`:\n"
   ]
  },
  {
   "cell_type": "code",
   "execution_count": 102,
   "id": "2cbfcb2d",
   "metadata": {},
   "outputs": [
    {
     "data": {
      "text/html": [
       "<div>\n",
       "<style scoped>\n",
       "    .dataframe tbody tr th:only-of-type {\n",
       "        vertical-align: middle;\n",
       "    }\n",
       "\n",
       "    .dataframe tbody tr th {\n",
       "        vertical-align: top;\n",
       "    }\n",
       "\n",
       "    .dataframe thead th {\n",
       "        text-align: right;\n",
       "    }\n",
       "</style>\n",
       "<table border=\"1\" class=\"dataframe\">\n",
       "  <thead>\n",
       "    <tr style=\"text-align: right;\">\n",
       "      <th></th>\n",
       "      <th>ONE</th>\n",
       "      <th>TWO</th>\n",
       "      <th>THREE</th>\n",
       "      <th>FOUR</th>\n",
       "    </tr>\n",
       "  </thead>\n",
       "  <tbody>\n",
       "    <tr>\n",
       "      <th>Ohio</th>\n",
       "      <td>0</td>\n",
       "      <td>1</td>\n",
       "      <td>2</td>\n",
       "      <td>3</td>\n",
       "    </tr>\n",
       "    <tr>\n",
       "      <th>Colo</th>\n",
       "      <td>4</td>\n",
       "      <td>5</td>\n",
       "      <td>6</td>\n",
       "      <td>7</td>\n",
       "    </tr>\n",
       "    <tr>\n",
       "      <th>New</th>\n",
       "      <td>8</td>\n",
       "      <td>9</td>\n",
       "      <td>10</td>\n",
       "      <td>11</td>\n",
       "    </tr>\n",
       "  </tbody>\n",
       "</table>\n",
       "</div>"
      ],
      "text/plain": [
       "      ONE  TWO  THREE  FOUR\n",
       "Ohio    0    1      2     3\n",
       "Colo    4    5      6     7\n",
       "New     8    9     10    11"
      ]
     },
     "execution_count": 102,
     "metadata": {},
     "output_type": "execute_result"
    }
   ],
   "source": [
    "data.rename(index=str.title, columns=str.upper)"
   ]
  },
  {
   "cell_type": "code",
   "execution_count": 148,
   "id": "1929b0a1",
   "metadata": {},
   "outputs": [
    {
     "data": {
      "text/html": [
       "<div>\n",
       "<style scoped>\n",
       "    .dataframe tbody tr th:only-of-type {\n",
       "        vertical-align: middle;\n",
       "    }\n",
       "\n",
       "    .dataframe tbody tr th {\n",
       "        vertical-align: top;\n",
       "    }\n",
       "\n",
       "    .dataframe thead th {\n",
       "        text-align: right;\n",
       "    }\n",
       "</style>\n",
       "<table border=\"1\" class=\"dataframe\">\n",
       "  <thead>\n",
       "    <tr style=\"text-align: right;\">\n",
       "      <th></th>\n",
       "      <th>ALFA</th>\n",
       "      <th>BETA</th>\n",
       "      <th>GAMMA</th>\n",
       "      <th>EPSILON</th>\n",
       "    </tr>\n",
       "  </thead>\n",
       "  <tbody>\n",
       "    <tr>\n",
       "      <th>Madr</th>\n",
       "      <td>0</td>\n",
       "      <td>1</td>\n",
       "      <td>2</td>\n",
       "      <td>3</td>\n",
       "    </tr>\n",
       "    <tr>\n",
       "      <th>Extr</th>\n",
       "      <td>4</td>\n",
       "      <td>5</td>\n",
       "      <td>6</td>\n",
       "      <td>7</td>\n",
       "    </tr>\n",
       "    <tr>\n",
       "      <th>Cant</th>\n",
       "      <td>8</td>\n",
       "      <td>9</td>\n",
       "      <td>10</td>\n",
       "      <td>11</td>\n",
       "    </tr>\n",
       "    <tr>\n",
       "      <th>Cast</th>\n",
       "      <td>12</td>\n",
       "      <td>13</td>\n",
       "      <td>14</td>\n",
       "      <td>15</td>\n",
       "    </tr>\n",
       "  </tbody>\n",
       "</table>\n",
       "</div>"
      ],
      "text/plain": [
       "      ALFA  BETA  GAMMA  EPSILON\n",
       "Madr     0     1      2        3\n",
       "Extr     4     5      6        7\n",
       "Cant     8     9     10       11\n",
       "Cast    12    13     14       15"
      ]
     },
     "execution_count": 148,
     "metadata": {},
     "output_type": "execute_result"
    }
   ],
   "source": [
    "my_data.rename(index=str.title, columns=str.upper)"
   ]
  },
  {
   "cell_type": "markdown",
   "id": "0343f119",
   "metadata": {
    "slideshow": {
     "slide_type": "slide"
    }
   },
   "source": [
    "En particular, renombrar puede utilizarse junto con un objeto tipo diccionario, proporcionando nuevos valores para un subconjunto de las etiquetas de los ejes:"
   ]
  },
  {
   "cell_type": "code",
   "execution_count": 103,
   "id": "4b4fe752",
   "metadata": {},
   "outputs": [
    {
     "data": {
      "text/html": [
       "<div>\n",
       "<style scoped>\n",
       "    .dataframe tbody tr th:only-of-type {\n",
       "        vertical-align: middle;\n",
       "    }\n",
       "\n",
       "    .dataframe tbody tr th {\n",
       "        vertical-align: top;\n",
       "    }\n",
       "\n",
       "    .dataframe thead th {\n",
       "        text-align: right;\n",
       "    }\n",
       "</style>\n",
       "<table border=\"1\" class=\"dataframe\">\n",
       "  <thead>\n",
       "    <tr style=\"text-align: right;\">\n",
       "      <th></th>\n",
       "      <th>one</th>\n",
       "      <th>two</th>\n",
       "      <th>tres</th>\n",
       "      <th>four</th>\n",
       "    </tr>\n",
       "  </thead>\n",
       "  <tbody>\n",
       "    <tr>\n",
       "      <th>Madrid</th>\n",
       "      <td>0</td>\n",
       "      <td>1</td>\n",
       "      <td>2</td>\n",
       "      <td>3</td>\n",
       "    </tr>\n",
       "    <tr>\n",
       "      <th>COLO</th>\n",
       "      <td>4</td>\n",
       "      <td>5</td>\n",
       "      <td>6</td>\n",
       "      <td>7</td>\n",
       "    </tr>\n",
       "    <tr>\n",
       "      <th>NEW</th>\n",
       "      <td>8</td>\n",
       "      <td>9</td>\n",
       "      <td>10</td>\n",
       "      <td>11</td>\n",
       "    </tr>\n",
       "  </tbody>\n",
       "</table>\n",
       "</div>"
      ],
      "text/plain": [
       "        one  two  tres  four\n",
       "Madrid    0    1     2     3\n",
       "COLO      4    5     6     7\n",
       "NEW       8    9    10    11"
      ]
     },
     "execution_count": 103,
     "metadata": {},
     "output_type": "execute_result"
    }
   ],
   "source": [
    "data.rename(index={\"OHIO\": \"Madrid\"},\n",
    "            columns={\"three\": \"tres\"})\n",
    "            "
   ]
  },
  {
   "cell_type": "code",
   "execution_count": 150,
   "id": "7c3e2656",
   "metadata": {},
   "outputs": [
    {
     "data": {
      "text/html": [
       "<div>\n",
       "<style scoped>\n",
       "    .dataframe tbody tr th:only-of-type {\n",
       "        vertical-align: middle;\n",
       "    }\n",
       "\n",
       "    .dataframe tbody tr th {\n",
       "        vertical-align: top;\n",
       "    }\n",
       "\n",
       "    .dataframe thead th {\n",
       "        text-align: right;\n",
       "    }\n",
       "</style>\n",
       "<table border=\"1\" class=\"dataframe\">\n",
       "  <thead>\n",
       "    <tr style=\"text-align: right;\">\n",
       "      <th></th>\n",
       "      <th>alfa</th>\n",
       "      <th>beta</th>\n",
       "      <th>c</th>\n",
       "      <th>epsilon</th>\n",
       "    </tr>\n",
       "  </thead>\n",
       "  <tbody>\n",
       "    <tr>\n",
       "      <th>Navarra</th>\n",
       "      <td>0</td>\n",
       "      <td>1</td>\n",
       "      <td>2</td>\n",
       "      <td>3</td>\n",
       "    </tr>\n",
       "    <tr>\n",
       "      <th>EXTR</th>\n",
       "      <td>4</td>\n",
       "      <td>5</td>\n",
       "      <td>6</td>\n",
       "      <td>7</td>\n",
       "    </tr>\n",
       "    <tr>\n",
       "      <th>CANT</th>\n",
       "      <td>8</td>\n",
       "      <td>9</td>\n",
       "      <td>10</td>\n",
       "      <td>11</td>\n",
       "    </tr>\n",
       "    <tr>\n",
       "      <th>CAST</th>\n",
       "      <td>12</td>\n",
       "      <td>13</td>\n",
       "      <td>14</td>\n",
       "      <td>15</td>\n",
       "    </tr>\n",
       "  </tbody>\n",
       "</table>\n",
       "</div>"
      ],
      "text/plain": [
       "         alfa  beta   c  epsilon\n",
       "Navarra     0     1   2        3\n",
       "EXTR        4     5   6        7\n",
       "CANT        8     9  10       11\n",
       "CAST       12    13  14       15"
      ]
     },
     "execution_count": 150,
     "metadata": {},
     "output_type": "execute_result"
    }
   ],
   "source": [
    "my_data.rename(index={\"MADR\": \"Navarra\"},\n",
    "                columns={\"gamma\": \"c\"})"
   ]
  },
  {
   "cell_type": "markdown",
   "id": "b84960f9",
   "metadata": {
    "slideshow": {
     "slide_type": "slide"
    }
   },
   "source": [
    "### Discretización y `binning`"
   ]
  },
  {
   "cell_type": "markdown",
   "id": "01e7beb4-43d7-4603-9ac6-e0ad85f3ace4",
   "metadata": {},
   "source": [
    "La discretización y el binning son técnicas utilizadas en la preprocesamiento de datos para convertir datos continuos en discretos. Estas técnicas son útiles para reducir la variabilidad, agrupar datos similares y mejorar el rendimiento de algunos algoritmos de aprendizaje automático"
   ]
  },
  {
   "cell_type": "markdown",
   "id": "fb55d593-05fd-4b6c-a39c-79893c2ff476",
   "metadata": {},
   "source": [
    "### Discretización.  \n",
    "\n",
    "Es el proceso de convertir datos continuos en datos categóricos dividiendo el rango de valores continuos en intervalos (bins)."
   ]
  },
  {
   "cell_type": "markdown",
   "id": "6ac77705-ab94-427a-96f0-a85629e895f8",
   "metadata": {},
   "source": [
    "### Binning (Agrupación por intervalos)\n",
    "El `binning` es una técnica de discretización que agrupa los datos en intervalos, o `\"bins\"`.  \n",
    "Hay varios métodos para hacer `binning` en pandas, como el binning por frecuencia, el binning por longitud de intervalo y el binning basado en la cuantilación (por ejemplo Cuartil)."
   ]
  },
  {
   "cell_type": "markdown",
   "id": "199ee9bf",
   "metadata": {},
   "source": [
    "Los datos continuos suelen discretizarse o separarse en \"intervalos\" (bins) para su análisis. Supongamos que se dispone de datos sobre un grupo de personas en un estudio y desea agruparlas en grupos de edad discretos:"
   ]
  },
  {
   "cell_type": "code",
   "execution_count": 104,
   "id": "a8a77593",
   "metadata": {
    "slideshow": {
     "slide_type": "slide"
    }
   },
   "outputs": [],
   "source": [
    "ages = [20, 22, 25, 27, 21, 23, 37, 31, 61, 45, 41, 32]"
   ]
  },
  {
   "cell_type": "code",
   "execution_count": 152,
   "id": "e1d6947b",
   "metadata": {},
   "outputs": [],
   "source": [
    "tiempos = [1.34, 1.02, 0.79, 0.88, 1.73, 1.10, 2.08, 0.90, 1.49, 1.32, 1.22, 1.00]"
   ]
  },
  {
   "cell_type": "markdown",
   "id": "0b89cfbf",
   "metadata": {},
   "source": [
    "Vamos a dividirlos en franjas (bins) de 18 a 25, de 26 a 35, de 36 a 60 y, por último, de 61 años en adelante. Para ello, hay que utilizar `pandas.cut`:"
   ]
  },
  {
   "cell_type": "code",
   "execution_count": 105,
   "id": "933a5fe8",
   "metadata": {
    "slideshow": {
     "slide_type": "slide"
    }
   },
   "outputs": [],
   "source": [
    "bins = [18, 25, 35, 60, 100]"
   ]
  },
  {
   "cell_type": "code",
   "execution_count": 106,
   "id": "77f76b44",
   "metadata": {},
   "outputs": [],
   "source": [
    "age_categories = pd.cut(ages, bins)"
   ]
  },
  {
   "cell_type": "code",
   "execution_count": 107,
   "id": "738fa65f",
   "metadata": {
    "slideshow": {
     "slide_type": "slide"
    }
   },
   "outputs": [
    {
     "data": {
      "text/plain": [
       "[(18, 25], (18, 25], (18, 25], (25, 35], (18, 25], ..., (25, 35], (60, 100], (35, 60], (35, 60], (25, 35]]\n",
       "Length: 12\n",
       "Categories (4, interval[int64, right]): [(18, 25] < (25, 35] < (35, 60] < (60, 100]]"
      ]
     },
     "execution_count": 107,
     "metadata": {},
     "output_type": "execute_result"
    }
   ],
   "source": [
    "age_categories"
   ]
  },
  {
   "cell_type": "code",
   "execution_count": 154,
   "id": "142de949",
   "metadata": {},
   "outputs": [],
   "source": [
    "my_bins = [0.70, 0.90, 1.10, 1.30, 1.50, 1.70, 1.90, 2.10]"
   ]
  },
  {
   "cell_type": "code",
   "execution_count": 156,
   "id": "64551946",
   "metadata": {},
   "outputs": [],
   "source": [
    "tiempos_categorias = pd.cut(tiempos, my_bins)"
   ]
  },
  {
   "cell_type": "code",
   "execution_count": 157,
   "id": "db74f9ab",
   "metadata": {},
   "outputs": [
    {
     "data": {
      "text/plain": [
       "[(1.3, 1.5], (0.9, 1.1], (0.7, 0.9], (0.7, 0.9], (1.7, 1.9], ..., (0.7, 0.9], (1.3, 1.5], (1.3, 1.5], (1.1, 1.3], (0.9, 1.1]]\n",
       "Length: 12\n",
       "Categories (7, interval[float64, right]): [(0.7, 0.9] < (0.9, 1.1] < (1.1, 1.3] < (1.3, 1.5] < (1.5, 1.7] < (1.7, 1.9] < (1.9, 2.1]]"
      ]
     },
     "execution_count": 157,
     "metadata": {},
     "output_type": "execute_result"
    }
   ],
   "source": [
    "tiempos_categorias"
   ]
  },
  {
   "cell_type": "markdown",
   "id": "ff4ad42a",
   "metadata": {
    "slideshow": {
     "slide_type": "slide"
    }
   },
   "source": [
    "El objeto que pandas devuelve es un objeto `Categorical` especial. La salida que se ve describe los bins calculados por `pandas.cut`. Cada bin se identifica por un tipo de valor de intervalo especial (único en pandas) que contiene el límite inferior y superior de cada bin:"
   ]
  },
  {
   "cell_type": "code",
   "execution_count": 108,
   "id": "5b3b4561",
   "metadata": {
    "slideshow": {
     "slide_type": "slide"
    }
   },
   "outputs": [
    {
     "data": {
      "text/plain": [
       "array([0, 0, 0, 1, 0, 0, 2, 1, 3, 2, 2, 1], dtype=int8)"
      ]
     },
     "execution_count": 108,
     "metadata": {},
     "output_type": "execute_result"
    }
   ],
   "source": [
    "age_categories.codes"
   ]
  },
  {
   "cell_type": "code",
   "execution_count": 109,
   "id": "ed733027",
   "metadata": {
    "slideshow": {
     "slide_type": "slide"
    }
   },
   "outputs": [
    {
     "data": {
      "text/plain": [
       "IntervalIndex([(18, 25], (25, 35], (35, 60], (60, 100]], dtype='interval[int64, right]')"
      ]
     },
     "execution_count": 109,
     "metadata": {},
     "output_type": "execute_result"
    }
   ],
   "source": [
    "age_categories.categories"
   ]
  },
  {
   "cell_type": "code",
   "execution_count": 110,
   "id": "16c7489a",
   "metadata": {
    "slideshow": {
     "slide_type": "slide"
    }
   },
   "outputs": [
    {
     "data": {
      "text/plain": [
       "Interval(18, 25, closed='right')"
      ]
     },
     "execution_count": 110,
     "metadata": {},
     "output_type": "execute_result"
    }
   ],
   "source": [
    "age_categories.categories[0]"
   ]
  },
  {
   "cell_type": "code",
   "execution_count": 111,
   "id": "7d76801a",
   "metadata": {
    "slideshow": {
     "slide_type": "slide"
    }
   },
   "outputs": [
    {
     "name": "stderr",
     "output_type": "stream",
     "text": [
      "C:\\Users\\CursosTardes\\AppData\\Local\\Temp\\ipykernel_11736\\3010498523.py:1: FutureWarning: pandas.value_counts is deprecated and will be removed in a future version. Use pd.Series(obj).value_counts() instead.\n",
      "  pd.value_counts(age_categories)\n"
     ]
    },
    {
     "data": {
      "text/plain": [
       "(18, 25]     5\n",
       "(25, 35]     3\n",
       "(35, 60]     3\n",
       "(60, 100]    1\n",
       "Name: count, dtype: int64"
      ]
     },
     "execution_count": 111,
     "metadata": {},
     "output_type": "execute_result"
    }
   ],
   "source": [
    "pd.value_counts(age_categories)"
   ]
  },
  {
   "cell_type": "code",
   "execution_count": 158,
   "id": "1de79821",
   "metadata": {},
   "outputs": [
    {
     "data": {
      "text/plain": [
       "array([3, 1, 0, 0, 5, 1, 6, 0, 3, 3, 2, 1], dtype=int8)"
      ]
     },
     "execution_count": 158,
     "metadata": {},
     "output_type": "execute_result"
    }
   ],
   "source": [
    "tiempos_categorias.codes"
   ]
  },
  {
   "cell_type": "code",
   "execution_count": 159,
   "id": "5554287e",
   "metadata": {},
   "outputs": [
    {
     "data": {
      "text/plain": [
       "IntervalIndex([(0.7, 0.9], (0.9, 1.1], (1.1, 1.3], (1.3, 1.5], (1.5, 1.7],\n",
       "               (1.7, 1.9], (1.9, 2.1]],\n",
       "              dtype='interval[float64, right]')"
      ]
     },
     "execution_count": 159,
     "metadata": {},
     "output_type": "execute_result"
    }
   ],
   "source": [
    "tiempos_categorias.categories"
   ]
  },
  {
   "cell_type": "code",
   "execution_count": 160,
   "id": "8c519c7d",
   "metadata": {},
   "outputs": [
    {
     "data": {
      "text/plain": [
       "Interval(0.7, 0.9, closed='right')"
      ]
     },
     "execution_count": 160,
     "metadata": {},
     "output_type": "execute_result"
    }
   ],
   "source": [
    "tiempos_categorias.categories[0]"
   ]
  },
  {
   "cell_type": "code",
   "execution_count": 161,
   "id": "4f5be915",
   "metadata": {},
   "outputs": [
    {
     "name": "stderr",
     "output_type": "stream",
     "text": [
      "C:\\Users\\CursosTardes\\AppData\\Local\\Temp\\ipykernel_11736\\1623349081.py:1: FutureWarning: pandas.value_counts is deprecated and will be removed in a future version. Use pd.Series(obj).value_counts() instead.\n",
      "  pd.value_counts(tiempos_categorias)\n"
     ]
    },
    {
     "data": {
      "text/plain": [
       "(0.7, 0.9]    3\n",
       "(0.9, 1.1]    3\n",
       "(1.3, 1.5]    3\n",
       "(1.1, 1.3]    1\n",
       "(1.7, 1.9]    1\n",
       "(1.9, 2.1]    1\n",
       "(1.5, 1.7]    0\n",
       "Name: count, dtype: int64"
      ]
     },
     "execution_count": 161,
     "metadata": {},
     "output_type": "execute_result"
    }
   ],
   "source": [
    "pd.value_counts(tiempos_categorias)"
   ]
  },
  {
   "cell_type": "markdown",
   "id": "f93d8e0b",
   "metadata": {
    "slideshow": {
     "slide_type": "slide"
    }
   },
   "source": [
    "Tenga en cuenta que `pd.value_counts(categories)` son los recuentos bin del resultado de `pandas.cut`.\n",
    "\n",
    "En la representación de cadena de un intervalo, un paréntesis significa que el lado está abierto (excluyente), mientras que el corchete significa que está cerrado (incluyente). Puede cambiar el lado cerrado pasando `right=False`"
   ]
  },
  {
   "cell_type": "code",
   "execution_count": 112,
   "id": "8c73c08e",
   "metadata": {
    "slideshow": {
     "slide_type": "slide"
    }
   },
   "outputs": [
    {
     "data": {
      "text/plain": [
       "[[18, 25), [18, 25), [25, 35), [25, 35), [18, 25), ..., [25, 35), [60, 100), [35, 60), [35, 60), [25, 35)]\n",
       "Length: 12\n",
       "Categories (4, interval[int64, left]): [[18, 25) < [25, 35) < [35, 60) < [60, 100)]"
      ]
     },
     "execution_count": 112,
     "metadata": {},
     "output_type": "execute_result"
    }
   ],
   "source": [
    "pd.cut(ages, bins, right=False)"
   ]
  },
  {
   "cell_type": "code",
   "execution_count": 162,
   "id": "6d5ba4b8",
   "metadata": {},
   "outputs": [
    {
     "data": {
      "text/plain": [
       "[[1.3, 1.5), [0.9, 1.1), [0.7, 0.9), [0.7, 0.9), [1.7, 1.9), ..., [0.9, 1.1), [1.3, 1.5), [1.3, 1.5), [1.1, 1.3), [0.9, 1.1)]\n",
       "Length: 12\n",
       "Categories (7, interval[float64, left]): [[0.7, 0.9) < [0.9, 1.1) < [1.1, 1.3) < [1.3, 1.5) < [1.5, 1.7) < [1.7, 1.9) < [1.9, 2.1)]"
      ]
     },
     "execution_count": 162,
     "metadata": {},
     "output_type": "execute_result"
    }
   ],
   "source": [
    "pd.cut(tiempos, my_bins, right=False)"
   ]
  },
  {
   "cell_type": "markdown",
   "id": "8f3fe71b",
   "metadata": {
    "slideshow": {
     "slide_type": "slide"
    }
   },
   "source": [
    "Puede anular el etiquetado de contenedores por defecto basado en intervalos pasando una lista o array a la opción `labels`:"
   ]
  },
  {
   "cell_type": "code",
   "execution_count": 113,
   "id": "e7db305e",
   "metadata": {},
   "outputs": [
    {
     "data": {
      "text/plain": [
       "['Youth', 'Youth', 'Youth', 'YoungAdult', 'Youth', ..., 'YoungAdult', 'Senior', 'MiddleAged', 'MiddleAged', 'YoungAdult']\n",
       "Length: 12\n",
       "Categories (4, object): ['Youth' < 'YoungAdult' < 'MiddleAged' < 'Senior']"
      ]
     },
     "execution_count": 113,
     "metadata": {},
     "output_type": "execute_result"
    }
   ],
   "source": [
    "group_names = [\"Youth\", \"YoungAdult\", \"MiddleAged\", \"Senior\"]\n",
    "pd.cut(ages, bins, labels=group_names)"
   ]
  },
  {
   "cell_type": "code",
   "execution_count": 163,
   "id": "bf076223",
   "metadata": {},
   "outputs": [
    {
     "data": {
      "text/plain": [
       "['Standard', 'VeryFast', 'UltraFast', 'UltraFast', 'VerySlow', ..., 'UltraFast', 'Standard', 'Standard', 'Fast', 'VeryFast']\n",
       "Length: 12\n",
       "Categories (7, object): ['UltraFast' < 'VeryFast' < 'Fast' < 'Standard' < 'Slow' < 'VerySlow' < 'UltraSlow']"
      ]
     },
     "execution_count": 163,
     "metadata": {},
     "output_type": "execute_result"
    }
   ],
   "source": [
    "my_category_name = [\"UltraFast\", \"VeryFast\", \"Fast\", \"Standard\", \"Slow\", \"VerySlow\", \"UltraSlow\"]\n",
    "pd.cut(tiempos, my_bins, labels=my_category_name)"
   ]
  },
  {
   "cell_type": "markdown",
   "id": "27343225",
   "metadata": {
    "slideshow": {
     "slide_type": "slide"
    }
   },
   "source": [
    "Consideremos el caso de unos datos distribuidos uniformemente y cortados en cuartos:"
   ]
  },
  {
   "cell_type": "code",
   "execution_count": 114,
   "id": "8af197a7",
   "metadata": {
    "slideshow": {
     "slide_type": "slide"
    }
   },
   "outputs": [
    {
     "data": {
      "text/plain": [
       "array([0.56607302, 0.22599682, 0.07609408, 0.51506338, 0.41014584,\n",
       "       0.06687434, 0.91531289, 0.48682585, 0.38588789, 0.20572911,\n",
       "       0.39230794, 0.73050012, 0.49246541, 0.24793617, 0.48107548,\n",
       "       0.86129553, 0.38924125, 0.32445464, 0.96860066, 0.28240862])"
      ]
     },
     "execution_count": 114,
     "metadata": {},
     "output_type": "execute_result"
    }
   ],
   "source": [
    "data = np.random.uniform(size=20)\n",
    "data"
   ]
  },
  {
   "cell_type": "code",
   "execution_count": 115,
   "id": "65d57ed2",
   "metadata": {
    "slideshow": {
     "slide_type": "slide"
    }
   },
   "outputs": [
    {
     "data": {
      "text/plain": [
       "[(0.52, 0.74], (0.066, 0.29], (0.066, 0.29], (0.29, 0.52], (0.29, 0.52], ..., (0.74, 0.97], (0.29, 0.52], (0.29, 0.52], (0.74, 0.97], (0.066, 0.29]]\n",
       "Length: 20\n",
       "Categories (4, interval[float64, right]): [(0.066, 0.29] < (0.29, 0.52] < (0.52, 0.74] < (0.74, 0.97]]"
      ]
     },
     "execution_count": 115,
     "metadata": {},
     "output_type": "execute_result"
    }
   ],
   "source": [
    "pd.cut(data, 4, precision=2)"
   ]
  },
  {
   "cell_type": "code",
   "execution_count": 168,
   "id": "53247e2e",
   "metadata": {},
   "outputs": [
    {
     "data": {
      "text/plain": [
       "array([0.60241482, 0.57873365, 0.0402434 , 0.58938038, 0.26505516,\n",
       "       0.8987209 , 0.8800668 , 0.0066061 , 0.57933597, 0.99598879])"
      ]
     },
     "execution_count": 168,
     "metadata": {},
     "output_type": "execute_result"
    }
   ],
   "source": [
    "my_data = np.random.uniform(size=10)\n",
    "my_data"
   ]
  },
  {
   "cell_type": "code",
   "execution_count": 165,
   "id": "81f67ea5",
   "metadata": {},
   "outputs": [
    {
     "data": {
      "text/plain": [
       "[(0.033, 0.26], (0.033, 0.26], (0.26, 0.48], (0.48, 0.7], (0.26, 0.48], ..., (0.7, 0.93], (0.48, 0.7], (0.26, 0.48], (0.26, 0.48], (0.033, 0.26]]\n",
       "Length: 20\n",
       "Categories (4, interval[float64, right]): [(0.033, 0.26] < (0.26, 0.48] < (0.48, 0.7] < (0.7, 0.93]]"
      ]
     },
     "execution_count": 165,
     "metadata": {},
     "output_type": "execute_result"
    }
   ],
   "source": [
    "pd.cut(my_data, 4, precision=2)"
   ]
  },
  {
   "cell_type": "markdown",
   "id": "a7eb5a45",
   "metadata": {
    "slideshow": {
     "slide_type": "slide"
    }
   },
   "source": [
    "La opción `precision=2` limita la precisión decimal a dos dígitos distintos de cero."
   ]
  },
  {
   "cell_type": "markdown",
   "id": "0f87101c",
   "metadata": {
    "slideshow": {
     "slide_type": "slide"
    }
   },
   "source": [
    "Una función estrechamente relacionada, `pandas.qcut`, separa los datos basándose en los cuantiles de la muestra. Dependiendo de la distribución de los datos, el uso de `pandas.cut` no siempre resultará en que cada contenedor tenga el mismo número de puntos de datos. Dado que `pandas.qcut` utiliza los cuantiles de la muestra en su lugar, obtendrá intervalos de tamaño más o menos igual:"
   ]
  },
  {
   "cell_type": "code",
   "execution_count": 169,
   "id": "f0fba8be",
   "metadata": {
    "slideshow": {
     "slide_type": "slide"
    }
   },
   "outputs": [
    {
     "data": {
      "text/plain": [
       "array([ 7.34799654e-01,  5.07406554e-02, -6.07023941e-01, -3.28966044e-01,\n",
       "       -1.04589765e+00,  4.52422279e-01, -4.15231660e-01, -8.71204671e-01,\n",
       "       -7.71441361e-01,  1.00306434e-01,  1.28035721e+00, -1.65114426e+00,\n",
       "        1.39955901e+00, -7.52848706e-01, -1.45158951e-01,  1.39707593e+00,\n",
       "       -1.52846537e+00,  1.63374388e-01,  6.89672533e-01,  4.89821091e-01,\n",
       "        8.48512054e-02, -1.14391735e+00, -2.98951010e-01,  1.06949797e+00,\n",
       "        1.32471269e+00,  9.53796397e-01,  5.29291596e-01,  1.19406964e+00,\n",
       "        2.14054830e+00, -6.66651354e-02, -1.18571957e+00,  8.32420949e-01,\n",
       "       -1.16898412e-02, -7.00276576e-01, -1.20035253e-01,  1.13073187e+00,\n",
       "       -1.21384893e+00, -9.61733529e-01,  4.88888738e-01,  1.61587679e+00,\n",
       "       -2.18419367e+00,  6.49312684e-01,  1.22622116e+00,  6.00964238e-01,\n",
       "        1.08358779e+00, -4.82233142e-01,  6.54234578e-01,  8.82563345e-01,\n",
       "       -1.06662393e-01, -3.74796876e-01,  7.28686712e-01,  6.33757087e-01,\n",
       "        7.08107648e-01,  2.89646518e-01,  7.82058793e-01,  9.61128465e-01,\n",
       "        2.42948165e-01, -9.30280763e-01,  2.20364351e+00,  5.75088404e-01,\n",
       "        6.60260980e-01, -1.41869004e+00,  2.03100424e-01, -1.02649058e+00,\n",
       "       -1.07417886e+00, -1.41817830e+00, -8.80409012e-01, -9.34643984e-01,\n",
       "       -9.92471521e-01, -1.49829345e+00,  1.63921134e+00, -6.66696455e-01,\n",
       "       -1.07634742e+00,  1.14059428e-01,  9.91463627e-01,  2.25472589e+00,\n",
       "        8.99371515e-02, -8.47682969e-02,  7.09265146e-01, -2.39498748e-02,\n",
       "        5.12133287e-01,  5.70003243e-02, -5.41409068e-01,  1.58127042e+00,\n",
       "        9.22550712e-01, -6.96870417e-01, -8.05051496e-01,  3.35540841e-03,\n",
       "        6.56158719e-01, -5.96603273e-01, -4.47477974e-02, -1.61336789e+00,\n",
       "       -1.63992063e+00, -2.98986423e-01, -3.13710043e-01,  1.23826420e+00,\n",
       "       -1.03821814e-01, -8.34170344e-01,  4.04657242e-01,  2.18880446e+00,\n",
       "       -7.42760292e-01,  6.42346929e-01,  1.25100602e+00,  8.90869392e-01,\n",
       "        1.21690989e+00, -2.82310802e-01,  1.97601020e+00,  1.51572157e+00,\n",
       "       -5.39954734e-01, -1.29788834e-02, -9.94131939e-01,  6.69168549e-01,\n",
       "       -2.82997969e+00, -1.59208951e-01,  5.91719216e-01, -4.84388401e-01,\n",
       "       -4.89232030e-01,  1.13852384e+00, -3.35847546e-01, -5.96657853e-01,\n",
       "       -1.28912817e+00,  5.17208880e-01, -1.59034815e+00, -9.38987836e-01,\n",
       "       -7.54367372e-02,  7.97848374e-01,  2.69243343e-01, -1.26260089e+00,\n",
       "        1.02269050e+00, -1.26082343e+00,  1.33902543e+00, -2.21391588e+00,\n",
       "        5.06171100e-01, -1.05297397e+00,  9.76504675e-01, -4.33873523e+00,\n",
       "       -4.16155280e-01, -2.74876016e-01,  1.24050698e+00, -3.63183789e-01,\n",
       "        1.02228957e+00,  6.42600223e-01, -1.63362366e-01,  1.12884653e-01,\n",
       "       -5.67541902e-01,  1.20774681e+00, -1.61900394e-01,  1.41824017e+00,\n",
       "       -5.31066611e-02,  1.03457599e+00,  2.44948601e-01, -1.44206546e-03,\n",
       "        7.58096068e-01,  3.47810029e-01, -1.75751631e-01,  9.32685682e-02,\n",
       "       -1.57502866e+00,  1.01372858e-01, -7.56473112e-01,  1.02898607e+00,\n",
       "        4.65886719e-01,  1.50739164e+00,  7.19506136e-01, -7.31957053e-01,\n",
       "       -6.51173407e-01, -4.86722286e-01, -2.71510127e-01,  6.40232028e-02,\n",
       "        2.72593080e-01,  1.38614982e+00,  2.19075916e-01, -3.00731009e-01,\n",
       "        3.04644569e-01, -1.21842019e+00,  1.03993875e+00, -7.54714118e-01,\n",
       "       -3.66039242e-01, -2.39072970e+00,  1.49690325e-01, -1.37584684e+00,\n",
       "       -5.58709497e-01,  1.03140217e+00,  7.12156097e-02,  3.36320531e-01,\n",
       "       -2.27963675e-01, -4.26895659e-02,  1.51420084e+00,  5.17487706e-03,\n",
       "        1.17823144e+00, -1.01698108e+00, -2.40889830e-01,  5.29210129e-01,\n",
       "       -8.26738519e-01,  8.31714989e-01, -1.30003431e+00,  8.86369438e-01,\n",
       "        2.18840864e+00, -1.13975250e+00, -4.72013520e-02, -2.09204734e+00,\n",
       "        1.03839516e+00,  1.16003020e+00,  4.36875511e-01,  3.76785799e-01,\n",
       "       -1.44272730e+00,  5.87512363e-01,  4.51885569e-01, -2.74187553e-01,\n",
       "       -1.59771269e+00,  6.60345782e-01,  6.32392573e-01, -3.16989228e-01,\n",
       "       -2.66292304e-01,  4.78276650e-01,  2.59874353e-01,  2.50074796e+00,\n",
       "        9.42977720e-01, -1.89421330e-01,  4.05327074e-01, -5.15332720e-01,\n",
       "       -8.42097306e-01,  2.15310247e+00,  8.95513936e-01, -4.09055233e-01,\n",
       "       -1.14817853e+00, -1.75605296e+00,  2.85161656e+00,  7.07680481e-01,\n",
       "        1.75582255e-03,  2.77442764e-01, -5.65976294e-01, -1.01950513e-01,\n",
       "       -1.47349082e+00, -1.48725238e+00,  1.90883110e+00, -4.89731352e-01,\n",
       "        6.90784457e-01,  9.47793339e-01,  7.69859474e-01, -1.00869687e+00,\n",
       "        7.67560413e-01,  4.39168537e-01, -2.91416433e-01,  7.42291904e-01,\n",
       "        5.27974576e-01, -1.89700017e+00,  3.04833816e-01,  5.55667357e-01,\n",
       "       -5.12317265e-01, -1.05782685e+00, -1.21093382e+00, -1.52023232e+00,\n",
       "       -1.22036795e+00, -1.05288400e+00,  1.94247246e+00,  4.12681868e-01,\n",
       "        8.94702574e-01,  1.26557933e+00,  9.03771356e-01,  7.56341151e-02,\n",
       "        9.98869930e-01,  1.18907105e-01,  2.62224077e-01,  2.12635491e+00,\n",
       "        3.27970463e-01, -2.35594430e-02, -3.41361149e-02, -7.92404427e-01,\n",
       "        1.43260144e-01,  6.54368087e-01,  7.57145144e-01, -1.28023432e+00,\n",
       "        2.40755425e-01, -1.09296899e+00,  3.05172424e-01,  3.21753625e-01,\n",
       "        2.94304703e-01, -6.50451459e-01,  7.10816384e-01, -3.31686729e-01,\n",
       "        2.02607724e+00, -6.96968861e-02, -6.72346751e-01,  9.42255900e-01,\n",
       "       -1.14421650e+00,  3.75176172e-01,  1.16092184e+00, -9.33681184e-01,\n",
       "        2.32958885e+00, -1.61631201e+00, -1.20324487e+00,  2.58776256e+00,\n",
       "       -4.12071143e-01,  1.81793976e+00, -1.05947363e-01, -2.11519230e+00,\n",
       "        2.87587617e-01, -1.93839520e+00,  1.13428894e-02,  1.40227497e+00,\n",
       "       -1.34486795e+00, -1.60962022e+00, -1.23562437e+00,  4.49857917e-01,\n",
       "       -1.46022788e+00,  1.24663524e+00, -1.40776185e+00, -2.90034368e-01,\n",
       "       -1.05206662e+00,  8.55984906e-01,  1.42939567e+00, -1.11122256e+00,\n",
       "       -1.23145416e+00,  2.82639429e-01,  4.31429113e-01, -4.31786767e-01,\n",
       "       -1.02627083e+00,  1.58902651e+00, -7.92382273e-01,  8.97373599e-02,\n",
       "       -1.04192872e+00,  1.24717888e+00,  1.90895260e+00,  3.92804239e-01,\n",
       "        6.09686214e-01, -1.48471063e+00, -3.09138410e+00,  1.06064549e+00,\n",
       "       -1.32728876e+00,  8.26261619e-01,  5.41773850e-01, -1.46818109e+00,\n",
       "       -1.05674917e+00,  1.80200147e+00, -1.77282432e-01, -1.60543466e+00,\n",
       "       -1.03479874e+00, -5.87034043e-01,  7.77250992e-01,  9.73718383e-01,\n",
       "       -7.24902248e-01, -2.09422877e+00,  1.73070033e-01,  1.13472013e+00,\n",
       "       -4.09893468e-01, -2.03168765e+00, -7.06863289e-01, -5.67744412e-01,\n",
       "        6.82074954e-01,  1.39049049e+00, -2.58596598e-01,  8.19816474e-02,\n",
       "        5.31549764e-01,  1.20885649e+00,  6.63734265e-01,  7.77198383e-01,\n",
       "        1.15908492e+00, -5.21718968e-01,  4.76752735e-01,  2.28206640e+00,\n",
       "        8.13830534e-01,  8.09145884e-01,  1.12023237e+00,  1.30172029e+00,\n",
       "       -1.25134634e+00, -1.71201281e-01, -2.05574664e-01, -2.78505543e-01,\n",
       "        1.09098907e+00,  1.45114467e+00,  9.43605933e-02,  6.03383611e-01,\n",
       "        5.64360674e-01, -8.89814238e-01, -2.14055795e+00, -1.25534914e+00,\n",
       "        9.61523961e-01,  3.22972279e-01,  9.03244037e-01,  4.14846088e-01,\n",
       "        5.47609998e-01,  1.15312952e-02, -9.24148296e-01,  5.08177883e-01,\n",
       "       -8.81720779e-01,  1.49309192e-01, -8.68014388e-01,  1.23497739e+00,\n",
       "       -1.24698430e+00,  1.00964503e+00, -2.02394824e+00, -1.20336507e+00,\n",
       "        2.08641527e+00, -2.19713580e-01, -5.77140514e-01,  1.12852234e+00,\n",
       "       -1.57301247e+00,  6.37120367e-01, -1.66194229e-01, -2.93310435e-01,\n",
       "       -8.68980647e-01,  9.03568488e-01, -1.57280415e+00, -7.67172444e-01,\n",
       "       -3.12883461e-01,  6.04903707e-01, -7.40204331e-01,  1.41266493e+00,\n",
       "        6.69536440e-01,  1.27888197e+00, -2.41660484e+00,  7.80491673e-01,\n",
       "        1.59095060e+00,  3.47433201e-03,  1.54578722e+00, -1.07875527e+00,\n",
       "       -4.77881077e-01, -3.24516894e-01,  3.33008084e+00,  3.04430367e+00,\n",
       "       -8.21060103e-01,  2.92013955e-01,  7.10089308e-01, -4.16882789e-01,\n",
       "       -7.48311627e-02, -1.76581435e+00,  1.33382017e+00,  4.59589525e-02,\n",
       "        5.06467490e-01,  6.19133105e-01,  7.99186043e-01,  5.39187217e-01,\n",
       "        1.00220589e+00, -1.35107076e+00, -1.47054560e+00, -1.70410442e+00,\n",
       "        6.65140514e-01, -6.48336020e-01,  4.39292531e-03,  4.49722835e-01,\n",
       "       -9.24798373e-01, -4.18912992e-02, -4.68340593e-01,  9.07708973e-01,\n",
       "       -2.28292109e+00,  4.96505345e-01,  2.12740287e-01,  8.86229331e-01,\n",
       "       -5.40268185e-01,  3.85538708e-01,  1.65200819e+00, -4.25966726e-02,\n",
       "        1.44197123e+00, -6.72451774e-01, -8.92301675e-02, -2.30259568e+00,\n",
       "        2.47649010e-01,  1.34086834e+00, -8.65785768e-02, -5.52765200e-01,\n",
       "       -5.53822100e-02,  1.07843872e-01,  2.10193078e-01, -3.00491557e-01,\n",
       "       -4.89028060e-01,  5.47807395e-01, -2.93188201e-01, -6.19935664e-02,\n",
       "        6.96464038e-01, -1.09566705e+00,  2.04252493e+00, -1.24943795e+00,\n",
       "        3.34015614e-01, -3.32945180e-01, -6.33299801e-01, -1.10127935e+00,\n",
       "        1.20096287e+00, -5.57376109e-02, -2.28493341e-01, -5.50821066e-01,\n",
       "       -5.68602000e-01, -2.71720145e-01, -6.55568092e-02,  5.71778922e-01,\n",
       "       -2.15409912e+00, -2.44862511e+00, -4.65306689e-01, -4.09155854e-01,\n",
       "       -8.00841817e-01,  8.39379430e-01,  1.38123776e+00, -5.93620109e-01,\n",
       "        5.09993000e-01, -8.94806543e-01,  7.42807292e-01,  4.44812323e-01,\n",
       "        1.39397801e+00,  6.75034436e-01,  5.46067052e-01,  6.24789690e-01])"
      ]
     },
     "execution_count": 169,
     "metadata": {},
     "output_type": "execute_result"
    }
   ],
   "source": [
    "data = np.random.standard_normal(500)\n",
    "data"
   ]
  },
  {
   "cell_type": "code",
   "execution_count": 117,
   "id": "574ec0c0",
   "metadata": {
    "slideshow": {
     "slide_type": "slide"
    }
   },
   "outputs": [
    {
     "data": {
      "text/plain": [
       "[(-3.4699999999999998, -0.67], (0.67, 3.64], (-0.67, -0.029], (-3.4699999999999998, -0.67], (-0.67, -0.029], ..., (0.67, 3.64], (-3.4699999999999998, -0.67], (-0.029, 0.67], (-3.4699999999999998, -0.67], (-0.029, 0.67]]\n",
       "Length: 1000\n",
       "Categories (4, interval[float64, right]): [(-3.4699999999999998, -0.67] < (-0.67, -0.029] < (-0.029, 0.67] < (0.67, 3.64]]"
      ]
     },
     "execution_count": 117,
     "metadata": {},
     "output_type": "execute_result"
    }
   ],
   "source": [
    "quartiles = pd.qcut(data, 4, precision=2)\n",
    "quartiles"
   ]
  },
  {
   "cell_type": "code",
   "execution_count": 118,
   "id": "80003eb5",
   "metadata": {
    "slideshow": {
     "slide_type": "slide"
    }
   },
   "outputs": [
    {
     "name": "stderr",
     "output_type": "stream",
     "text": [
      "C:\\Users\\CursosTardes\\AppData\\Local\\Temp\\ipykernel_11736\\3472704981.py:1: FutureWarning: pandas.value_counts is deprecated and will be removed in a future version. Use pd.Series(obj).value_counts() instead.\n",
      "  pd.value_counts(quartiles)\n"
     ]
    },
    {
     "data": {
      "text/plain": [
       "(-3.4699999999999998, -0.67]    250\n",
       "(-0.67, -0.029]                 250\n",
       "(-0.029, 0.67]                  250\n",
       "(0.67, 3.64]                    250\n",
       "Name: count, dtype: int64"
      ]
     },
     "execution_count": 118,
     "metadata": {},
     "output_type": "execute_result"
    }
   ],
   "source": [
    "pd.value_counts(quartiles)"
   ]
  },
  {
   "cell_type": "code",
   "execution_count": 119,
   "id": "9f1d2c9e-49e1-4bba-b157-e056b77e9fc7",
   "metadata": {},
   "outputs": [
    {
     "data": {
      "text/plain": [
       "(-3.4699999999999998, -0.67]    250\n",
       "(-0.67, -0.029]                 250\n",
       "(-0.029, 0.67]                  250\n",
       "(0.67, 3.64]                    250\n",
       "Name: count, dtype: int64"
      ]
     },
     "execution_count": 119,
     "metadata": {},
     "output_type": "execute_result"
    }
   ],
   "source": [
    "pd.Series(quartiles).value_counts()"
   ]
  },
  {
   "cell_type": "code",
   "execution_count": 170,
   "id": "671f5d39",
   "metadata": {},
   "outputs": [
    {
     "data": {
      "text/plain": [
       "array([ 6.62707686e-01, -7.74351941e-02,  3.18627461e-01,  1.00948700e+00,\n",
       "        3.10514853e-01, -5.02480218e-01, -2.13621290e-01, -1.95946377e+00,\n",
       "        3.62949757e-01, -7.40016725e-01,  1.49586429e+00,  6.67520462e-01,\n",
       "       -1.61773961e+00,  4.07470776e-01, -6.59027685e-01, -1.97569529e+00,\n",
       "        1.58913521e+00, -8.66251567e-01,  1.35616367e+00,  4.52707033e-03,\n",
       "        9.97890234e-01,  1.12037552e+00, -1.05560243e+00,  7.63684546e-01,\n",
       "       -1.54074274e+00, -5.19051676e-01, -4.75550361e-01, -1.69574074e+00,\n",
       "       -1.06948051e-01,  6.91022273e-01, -4.46604986e-01,  1.72342410e-01,\n",
       "        2.47291726e-01,  8.35060756e-01, -2.68843882e-01, -1.25603628e+00,\n",
       "        1.19809750e+00,  1.19491930e+00,  5.75859752e-01,  9.73314719e-01,\n",
       "        1.07020195e+00, -1.23780691e+00, -6.13894707e-01,  1.30878543e+00,\n",
       "       -7.15784507e-01, -5.13101128e-01,  5.27108421e-01, -6.14847922e-02,\n",
       "        1.17260286e+00,  1.20517758e-01,  2.00087906e+00,  8.07040755e-01,\n",
       "       -9.96550568e-01,  1.53034650e+00,  8.66148696e-01,  2.00489917e+00,\n",
       "       -7.25622025e-03,  2.28994637e-01,  5.22621625e-01, -5.11518795e-01,\n",
       "       -5.95460631e-01,  7.92256372e-01,  9.83590453e-01,  1.27153840e+00,\n",
       "       -1.41474118e+00, -7.58526322e-01,  1.14835769e+00,  1.08177588e+00,\n",
       "        1.78151203e+00, -5.86412965e-01,  4.09621544e-01, -3.50224279e-02,\n",
       "       -1.09583910e+00, -1.64768825e+00,  8.72242791e-01, -2.00164210e-01,\n",
       "       -5.87704842e-01,  1.87974720e-01, -3.71806260e-01, -1.80075934e+00,\n",
       "       -1.94940611e-01, -4.41618575e-01,  5.33593208e-01,  1.36800156e+00,\n",
       "       -1.33574310e+00, -6.02023446e-01,  4.31036358e-01,  1.64558084e+00,\n",
       "       -2.78123550e-01, -2.95640797e-02, -6.75615933e-01, -1.16656970e+00,\n",
       "       -1.42378284e+00,  1.48699520e+00,  4.80560786e-01,  9.10786331e-02,\n",
       "        1.21670966e+00, -7.16181145e-01,  4.83789474e-01, -1.04920042e+00,\n",
       "        1.92863022e+00, -1.31451077e+00, -8.53492839e-01,  7.95733168e-02,\n",
       "        1.32013540e+00, -7.38405553e-02, -3.44912220e-01,  1.15851580e+00,\n",
       "       -1.05367905e+00,  3.40804183e-01, -7.74685407e-01,  4.51315550e-01,\n",
       "       -4.73871944e-01, -7.23110810e-01, -5.35587193e-01,  4.49246662e-01,\n",
       "       -1.09406645e+00,  1.26632862e+00,  7.43829295e-01, -6.88819730e-01,\n",
       "       -1.80616556e+00,  5.30015951e-01, -1.03383526e+00, -1.46839376e-02,\n",
       "       -9.84000926e-01, -9.10108372e-01, -3.25062501e-01,  1.29200177e+00,\n",
       "        4.86830000e-02,  7.62702432e-01, -2.10631945e+00,  1.27804286e+00,\n",
       "       -1.29918542e-01, -1.56392587e+00, -2.09262189e-01, -1.61232823e+00,\n",
       "        4.36628711e-01, -1.12890963e+00, -7.49937809e-01, -2.45562814e-01,\n",
       "       -1.30981531e+00,  1.40572848e-01, -1.27248503e+00,  2.79068588e-01,\n",
       "        1.56372707e-01, -2.50296772e-01, -1.50859850e+00, -3.77809672e-01,\n",
       "        2.97220254e-01, -1.98724306e-01, -7.46698505e-01,  1.81794942e+00,\n",
       "       -9.37378951e-01,  9.06446431e-01, -1.10494672e+00,  1.42706803e+00,\n",
       "        1.20897941e-01, -1.49301348e-01,  8.90816174e-01, -1.15922333e+00,\n",
       "        4.42813987e-01,  4.45484828e-01, -1.13007038e+00,  9.74438939e-01,\n",
       "       -2.82666685e-01,  1.22717326e+00, -9.86686437e-01, -1.08107956e+00,\n",
       "       -1.12187701e+00, -4.69988705e-02,  1.16616172e+00, -2.38730128e+00,\n",
       "       -2.11522947e-01,  1.33316818e+00,  1.62086432e+00,  4.36788819e-01,\n",
       "       -1.95175100e-01,  2.83027458e+00,  1.42122845e+00,  2.46456186e-01,\n",
       "       -2.66160930e+00, -9.17139673e-01, -4.14378579e-03, -4.87791125e-01,\n",
       "       -9.51721300e-01,  4.70514802e-01,  4.76880252e-01,  7.81497373e-01,\n",
       "        1.05177741e+00,  8.91986805e-01,  5.97103975e-01, -7.26131683e-02,\n",
       "        3.12051854e-02, -9.49721756e-01,  1.51269604e+00,  2.42459394e-01,\n",
       "       -1.03564051e+00,  2.34138971e+00,  1.64258580e-01,  1.15228647e+00,\n",
       "       -6.14555357e-01, -2.65406868e-02,  7.13605604e-02,  1.55002865e+00,\n",
       "       -2.00612246e+00, -1.17285288e+00, -1.19854509e+00, -2.17659768e-01,\n",
       "       -1.73831993e-01, -4.60511802e-01, -2.36722839e+00,  2.90027430e-01,\n",
       "        1.89487904e-01,  8.47536686e-02,  1.21658674e+00, -4.01643870e-01,\n",
       "       -9.62555442e-01, -2.98881850e-01,  1.47083817e+00, -1.23431919e+00,\n",
       "       -7.67649091e-01, -8.25435396e-01,  1.19852176e+00, -1.58204508e-01,\n",
       "        1.09070570e-01, -7.24390190e-01, -1.37467966e+00, -1.57546864e+00,\n",
       "       -5.73636549e-01, -2.40134701e-01, -9.66863926e-01,  1.09704262e+00,\n",
       "       -4.36753710e-01,  1.00946594e+00,  1.07612060e+00, -1.09970422e+00,\n",
       "        1.53114548e+00,  6.84777093e-01, -2.73631433e-01,  9.06268628e-01,\n",
       "       -1.34210901e+00, -1.41983275e+00,  2.23433988e-01,  1.15873076e+00,\n",
       "        6.27293868e-01,  5.49169056e-02,  4.17875262e-01, -5.54590285e-01,\n",
       "       -7.84785298e-02, -1.16778479e+00, -1.10628080e+00,  1.91311089e+00,\n",
       "       -3.91806574e-01, -6.75046010e-01,  5.30383937e-01,  1.61358825e+00,\n",
       "        1.34238910e+00,  6.66657031e-01, -1.59026167e-01, -2.45980735e-01,\n",
       "        5.92739834e-01, -2.64469872e-01, -6.50876495e-01,  1.04160086e+00,\n",
       "        2.20375077e-01,  1.07099726e+00,  8.67042247e-01,  3.15788975e-01,\n",
       "        1.28706466e+00,  7.30306938e-01,  6.84975201e-01,  9.84453396e-01,\n",
       "       -4.79768024e-01, -9.52486229e-01,  9.17367658e-01,  1.30567960e+00,\n",
       "        4.10233355e-01,  7.84978933e-01,  1.41236337e+00, -1.06462845e+00,\n",
       "       -8.47040943e-02, -8.56402217e-01,  2.00103009e+00, -2.62135973e+00,\n",
       "       -9.06534276e-01,  4.39388200e-01, -1.31613544e+00, -1.70170476e-01,\n",
       "       -3.92020267e-02,  9.12381614e-01, -1.11611319e+00, -1.31002223e+00,\n",
       "       -5.33949575e-01,  5.03661713e-01,  4.82864210e-01, -1.22680642e+00,\n",
       "       -1.24638228e+00,  9.47932332e-01,  1.99316085e+00, -4.41407086e-01,\n",
       "       -1.57807909e+00,  1.30196059e+00, -1.36321012e+00,  9.14478490e-01,\n",
       "        1.45861427e-01, -1.75741304e+00,  8.48925369e-01,  1.86716399e+00,\n",
       "       -8.89128923e-02, -9.95243102e-01,  9.92288324e-01,  3.75818131e-02,\n",
       "        4.84162815e-01,  1.40193588e+00,  1.52247996e-01, -9.17151721e-01,\n",
       "       -1.35963312e-01, -1.26078375e+00, -3.47022525e-01, -9.28446990e-02,\n",
       "       -4.50554582e-01,  2.20507266e-01,  1.65880905e-01, -9.88722163e-01,\n",
       "        1.65762321e-01, -2.83831087e-03,  7.06260752e-01,  3.10149358e-01,\n",
       "       -4.92552218e-01, -1.72294158e+00,  2.87213707e-01, -2.90009375e-01,\n",
       "       -6.46497141e-01,  1.25897666e-01,  1.46450898e+00, -1.93077344e-01,\n",
       "        1.19363668e+00,  1.17053340e+00,  3.67673682e-01,  7.90620054e-02,\n",
       "       -1.78193444e-01, -5.08202086e-01,  1.47906090e+00, -4.25463844e-01,\n",
       "        1.50320485e-01,  1.11567282e+00, -2.98444700e-01, -1.14447301e+00,\n",
       "        5.69273481e-01, -3.75536571e-01,  8.54216806e-01,  4.64769977e-01,\n",
       "       -8.77393945e-01,  1.38543413e+00, -3.88202044e-01,  7.35343916e-01,\n",
       "        1.14850152e+00, -4.11949730e-02, -8.59165293e-01,  8.71209728e-01,\n",
       "        9.49469263e-02,  1.46925691e+00, -6.57572543e-01,  4.30329253e-01,\n",
       "        1.93696446e+00,  1.20221640e+00,  4.49833470e-01,  5.79861510e-01,\n",
       "       -1.98630843e+00,  9.95614745e-01,  8.47832526e-01,  3.04359653e-01,\n",
       "       -1.03036440e+00, -5.81959994e-01,  4.03710397e-01, -1.23392231e-01,\n",
       "        5.10865793e-03, -2.69211293e+00,  1.36320355e+00,  6.87705163e-01,\n",
       "       -8.19081120e-01, -6.89150942e-01, -1.41836784e+00, -1.02743884e+00,\n",
       "       -2.18951268e-01, -1.25035377e+00,  4.80204662e-02,  6.34358130e-01,\n",
       "        4.85319266e-01,  2.09589192e-01,  2.61799007e-01, -9.26325883e-02,\n",
       "       -3.72380525e-01, -1.36761495e+00,  5.21287732e-01,  6.02328368e-02,\n",
       "       -1.78241273e+00,  1.23692825e+00, -4.40443670e-01,  9.98102094e-01,\n",
       "        6.21169695e-01, -1.17583154e+00,  2.20634480e-01,  1.79857634e+00,\n",
       "       -7.16329281e-01,  1.65607878e-01, -3.69569540e-01, -1.99710830e+00,\n",
       "       -8.13597572e-01, -1.09087286e+00,  1.95085632e+00, -4.11876352e-01,\n",
       "        3.33086765e-01,  1.71051279e-01,  7.01468980e-01,  3.57045012e-01,\n",
       "       -5.91890918e-01, -3.37631785e-01,  1.36001060e+00, -3.29239067e-01,\n",
       "        2.02705704e+00, -4.25546954e-01, -1.01117049e-02, -1.92986354e-01,\n",
       "        9.99830048e-01,  1.72605812e+00,  7.69095063e-01, -4.47353311e-01,\n",
       "       -3.65300488e-01,  9.55208040e-01, -8.37041460e-01,  6.05733795e-01,\n",
       "       -5.33214096e-01, -4.68547170e-01, -1.08341955e+00,  1.81188286e+00,\n",
       "       -7.16954761e-01, -9.98370603e-01, -4.19554783e-02, -1.22989708e+00,\n",
       "       -3.35771818e-01,  3.00223059e-01,  1.05042215e-01,  3.41109768e+00,\n",
       "        1.12451218e+00,  1.39603255e+00,  2.77172773e-01,  9.87028951e-01,\n",
       "       -5.17929537e-01,  1.24065195e+00, -2.25670487e+00, -2.23952580e+00,\n",
       "        6.97246306e-01, -1.45666558e+00,  1.33954254e+00, -3.52997491e-01,\n",
       "       -9.60906188e-01, -3.54020579e-01, -2.59915510e-01,  1.04699549e+00,\n",
       "       -4.00668795e-01, -1.38815208e+00, -1.04487315e+00, -1.04690288e+00,\n",
       "        1.84722165e+00, -2.57232245e-01,  1.16278611e-01, -1.52311698e+00,\n",
       "        5.11282954e-01,  6.28907684e-01,  4.14395285e-01,  1.82359945e+00,\n",
       "       -9.10921444e-01, -9.47136817e-01,  1.80746802e+00, -8.31949561e-01,\n",
       "        1.70089185e-01,  1.06330790e+00, -6.14033168e-01,  6.96059494e-01,\n",
       "       -2.45925067e-01, -2.08967667e+00, -3.91072016e-01, -2.31757820e+00,\n",
       "        2.53018159e-01, -7.12093134e-01, -2.15677448e-01,  1.88988810e+00,\n",
       "        1.25427397e+00,  1.45864354e+00, -1.47991799e+00, -6.73693849e-01,\n",
       "       -2.61819941e-01,  4.60028461e-01, -1.35318672e+00, -1.26881096e-03,\n",
       "        5.02820775e-01, -1.06126115e-01, -2.67778682e-01, -3.51074383e-01])"
      ]
     },
     "execution_count": 170,
     "metadata": {},
     "output_type": "execute_result"
    }
   ],
   "source": [
    "my_data = np.random.standard_normal(500)\n",
    "my_data"
   ]
  },
  {
   "cell_type": "code",
   "execution_count": 171,
   "id": "36e712b0",
   "metadata": {},
   "outputs": [
    {
     "data": {
      "text/plain": [
       "[(-0.012, 0.76], (-0.72, -0.012], (-0.012, 0.76], (0.76, 3.41], (-0.012, 0.76], ..., (-0.012, 0.76], (-0.012, 0.76], (-0.72, -0.012], (-0.72, -0.012], (-0.72, -0.012]]\n",
       "Length: 500\n",
       "Categories (4, interval[float64, right]): [(-2.6999999999999997, -0.72] < (-0.72, -0.012] < (-0.012, 0.76] < (0.76, 3.41]]"
      ]
     },
     "execution_count": 171,
     "metadata": {},
     "output_type": "execute_result"
    }
   ],
   "source": [
    "my_quartiles = pd.qcut(my_data, 4, precision=2)\n",
    "my_quartiles"
   ]
  },
  {
   "cell_type": "code",
   "execution_count": 172,
   "id": "b43d53cf",
   "metadata": {},
   "outputs": [
    {
     "name": "stderr",
     "output_type": "stream",
     "text": [
      "C:\\Users\\CursosTardes\\AppData\\Local\\Temp\\ipykernel_11736\\1959053598.py:1: FutureWarning: pandas.value_counts is deprecated and will be removed in a future version. Use pd.Series(obj).value_counts() instead.\n",
      "  pd.value_counts(my_quartiles)\n"
     ]
    },
    {
     "data": {
      "text/plain": [
       "(-2.6999999999999997, -0.72]    125\n",
       "(-0.72, -0.012]                 125\n",
       "(-0.012, 0.76]                  125\n",
       "(0.76, 3.41]                    125\n",
       "Name: count, dtype: int64"
      ]
     },
     "execution_count": 172,
     "metadata": {},
     "output_type": "execute_result"
    }
   ],
   "source": [
    "pd.value_counts(my_quartiles)"
   ]
  },
  {
   "cell_type": "code",
   "execution_count": 173,
   "id": "8f9605cf",
   "metadata": {},
   "outputs": [
    {
     "data": {
      "text/plain": [
       "(-2.6999999999999997, -0.72]    125\n",
       "(-0.72, -0.012]                 125\n",
       "(-0.012, 0.76]                  125\n",
       "(0.76, 3.41]                    125\n",
       "Name: count, dtype: int64"
      ]
     },
     "execution_count": 173,
     "metadata": {},
     "output_type": "execute_result"
    }
   ],
   "source": [
    "pd.Series(my_quartiles).value_counts()"
   ]
  },
  {
   "cell_type": "markdown",
   "id": "7e753681",
   "metadata": {
    "slideshow": {
     "slide_type": "slide"
    }
   },
   "source": [
    "De forma similar a `pandas.cut`, el usuario puede pasar sus propios cuantiles (números entre 0 y 1, ambos inclusive):"
   ]
  },
  {
   "cell_type": "code",
   "execution_count": 120,
   "id": "ac74023d-fc8a-4f0f-8ea2-62778a8b6e79",
   "metadata": {},
   "outputs": [
    {
     "data": {
      "text/plain": [
       "array([-1.21987415e+00,  8.03594936e-01, -3.54915008e-01, -8.98070197e-01,\n",
       "       -3.51936462e-01, -1.26901001e-01,  3.53149013e-02,  4.41482825e-01,\n",
       "       -8.98675201e-01, -2.66032028e+00, -2.59918126e-02,  9.67521169e-01,\n",
       "        4.24839024e-01,  4.85301249e-01,  2.91611159e-01, -5.00424663e-01,\n",
       "       -3.00318198e-01, -2.44894928e+00, -8.21226409e-01, -2.57209256e-01,\n",
       "        4.60674089e-01,  7.36556162e-02, -1.21038676e+00,  1.67079883e+00,\n",
       "        1.37782384e+00, -5.39686479e-01,  2.00222693e+00, -2.82755669e-01,\n",
       "        1.04767172e+00, -1.18491690e+00,  1.39608731e+00, -6.69562571e-01,\n",
       "       -6.76479203e-01, -6.18890201e-01,  3.27446117e-01,  2.25947044e+00,\n",
       "        2.42169701e+00,  1.22015612e+00, -7.39546804e-03, -1.38172477e-01,\n",
       "       -1.41882497e-01,  1.72179972e-01, -1.02081433e+00, -3.39884184e-01,\n",
       "        1.84409405e+00,  6.26232248e-01, -5.34493297e-01, -4.62805432e-01,\n",
       "        9.16809724e-01,  5.91074853e-01, -5.64993276e-01,  1.15806107e+00,\n",
       "        2.72911969e-01,  1.06194673e+00, -1.53148955e-01, -5.30594248e-01,\n",
       "        1.28363544e-01, -9.57588241e-01,  4.27632568e-01,  1.91121845e-01,\n",
       "        1.36157029e+00,  4.27149347e-01, -1.84449451e-01, -4.38642976e-01,\n",
       "       -2.83840492e-01,  3.79816707e-01, -1.39318329e+00, -7.24198373e-01,\n",
       "       -2.35549295e+00, -4.37047350e-02,  1.87620075e+00, -6.64163064e-01,\n",
       "       -8.71913524e-02, -1.29299232e+00,  1.74826317e+00,  1.46685637e+00,\n",
       "       -5.50122444e-02,  6.08180915e-01, -1.21503265e-01, -4.76343399e-02,\n",
       "        1.87374336e+00, -2.18979715e+00,  2.87281837e-01,  1.05749441e+00,\n",
       "       -1.05350518e+00,  3.05289133e-02,  5.15708241e-01,  6.73088225e-01,\n",
       "       -9.57722352e-01, -9.82005962e-01, -1.26421266e+00,  1.43882680e+00,\n",
       "       -1.86447307e+00,  7.30780587e-01, -2.16074329e+00, -8.16520456e-02,\n",
       "       -3.46340991e+00, -3.25504883e-01, -7.24452041e-01,  1.03506418e+00,\n",
       "        6.66362505e-02, -1.22945388e+00, -5.00746457e-01,  7.37660093e-01,\n",
       "        4.43984399e-02,  4.97885193e-01, -9.90022875e-01,  2.11117951e-01,\n",
       "       -1.91198626e-01,  5.19516594e-01,  6.67062935e-01, -6.36107693e-01,\n",
       "        7.79031631e-01, -2.93205958e-01, -1.17771715e+00,  6.86487528e-01,\n",
       "       -1.55082881e+00, -4.03297528e-01, -1.60317033e+00,  1.25491546e-01,\n",
       "        6.07765204e-01,  5.07818898e-01, -1.57766888e+00, -7.11307348e-01,\n",
       "       -3.27144439e-02, -3.72062224e-01,  6.72770248e-01, -2.33575811e-01,\n",
       "       -1.12157999e+00,  1.15122997e+00,  1.98523375e+00,  3.21541835e-01,\n",
       "        1.32531014e+00,  3.26389692e-01,  7.54149172e-01,  8.54032067e-01,\n",
       "       -3.69128463e-01, -5.51512450e-02,  8.48993185e-02, -5.55676205e-01,\n",
       "       -4.16598116e-01, -4.21450210e-01, -7.91880961e-02, -1.04353962e+00,\n",
       "       -1.40080207e+00, -7.45499763e-01, -1.94607227e-02, -9.27105024e-01,\n",
       "       -2.08667073e+00, -2.06398928e-01, -7.22662660e-01, -5.25333991e-01,\n",
       "       -7.17167069e-01,  1.85707719e+00, -6.56015814e-01, -1.09027458e-01,\n",
       "        1.69042447e+00,  6.97974164e-01, -8.10319523e-01,  3.29513724e-01,\n",
       "       -4.49654289e-01, -2.92447801e-01, -1.06250630e+00,  8.20696552e-01,\n",
       "        1.55253062e-01,  2.73894906e-01, -8.39907491e-01,  4.47211169e-01,\n",
       "        8.87943721e-01,  3.63825180e+00, -1.48744966e-01, -3.02728970e-01,\n",
       "       -4.21700526e-01,  1.78907939e-01,  1.39868894e+00, -7.75315185e-01,\n",
       "       -2.35446745e-01, -9.45841822e-01,  6.76061617e-01, -4.72498766e-03,\n",
       "        9.97016479e-01,  1.53611101e+00, -1.42177342e+00, -1.17689474e+00,\n",
       "        4.23787418e-01, -2.49820431e+00, -3.58117457e-01,  7.86217704e-01,\n",
       "       -1.07360542e+00,  4.30045576e-01, -1.89009337e+00, -7.48970871e-01,\n",
       "        9.06387855e-01,  1.60716983e+00, -2.18855000e-01, -4.00197510e-01,\n",
       "        6.52482154e-01, -8.42074585e-01,  1.43065442e+00, -7.70450604e-01,\n",
       "        7.56140912e-01, -9.38690961e-02, -1.74056824e-01, -6.69948769e-01,\n",
       "        1.02622249e+00, -1.30767198e+00, -7.96503372e-01, -1.01257216e+00,\n",
       "       -6.02724083e-01, -2.79463087e-01, -6.89501246e-01, -2.31744278e-02,\n",
       "        1.60250048e+00, -8.73909238e-01, -7.69143232e-01, -9.46924390e-01,\n",
       "        1.30323037e+00, -7.03018363e-01, -2.58557299e-01,  1.84039915e-01,\n",
       "       -9.88686586e-01, -1.74615434e-01,  7.75044205e-01, -1.56312128e+00,\n",
       "        7.73070513e-01,  1.07896339e+00, -4.38548216e-01, -9.60248192e-01,\n",
       "        1.10530919e+00,  2.31209071e+00, -9.77195029e-01,  8.91640574e-01,\n",
       "        3.49644456e-01, -2.05664410e+00,  3.06480734e-01, -6.72559395e-01,\n",
       "       -4.05068524e-04, -1.35659914e+00, -1.91383543e+00,  6.17067818e-01,\n",
       "        4.43557894e-01, -3.61423739e-01, -8.95143558e-01, -1.17062457e+00,\n",
       "        8.41316149e-01, -1.73790516e+00, -2.07274837e-02,  9.06340712e-01,\n",
       "       -1.97350607e+00, -5.30670692e-01,  1.29729490e-02,  6.85894759e-01,\n",
       "       -1.14268038e-01,  1.78628173e+00, -3.75809288e-01,  1.02822762e+00,\n",
       "       -8.76334176e-01, -7.59042726e-03,  4.61885363e-01, -5.90577023e-01,\n",
       "       -7.22041203e-01, -7.01261325e-01, -1.93728274e-01, -5.66328953e-01,\n",
       "        7.16925546e-01, -1.40594152e+00,  1.55824971e+00,  6.43696893e-01,\n",
       "        1.52642533e+00, -1.33265142e+00, -1.14234365e+00,  1.20972323e+00,\n",
       "        1.72167070e-01,  2.00891618e-01,  4.33677418e-01, -2.13961047e-01,\n",
       "       -1.02081158e+00,  8.39955781e-01,  1.46076017e-01, -1.46504515e+00,\n",
       "        2.77011833e-01,  1.04385143e+00, -5.05133819e-01, -7.58430870e-01,\n",
       "        8.49382572e-01, -2.67014162e-01, -1.11908130e+00,  1.28494739e+00,\n",
       "       -3.69655994e-01, -2.37458467e+00,  2.27613614e+00,  5.38897924e-01,\n",
       "        1.77491768e-01,  9.62283836e-01,  2.17413912e-02, -2.00408493e-01,\n",
       "       -3.03985723e-01,  1.38461976e-01, -2.33682666e-01,  9.06230542e-01,\n",
       "       -5.80663295e-01, -4.61010522e-01,  5.77098041e-01, -5.39033928e-01,\n",
       "       -9.45701979e-01,  6.43771555e-01,  1.86819857e+00,  1.42263015e+00,\n",
       "        4.00306006e-01, -1.44702349e-01, -1.22463962e+00, -1.11391564e+00,\n",
       "       -1.31431974e-01,  9.28628666e-01,  6.22207886e-01,  2.14220593e+00,\n",
       "       -1.51572523e+00,  1.50077639e+00,  4.89300962e-01,  1.29838978e+00,\n",
       "       -1.97752372e+00,  1.15373446e-01, -1.62294716e+00, -2.82084400e-01,\n",
       "        2.20147460e+00,  1.22777541e+00,  6.59840220e-02,  8.36914642e-01,\n",
       "        1.07851823e+00,  9.99840419e-01,  5.20140910e-01, -1.12045122e+00,\n",
       "        3.51554991e-01, -1.28162196e+00,  1.31261388e-01, -1.05285042e+00,\n",
       "       -2.27041645e-01, -5.62826329e-01, -4.05314776e-01, -2.37521139e-01,\n",
       "       -4.64988163e-02, -1.93691350e+00, -5.13729927e-01, -1.70621374e+00,\n",
       "        1.11958041e+00, -9.30597275e-01, -7.42138958e-02, -1.66782720e-01,\n",
       "        5.33206200e-01, -1.58336945e-01, -7.51112733e-01, -1.15655355e-01,\n",
       "        1.62938492e+00, -2.52385930e-01, -2.64685268e-03, -5.33320373e-01,\n",
       "        1.58962161e+00,  1.19684323e+00, -1.20405154e+00, -4.23803580e-01,\n",
       "       -1.01902040e-01,  2.66978487e+00, -6.11908732e-01, -1.03968275e-01,\n",
       "       -4.32337971e-01,  9.92764019e-02,  5.84956370e-01,  1.30634453e+00,\n",
       "        9.15684694e-01, -1.32718089e+00, -8.74888667e-01, -7.67537203e-01,\n",
       "        1.02585978e+00,  1.74600791e+00,  1.08128962e+00,  1.66764814e+00,\n",
       "        1.73429652e-01,  1.23090957e+00,  4.76617905e-01,  2.12135951e-02,\n",
       "        1.01816377e-01, -9.73999196e-01, -4.18360184e-01, -7.39001311e-02,\n",
       "       -1.17693810e+00,  1.25520715e-01,  2.19023607e+00,  4.80042131e-01,\n",
       "        6.93001793e-01,  6.33946197e-01,  1.75645286e+00,  2.41927248e-01,\n",
       "        1.05462468e+00, -2.86326390e-01, -8.24713853e-01, -1.31661823e+00,\n",
       "       -3.21615269e-01, -1.20757371e-02,  1.84946597e+00, -5.74544818e-01,\n",
       "       -1.07960353e+00, -4.12529989e-01,  1.80659250e+00, -7.45504677e-01,\n",
       "       -9.60001363e-01,  7.57304574e-01, -4.03215517e-01,  7.14740979e-01,\n",
       "        1.25256700e+00, -5.99243469e-01, -2.91375324e-01, -1.49018379e-01,\n",
       "        4.87527913e-01, -1.77543062e+00,  2.32649636e-01, -9.54430051e-01,\n",
       "       -9.34168601e-01, -3.29079766e-01, -1.94163089e-01, -5.88635624e-01,\n",
       "       -1.06780834e+00, -4.21974183e-01,  4.61610415e-01, -1.18038308e+00,\n",
       "       -2.09686857e+00, -2.88203525e-02,  1.83701796e+00, -1.25682600e+00,\n",
       "        8.38495765e-01, -3.19645720e-01, -1.90909550e+00,  4.22677763e-01,\n",
       "       -2.14081576e-01, -1.49346555e+00, -7.66296483e-01, -8.94556743e-02,\n",
       "        2.83763873e+00, -3.74212475e-01, -7.37498582e-01,  3.72743670e-01,\n",
       "        1.46304607e-01,  7.53605771e-02,  3.98595301e-01, -4.49839867e-01,\n",
       "       -5.54968417e-01,  1.50599645e+00, -9.85996637e-01, -1.23168011e-01,\n",
       "       -1.24074196e+00,  6.02909349e-01, -1.93155468e+00,  2.77809206e+00,\n",
       "        4.05756454e-01, -2.49315298e-01,  1.21233983e-01,  9.87444785e-01,\n",
       "        2.24495655e+00, -3.54764868e-01,  1.54513338e-01,  5.70532370e-02,\n",
       "        3.10233726e-01,  3.09364893e-01,  2.04471236e-01,  1.64177556e+00,\n",
       "       -6.40989440e-01,  3.01781080e-01, -1.82534577e+00,  2.01897232e+00,\n",
       "        1.43006634e+00,  1.76038907e+00, -4.99338655e-01,  1.39974263e+00,\n",
       "        1.88252100e+00,  7.38836486e-01,  2.36691212e-01, -4.38850310e-01,\n",
       "        1.46501577e+00, -5.57183247e-01, -1.52133220e+00,  9.29688035e-01,\n",
       "       -7.09529957e-02,  2.53401516e-01, -4.01565196e-01, -6.24761573e-02,\n",
       "       -2.80813253e-01,  7.82486241e-02,  2.98577341e-01,  1.93415903e-01,\n",
       "       -1.02522914e+00,  5.15650266e-01,  1.03825629e+00, -2.43941227e+00,\n",
       "       -8.54010338e-01,  2.43816799e-01, -1.30831260e-01, -1.07575474e+00,\n",
       "        3.26228611e-01,  1.66776851e+00,  1.91021945e+00,  1.64537525e+00,\n",
       "        1.13530200e+00, -3.00327997e-02, -9.60436995e-01, -1.23783231e-02,\n",
       "       -3.27593780e-01, -5.46339893e-01, -1.19185143e+00,  3.66404264e-01,\n",
       "        8.81937920e-01, -1.09942664e+00,  2.48557995e+00,  1.33984837e+00,\n",
       "       -2.04491561e+00, -1.28985955e+00, -1.19368532e+00, -5.76877829e-01,\n",
       "        1.10140665e+00,  2.65765710e-01,  3.19929111e-01,  1.38466963e+00,\n",
       "       -1.47440562e-01, -1.16167416e+00, -3.81603809e-01, -4.18793424e-01,\n",
       "        9.61381186e-02, -2.25905037e+00, -6.19801778e-01, -2.67634629e-01,\n",
       "       -3.29268696e-01,  1.20237068e+00, -9.27797024e-01,  6.57144566e-01,\n",
       "       -5.06595735e-01, -5.17014306e-01, -1.04029538e+00,  5.47654950e-01,\n",
       "       -1.09374684e+00,  1.64429260e+00, -7.16906799e-01, -2.80684746e-01,\n",
       "        1.05694781e+00, -8.53965236e-01, -4.48315775e-01,  6.61061239e-01,\n",
       "        6.37506392e-02,  3.85542279e-01, -1.69015063e+00, -9.01752778e-01,\n",
       "        6.04482734e-01, -1.73167355e-02, -8.14864553e-01,  6.00068797e-01,\n",
       "        1.83556730e-01, -5.08235817e-01, -8.22472738e-03,  5.03564838e-01,\n",
       "       -1.14611258e+00, -4.41687255e-01, -9.07778787e-01, -1.19148279e+00,\n",
       "       -7.38916522e-01, -1.49976797e+00,  7.77395103e-01,  1.76746222e+00,\n",
       "       -1.19118260e+00, -1.07848148e+00, -2.42739414e-02,  3.57053085e-01,\n",
       "       -1.40485467e+00,  1.92696724e+00,  3.00334973e+00,  4.35374469e-01,\n",
       "       -7.20362414e-01, -1.50175239e+00, -5.78724592e-01,  2.12344585e-01,\n",
       "        8.90977050e-01, -1.67168487e-01,  4.35461753e-01, -4.33504478e-01,\n",
       "        2.83474762e-01, -5.35027613e-02,  2.09926028e+00, -7.89874871e-01,\n",
       "       -1.49176017e+00, -4.84843959e-01,  3.14148435e-01,  8.57873422e-01,\n",
       "       -1.68167279e-01,  1.31418118e+00, -1.77647161e-01,  1.43642081e+00,\n",
       "       -1.62589450e+00,  1.62301472e+00,  1.16487838e+00, -1.37471486e-01,\n",
       "        8.60433278e-01, -1.13486132e-01,  3.99028035e-01, -5.40745642e-01,\n",
       "        9.31600515e-01, -6.56745464e-01,  1.51480432e+00,  1.26772935e-01,\n",
       "       -2.79292009e-01, -2.86625175e+00,  2.46852818e-02, -8.20527689e-02,\n",
       "        2.30937347e+00, -8.29296597e-01, -4.88849066e-01,  9.08935416e-01,\n",
       "        1.85088951e-01,  1.06605839e+00, -2.01715741e+00,  4.15333150e-01,\n",
       "       -1.84353636e+00,  6.63051977e-01, -5.84896222e-01,  6.26911590e-01,\n",
       "       -5.43508024e-01, -2.06167809e+00, -5.85281365e-01, -3.28635665e-01,\n",
       "       -2.70547014e-02,  2.78386841e-01,  2.66059601e-01,  5.79043642e-01,\n",
       "        1.10028867e-01, -5.31094300e-01, -5.30218310e-01,  1.20852170e+00,\n",
       "        6.09426873e-01, -1.55556690e+00, -1.05850362e+00,  4.53329878e-01,\n",
       "       -8.28256432e-01, -6.44884645e-01, -2.77469619e-01,  5.26980127e-01,\n",
       "        1.07206197e+00, -1.69613867e-01, -7.82294089e-01, -7.78124168e-01,\n",
       "       -1.32238936e+00, -8.94117552e-01, -5.09587306e-01, -6.82668136e-01,\n",
       "       -8.37261835e-02,  2.78191818e-01, -1.98719798e-01, -1.42381694e+00,\n",
       "        5.68232716e-01, -1.41974719e+00,  1.05256088e+00, -7.02583322e-02,\n",
       "       -1.07064808e+00,  1.18891962e+00,  1.64498951e+00, -2.83314000e-01,\n",
       "        4.75149486e-01,  1.56950805e+00, -2.30712154e+00,  1.04701208e+00,\n",
       "        2.09016565e-01, -6.69451592e-01, -7.44574626e-01, -1.44303482e-01,\n",
       "        5.06174209e-01,  4.53713969e-01,  4.67738605e-01,  1.31886857e+00,\n",
       "       -6.74281176e-01, -7.31107235e-04,  8.78518962e-01,  1.71772802e-01,\n",
       "        8.96114354e-01,  7.58089270e-01,  6.62182361e-02, -3.37558318e-01,\n",
       "       -9.12276698e-01, -1.70673317e+00,  3.97505657e-02,  3.22930809e-01,\n",
       "       -5.21139857e-02, -1.92609690e-01,  5.88143320e-01, -5.73766805e-02,\n",
       "        2.08900309e+00, -2.70388044e-02,  6.41253619e-01, -5.76177071e-01,\n",
       "        6.31029513e-01,  7.10192908e-01,  4.27907196e-02,  1.36690549e+00,\n",
       "        5.28610447e-01,  6.39164052e-01,  4.72272380e-01, -2.19874222e+00,\n",
       "       -7.30493210e-01, -1.17134287e-01,  6.94139350e-01,  5.33837397e-01,\n",
       "       -5.11295577e-01,  9.23303948e-01,  2.47301281e-01, -1.06721251e+00,\n",
       "        3.28890658e-01, -1.85693406e-01, -1.09967857e-01,  4.34041405e-01,\n",
       "       -1.32690078e+00, -1.12448734e-01,  1.32744358e+00, -3.79526219e-01,\n",
       "        1.50963373e+00,  9.18314118e-01, -2.37391285e+00,  3.07897583e-01,\n",
       "       -4.71933846e-01, -2.60825893e+00, -1.25211087e+00,  3.20836563e-01,\n",
       "       -3.93464748e-01, -5.85811485e-01,  2.58928770e+00,  1.65809907e+00,\n",
       "        1.30231894e+00, -8.59001727e-01, -1.99126622e-01, -1.55752894e-01,\n",
       "        3.67065060e-01,  1.65065914e-01, -4.57649923e-01, -5.11169817e-01,\n",
       "        1.30529502e+00,  2.40587670e-01,  9.11972961e-01,  2.63095678e-01,\n",
       "        1.55869983e+00,  1.01779327e-01, -5.88592772e-01, -1.25761664e+00,\n",
       "        9.68947089e-01,  1.29008025e+00,  1.10680108e+00, -1.49792991e+00,\n",
       "        2.86190510e+00,  2.90648072e-01,  1.31326840e+00, -1.86382281e+00,\n",
       "        2.20080684e+00, -8.35339312e-01,  1.08197456e+00,  8.14962708e-01,\n",
       "        1.53871673e+00, -7.43427191e-02, -2.07231113e+00, -8.03651110e-01,\n",
       "       -6.63011326e-01,  1.29623509e-01, -1.60277954e-02,  1.27860901e+00,\n",
       "        5.51371011e-02,  6.96016082e-01, -5.67445803e-01,  6.77397433e-01,\n",
       "       -8.88475286e-01, -9.75281936e-01,  3.38450352e-01, -8.14578010e-01,\n",
       "       -2.59385953e-02, -1.04456947e+00,  1.26526452e+00, -8.42276660e-01,\n",
       "       -3.01393652e-01, -8.55746392e-01, -5.23655534e-01,  6.65730731e-01,\n",
       "        6.88228890e-01,  2.04014901e+00,  7.39154359e-01,  6.34621815e-01,\n",
       "       -8.12189154e-01, -5.09501999e-01, -3.90167880e-01,  1.06717744e+00,\n",
       "        1.95852926e+00, -8.53644588e-02,  2.73581024e+00,  2.86550550e-01,\n",
       "       -4.16132966e-01, -6.73534567e-01,  1.96139234e+00, -1.65768220e+00,\n",
       "        2.74403135e-01,  1.34238155e+00, -5.79326770e-01,  5.20978687e-01,\n",
       "        6.65637347e-01,  1.48099857e-01, -1.23835369e+00, -1.13996165e+00,\n",
       "       -1.46789315e+00,  2.76738763e-01, -1.05288873e+00,  9.31083121e-01,\n",
       "        3.26351602e-01,  2.36609431e-01, -3.38786380e-01, -2.01933244e+00,\n",
       "        1.91049933e+00, -7.93692860e-01, -1.37484504e+00,  7.41866691e-01,\n",
       "       -2.45018729e-03, -9.80941162e-01,  6.56463224e-01,  9.48336356e-01,\n",
       "       -9.29049820e-02,  8.76898801e-02,  5.83608955e-01, -5.81394887e-01,\n",
       "        5.91297669e-01, -1.05806622e+00,  1.97029344e+00, -5.61045020e-02,\n",
       "       -1.15250593e-01,  2.22857480e-01, -4.34886763e-01, -5.61138274e-01,\n",
       "       -1.26095724e-01,  1.98358962e+00, -1.55418088e+00,  2.47058144e+00,\n",
       "        1.11031713e+00,  3.43485160e-01, -1.76343414e+00,  1.98503258e-01,\n",
       "        6.20044502e-01, -1.38737869e+00, -1.21741925e+00, -5.86305706e-01,\n",
       "       -4.60014134e-01, -1.26264552e+00,  9.77152474e-01, -1.19605134e+00,\n",
       "        2.15289569e+00,  9.03547549e-01,  1.29914858e+00, -6.67824251e-01,\n",
       "        7.00360168e-01,  7.08913286e-02, -1.78543954e+00, -3.10351952e-01,\n",
       "        3.16656400e-01,  6.36942383e-01,  3.60267512e-01, -9.80929959e-01,\n",
       "        1.32477927e+00, -7.43887504e-01, -1.19100428e+00, -8.13459772e-01,\n",
       "        4.74762019e-02,  2.36292602e-01, -4.94533902e-01,  1.10994960e+00,\n",
       "        7.18990366e-02,  1.08381934e+00, -6.70801459e-01,  1.00372095e+00,\n",
       "       -1.08031748e-01,  5.71433632e-01,  1.23232056e+00, -1.91051120e+00,\n",
       "        1.25589712e+00, -7.28380137e-02,  4.15291996e-01, -4.89285868e-01,\n",
       "       -5.50607591e-02,  9.99190324e-02, -1.16811396e+00,  4.68239886e-01,\n",
       "       -7.05266149e-01, -9.32959406e-01, -8.55115822e-02,  2.72547911e+00,\n",
       "       -1.10878012e+00, -7.26278406e-04,  6.59205909e-01,  5.62125429e-01,\n",
       "        9.94458658e-01,  9.72308748e-01,  7.40849765e-01,  6.81682363e-01,\n",
       "       -1.99473751e+00, -5.29013069e-02,  1.54362229e-01, -6.31760511e-01,\n",
       "        3.72890659e-01, -9.10304460e-02,  7.89819099e-01, -1.33637566e+00,\n",
       "        2.89439684e-01, -6.54922520e-01, -1.11428126e-02,  4.36144044e-01,\n",
       "       -8.13980754e-01, -6.54330604e-01, -4.21273265e-01,  3.62004282e-01,\n",
       "       -8.72853305e-01,  8.79434469e-01, -2.30628407e-01,  4.81384204e-02,\n",
       "        6.66906273e-01,  9.51854885e-01,  2.85308357e-01,  1.51415676e+00,\n",
       "        4.88603242e-02, -6.16220276e-01,  1.23907410e+00, -2.02141779e-02,\n",
       "        4.49662490e-01, -2.05068964e+00, -2.28153637e-01, -4.37702055e-01,\n",
       "        8.83401619e-01,  1.10336857e+00, -4.39552420e-01,  2.78375987e-01,\n",
       "        1.12381570e+00,  3.74739765e-01, -2.15381190e+00, -6.92690858e-01,\n",
       "        5.14470350e-01, -1.78883488e+00,  1.91890494e-01, -1.38139707e+00,\n",
       "       -2.26319266e-01,  3.35419930e-01,  6.85372631e-01,  1.97171350e+00,\n",
       "       -6.94270376e-01,  1.26468050e+00,  2.48326415e-01, -5.91942803e-01,\n",
       "       -9.60389457e-01,  4.76246707e-03,  4.94843072e-01,  1.15382135e+00,\n",
       "       -6.53853151e-01,  1.11724181e+00,  7.95001200e-01,  6.75486643e-01,\n",
       "       -1.33090990e+00, -9.82758979e-01,  1.30182770e+00, -5.77544237e-01,\n",
       "        2.22763058e-01,  1.59465638e+00,  3.17006761e-01,  7.75655587e-01,\n",
       "       -1.45576560e-01,  1.03903416e+00,  2.65686607e-01, -9.53576818e-01,\n",
       "        2.17287400e+00, -5.87144063e-01, -3.97741943e-02, -9.51824960e-02,\n",
       "       -9.50944822e-01,  6.07766490e-01, -1.01857815e+00,  6.87870402e-01,\n",
       "        2.93157440e-01, -1.94802612e+00, -1.27881802e+00,  1.51933037e+00,\n",
       "       -3.68395721e-01, -1.61623988e-01,  3.98942256e-01,  1.32340400e+00,\n",
       "       -1.41720227e-01,  6.96362690e-01,  1.37092071e+00, -6.99905324e-01,\n",
       "       -1.53616412e+00, -3.56146864e-01,  1.80777436e+00, -7.25497814e-01,\n",
       "        3.60255974e-01, -8.57879190e-01, -2.00613109e-01,  9.58356737e-01,\n",
       "       -9.99167574e-01,  5.60900051e-01, -8.06138441e-01,  5.10364840e-01])"
      ]
     },
     "execution_count": 120,
     "metadata": {},
     "output_type": "execute_result"
    }
   ],
   "source": [
    "data"
   ]
  },
  {
   "cell_type": "code",
   "execution_count": 121,
   "id": "fd2a36e0",
   "metadata": {},
   "outputs": [
    {
     "data": {
      "text/plain": [
       "(-3.464, -1.211]     100\n",
       "(-1.211, -0.0294]    400\n",
       "(-0.0294, 1.324]     400\n",
       "(1.324, 3.638]       100\n",
       "Name: count, dtype: int64"
      ]
     },
     "execution_count": 121,
     "metadata": {},
     "output_type": "execute_result"
    }
   ],
   "source": [
    "pd.qcut(data, [0, 0.1, 0.5, 0.9, 1.]).value_counts()"
   ]
  },
  {
   "cell_type": "code",
   "execution_count": 174,
   "id": "aa131714",
   "metadata": {},
   "outputs": [
    {
     "data": {
      "text/plain": [
       "array([ 6.62707686e-01, -7.74351941e-02,  3.18627461e-01,  1.00948700e+00,\n",
       "        3.10514853e-01, -5.02480218e-01, -2.13621290e-01, -1.95946377e+00,\n",
       "        3.62949757e-01, -7.40016725e-01,  1.49586429e+00,  6.67520462e-01,\n",
       "       -1.61773961e+00,  4.07470776e-01, -6.59027685e-01, -1.97569529e+00,\n",
       "        1.58913521e+00, -8.66251567e-01,  1.35616367e+00,  4.52707033e-03,\n",
       "        9.97890234e-01,  1.12037552e+00, -1.05560243e+00,  7.63684546e-01,\n",
       "       -1.54074274e+00, -5.19051676e-01, -4.75550361e-01, -1.69574074e+00,\n",
       "       -1.06948051e-01,  6.91022273e-01, -4.46604986e-01,  1.72342410e-01,\n",
       "        2.47291726e-01,  8.35060756e-01, -2.68843882e-01, -1.25603628e+00,\n",
       "        1.19809750e+00,  1.19491930e+00,  5.75859752e-01,  9.73314719e-01,\n",
       "        1.07020195e+00, -1.23780691e+00, -6.13894707e-01,  1.30878543e+00,\n",
       "       -7.15784507e-01, -5.13101128e-01,  5.27108421e-01, -6.14847922e-02,\n",
       "        1.17260286e+00,  1.20517758e-01,  2.00087906e+00,  8.07040755e-01,\n",
       "       -9.96550568e-01,  1.53034650e+00,  8.66148696e-01,  2.00489917e+00,\n",
       "       -7.25622025e-03,  2.28994637e-01,  5.22621625e-01, -5.11518795e-01,\n",
       "       -5.95460631e-01,  7.92256372e-01,  9.83590453e-01,  1.27153840e+00,\n",
       "       -1.41474118e+00, -7.58526322e-01,  1.14835769e+00,  1.08177588e+00,\n",
       "        1.78151203e+00, -5.86412965e-01,  4.09621544e-01, -3.50224279e-02,\n",
       "       -1.09583910e+00, -1.64768825e+00,  8.72242791e-01, -2.00164210e-01,\n",
       "       -5.87704842e-01,  1.87974720e-01, -3.71806260e-01, -1.80075934e+00,\n",
       "       -1.94940611e-01, -4.41618575e-01,  5.33593208e-01,  1.36800156e+00,\n",
       "       -1.33574310e+00, -6.02023446e-01,  4.31036358e-01,  1.64558084e+00,\n",
       "       -2.78123550e-01, -2.95640797e-02, -6.75615933e-01, -1.16656970e+00,\n",
       "       -1.42378284e+00,  1.48699520e+00,  4.80560786e-01,  9.10786331e-02,\n",
       "        1.21670966e+00, -7.16181145e-01,  4.83789474e-01, -1.04920042e+00,\n",
       "        1.92863022e+00, -1.31451077e+00, -8.53492839e-01,  7.95733168e-02,\n",
       "        1.32013540e+00, -7.38405553e-02, -3.44912220e-01,  1.15851580e+00,\n",
       "       -1.05367905e+00,  3.40804183e-01, -7.74685407e-01,  4.51315550e-01,\n",
       "       -4.73871944e-01, -7.23110810e-01, -5.35587193e-01,  4.49246662e-01,\n",
       "       -1.09406645e+00,  1.26632862e+00,  7.43829295e-01, -6.88819730e-01,\n",
       "       -1.80616556e+00,  5.30015951e-01, -1.03383526e+00, -1.46839376e-02,\n",
       "       -9.84000926e-01, -9.10108372e-01, -3.25062501e-01,  1.29200177e+00,\n",
       "        4.86830000e-02,  7.62702432e-01, -2.10631945e+00,  1.27804286e+00,\n",
       "       -1.29918542e-01, -1.56392587e+00, -2.09262189e-01, -1.61232823e+00,\n",
       "        4.36628711e-01, -1.12890963e+00, -7.49937809e-01, -2.45562814e-01,\n",
       "       -1.30981531e+00,  1.40572848e-01, -1.27248503e+00,  2.79068588e-01,\n",
       "        1.56372707e-01, -2.50296772e-01, -1.50859850e+00, -3.77809672e-01,\n",
       "        2.97220254e-01, -1.98724306e-01, -7.46698505e-01,  1.81794942e+00,\n",
       "       -9.37378951e-01,  9.06446431e-01, -1.10494672e+00,  1.42706803e+00,\n",
       "        1.20897941e-01, -1.49301348e-01,  8.90816174e-01, -1.15922333e+00,\n",
       "        4.42813987e-01,  4.45484828e-01, -1.13007038e+00,  9.74438939e-01,\n",
       "       -2.82666685e-01,  1.22717326e+00, -9.86686437e-01, -1.08107956e+00,\n",
       "       -1.12187701e+00, -4.69988705e-02,  1.16616172e+00, -2.38730128e+00,\n",
       "       -2.11522947e-01,  1.33316818e+00,  1.62086432e+00,  4.36788819e-01,\n",
       "       -1.95175100e-01,  2.83027458e+00,  1.42122845e+00,  2.46456186e-01,\n",
       "       -2.66160930e+00, -9.17139673e-01, -4.14378579e-03, -4.87791125e-01,\n",
       "       -9.51721300e-01,  4.70514802e-01,  4.76880252e-01,  7.81497373e-01,\n",
       "        1.05177741e+00,  8.91986805e-01,  5.97103975e-01, -7.26131683e-02,\n",
       "        3.12051854e-02, -9.49721756e-01,  1.51269604e+00,  2.42459394e-01,\n",
       "       -1.03564051e+00,  2.34138971e+00,  1.64258580e-01,  1.15228647e+00,\n",
       "       -6.14555357e-01, -2.65406868e-02,  7.13605604e-02,  1.55002865e+00,\n",
       "       -2.00612246e+00, -1.17285288e+00, -1.19854509e+00, -2.17659768e-01,\n",
       "       -1.73831993e-01, -4.60511802e-01, -2.36722839e+00,  2.90027430e-01,\n",
       "        1.89487904e-01,  8.47536686e-02,  1.21658674e+00, -4.01643870e-01,\n",
       "       -9.62555442e-01, -2.98881850e-01,  1.47083817e+00, -1.23431919e+00,\n",
       "       -7.67649091e-01, -8.25435396e-01,  1.19852176e+00, -1.58204508e-01,\n",
       "        1.09070570e-01, -7.24390190e-01, -1.37467966e+00, -1.57546864e+00,\n",
       "       -5.73636549e-01, -2.40134701e-01, -9.66863926e-01,  1.09704262e+00,\n",
       "       -4.36753710e-01,  1.00946594e+00,  1.07612060e+00, -1.09970422e+00,\n",
       "        1.53114548e+00,  6.84777093e-01, -2.73631433e-01,  9.06268628e-01,\n",
       "       -1.34210901e+00, -1.41983275e+00,  2.23433988e-01,  1.15873076e+00,\n",
       "        6.27293868e-01,  5.49169056e-02,  4.17875262e-01, -5.54590285e-01,\n",
       "       -7.84785298e-02, -1.16778479e+00, -1.10628080e+00,  1.91311089e+00,\n",
       "       -3.91806574e-01, -6.75046010e-01,  5.30383937e-01,  1.61358825e+00,\n",
       "        1.34238910e+00,  6.66657031e-01, -1.59026167e-01, -2.45980735e-01,\n",
       "        5.92739834e-01, -2.64469872e-01, -6.50876495e-01,  1.04160086e+00,\n",
       "        2.20375077e-01,  1.07099726e+00,  8.67042247e-01,  3.15788975e-01,\n",
       "        1.28706466e+00,  7.30306938e-01,  6.84975201e-01,  9.84453396e-01,\n",
       "       -4.79768024e-01, -9.52486229e-01,  9.17367658e-01,  1.30567960e+00,\n",
       "        4.10233355e-01,  7.84978933e-01,  1.41236337e+00, -1.06462845e+00,\n",
       "       -8.47040943e-02, -8.56402217e-01,  2.00103009e+00, -2.62135973e+00,\n",
       "       -9.06534276e-01,  4.39388200e-01, -1.31613544e+00, -1.70170476e-01,\n",
       "       -3.92020267e-02,  9.12381614e-01, -1.11611319e+00, -1.31002223e+00,\n",
       "       -5.33949575e-01,  5.03661713e-01,  4.82864210e-01, -1.22680642e+00,\n",
       "       -1.24638228e+00,  9.47932332e-01,  1.99316085e+00, -4.41407086e-01,\n",
       "       -1.57807909e+00,  1.30196059e+00, -1.36321012e+00,  9.14478490e-01,\n",
       "        1.45861427e-01, -1.75741304e+00,  8.48925369e-01,  1.86716399e+00,\n",
       "       -8.89128923e-02, -9.95243102e-01,  9.92288324e-01,  3.75818131e-02,\n",
       "        4.84162815e-01,  1.40193588e+00,  1.52247996e-01, -9.17151721e-01,\n",
       "       -1.35963312e-01, -1.26078375e+00, -3.47022525e-01, -9.28446990e-02,\n",
       "       -4.50554582e-01,  2.20507266e-01,  1.65880905e-01, -9.88722163e-01,\n",
       "        1.65762321e-01, -2.83831087e-03,  7.06260752e-01,  3.10149358e-01,\n",
       "       -4.92552218e-01, -1.72294158e+00,  2.87213707e-01, -2.90009375e-01,\n",
       "       -6.46497141e-01,  1.25897666e-01,  1.46450898e+00, -1.93077344e-01,\n",
       "        1.19363668e+00,  1.17053340e+00,  3.67673682e-01,  7.90620054e-02,\n",
       "       -1.78193444e-01, -5.08202086e-01,  1.47906090e+00, -4.25463844e-01,\n",
       "        1.50320485e-01,  1.11567282e+00, -2.98444700e-01, -1.14447301e+00,\n",
       "        5.69273481e-01, -3.75536571e-01,  8.54216806e-01,  4.64769977e-01,\n",
       "       -8.77393945e-01,  1.38543413e+00, -3.88202044e-01,  7.35343916e-01,\n",
       "        1.14850152e+00, -4.11949730e-02, -8.59165293e-01,  8.71209728e-01,\n",
       "        9.49469263e-02,  1.46925691e+00, -6.57572543e-01,  4.30329253e-01,\n",
       "        1.93696446e+00,  1.20221640e+00,  4.49833470e-01,  5.79861510e-01,\n",
       "       -1.98630843e+00,  9.95614745e-01,  8.47832526e-01,  3.04359653e-01,\n",
       "       -1.03036440e+00, -5.81959994e-01,  4.03710397e-01, -1.23392231e-01,\n",
       "        5.10865793e-03, -2.69211293e+00,  1.36320355e+00,  6.87705163e-01,\n",
       "       -8.19081120e-01, -6.89150942e-01, -1.41836784e+00, -1.02743884e+00,\n",
       "       -2.18951268e-01, -1.25035377e+00,  4.80204662e-02,  6.34358130e-01,\n",
       "        4.85319266e-01,  2.09589192e-01,  2.61799007e-01, -9.26325883e-02,\n",
       "       -3.72380525e-01, -1.36761495e+00,  5.21287732e-01,  6.02328368e-02,\n",
       "       -1.78241273e+00,  1.23692825e+00, -4.40443670e-01,  9.98102094e-01,\n",
       "        6.21169695e-01, -1.17583154e+00,  2.20634480e-01,  1.79857634e+00,\n",
       "       -7.16329281e-01,  1.65607878e-01, -3.69569540e-01, -1.99710830e+00,\n",
       "       -8.13597572e-01, -1.09087286e+00,  1.95085632e+00, -4.11876352e-01,\n",
       "        3.33086765e-01,  1.71051279e-01,  7.01468980e-01,  3.57045012e-01,\n",
       "       -5.91890918e-01, -3.37631785e-01,  1.36001060e+00, -3.29239067e-01,\n",
       "        2.02705704e+00, -4.25546954e-01, -1.01117049e-02, -1.92986354e-01,\n",
       "        9.99830048e-01,  1.72605812e+00,  7.69095063e-01, -4.47353311e-01,\n",
       "       -3.65300488e-01,  9.55208040e-01, -8.37041460e-01,  6.05733795e-01,\n",
       "       -5.33214096e-01, -4.68547170e-01, -1.08341955e+00,  1.81188286e+00,\n",
       "       -7.16954761e-01, -9.98370603e-01, -4.19554783e-02, -1.22989708e+00,\n",
       "       -3.35771818e-01,  3.00223059e-01,  1.05042215e-01,  3.41109768e+00,\n",
       "        1.12451218e+00,  1.39603255e+00,  2.77172773e-01,  9.87028951e-01,\n",
       "       -5.17929537e-01,  1.24065195e+00, -2.25670487e+00, -2.23952580e+00,\n",
       "        6.97246306e-01, -1.45666558e+00,  1.33954254e+00, -3.52997491e-01,\n",
       "       -9.60906188e-01, -3.54020579e-01, -2.59915510e-01,  1.04699549e+00,\n",
       "       -4.00668795e-01, -1.38815208e+00, -1.04487315e+00, -1.04690288e+00,\n",
       "        1.84722165e+00, -2.57232245e-01,  1.16278611e-01, -1.52311698e+00,\n",
       "        5.11282954e-01,  6.28907684e-01,  4.14395285e-01,  1.82359945e+00,\n",
       "       -9.10921444e-01, -9.47136817e-01,  1.80746802e+00, -8.31949561e-01,\n",
       "        1.70089185e-01,  1.06330790e+00, -6.14033168e-01,  6.96059494e-01,\n",
       "       -2.45925067e-01, -2.08967667e+00, -3.91072016e-01, -2.31757820e+00,\n",
       "        2.53018159e-01, -7.12093134e-01, -2.15677448e-01,  1.88988810e+00,\n",
       "        1.25427397e+00,  1.45864354e+00, -1.47991799e+00, -6.73693849e-01,\n",
       "       -2.61819941e-01,  4.60028461e-01, -1.35318672e+00, -1.26881096e-03,\n",
       "        5.02820775e-01, -1.06126115e-01, -2.67778682e-01, -3.51074383e-01])"
      ]
     },
     "execution_count": 174,
     "metadata": {},
     "output_type": "execute_result"
    }
   ],
   "source": [
    "my_data"
   ]
  },
  {
   "cell_type": "code",
   "execution_count": 176,
   "id": "90bf951d",
   "metadata": {},
   "outputs": [
    {
     "data": {
      "text/plain": [
       "(-2.693, -1.251]      50\n",
       "(-1.251, -0.523]     100\n",
       "(-0.523, -0.0124]    100\n",
       "(-0.0124, 0.544]     100\n",
       "(0.544, 1.321]       100\n",
       "(1.321, 3.411]        50\n",
       "Name: count, dtype: int64"
      ]
     },
     "execution_count": 176,
     "metadata": {},
     "output_type": "execute_result"
    }
   ],
   "source": [
    "pd.qcut(my_data, [0, 0.1, 0.3, 0.5, 0.7, 0.9, 1.]).value_counts()"
   ]
  },
  {
   "cell_type": "markdown",
   "id": "5b436e9f-f304-4df8-b946-6a24e89261aa",
   "metadata": {},
   "source": [
    "El segundo argumento `[0, 0.1, 0.5, 0.9, 1.]` especifica los puntos de corte para los cuantiles.  \n",
    "Estos puntos de corte son porcentajes que indican cómo se deben dividir los datos.  \n",
    "\n",
    "`0` corresponde al valor mínimo.  \n",
    "`0.1` corresponde al percentil 10 (el valor por debajo del cual se encuentra el 10% de los datos).  \n",
    "`0.5` corresponde al percentil 50 (la mediana).  \n",
    "`0.9` corresponde al percentil 90 (el valor por debajo del cual se encuentra el 90% de los datos).  \n",
    "`1.` corresponde al valor máximo.  "
   ]
  },
  {
   "cell_type": "markdown",
   "id": "2569e7b5",
   "metadata": {},
   "source": [
    "__Hasta aquí CLASE 72__\n",
    "- Data Cleaning - Wrangling"
   ]
  },
  {
   "cell_type": "markdown",
   "id": "a8c6eb5c",
   "metadata": {},
   "source": [
    "------"
   ]
  },
  {
   "cell_type": "markdown",
   "id": "7b325ebd",
   "metadata": {
    "slideshow": {
     "slide_type": "slide"
    }
   },
   "source": [
    "### Detección y filtrado de valores atípicos (outliers)\n",
    "\n",
    "Filtrar o transformar los valores atípicos es en gran medida una cuestión de aplicar operaciones de arrays. Considere un DataFrame con algunos datos distribuidos normalmente:"
   ]
  },
  {
   "cell_type": "code",
   "execution_count": 122,
   "id": "443e3d59",
   "metadata": {
    "slideshow": {
     "slide_type": "slide"
    }
   },
   "outputs": [
    {
     "data": {
      "text/html": [
       "<div>\n",
       "<style scoped>\n",
       "    .dataframe tbody tr th:only-of-type {\n",
       "        vertical-align: middle;\n",
       "    }\n",
       "\n",
       "    .dataframe tbody tr th {\n",
       "        vertical-align: top;\n",
       "    }\n",
       "\n",
       "    .dataframe thead th {\n",
       "        text-align: right;\n",
       "    }\n",
       "</style>\n",
       "<table border=\"1\" class=\"dataframe\">\n",
       "  <thead>\n",
       "    <tr style=\"text-align: right;\">\n",
       "      <th></th>\n",
       "      <th>0</th>\n",
       "      <th>1</th>\n",
       "      <th>2</th>\n",
       "      <th>3</th>\n",
       "    </tr>\n",
       "  </thead>\n",
       "  <tbody>\n",
       "    <tr>\n",
       "      <th>0</th>\n",
       "      <td>-0.438848</td>\n",
       "      <td>0.785385</td>\n",
       "      <td>1.617849</td>\n",
       "      <td>1.504195</td>\n",
       "    </tr>\n",
       "    <tr>\n",
       "      <th>1</th>\n",
       "      <td>-0.285067</td>\n",
       "      <td>0.905562</td>\n",
       "      <td>-1.654496</td>\n",
       "      <td>0.570514</td>\n",
       "    </tr>\n",
       "    <tr>\n",
       "      <th>2</th>\n",
       "      <td>0.222243</td>\n",
       "      <td>-1.525609</td>\n",
       "      <td>0.108575</td>\n",
       "      <td>0.297103</td>\n",
       "    </tr>\n",
       "    <tr>\n",
       "      <th>3</th>\n",
       "      <td>0.863155</td>\n",
       "      <td>0.333035</td>\n",
       "      <td>-0.371610</td>\n",
       "      <td>-1.291936</td>\n",
       "    </tr>\n",
       "    <tr>\n",
       "      <th>4</th>\n",
       "      <td>-0.354495</td>\n",
       "      <td>-0.331208</td>\n",
       "      <td>0.495998</td>\n",
       "      <td>-1.200781</td>\n",
       "    </tr>\n",
       "    <tr>\n",
       "      <th>5</th>\n",
       "      <td>0.688959</td>\n",
       "      <td>-0.860597</td>\n",
       "      <td>0.945831</td>\n",
       "      <td>0.008581</td>\n",
       "    </tr>\n",
       "    <tr>\n",
       "      <th>6</th>\n",
       "      <td>-0.026201</td>\n",
       "      <td>0.378186</td>\n",
       "      <td>-0.460872</td>\n",
       "      <td>-0.027989</td>\n",
       "    </tr>\n",
       "    <tr>\n",
       "      <th>7</th>\n",
       "      <td>1.098794</td>\n",
       "      <td>-0.511932</td>\n",
       "      <td>1.447215</td>\n",
       "      <td>0.898190</td>\n",
       "    </tr>\n",
       "    <tr>\n",
       "      <th>8</th>\n",
       "      <td>0.055642</td>\n",
       "      <td>-0.213450</td>\n",
       "      <td>-0.597219</td>\n",
       "      <td>0.043893</td>\n",
       "    </tr>\n",
       "    <tr>\n",
       "      <th>9</th>\n",
       "      <td>0.466411</td>\n",
       "      <td>-1.847409</td>\n",
       "      <td>-0.235460</td>\n",
       "      <td>-0.184629</td>\n",
       "    </tr>\n",
       "    <tr>\n",
       "      <th>10</th>\n",
       "      <td>0.092745</td>\n",
       "      <td>1.331398</td>\n",
       "      <td>0.047033</td>\n",
       "      <td>1.119957</td>\n",
       "    </tr>\n",
       "    <tr>\n",
       "      <th>11</th>\n",
       "      <td>0.049936</td>\n",
       "      <td>0.068635</td>\n",
       "      <td>1.136127</td>\n",
       "      <td>-0.658406</td>\n",
       "    </tr>\n",
       "    <tr>\n",
       "      <th>12</th>\n",
       "      <td>0.502799</td>\n",
       "      <td>1.261281</td>\n",
       "      <td>1.170713</td>\n",
       "      <td>0.838118</td>\n",
       "    </tr>\n",
       "    <tr>\n",
       "      <th>13</th>\n",
       "      <td>1.478639</td>\n",
       "      <td>-0.195211</td>\n",
       "      <td>-0.807218</td>\n",
       "      <td>0.723385</td>\n",
       "    </tr>\n",
       "    <tr>\n",
       "      <th>14</th>\n",
       "      <td>0.959354</td>\n",
       "      <td>0.454120</td>\n",
       "      <td>-1.329750</td>\n",
       "      <td>-0.532269</td>\n",
       "    </tr>\n",
       "    <tr>\n",
       "      <th>15</th>\n",
       "      <td>-0.198542</td>\n",
       "      <td>0.149152</td>\n",
       "      <td>0.799892</td>\n",
       "      <td>1.498997</td>\n",
       "    </tr>\n",
       "    <tr>\n",
       "      <th>16</th>\n",
       "      <td>-0.545103</td>\n",
       "      <td>-0.795440</td>\n",
       "      <td>-1.348969</td>\n",
       "      <td>-0.365252</td>\n",
       "    </tr>\n",
       "    <tr>\n",
       "      <th>17</th>\n",
       "      <td>-1.328405</td>\n",
       "      <td>0.437358</td>\n",
       "      <td>-0.267449</td>\n",
       "      <td>0.353636</td>\n",
       "    </tr>\n",
       "    <tr>\n",
       "      <th>18</th>\n",
       "      <td>-0.986764</td>\n",
       "      <td>-0.419941</td>\n",
       "      <td>-0.167878</td>\n",
       "      <td>0.407861</td>\n",
       "    </tr>\n",
       "    <tr>\n",
       "      <th>19</th>\n",
       "      <td>-0.117729</td>\n",
       "      <td>-0.114732</td>\n",
       "      <td>0.783319</td>\n",
       "      <td>-0.626343</td>\n",
       "    </tr>\n",
       "    <tr>\n",
       "      <th>20</th>\n",
       "      <td>-0.747343</td>\n",
       "      <td>0.674391</td>\n",
       "      <td>1.343007</td>\n",
       "      <td>-0.178868</td>\n",
       "    </tr>\n",
       "    <tr>\n",
       "      <th>21</th>\n",
       "      <td>-0.129971</td>\n",
       "      <td>1.133694</td>\n",
       "      <td>0.818776</td>\n",
       "      <td>1.338331</td>\n",
       "    </tr>\n",
       "    <tr>\n",
       "      <th>22</th>\n",
       "      <td>-1.903429</td>\n",
       "      <td>-1.324539</td>\n",
       "      <td>2.415485</td>\n",
       "      <td>0.354312</td>\n",
       "    </tr>\n",
       "    <tr>\n",
       "      <th>23</th>\n",
       "      <td>-0.083536</td>\n",
       "      <td>3.121942</td>\n",
       "      <td>0.444238</td>\n",
       "      <td>0.403441</td>\n",
       "    </tr>\n",
       "    <tr>\n",
       "      <th>24</th>\n",
       "      <td>1.412851</td>\n",
       "      <td>-0.831445</td>\n",
       "      <td>-1.938788</td>\n",
       "      <td>-3.085276</td>\n",
       "    </tr>\n",
       "    <tr>\n",
       "      <th>25</th>\n",
       "      <td>-0.505159</td>\n",
       "      <td>1.176568</td>\n",
       "      <td>0.517876</td>\n",
       "      <td>0.114863</td>\n",
       "    </tr>\n",
       "    <tr>\n",
       "      <th>26</th>\n",
       "      <td>0.775469</td>\n",
       "      <td>0.361856</td>\n",
       "      <td>-1.046998</td>\n",
       "      <td>-0.556162</td>\n",
       "    </tr>\n",
       "    <tr>\n",
       "      <th>27</th>\n",
       "      <td>1.542096</td>\n",
       "      <td>-0.180632</td>\n",
       "      <td>-0.591911</td>\n",
       "      <td>0.642227</td>\n",
       "    </tr>\n",
       "    <tr>\n",
       "      <th>28</th>\n",
       "      <td>0.659176</td>\n",
       "      <td>-0.177495</td>\n",
       "      <td>-1.471347</td>\n",
       "      <td>-1.337918</td>\n",
       "    </tr>\n",
       "    <tr>\n",
       "      <th>29</th>\n",
       "      <td>-0.525852</td>\n",
       "      <td>0.376798</td>\n",
       "      <td>-1.319220</td>\n",
       "      <td>-0.589527</td>\n",
       "    </tr>\n",
       "    <tr>\n",
       "      <th>30</th>\n",
       "      <td>0.968849</td>\n",
       "      <td>0.824838</td>\n",
       "      <td>0.983290</td>\n",
       "      <td>0.276976</td>\n",
       "    </tr>\n",
       "    <tr>\n",
       "      <th>31</th>\n",
       "      <td>-0.264570</td>\n",
       "      <td>-2.095979</td>\n",
       "      <td>2.340635</td>\n",
       "      <td>0.964106</td>\n",
       "    </tr>\n",
       "    <tr>\n",
       "      <th>32</th>\n",
       "      <td>-0.804912</td>\n",
       "      <td>1.669169</td>\n",
       "      <td>0.822022</td>\n",
       "      <td>-0.303701</td>\n",
       "    </tr>\n",
       "    <tr>\n",
       "      <th>33</th>\n",
       "      <td>2.721808</td>\n",
       "      <td>1.014067</td>\n",
       "      <td>1.100052</td>\n",
       "      <td>0.217184</td>\n",
       "    </tr>\n",
       "    <tr>\n",
       "      <th>34</th>\n",
       "      <td>0.086141</td>\n",
       "      <td>-2.058735</td>\n",
       "      <td>-0.706202</td>\n",
       "      <td>0.451688</td>\n",
       "    </tr>\n",
       "    <tr>\n",
       "      <th>35</th>\n",
       "      <td>0.258486</td>\n",
       "      <td>0.360984</td>\n",
       "      <td>-0.094896</td>\n",
       "      <td>0.313985</td>\n",
       "    </tr>\n",
       "    <tr>\n",
       "      <th>36</th>\n",
       "      <td>0.010287</td>\n",
       "      <td>0.601145</td>\n",
       "      <td>-1.090861</td>\n",
       "      <td>0.836901</td>\n",
       "    </tr>\n",
       "    <tr>\n",
       "      <th>37</th>\n",
       "      <td>0.075018</td>\n",
       "      <td>-0.163733</td>\n",
       "      <td>-0.137167</td>\n",
       "      <td>-0.912108</td>\n",
       "    </tr>\n",
       "    <tr>\n",
       "      <th>38</th>\n",
       "      <td>0.337432</td>\n",
       "      <td>-0.536055</td>\n",
       "      <td>-0.985103</td>\n",
       "      <td>-0.068749</td>\n",
       "    </tr>\n",
       "    <tr>\n",
       "      <th>39</th>\n",
       "      <td>1.694729</td>\n",
       "      <td>0.862581</td>\n",
       "      <td>1.137272</td>\n",
       "      <td>0.353103</td>\n",
       "    </tr>\n",
       "    <tr>\n",
       "      <th>40</th>\n",
       "      <td>1.006927</td>\n",
       "      <td>-0.158770</td>\n",
       "      <td>0.438787</td>\n",
       "      <td>0.358077</td>\n",
       "    </tr>\n",
       "    <tr>\n",
       "      <th>41</th>\n",
       "      <td>-1.161263</td>\n",
       "      <td>1.236749</td>\n",
       "      <td>-0.593385</td>\n",
       "      <td>0.943951</td>\n",
       "    </tr>\n",
       "    <tr>\n",
       "      <th>42</th>\n",
       "      <td>0.162740</td>\n",
       "      <td>-1.488675</td>\n",
       "      <td>0.440496</td>\n",
       "      <td>-0.656167</td>\n",
       "    </tr>\n",
       "    <tr>\n",
       "      <th>43</th>\n",
       "      <td>-0.128717</td>\n",
       "      <td>0.346607</td>\n",
       "      <td>-0.834989</td>\n",
       "      <td>-0.907178</td>\n",
       "    </tr>\n",
       "    <tr>\n",
       "      <th>44</th>\n",
       "      <td>2.011071</td>\n",
       "      <td>2.298300</td>\n",
       "      <td>0.936544</td>\n",
       "      <td>-0.613211</td>\n",
       "    </tr>\n",
       "    <tr>\n",
       "      <th>45</th>\n",
       "      <td>-0.898586</td>\n",
       "      <td>1.138044</td>\n",
       "      <td>0.363369</td>\n",
       "      <td>-1.186063</td>\n",
       "    </tr>\n",
       "    <tr>\n",
       "      <th>46</th>\n",
       "      <td>-0.440888</td>\n",
       "      <td>0.007639</td>\n",
       "      <td>0.727047</td>\n",
       "      <td>-1.102353</td>\n",
       "    </tr>\n",
       "    <tr>\n",
       "      <th>47</th>\n",
       "      <td>-0.077783</td>\n",
       "      <td>-0.692620</td>\n",
       "      <td>0.113647</td>\n",
       "      <td>0.420957</td>\n",
       "    </tr>\n",
       "    <tr>\n",
       "      <th>48</th>\n",
       "      <td>1.362714</td>\n",
       "      <td>0.769301</td>\n",
       "      <td>0.760841</td>\n",
       "      <td>-1.062317</td>\n",
       "    </tr>\n",
       "    <tr>\n",
       "      <th>49</th>\n",
       "      <td>1.200613</td>\n",
       "      <td>-0.133678</td>\n",
       "      <td>-1.075425</td>\n",
       "      <td>0.258211</td>\n",
       "    </tr>\n",
       "  </tbody>\n",
       "</table>\n",
       "</div>"
      ],
      "text/plain": [
       "           0         1         2         3\n",
       "0  -0.438848  0.785385  1.617849  1.504195\n",
       "1  -0.285067  0.905562 -1.654496  0.570514\n",
       "2   0.222243 -1.525609  0.108575  0.297103\n",
       "3   0.863155  0.333035 -0.371610 -1.291936\n",
       "4  -0.354495 -0.331208  0.495998 -1.200781\n",
       "5   0.688959 -0.860597  0.945831  0.008581\n",
       "6  -0.026201  0.378186 -0.460872 -0.027989\n",
       "7   1.098794 -0.511932  1.447215  0.898190\n",
       "8   0.055642 -0.213450 -0.597219  0.043893\n",
       "9   0.466411 -1.847409 -0.235460 -0.184629\n",
       "10  0.092745  1.331398  0.047033  1.119957\n",
       "11  0.049936  0.068635  1.136127 -0.658406\n",
       "12  0.502799  1.261281  1.170713  0.838118\n",
       "13  1.478639 -0.195211 -0.807218  0.723385\n",
       "14  0.959354  0.454120 -1.329750 -0.532269\n",
       "15 -0.198542  0.149152  0.799892  1.498997\n",
       "16 -0.545103 -0.795440 -1.348969 -0.365252\n",
       "17 -1.328405  0.437358 -0.267449  0.353636\n",
       "18 -0.986764 -0.419941 -0.167878  0.407861\n",
       "19 -0.117729 -0.114732  0.783319 -0.626343\n",
       "20 -0.747343  0.674391  1.343007 -0.178868\n",
       "21 -0.129971  1.133694  0.818776  1.338331\n",
       "22 -1.903429 -1.324539  2.415485  0.354312\n",
       "23 -0.083536  3.121942  0.444238  0.403441\n",
       "24  1.412851 -0.831445 -1.938788 -3.085276\n",
       "25 -0.505159  1.176568  0.517876  0.114863\n",
       "26  0.775469  0.361856 -1.046998 -0.556162\n",
       "27  1.542096 -0.180632 -0.591911  0.642227\n",
       "28  0.659176 -0.177495 -1.471347 -1.337918\n",
       "29 -0.525852  0.376798 -1.319220 -0.589527\n",
       "30  0.968849  0.824838  0.983290  0.276976\n",
       "31 -0.264570 -2.095979  2.340635  0.964106\n",
       "32 -0.804912  1.669169  0.822022 -0.303701\n",
       "33  2.721808  1.014067  1.100052  0.217184\n",
       "34  0.086141 -2.058735 -0.706202  0.451688\n",
       "35  0.258486  0.360984 -0.094896  0.313985\n",
       "36  0.010287  0.601145 -1.090861  0.836901\n",
       "37  0.075018 -0.163733 -0.137167 -0.912108\n",
       "38  0.337432 -0.536055 -0.985103 -0.068749\n",
       "39  1.694729  0.862581  1.137272  0.353103\n",
       "40  1.006927 -0.158770  0.438787  0.358077\n",
       "41 -1.161263  1.236749 -0.593385  0.943951\n",
       "42  0.162740 -1.488675  0.440496 -0.656167\n",
       "43 -0.128717  0.346607 -0.834989 -0.907178\n",
       "44  2.011071  2.298300  0.936544 -0.613211\n",
       "45 -0.898586  1.138044  0.363369 -1.186063\n",
       "46 -0.440888  0.007639  0.727047 -1.102353\n",
       "47 -0.077783 -0.692620  0.113647  0.420957\n",
       "48  1.362714  0.769301  0.760841 -1.062317\n",
       "49  1.200613 -0.133678 -1.075425  0.258211"
      ]
     },
     "execution_count": 122,
     "metadata": {},
     "output_type": "execute_result"
    }
   ],
   "source": [
    "data = pd.DataFrame(np.random.standard_normal((50, 4)))\n",
    "data"
   ]
  },
  {
   "cell_type": "code",
   "execution_count": 123,
   "id": "71ee7f08",
   "metadata": {
    "slideshow": {
     "slide_type": "slide"
    }
   },
   "outputs": [
    {
     "data": {
      "text/html": [
       "<div>\n",
       "<style scoped>\n",
       "    .dataframe tbody tr th:only-of-type {\n",
       "        vertical-align: middle;\n",
       "    }\n",
       "\n",
       "    .dataframe tbody tr th {\n",
       "        vertical-align: top;\n",
       "    }\n",
       "\n",
       "    .dataframe thead th {\n",
       "        text-align: right;\n",
       "    }\n",
       "</style>\n",
       "<table border=\"1\" class=\"dataframe\">\n",
       "  <thead>\n",
       "    <tr style=\"text-align: right;\">\n",
       "      <th></th>\n",
       "      <th>0</th>\n",
       "      <th>1</th>\n",
       "      <th>2</th>\n",
       "      <th>3</th>\n",
       "    </tr>\n",
       "  </thead>\n",
       "  <tbody>\n",
       "    <tr>\n",
       "      <th>count</th>\n",
       "      <td>50.000000</td>\n",
       "      <td>50.000000</td>\n",
       "      <td>50.000000</td>\n",
       "      <td>50.000000</td>\n",
       "    </tr>\n",
       "    <tr>\n",
       "      <th>mean</th>\n",
       "      <td>0.216238</td>\n",
       "      <td>0.148418</td>\n",
       "      <td>0.102575</td>\n",
       "      <td>-0.018689</td>\n",
       "    </tr>\n",
       "    <tr>\n",
       "      <th>std</th>\n",
       "      <td>0.906360</td>\n",
       "      <td>1.050012</td>\n",
       "      <td>1.030284</td>\n",
       "      <td>0.870496</td>\n",
       "    </tr>\n",
       "    <tr>\n",
       "      <th>min</th>\n",
       "      <td>-1.903429</td>\n",
       "      <td>-2.095979</td>\n",
       "      <td>-1.938788</td>\n",
       "      <td>-3.085276</td>\n",
       "    </tr>\n",
       "    <tr>\n",
       "      <th>25%</th>\n",
       "      <td>-0.337138</td>\n",
       "      <td>-0.397758</td>\n",
       "      <td>-0.678956</td>\n",
       "      <td>-0.607290</td>\n",
       "    </tr>\n",
       "    <tr>\n",
       "      <th>50%</th>\n",
       "      <td>0.065330</td>\n",
       "      <td>0.241093</td>\n",
       "      <td>0.111111</td>\n",
       "      <td>0.166023</td>\n",
       "    </tr>\n",
       "    <tr>\n",
       "      <th>75%</th>\n",
       "      <td>0.841234</td>\n",
       "      <td>0.814975</td>\n",
       "      <td>0.821211</td>\n",
       "      <td>0.444006</td>\n",
       "    </tr>\n",
       "    <tr>\n",
       "      <th>max</th>\n",
       "      <td>2.721808</td>\n",
       "      <td>3.121942</td>\n",
       "      <td>2.415485</td>\n",
       "      <td>1.504195</td>\n",
       "    </tr>\n",
       "  </tbody>\n",
       "</table>\n",
       "</div>"
      ],
      "text/plain": [
       "               0          1          2          3\n",
       "count  50.000000  50.000000  50.000000  50.000000\n",
       "mean    0.216238   0.148418   0.102575  -0.018689\n",
       "std     0.906360   1.050012   1.030284   0.870496\n",
       "min    -1.903429  -2.095979  -1.938788  -3.085276\n",
       "25%    -0.337138  -0.397758  -0.678956  -0.607290\n",
       "50%     0.065330   0.241093   0.111111   0.166023\n",
       "75%     0.841234   0.814975   0.821211   0.444006\n",
       "max     2.721808   3.121942   2.415485   1.504195"
      ]
     },
     "execution_count": 123,
     "metadata": {},
     "output_type": "execute_result"
    }
   ],
   "source": [
    "data.describe()"
   ]
  },
  {
   "cell_type": "markdown",
   "id": "3157f022-b4aa-44ab-8642-588d451d921a",
   "metadata": {},
   "source": [
    "- `count`: El número de observaciones en cada columna. En este caso, todas las columnas tienen 1000 observaciones.  \n",
    "- `mean`: La media de los valores en cada columna. Dado que los datos se generaron a partir de una distribución normal estándar, las medias están cerca de 0.  \n",
    "- `std`:La desviación estándar de los valores en cada columna. Esto mide la dispersión de los datos alrededor de la media. La desviación estándar está cerca de 1, que es lo esperado para una distribución normal estándar.  \n",
    "- `min`:El valor mínimo en cada columna. Estos valores indican los puntos más bajos en la distribución de datos.  \n",
    "- `25%` (primer cuartil):El primer cuartil de los datos, que es el valor por debajo del cual se encuentra el 25% de los datos. Indica el límite inferior del 50% central de los datos.\n",
    "- `50%` (mediana):La mediana de los datos, que es el valor por debajo del cual se encuentra el 50% de los datos. Es el punto medio de la distribución.  \n",
    "- `75%` (tercer cuartil):El tercer cuartil de los datos, que es el valor por debajo del cual se encuentra el 75% de los datos. Indica el límite superior del 50% central de los datos.  \n",
    "- `max`:El valor máximo en cada columna. Estos valores indican los puntos más altos en la distribución de datos."
   ]
  },
  {
   "cell_type": "markdown",
   "id": "67be2449",
   "metadata": {
    "slideshow": {
     "slide_type": "slide"
    }
   },
   "source": [
    "Supongamos que quiere encontrar valores en una de las columnas que superen 3 en valor absoluto:"
   ]
  },
  {
   "cell_type": "code",
   "execution_count": 124,
   "id": "54a49ae8",
   "metadata": {
    "slideshow": {
     "slide_type": "slide"
    }
   },
   "outputs": [
    {
     "data": {
      "text/plain": [
       "0     1.617849\n",
       "1    -1.654496\n",
       "2     0.108575\n",
       "3    -0.371610\n",
       "4     0.495998\n",
       "5     0.945831\n",
       "6    -0.460872\n",
       "7     1.447215\n",
       "8    -0.597219\n",
       "9    -0.235460\n",
       "10    0.047033\n",
       "11    1.136127\n",
       "12    1.170713\n",
       "13   -0.807218\n",
       "14   -1.329750\n",
       "15    0.799892\n",
       "16   -1.348969\n",
       "17   -0.267449\n",
       "18   -0.167878\n",
       "19    0.783319\n",
       "20    1.343007\n",
       "21    0.818776\n",
       "22    2.415485\n",
       "23    0.444238\n",
       "24   -1.938788\n",
       "25    0.517876\n",
       "26   -1.046998\n",
       "27   -0.591911\n",
       "28   -1.471347\n",
       "29   -1.319220\n",
       "30    0.983290\n",
       "31    2.340635\n",
       "32    0.822022\n",
       "33    1.100052\n",
       "34   -0.706202\n",
       "35   -0.094896\n",
       "36   -1.090861\n",
       "37   -0.137167\n",
       "38   -0.985103\n",
       "39    1.137272\n",
       "40    0.438787\n",
       "41   -0.593385\n",
       "42    0.440496\n",
       "43   -0.834989\n",
       "44    0.936544\n",
       "45    0.363369\n",
       "46    0.727047\n",
       "47    0.113647\n",
       "48    0.760841\n",
       "49   -1.075425\n",
       "Name: 2, dtype: float64"
      ]
     },
     "execution_count": 124,
     "metadata": {},
     "output_type": "execute_result"
    }
   ],
   "source": [
    "col = data[2]\n",
    "col"
   ]
  },
  {
   "cell_type": "code",
   "execution_count": 125,
   "id": "13b000b3",
   "metadata": {
    "slideshow": {
     "slide_type": "slide"
    }
   },
   "outputs": [
    {
     "data": {
      "text/plain": [
       "22    2.415485\n",
       "31    2.340635\n",
       "Name: 2, dtype: float64"
      ]
     },
     "execution_count": 125,
     "metadata": {},
     "output_type": "execute_result"
    }
   ],
   "source": [
    "col[col.abs() > 2]"
   ]
  },
  {
   "cell_type": "markdown",
   "id": "53b003cd",
   "metadata": {
    "slideshow": {
     "slide_type": "slide"
    }
   },
   "source": [
    "Para seleccionar todas las filas que tengan un valor superior a 3 o -3, puede utilizar el método `any` en un DataFrame booleano:"
   ]
  },
  {
   "cell_type": "code",
   "execution_count": 126,
   "id": "061fe031",
   "metadata": {
    "slideshow": {
     "slide_type": "slide"
    }
   },
   "outputs": [
    {
     "data": {
      "text/html": [
       "<div>\n",
       "<style scoped>\n",
       "    .dataframe tbody tr th:only-of-type {\n",
       "        vertical-align: middle;\n",
       "    }\n",
       "\n",
       "    .dataframe tbody tr th {\n",
       "        vertical-align: top;\n",
       "    }\n",
       "\n",
       "    .dataframe thead th {\n",
       "        text-align: right;\n",
       "    }\n",
       "</style>\n",
       "<table border=\"1\" class=\"dataframe\">\n",
       "  <thead>\n",
       "    <tr style=\"text-align: right;\">\n",
       "      <th></th>\n",
       "      <th>0</th>\n",
       "      <th>1</th>\n",
       "      <th>2</th>\n",
       "      <th>3</th>\n",
       "    </tr>\n",
       "  </thead>\n",
       "  <tbody>\n",
       "    <tr>\n",
       "      <th>22</th>\n",
       "      <td>-1.903429</td>\n",
       "      <td>-1.324539</td>\n",
       "      <td>2.415485</td>\n",
       "      <td>0.354312</td>\n",
       "    </tr>\n",
       "    <tr>\n",
       "      <th>23</th>\n",
       "      <td>-0.083536</td>\n",
       "      <td>3.121942</td>\n",
       "      <td>0.444238</td>\n",
       "      <td>0.403441</td>\n",
       "    </tr>\n",
       "    <tr>\n",
       "      <th>24</th>\n",
       "      <td>1.412851</td>\n",
       "      <td>-0.831445</td>\n",
       "      <td>-1.938788</td>\n",
       "      <td>-3.085276</td>\n",
       "    </tr>\n",
       "    <tr>\n",
       "      <th>31</th>\n",
       "      <td>-0.264570</td>\n",
       "      <td>-2.095979</td>\n",
       "      <td>2.340635</td>\n",
       "      <td>0.964106</td>\n",
       "    </tr>\n",
       "    <tr>\n",
       "      <th>33</th>\n",
       "      <td>2.721808</td>\n",
       "      <td>1.014067</td>\n",
       "      <td>1.100052</td>\n",
       "      <td>0.217184</td>\n",
       "    </tr>\n",
       "    <tr>\n",
       "      <th>34</th>\n",
       "      <td>0.086141</td>\n",
       "      <td>-2.058735</td>\n",
       "      <td>-0.706202</td>\n",
       "      <td>0.451688</td>\n",
       "    </tr>\n",
       "    <tr>\n",
       "      <th>44</th>\n",
       "      <td>2.011071</td>\n",
       "      <td>2.298300</td>\n",
       "      <td>0.936544</td>\n",
       "      <td>-0.613211</td>\n",
       "    </tr>\n",
       "  </tbody>\n",
       "</table>\n",
       "</div>"
      ],
      "text/plain": [
       "           0         1         2         3\n",
       "22 -1.903429 -1.324539  2.415485  0.354312\n",
       "23 -0.083536  3.121942  0.444238  0.403441\n",
       "24  1.412851 -0.831445 -1.938788 -3.085276\n",
       "31 -0.264570 -2.095979  2.340635  0.964106\n",
       "33  2.721808  1.014067  1.100052  0.217184\n",
       "34  0.086141 -2.058735 -0.706202  0.451688\n",
       "44  2.011071  2.298300  0.936544 -0.613211"
      ]
     },
     "execution_count": 126,
     "metadata": {},
     "output_type": "execute_result"
    }
   ],
   "source": [
    "data[(data.abs() > 2).any(axis=\"columns\")]\n",
    "# Verifica (o entra) por columnas pero selecciona toda la fila."
   ]
  },
  {
   "cell_type": "markdown",
   "id": "2fa2cb49",
   "metadata": {
    "slideshow": {
     "slide_type": "slide"
    }
   },
   "source": [
    "Los paréntesis alrededor de `data.abs() > 3` son necesarios para llamar al método `any` sobre el resultado de la operación de comparación."
   ]
  },
  {
   "cell_type": "markdown",
   "id": "6745e6e3",
   "metadata": {},
   "source": [
    "Los valores pueden fijarse en función de estos criterios. Aquí está el código para limitar los valores fuera del intervalo de -2 a 2:"
   ]
  },
  {
   "cell_type": "code",
   "execution_count": 127,
   "id": "9f6c2846",
   "metadata": {
    "slideshow": {
     "slide_type": "slide"
    }
   },
   "outputs": [
    {
     "data": {
      "text/html": [
       "<div>\n",
       "<style scoped>\n",
       "    .dataframe tbody tr th:only-of-type {\n",
       "        vertical-align: middle;\n",
       "    }\n",
       "\n",
       "    .dataframe tbody tr th {\n",
       "        vertical-align: top;\n",
       "    }\n",
       "\n",
       "    .dataframe thead th {\n",
       "        text-align: right;\n",
       "    }\n",
       "</style>\n",
       "<table border=\"1\" class=\"dataframe\">\n",
       "  <thead>\n",
       "    <tr style=\"text-align: right;\">\n",
       "      <th></th>\n",
       "      <th>0</th>\n",
       "      <th>1</th>\n",
       "      <th>2</th>\n",
       "      <th>3</th>\n",
       "    </tr>\n",
       "  </thead>\n",
       "  <tbody>\n",
       "    <tr>\n",
       "      <th>0</th>\n",
       "      <td>NaN</td>\n",
       "      <td>NaN</td>\n",
       "      <td>NaN</td>\n",
       "      <td>NaN</td>\n",
       "    </tr>\n",
       "    <tr>\n",
       "      <th>1</th>\n",
       "      <td>NaN</td>\n",
       "      <td>NaN</td>\n",
       "      <td>NaN</td>\n",
       "      <td>NaN</td>\n",
       "    </tr>\n",
       "    <tr>\n",
       "      <th>2</th>\n",
       "      <td>NaN</td>\n",
       "      <td>NaN</td>\n",
       "      <td>NaN</td>\n",
       "      <td>NaN</td>\n",
       "    </tr>\n",
       "    <tr>\n",
       "      <th>3</th>\n",
       "      <td>NaN</td>\n",
       "      <td>NaN</td>\n",
       "      <td>NaN</td>\n",
       "      <td>NaN</td>\n",
       "    </tr>\n",
       "    <tr>\n",
       "      <th>4</th>\n",
       "      <td>NaN</td>\n",
       "      <td>NaN</td>\n",
       "      <td>NaN</td>\n",
       "      <td>NaN</td>\n",
       "    </tr>\n",
       "    <tr>\n",
       "      <th>5</th>\n",
       "      <td>NaN</td>\n",
       "      <td>NaN</td>\n",
       "      <td>NaN</td>\n",
       "      <td>NaN</td>\n",
       "    </tr>\n",
       "    <tr>\n",
       "      <th>6</th>\n",
       "      <td>NaN</td>\n",
       "      <td>NaN</td>\n",
       "      <td>NaN</td>\n",
       "      <td>NaN</td>\n",
       "    </tr>\n",
       "    <tr>\n",
       "      <th>7</th>\n",
       "      <td>NaN</td>\n",
       "      <td>NaN</td>\n",
       "      <td>NaN</td>\n",
       "      <td>NaN</td>\n",
       "    </tr>\n",
       "    <tr>\n",
       "      <th>8</th>\n",
       "      <td>NaN</td>\n",
       "      <td>NaN</td>\n",
       "      <td>NaN</td>\n",
       "      <td>NaN</td>\n",
       "    </tr>\n",
       "    <tr>\n",
       "      <th>9</th>\n",
       "      <td>NaN</td>\n",
       "      <td>NaN</td>\n",
       "      <td>NaN</td>\n",
       "      <td>NaN</td>\n",
       "    </tr>\n",
       "    <tr>\n",
       "      <th>10</th>\n",
       "      <td>NaN</td>\n",
       "      <td>NaN</td>\n",
       "      <td>NaN</td>\n",
       "      <td>NaN</td>\n",
       "    </tr>\n",
       "    <tr>\n",
       "      <th>11</th>\n",
       "      <td>NaN</td>\n",
       "      <td>NaN</td>\n",
       "      <td>NaN</td>\n",
       "      <td>NaN</td>\n",
       "    </tr>\n",
       "    <tr>\n",
       "      <th>12</th>\n",
       "      <td>NaN</td>\n",
       "      <td>NaN</td>\n",
       "      <td>NaN</td>\n",
       "      <td>NaN</td>\n",
       "    </tr>\n",
       "    <tr>\n",
       "      <th>13</th>\n",
       "      <td>NaN</td>\n",
       "      <td>NaN</td>\n",
       "      <td>NaN</td>\n",
       "      <td>NaN</td>\n",
       "    </tr>\n",
       "    <tr>\n",
       "      <th>14</th>\n",
       "      <td>NaN</td>\n",
       "      <td>NaN</td>\n",
       "      <td>NaN</td>\n",
       "      <td>NaN</td>\n",
       "    </tr>\n",
       "    <tr>\n",
       "      <th>15</th>\n",
       "      <td>NaN</td>\n",
       "      <td>NaN</td>\n",
       "      <td>NaN</td>\n",
       "      <td>NaN</td>\n",
       "    </tr>\n",
       "    <tr>\n",
       "      <th>16</th>\n",
       "      <td>NaN</td>\n",
       "      <td>NaN</td>\n",
       "      <td>NaN</td>\n",
       "      <td>NaN</td>\n",
       "    </tr>\n",
       "    <tr>\n",
       "      <th>17</th>\n",
       "      <td>NaN</td>\n",
       "      <td>NaN</td>\n",
       "      <td>NaN</td>\n",
       "      <td>NaN</td>\n",
       "    </tr>\n",
       "    <tr>\n",
       "      <th>18</th>\n",
       "      <td>NaN</td>\n",
       "      <td>NaN</td>\n",
       "      <td>NaN</td>\n",
       "      <td>NaN</td>\n",
       "    </tr>\n",
       "    <tr>\n",
       "      <th>19</th>\n",
       "      <td>NaN</td>\n",
       "      <td>NaN</td>\n",
       "      <td>NaN</td>\n",
       "      <td>NaN</td>\n",
       "    </tr>\n",
       "    <tr>\n",
       "      <th>20</th>\n",
       "      <td>NaN</td>\n",
       "      <td>NaN</td>\n",
       "      <td>NaN</td>\n",
       "      <td>NaN</td>\n",
       "    </tr>\n",
       "    <tr>\n",
       "      <th>21</th>\n",
       "      <td>NaN</td>\n",
       "      <td>NaN</td>\n",
       "      <td>NaN</td>\n",
       "      <td>NaN</td>\n",
       "    </tr>\n",
       "    <tr>\n",
       "      <th>22</th>\n",
       "      <td>NaN</td>\n",
       "      <td>NaN</td>\n",
       "      <td>2.415485</td>\n",
       "      <td>NaN</td>\n",
       "    </tr>\n",
       "    <tr>\n",
       "      <th>23</th>\n",
       "      <td>NaN</td>\n",
       "      <td>3.121942</td>\n",
       "      <td>NaN</td>\n",
       "      <td>NaN</td>\n",
       "    </tr>\n",
       "    <tr>\n",
       "      <th>24</th>\n",
       "      <td>NaN</td>\n",
       "      <td>NaN</td>\n",
       "      <td>NaN</td>\n",
       "      <td>-3.085276</td>\n",
       "    </tr>\n",
       "    <tr>\n",
       "      <th>25</th>\n",
       "      <td>NaN</td>\n",
       "      <td>NaN</td>\n",
       "      <td>NaN</td>\n",
       "      <td>NaN</td>\n",
       "    </tr>\n",
       "    <tr>\n",
       "      <th>26</th>\n",
       "      <td>NaN</td>\n",
       "      <td>NaN</td>\n",
       "      <td>NaN</td>\n",
       "      <td>NaN</td>\n",
       "    </tr>\n",
       "    <tr>\n",
       "      <th>27</th>\n",
       "      <td>NaN</td>\n",
       "      <td>NaN</td>\n",
       "      <td>NaN</td>\n",
       "      <td>NaN</td>\n",
       "    </tr>\n",
       "    <tr>\n",
       "      <th>28</th>\n",
       "      <td>NaN</td>\n",
       "      <td>NaN</td>\n",
       "      <td>NaN</td>\n",
       "      <td>NaN</td>\n",
       "    </tr>\n",
       "    <tr>\n",
       "      <th>29</th>\n",
       "      <td>NaN</td>\n",
       "      <td>NaN</td>\n",
       "      <td>NaN</td>\n",
       "      <td>NaN</td>\n",
       "    </tr>\n",
       "    <tr>\n",
       "      <th>30</th>\n",
       "      <td>NaN</td>\n",
       "      <td>NaN</td>\n",
       "      <td>NaN</td>\n",
       "      <td>NaN</td>\n",
       "    </tr>\n",
       "    <tr>\n",
       "      <th>31</th>\n",
       "      <td>NaN</td>\n",
       "      <td>-2.095979</td>\n",
       "      <td>2.340635</td>\n",
       "      <td>NaN</td>\n",
       "    </tr>\n",
       "    <tr>\n",
       "      <th>32</th>\n",
       "      <td>NaN</td>\n",
       "      <td>NaN</td>\n",
       "      <td>NaN</td>\n",
       "      <td>NaN</td>\n",
       "    </tr>\n",
       "    <tr>\n",
       "      <th>33</th>\n",
       "      <td>2.721808</td>\n",
       "      <td>NaN</td>\n",
       "      <td>NaN</td>\n",
       "      <td>NaN</td>\n",
       "    </tr>\n",
       "    <tr>\n",
       "      <th>34</th>\n",
       "      <td>NaN</td>\n",
       "      <td>-2.058735</td>\n",
       "      <td>NaN</td>\n",
       "      <td>NaN</td>\n",
       "    </tr>\n",
       "    <tr>\n",
       "      <th>35</th>\n",
       "      <td>NaN</td>\n",
       "      <td>NaN</td>\n",
       "      <td>NaN</td>\n",
       "      <td>NaN</td>\n",
       "    </tr>\n",
       "    <tr>\n",
       "      <th>36</th>\n",
       "      <td>NaN</td>\n",
       "      <td>NaN</td>\n",
       "      <td>NaN</td>\n",
       "      <td>NaN</td>\n",
       "    </tr>\n",
       "    <tr>\n",
       "      <th>37</th>\n",
       "      <td>NaN</td>\n",
       "      <td>NaN</td>\n",
       "      <td>NaN</td>\n",
       "      <td>NaN</td>\n",
       "    </tr>\n",
       "    <tr>\n",
       "      <th>38</th>\n",
       "      <td>NaN</td>\n",
       "      <td>NaN</td>\n",
       "      <td>NaN</td>\n",
       "      <td>NaN</td>\n",
       "    </tr>\n",
       "    <tr>\n",
       "      <th>39</th>\n",
       "      <td>NaN</td>\n",
       "      <td>NaN</td>\n",
       "      <td>NaN</td>\n",
       "      <td>NaN</td>\n",
       "    </tr>\n",
       "    <tr>\n",
       "      <th>40</th>\n",
       "      <td>NaN</td>\n",
       "      <td>NaN</td>\n",
       "      <td>NaN</td>\n",
       "      <td>NaN</td>\n",
       "    </tr>\n",
       "    <tr>\n",
       "      <th>41</th>\n",
       "      <td>NaN</td>\n",
       "      <td>NaN</td>\n",
       "      <td>NaN</td>\n",
       "      <td>NaN</td>\n",
       "    </tr>\n",
       "    <tr>\n",
       "      <th>42</th>\n",
       "      <td>NaN</td>\n",
       "      <td>NaN</td>\n",
       "      <td>NaN</td>\n",
       "      <td>NaN</td>\n",
       "    </tr>\n",
       "    <tr>\n",
       "      <th>43</th>\n",
       "      <td>NaN</td>\n",
       "      <td>NaN</td>\n",
       "      <td>NaN</td>\n",
       "      <td>NaN</td>\n",
       "    </tr>\n",
       "    <tr>\n",
       "      <th>44</th>\n",
       "      <td>2.011071</td>\n",
       "      <td>2.298300</td>\n",
       "      <td>NaN</td>\n",
       "      <td>NaN</td>\n",
       "    </tr>\n",
       "    <tr>\n",
       "      <th>45</th>\n",
       "      <td>NaN</td>\n",
       "      <td>NaN</td>\n",
       "      <td>NaN</td>\n",
       "      <td>NaN</td>\n",
       "    </tr>\n",
       "    <tr>\n",
       "      <th>46</th>\n",
       "      <td>NaN</td>\n",
       "      <td>NaN</td>\n",
       "      <td>NaN</td>\n",
       "      <td>NaN</td>\n",
       "    </tr>\n",
       "    <tr>\n",
       "      <th>47</th>\n",
       "      <td>NaN</td>\n",
       "      <td>NaN</td>\n",
       "      <td>NaN</td>\n",
       "      <td>NaN</td>\n",
       "    </tr>\n",
       "    <tr>\n",
       "      <th>48</th>\n",
       "      <td>NaN</td>\n",
       "      <td>NaN</td>\n",
       "      <td>NaN</td>\n",
       "      <td>NaN</td>\n",
       "    </tr>\n",
       "    <tr>\n",
       "      <th>49</th>\n",
       "      <td>NaN</td>\n",
       "      <td>NaN</td>\n",
       "      <td>NaN</td>\n",
       "      <td>NaN</td>\n",
       "    </tr>\n",
       "  </tbody>\n",
       "</table>\n",
       "</div>"
      ],
      "text/plain": [
       "           0         1         2         3\n",
       "0        NaN       NaN       NaN       NaN\n",
       "1        NaN       NaN       NaN       NaN\n",
       "2        NaN       NaN       NaN       NaN\n",
       "3        NaN       NaN       NaN       NaN\n",
       "4        NaN       NaN       NaN       NaN\n",
       "5        NaN       NaN       NaN       NaN\n",
       "6        NaN       NaN       NaN       NaN\n",
       "7        NaN       NaN       NaN       NaN\n",
       "8        NaN       NaN       NaN       NaN\n",
       "9        NaN       NaN       NaN       NaN\n",
       "10       NaN       NaN       NaN       NaN\n",
       "11       NaN       NaN       NaN       NaN\n",
       "12       NaN       NaN       NaN       NaN\n",
       "13       NaN       NaN       NaN       NaN\n",
       "14       NaN       NaN       NaN       NaN\n",
       "15       NaN       NaN       NaN       NaN\n",
       "16       NaN       NaN       NaN       NaN\n",
       "17       NaN       NaN       NaN       NaN\n",
       "18       NaN       NaN       NaN       NaN\n",
       "19       NaN       NaN       NaN       NaN\n",
       "20       NaN       NaN       NaN       NaN\n",
       "21       NaN       NaN       NaN       NaN\n",
       "22       NaN       NaN  2.415485       NaN\n",
       "23       NaN  3.121942       NaN       NaN\n",
       "24       NaN       NaN       NaN -3.085276\n",
       "25       NaN       NaN       NaN       NaN\n",
       "26       NaN       NaN       NaN       NaN\n",
       "27       NaN       NaN       NaN       NaN\n",
       "28       NaN       NaN       NaN       NaN\n",
       "29       NaN       NaN       NaN       NaN\n",
       "30       NaN       NaN       NaN       NaN\n",
       "31       NaN -2.095979  2.340635       NaN\n",
       "32       NaN       NaN       NaN       NaN\n",
       "33  2.721808       NaN       NaN       NaN\n",
       "34       NaN -2.058735       NaN       NaN\n",
       "35       NaN       NaN       NaN       NaN\n",
       "36       NaN       NaN       NaN       NaN\n",
       "37       NaN       NaN       NaN       NaN\n",
       "38       NaN       NaN       NaN       NaN\n",
       "39       NaN       NaN       NaN       NaN\n",
       "40       NaN       NaN       NaN       NaN\n",
       "41       NaN       NaN       NaN       NaN\n",
       "42       NaN       NaN       NaN       NaN\n",
       "43       NaN       NaN       NaN       NaN\n",
       "44  2.011071  2.298300       NaN       NaN\n",
       "45       NaN       NaN       NaN       NaN\n",
       "46       NaN       NaN       NaN       NaN\n",
       "47       NaN       NaN       NaN       NaN\n",
       "48       NaN       NaN       NaN       NaN\n",
       "49       NaN       NaN       NaN       NaN"
      ]
     },
     "execution_count": 127,
     "metadata": {},
     "output_type": "execute_result"
    }
   ],
   "source": [
    "data_1 = data[data.abs() > 2] \n",
    "data_1"
   ]
  },
  {
   "cell_type": "code",
   "execution_count": 128,
   "id": "595bd584-77a9-4397-8b83-3ba4ca66484e",
   "metadata": {},
   "outputs": [
    {
     "data": {
      "text/html": [
       "<div>\n",
       "<style scoped>\n",
       "    .dataframe tbody tr th:only-of-type {\n",
       "        vertical-align: middle;\n",
       "    }\n",
       "\n",
       "    .dataframe tbody tr th {\n",
       "        vertical-align: top;\n",
       "    }\n",
       "\n",
       "    .dataframe thead th {\n",
       "        text-align: right;\n",
       "    }\n",
       "</style>\n",
       "<table border=\"1\" class=\"dataframe\">\n",
       "  <thead>\n",
       "    <tr style=\"text-align: right;\">\n",
       "      <th></th>\n",
       "      <th>0</th>\n",
       "      <th>1</th>\n",
       "      <th>2</th>\n",
       "      <th>3</th>\n",
       "    </tr>\n",
       "  </thead>\n",
       "  <tbody>\n",
       "    <tr>\n",
       "      <th>0</th>\n",
       "      <td>-3.0</td>\n",
       "      <td>3.0</td>\n",
       "      <td>3.0</td>\n",
       "      <td>3.0</td>\n",
       "    </tr>\n",
       "    <tr>\n",
       "      <th>1</th>\n",
       "      <td>-3.0</td>\n",
       "      <td>3.0</td>\n",
       "      <td>-3.0</td>\n",
       "      <td>3.0</td>\n",
       "    </tr>\n",
       "    <tr>\n",
       "      <th>2</th>\n",
       "      <td>3.0</td>\n",
       "      <td>-3.0</td>\n",
       "      <td>3.0</td>\n",
       "      <td>3.0</td>\n",
       "    </tr>\n",
       "    <tr>\n",
       "      <th>3</th>\n",
       "      <td>3.0</td>\n",
       "      <td>3.0</td>\n",
       "      <td>-3.0</td>\n",
       "      <td>-3.0</td>\n",
       "    </tr>\n",
       "    <tr>\n",
       "      <th>4</th>\n",
       "      <td>-3.0</td>\n",
       "      <td>-3.0</td>\n",
       "      <td>3.0</td>\n",
       "      <td>-3.0</td>\n",
       "    </tr>\n",
       "    <tr>\n",
       "      <th>5</th>\n",
       "      <td>3.0</td>\n",
       "      <td>-3.0</td>\n",
       "      <td>3.0</td>\n",
       "      <td>3.0</td>\n",
       "    </tr>\n",
       "    <tr>\n",
       "      <th>6</th>\n",
       "      <td>-3.0</td>\n",
       "      <td>3.0</td>\n",
       "      <td>-3.0</td>\n",
       "      <td>-3.0</td>\n",
       "    </tr>\n",
       "    <tr>\n",
       "      <th>7</th>\n",
       "      <td>3.0</td>\n",
       "      <td>-3.0</td>\n",
       "      <td>3.0</td>\n",
       "      <td>3.0</td>\n",
       "    </tr>\n",
       "    <tr>\n",
       "      <th>8</th>\n",
       "      <td>3.0</td>\n",
       "      <td>-3.0</td>\n",
       "      <td>-3.0</td>\n",
       "      <td>3.0</td>\n",
       "    </tr>\n",
       "    <tr>\n",
       "      <th>9</th>\n",
       "      <td>3.0</td>\n",
       "      <td>-3.0</td>\n",
       "      <td>-3.0</td>\n",
       "      <td>-3.0</td>\n",
       "    </tr>\n",
       "    <tr>\n",
       "      <th>10</th>\n",
       "      <td>3.0</td>\n",
       "      <td>3.0</td>\n",
       "      <td>3.0</td>\n",
       "      <td>3.0</td>\n",
       "    </tr>\n",
       "    <tr>\n",
       "      <th>11</th>\n",
       "      <td>3.0</td>\n",
       "      <td>3.0</td>\n",
       "      <td>3.0</td>\n",
       "      <td>-3.0</td>\n",
       "    </tr>\n",
       "    <tr>\n",
       "      <th>12</th>\n",
       "      <td>3.0</td>\n",
       "      <td>3.0</td>\n",
       "      <td>3.0</td>\n",
       "      <td>3.0</td>\n",
       "    </tr>\n",
       "    <tr>\n",
       "      <th>13</th>\n",
       "      <td>3.0</td>\n",
       "      <td>-3.0</td>\n",
       "      <td>-3.0</td>\n",
       "      <td>3.0</td>\n",
       "    </tr>\n",
       "    <tr>\n",
       "      <th>14</th>\n",
       "      <td>3.0</td>\n",
       "      <td>3.0</td>\n",
       "      <td>-3.0</td>\n",
       "      <td>-3.0</td>\n",
       "    </tr>\n",
       "    <tr>\n",
       "      <th>15</th>\n",
       "      <td>-3.0</td>\n",
       "      <td>3.0</td>\n",
       "      <td>3.0</td>\n",
       "      <td>3.0</td>\n",
       "    </tr>\n",
       "    <tr>\n",
       "      <th>16</th>\n",
       "      <td>-3.0</td>\n",
       "      <td>-3.0</td>\n",
       "      <td>-3.0</td>\n",
       "      <td>-3.0</td>\n",
       "    </tr>\n",
       "    <tr>\n",
       "      <th>17</th>\n",
       "      <td>-3.0</td>\n",
       "      <td>3.0</td>\n",
       "      <td>-3.0</td>\n",
       "      <td>3.0</td>\n",
       "    </tr>\n",
       "    <tr>\n",
       "      <th>18</th>\n",
       "      <td>-3.0</td>\n",
       "      <td>-3.0</td>\n",
       "      <td>-3.0</td>\n",
       "      <td>3.0</td>\n",
       "    </tr>\n",
       "    <tr>\n",
       "      <th>19</th>\n",
       "      <td>-3.0</td>\n",
       "      <td>-3.0</td>\n",
       "      <td>3.0</td>\n",
       "      <td>-3.0</td>\n",
       "    </tr>\n",
       "    <tr>\n",
       "      <th>20</th>\n",
       "      <td>-3.0</td>\n",
       "      <td>3.0</td>\n",
       "      <td>3.0</td>\n",
       "      <td>-3.0</td>\n",
       "    </tr>\n",
       "    <tr>\n",
       "      <th>21</th>\n",
       "      <td>-3.0</td>\n",
       "      <td>3.0</td>\n",
       "      <td>3.0</td>\n",
       "      <td>3.0</td>\n",
       "    </tr>\n",
       "    <tr>\n",
       "      <th>22</th>\n",
       "      <td>-3.0</td>\n",
       "      <td>-3.0</td>\n",
       "      <td>3.0</td>\n",
       "      <td>3.0</td>\n",
       "    </tr>\n",
       "    <tr>\n",
       "      <th>23</th>\n",
       "      <td>-3.0</td>\n",
       "      <td>3.0</td>\n",
       "      <td>3.0</td>\n",
       "      <td>3.0</td>\n",
       "    </tr>\n",
       "    <tr>\n",
       "      <th>24</th>\n",
       "      <td>3.0</td>\n",
       "      <td>-3.0</td>\n",
       "      <td>-3.0</td>\n",
       "      <td>-3.0</td>\n",
       "    </tr>\n",
       "    <tr>\n",
       "      <th>25</th>\n",
       "      <td>-3.0</td>\n",
       "      <td>3.0</td>\n",
       "      <td>3.0</td>\n",
       "      <td>3.0</td>\n",
       "    </tr>\n",
       "    <tr>\n",
       "      <th>26</th>\n",
       "      <td>3.0</td>\n",
       "      <td>3.0</td>\n",
       "      <td>-3.0</td>\n",
       "      <td>-3.0</td>\n",
       "    </tr>\n",
       "    <tr>\n",
       "      <th>27</th>\n",
       "      <td>3.0</td>\n",
       "      <td>-3.0</td>\n",
       "      <td>-3.0</td>\n",
       "      <td>3.0</td>\n",
       "    </tr>\n",
       "    <tr>\n",
       "      <th>28</th>\n",
       "      <td>3.0</td>\n",
       "      <td>-3.0</td>\n",
       "      <td>-3.0</td>\n",
       "      <td>-3.0</td>\n",
       "    </tr>\n",
       "    <tr>\n",
       "      <th>29</th>\n",
       "      <td>-3.0</td>\n",
       "      <td>3.0</td>\n",
       "      <td>-3.0</td>\n",
       "      <td>-3.0</td>\n",
       "    </tr>\n",
       "    <tr>\n",
       "      <th>30</th>\n",
       "      <td>3.0</td>\n",
       "      <td>3.0</td>\n",
       "      <td>3.0</td>\n",
       "      <td>3.0</td>\n",
       "    </tr>\n",
       "    <tr>\n",
       "      <th>31</th>\n",
       "      <td>-3.0</td>\n",
       "      <td>-3.0</td>\n",
       "      <td>3.0</td>\n",
       "      <td>3.0</td>\n",
       "    </tr>\n",
       "    <tr>\n",
       "      <th>32</th>\n",
       "      <td>-3.0</td>\n",
       "      <td>3.0</td>\n",
       "      <td>3.0</td>\n",
       "      <td>-3.0</td>\n",
       "    </tr>\n",
       "    <tr>\n",
       "      <th>33</th>\n",
       "      <td>3.0</td>\n",
       "      <td>3.0</td>\n",
       "      <td>3.0</td>\n",
       "      <td>3.0</td>\n",
       "    </tr>\n",
       "    <tr>\n",
       "      <th>34</th>\n",
       "      <td>3.0</td>\n",
       "      <td>-3.0</td>\n",
       "      <td>-3.0</td>\n",
       "      <td>3.0</td>\n",
       "    </tr>\n",
       "    <tr>\n",
       "      <th>35</th>\n",
       "      <td>3.0</td>\n",
       "      <td>3.0</td>\n",
       "      <td>-3.0</td>\n",
       "      <td>3.0</td>\n",
       "    </tr>\n",
       "    <tr>\n",
       "      <th>36</th>\n",
       "      <td>3.0</td>\n",
       "      <td>3.0</td>\n",
       "      <td>-3.0</td>\n",
       "      <td>3.0</td>\n",
       "    </tr>\n",
       "    <tr>\n",
       "      <th>37</th>\n",
       "      <td>3.0</td>\n",
       "      <td>-3.0</td>\n",
       "      <td>-3.0</td>\n",
       "      <td>-3.0</td>\n",
       "    </tr>\n",
       "    <tr>\n",
       "      <th>38</th>\n",
       "      <td>3.0</td>\n",
       "      <td>-3.0</td>\n",
       "      <td>-3.0</td>\n",
       "      <td>-3.0</td>\n",
       "    </tr>\n",
       "    <tr>\n",
       "      <th>39</th>\n",
       "      <td>3.0</td>\n",
       "      <td>3.0</td>\n",
       "      <td>3.0</td>\n",
       "      <td>3.0</td>\n",
       "    </tr>\n",
       "    <tr>\n",
       "      <th>40</th>\n",
       "      <td>3.0</td>\n",
       "      <td>-3.0</td>\n",
       "      <td>3.0</td>\n",
       "      <td>3.0</td>\n",
       "    </tr>\n",
       "    <tr>\n",
       "      <th>41</th>\n",
       "      <td>-3.0</td>\n",
       "      <td>3.0</td>\n",
       "      <td>-3.0</td>\n",
       "      <td>3.0</td>\n",
       "    </tr>\n",
       "    <tr>\n",
       "      <th>42</th>\n",
       "      <td>3.0</td>\n",
       "      <td>-3.0</td>\n",
       "      <td>3.0</td>\n",
       "      <td>-3.0</td>\n",
       "    </tr>\n",
       "    <tr>\n",
       "      <th>43</th>\n",
       "      <td>-3.0</td>\n",
       "      <td>3.0</td>\n",
       "      <td>-3.0</td>\n",
       "      <td>-3.0</td>\n",
       "    </tr>\n",
       "    <tr>\n",
       "      <th>44</th>\n",
       "      <td>3.0</td>\n",
       "      <td>3.0</td>\n",
       "      <td>3.0</td>\n",
       "      <td>-3.0</td>\n",
       "    </tr>\n",
       "    <tr>\n",
       "      <th>45</th>\n",
       "      <td>-3.0</td>\n",
       "      <td>3.0</td>\n",
       "      <td>3.0</td>\n",
       "      <td>-3.0</td>\n",
       "    </tr>\n",
       "    <tr>\n",
       "      <th>46</th>\n",
       "      <td>-3.0</td>\n",
       "      <td>3.0</td>\n",
       "      <td>3.0</td>\n",
       "      <td>-3.0</td>\n",
       "    </tr>\n",
       "    <tr>\n",
       "      <th>47</th>\n",
       "      <td>-3.0</td>\n",
       "      <td>-3.0</td>\n",
       "      <td>3.0</td>\n",
       "      <td>3.0</td>\n",
       "    </tr>\n",
       "    <tr>\n",
       "      <th>48</th>\n",
       "      <td>3.0</td>\n",
       "      <td>3.0</td>\n",
       "      <td>3.0</td>\n",
       "      <td>-3.0</td>\n",
       "    </tr>\n",
       "    <tr>\n",
       "      <th>49</th>\n",
       "      <td>3.0</td>\n",
       "      <td>-3.0</td>\n",
       "      <td>-3.0</td>\n",
       "      <td>3.0</td>\n",
       "    </tr>\n",
       "  </tbody>\n",
       "</table>\n",
       "</div>"
      ],
      "text/plain": [
       "      0    1    2    3\n",
       "0  -3.0  3.0  3.0  3.0\n",
       "1  -3.0  3.0 -3.0  3.0\n",
       "2   3.0 -3.0  3.0  3.0\n",
       "3   3.0  3.0 -3.0 -3.0\n",
       "4  -3.0 -3.0  3.0 -3.0\n",
       "5   3.0 -3.0  3.0  3.0\n",
       "6  -3.0  3.0 -3.0 -3.0\n",
       "7   3.0 -3.0  3.0  3.0\n",
       "8   3.0 -3.0 -3.0  3.0\n",
       "9   3.0 -3.0 -3.0 -3.0\n",
       "10  3.0  3.0  3.0  3.0\n",
       "11  3.0  3.0  3.0 -3.0\n",
       "12  3.0  3.0  3.0  3.0\n",
       "13  3.0 -3.0 -3.0  3.0\n",
       "14  3.0  3.0 -3.0 -3.0\n",
       "15 -3.0  3.0  3.0  3.0\n",
       "16 -3.0 -3.0 -3.0 -3.0\n",
       "17 -3.0  3.0 -3.0  3.0\n",
       "18 -3.0 -3.0 -3.0  3.0\n",
       "19 -3.0 -3.0  3.0 -3.0\n",
       "20 -3.0  3.0  3.0 -3.0\n",
       "21 -3.0  3.0  3.0  3.0\n",
       "22 -3.0 -3.0  3.0  3.0\n",
       "23 -3.0  3.0  3.0  3.0\n",
       "24  3.0 -3.0 -3.0 -3.0\n",
       "25 -3.0  3.0  3.0  3.0\n",
       "26  3.0  3.0 -3.0 -3.0\n",
       "27  3.0 -3.0 -3.0  3.0\n",
       "28  3.0 -3.0 -3.0 -3.0\n",
       "29 -3.0  3.0 -3.0 -3.0\n",
       "30  3.0  3.0  3.0  3.0\n",
       "31 -3.0 -3.0  3.0  3.0\n",
       "32 -3.0  3.0  3.0 -3.0\n",
       "33  3.0  3.0  3.0  3.0\n",
       "34  3.0 -3.0 -3.0  3.0\n",
       "35  3.0  3.0 -3.0  3.0\n",
       "36  3.0  3.0 -3.0  3.0\n",
       "37  3.0 -3.0 -3.0 -3.0\n",
       "38  3.0 -3.0 -3.0 -3.0\n",
       "39  3.0  3.0  3.0  3.0\n",
       "40  3.0 -3.0  3.0  3.0\n",
       "41 -3.0  3.0 -3.0  3.0\n",
       "42  3.0 -3.0  3.0 -3.0\n",
       "43 -3.0  3.0 -3.0 -3.0\n",
       "44  3.0  3.0  3.0 -3.0\n",
       "45 -3.0  3.0  3.0 -3.0\n",
       "46 -3.0  3.0  3.0 -3.0\n",
       "47 -3.0 -3.0  3.0  3.0\n",
       "48  3.0  3.0  3.0 -3.0\n",
       "49  3.0 -3.0 -3.0  3.0"
      ]
     },
     "execution_count": 128,
     "metadata": {},
     "output_type": "execute_result"
    }
   ],
   "source": [
    "data_2 = np.sign(data) * 3\n",
    "data_2"
   ]
  },
  {
   "cell_type": "code",
   "execution_count": 129,
   "id": "394e2cca",
   "metadata": {
    "slideshow": {
     "slide_type": "slide"
    }
   },
   "outputs": [
    {
     "data": {
      "text/html": [
       "<div>\n",
       "<style scoped>\n",
       "    .dataframe tbody tr th:only-of-type {\n",
       "        vertical-align: middle;\n",
       "    }\n",
       "\n",
       "    .dataframe tbody tr th {\n",
       "        vertical-align: top;\n",
       "    }\n",
       "\n",
       "    .dataframe thead th {\n",
       "        text-align: right;\n",
       "    }\n",
       "</style>\n",
       "<table border=\"1\" class=\"dataframe\">\n",
       "  <thead>\n",
       "    <tr style=\"text-align: right;\">\n",
       "      <th></th>\n",
       "      <th>0</th>\n",
       "      <th>1</th>\n",
       "      <th>2</th>\n",
       "      <th>3</th>\n",
       "    </tr>\n",
       "  </thead>\n",
       "  <tbody>\n",
       "    <tr>\n",
       "      <th>count</th>\n",
       "      <td>2.000000</td>\n",
       "      <td>4.000000</td>\n",
       "      <td>2.000000</td>\n",
       "      <td>1.000000</td>\n",
       "    </tr>\n",
       "    <tr>\n",
       "      <th>mean</th>\n",
       "      <td>2.366440</td>\n",
       "      <td>0.316382</td>\n",
       "      <td>2.378060</td>\n",
       "      <td>-3.085276</td>\n",
       "    </tr>\n",
       "    <tr>\n",
       "      <th>std</th>\n",
       "      <td>0.502567</td>\n",
       "      <td>2.784471</td>\n",
       "      <td>0.052927</td>\n",
       "      <td>NaN</td>\n",
       "    </tr>\n",
       "    <tr>\n",
       "      <th>min</th>\n",
       "      <td>2.011071</td>\n",
       "      <td>-2.095979</td>\n",
       "      <td>2.340635</td>\n",
       "      <td>-3.085276</td>\n",
       "    </tr>\n",
       "    <tr>\n",
       "      <th>25%</th>\n",
       "      <td>2.188755</td>\n",
       "      <td>-2.068046</td>\n",
       "      <td>2.359347</td>\n",
       "      <td>-3.085276</td>\n",
       "    </tr>\n",
       "    <tr>\n",
       "      <th>50%</th>\n",
       "      <td>2.366440</td>\n",
       "      <td>0.119783</td>\n",
       "      <td>2.378060</td>\n",
       "      <td>-3.085276</td>\n",
       "    </tr>\n",
       "    <tr>\n",
       "      <th>75%</th>\n",
       "      <td>2.544124</td>\n",
       "      <td>2.504211</td>\n",
       "      <td>2.396772</td>\n",
       "      <td>-3.085276</td>\n",
       "    </tr>\n",
       "    <tr>\n",
       "      <th>max</th>\n",
       "      <td>2.721808</td>\n",
       "      <td>3.121942</td>\n",
       "      <td>2.415485</td>\n",
       "      <td>-3.085276</td>\n",
       "    </tr>\n",
       "  </tbody>\n",
       "</table>\n",
       "</div>"
      ],
      "text/plain": [
       "              0         1         2         3\n",
       "count  2.000000  4.000000  2.000000  1.000000\n",
       "mean   2.366440  0.316382  2.378060 -3.085276\n",
       "std    0.502567  2.784471  0.052927       NaN\n",
       "min    2.011071 -2.095979  2.340635 -3.085276\n",
       "25%    2.188755 -2.068046  2.359347 -3.085276\n",
       "50%    2.366440  0.119783  2.378060 -3.085276\n",
       "75%    2.544124  2.504211  2.396772 -3.085276\n",
       "max    2.721808  3.121942  2.415485 -3.085276"
      ]
     },
     "execution_count": 129,
     "metadata": {},
     "output_type": "execute_result"
    }
   ],
   "source": [
    "data_1.describe()"
   ]
  },
  {
   "cell_type": "markdown",
   "id": "380fa143",
   "metadata": {
    "slideshow": {
     "slide_type": "slide"
    }
   },
   "source": [
    "La sentencia `np.sign(data)` produce valores 1 y -1 en función de si los valores de los datos son positivos o negativos:"
   ]
  },
  {
   "cell_type": "code",
   "execution_count": 130,
   "id": "b1cfda54",
   "metadata": {
    "slideshow": {
     "slide_type": "slide"
    }
   },
   "outputs": [
    {
     "data": {
      "text/html": [
       "<div>\n",
       "<style scoped>\n",
       "    .dataframe tbody tr th:only-of-type {\n",
       "        vertical-align: middle;\n",
       "    }\n",
       "\n",
       "    .dataframe tbody tr th {\n",
       "        vertical-align: top;\n",
       "    }\n",
       "\n",
       "    .dataframe thead th {\n",
       "        text-align: right;\n",
       "    }\n",
       "</style>\n",
       "<table border=\"1\" class=\"dataframe\">\n",
       "  <thead>\n",
       "    <tr style=\"text-align: right;\">\n",
       "      <th></th>\n",
       "      <th>0</th>\n",
       "      <th>1</th>\n",
       "      <th>2</th>\n",
       "      <th>3</th>\n",
       "    </tr>\n",
       "  </thead>\n",
       "  <tbody>\n",
       "    <tr>\n",
       "      <th>0</th>\n",
       "      <td>-1.0</td>\n",
       "      <td>1.0</td>\n",
       "      <td>1.0</td>\n",
       "      <td>1.0</td>\n",
       "    </tr>\n",
       "    <tr>\n",
       "      <th>1</th>\n",
       "      <td>-1.0</td>\n",
       "      <td>1.0</td>\n",
       "      <td>-1.0</td>\n",
       "      <td>1.0</td>\n",
       "    </tr>\n",
       "    <tr>\n",
       "      <th>2</th>\n",
       "      <td>1.0</td>\n",
       "      <td>-1.0</td>\n",
       "      <td>1.0</td>\n",
       "      <td>1.0</td>\n",
       "    </tr>\n",
       "    <tr>\n",
       "      <th>3</th>\n",
       "      <td>1.0</td>\n",
       "      <td>1.0</td>\n",
       "      <td>-1.0</td>\n",
       "      <td>-1.0</td>\n",
       "    </tr>\n",
       "    <tr>\n",
       "      <th>4</th>\n",
       "      <td>-1.0</td>\n",
       "      <td>-1.0</td>\n",
       "      <td>1.0</td>\n",
       "      <td>-1.0</td>\n",
       "    </tr>\n",
       "  </tbody>\n",
       "</table>\n",
       "</div>"
      ],
      "text/plain": [
       "     0    1    2    3\n",
       "0 -1.0  1.0  1.0  1.0\n",
       "1 -1.0  1.0 -1.0  1.0\n",
       "2  1.0 -1.0  1.0  1.0\n",
       "3  1.0  1.0 -1.0 -1.0\n",
       "4 -1.0 -1.0  1.0 -1.0"
      ]
     },
     "execution_count": 130,
     "metadata": {},
     "output_type": "execute_result"
    }
   ],
   "source": [
    "np.sign(data).head()"
   ]
  },
  {
   "cell_type": "markdown",
   "id": "9c5df48c",
   "metadata": {
    "slideshow": {
     "slide_type": "slide"
    }
   },
   "source": [
    "### Permutación y muestreo aleatorio"
   ]
  },
  {
   "cell_type": "markdown",
   "id": "e079a90a",
   "metadata": {},
   "source": [
    "Es posible permutar (reordenar aleatoriamente) una Serie o las filas de un DataFrame usando la función `numpy.random.permutation`. Llamar a `permutation` con la longitud del eje que se desea permutar produce un array de enteros que indican el nuevo ordenamiento:"
   ]
  },
  {
   "cell_type": "code",
   "execution_count": 131,
   "id": "7c7f112c",
   "metadata": {},
   "outputs": [
    {
     "data": {
      "text/html": [
       "<div>\n",
       "<style scoped>\n",
       "    .dataframe tbody tr th:only-of-type {\n",
       "        vertical-align: middle;\n",
       "    }\n",
       "\n",
       "    .dataframe tbody tr th {\n",
       "        vertical-align: top;\n",
       "    }\n",
       "\n",
       "    .dataframe thead th {\n",
       "        text-align: right;\n",
       "    }\n",
       "</style>\n",
       "<table border=\"1\" class=\"dataframe\">\n",
       "  <thead>\n",
       "    <tr style=\"text-align: right;\">\n",
       "      <th></th>\n",
       "      <th>0</th>\n",
       "      <th>1</th>\n",
       "      <th>2</th>\n",
       "      <th>3</th>\n",
       "      <th>4</th>\n",
       "      <th>5</th>\n",
       "      <th>6</th>\n",
       "    </tr>\n",
       "  </thead>\n",
       "  <tbody>\n",
       "    <tr>\n",
       "      <th>0</th>\n",
       "      <td>0</td>\n",
       "      <td>1</td>\n",
       "      <td>2</td>\n",
       "      <td>3</td>\n",
       "      <td>4</td>\n",
       "      <td>5</td>\n",
       "      <td>6</td>\n",
       "    </tr>\n",
       "    <tr>\n",
       "      <th>1</th>\n",
       "      <td>7</td>\n",
       "      <td>8</td>\n",
       "      <td>9</td>\n",
       "      <td>10</td>\n",
       "      <td>11</td>\n",
       "      <td>12</td>\n",
       "      <td>13</td>\n",
       "    </tr>\n",
       "    <tr>\n",
       "      <th>2</th>\n",
       "      <td>14</td>\n",
       "      <td>15</td>\n",
       "      <td>16</td>\n",
       "      <td>17</td>\n",
       "      <td>18</td>\n",
       "      <td>19</td>\n",
       "      <td>20</td>\n",
       "    </tr>\n",
       "    <tr>\n",
       "      <th>3</th>\n",
       "      <td>21</td>\n",
       "      <td>22</td>\n",
       "      <td>23</td>\n",
       "      <td>24</td>\n",
       "      <td>25</td>\n",
       "      <td>26</td>\n",
       "      <td>27</td>\n",
       "    </tr>\n",
       "    <tr>\n",
       "      <th>4</th>\n",
       "      <td>28</td>\n",
       "      <td>29</td>\n",
       "      <td>30</td>\n",
       "      <td>31</td>\n",
       "      <td>32</td>\n",
       "      <td>33</td>\n",
       "      <td>34</td>\n",
       "    </tr>\n",
       "  </tbody>\n",
       "</table>\n",
       "</div>"
      ],
      "text/plain": [
       "    0   1   2   3   4   5   6\n",
       "0   0   1   2   3   4   5   6\n",
       "1   7   8   9  10  11  12  13\n",
       "2  14  15  16  17  18  19  20\n",
       "3  21  22  23  24  25  26  27\n",
       "4  28  29  30  31  32  33  34"
      ]
     },
     "execution_count": 131,
     "metadata": {},
     "output_type": "execute_result"
    }
   ],
   "source": [
    "df = pd.DataFrame(np.arange(5 * 7).reshape((5, 7)))\n",
    "df"
   ]
  },
  {
   "cell_type": "code",
   "execution_count": 132,
   "id": "0bc116dd",
   "metadata": {
    "slideshow": {
     "slide_type": "slide"
    }
   },
   "outputs": [
    {
     "data": {
      "text/plain": [
       "array([4, 0, 1, 2, 3])"
      ]
     },
     "execution_count": 132,
     "metadata": {},
     "output_type": "execute_result"
    }
   ],
   "source": [
    "sampler = np.random.permutation(5)\n",
    "sampler"
   ]
  },
  {
   "cell_type": "markdown",
   "id": "d26bd3da",
   "metadata": {
    "slideshow": {
     "slide_type": "slide"
    }
   },
   "source": [
    "Este array puede utilizarse entonces en la indexación basada en `iloc` o en la función equivalente `take` equivalente:"
   ]
  },
  {
   "cell_type": "code",
   "execution_count": 133,
   "id": "98b2519f",
   "metadata": {
    "slideshow": {
     "slide_type": "slide"
    }
   },
   "outputs": [
    {
     "data": {
      "text/html": [
       "<div>\n",
       "<style scoped>\n",
       "    .dataframe tbody tr th:only-of-type {\n",
       "        vertical-align: middle;\n",
       "    }\n",
       "\n",
       "    .dataframe tbody tr th {\n",
       "        vertical-align: top;\n",
       "    }\n",
       "\n",
       "    .dataframe thead th {\n",
       "        text-align: right;\n",
       "    }\n",
       "</style>\n",
       "<table border=\"1\" class=\"dataframe\">\n",
       "  <thead>\n",
       "    <tr style=\"text-align: right;\">\n",
       "      <th></th>\n",
       "      <th>0</th>\n",
       "      <th>1</th>\n",
       "      <th>2</th>\n",
       "      <th>3</th>\n",
       "      <th>4</th>\n",
       "      <th>5</th>\n",
       "      <th>6</th>\n",
       "    </tr>\n",
       "  </thead>\n",
       "  <tbody>\n",
       "    <tr>\n",
       "      <th>4</th>\n",
       "      <td>28</td>\n",
       "      <td>29</td>\n",
       "      <td>30</td>\n",
       "      <td>31</td>\n",
       "      <td>32</td>\n",
       "      <td>33</td>\n",
       "      <td>34</td>\n",
       "    </tr>\n",
       "    <tr>\n",
       "      <th>0</th>\n",
       "      <td>0</td>\n",
       "      <td>1</td>\n",
       "      <td>2</td>\n",
       "      <td>3</td>\n",
       "      <td>4</td>\n",
       "      <td>5</td>\n",
       "      <td>6</td>\n",
       "    </tr>\n",
       "    <tr>\n",
       "      <th>1</th>\n",
       "      <td>7</td>\n",
       "      <td>8</td>\n",
       "      <td>9</td>\n",
       "      <td>10</td>\n",
       "      <td>11</td>\n",
       "      <td>12</td>\n",
       "      <td>13</td>\n",
       "    </tr>\n",
       "    <tr>\n",
       "      <th>2</th>\n",
       "      <td>14</td>\n",
       "      <td>15</td>\n",
       "      <td>16</td>\n",
       "      <td>17</td>\n",
       "      <td>18</td>\n",
       "      <td>19</td>\n",
       "      <td>20</td>\n",
       "    </tr>\n",
       "    <tr>\n",
       "      <th>3</th>\n",
       "      <td>21</td>\n",
       "      <td>22</td>\n",
       "      <td>23</td>\n",
       "      <td>24</td>\n",
       "      <td>25</td>\n",
       "      <td>26</td>\n",
       "      <td>27</td>\n",
       "    </tr>\n",
       "  </tbody>\n",
       "</table>\n",
       "</div>"
      ],
      "text/plain": [
       "    0   1   2   3   4   5   6\n",
       "4  28  29  30  31  32  33  34\n",
       "0   0   1   2   3   4   5   6\n",
       "1   7   8   9  10  11  12  13\n",
       "2  14  15  16  17  18  19  20\n",
       "3  21  22  23  24  25  26  27"
      ]
     },
     "execution_count": 133,
     "metadata": {},
     "output_type": "execute_result"
    }
   ],
   "source": [
    "df.take(sampler)"
   ]
  },
  {
   "cell_type": "code",
   "execution_count": 134,
   "id": "c104a032",
   "metadata": {
    "slideshow": {
     "slide_type": "slide"
    }
   },
   "outputs": [
    {
     "data": {
      "text/html": [
       "<div>\n",
       "<style scoped>\n",
       "    .dataframe tbody tr th:only-of-type {\n",
       "        vertical-align: middle;\n",
       "    }\n",
       "\n",
       "    .dataframe tbody tr th {\n",
       "        vertical-align: top;\n",
       "    }\n",
       "\n",
       "    .dataframe thead th {\n",
       "        text-align: right;\n",
       "    }\n",
       "</style>\n",
       "<table border=\"1\" class=\"dataframe\">\n",
       "  <thead>\n",
       "    <tr style=\"text-align: right;\">\n",
       "      <th></th>\n",
       "      <th>0</th>\n",
       "      <th>1</th>\n",
       "      <th>2</th>\n",
       "      <th>3</th>\n",
       "      <th>4</th>\n",
       "      <th>5</th>\n",
       "      <th>6</th>\n",
       "    </tr>\n",
       "  </thead>\n",
       "  <tbody>\n",
       "    <tr>\n",
       "      <th>4</th>\n",
       "      <td>28</td>\n",
       "      <td>29</td>\n",
       "      <td>30</td>\n",
       "      <td>31</td>\n",
       "      <td>32</td>\n",
       "      <td>33</td>\n",
       "      <td>34</td>\n",
       "    </tr>\n",
       "    <tr>\n",
       "      <th>0</th>\n",
       "      <td>0</td>\n",
       "      <td>1</td>\n",
       "      <td>2</td>\n",
       "      <td>3</td>\n",
       "      <td>4</td>\n",
       "      <td>5</td>\n",
       "      <td>6</td>\n",
       "    </tr>\n",
       "    <tr>\n",
       "      <th>1</th>\n",
       "      <td>7</td>\n",
       "      <td>8</td>\n",
       "      <td>9</td>\n",
       "      <td>10</td>\n",
       "      <td>11</td>\n",
       "      <td>12</td>\n",
       "      <td>13</td>\n",
       "    </tr>\n",
       "    <tr>\n",
       "      <th>2</th>\n",
       "      <td>14</td>\n",
       "      <td>15</td>\n",
       "      <td>16</td>\n",
       "      <td>17</td>\n",
       "      <td>18</td>\n",
       "      <td>19</td>\n",
       "      <td>20</td>\n",
       "    </tr>\n",
       "    <tr>\n",
       "      <th>3</th>\n",
       "      <td>21</td>\n",
       "      <td>22</td>\n",
       "      <td>23</td>\n",
       "      <td>24</td>\n",
       "      <td>25</td>\n",
       "      <td>26</td>\n",
       "      <td>27</td>\n",
       "    </tr>\n",
       "  </tbody>\n",
       "</table>\n",
       "</div>"
      ],
      "text/plain": [
       "    0   1   2   3   4   5   6\n",
       "4  28  29  30  31  32  33  34\n",
       "0   0   1   2   3   4   5   6\n",
       "1   7   8   9  10  11  12  13\n",
       "2  14  15  16  17  18  19  20\n",
       "3  21  22  23  24  25  26  27"
      ]
     },
     "execution_count": 134,
     "metadata": {},
     "output_type": "execute_result"
    }
   ],
   "source": [
    "df.iloc[sampler]"
   ]
  },
  {
   "cell_type": "markdown",
   "id": "06874d45",
   "metadata": {
    "slideshow": {
     "slide_type": "slide"
    }
   },
   "source": [
    "Invocando `take` con `axis=\"columns\"`, también podríamos seleccionar una permutación de las columnas:"
   ]
  },
  {
   "cell_type": "code",
   "execution_count": 135,
   "id": "6e4f9aad",
   "metadata": {
    "slideshow": {
     "slide_type": "slide"
    }
   },
   "outputs": [
    {
     "data": {
      "text/plain": [
       "array([0, 1, 6, 5, 3, 2, 4])"
      ]
     },
     "execution_count": 135,
     "metadata": {},
     "output_type": "execute_result"
    }
   ],
   "source": [
    "column_sampler = np.random.permutation(7)\n",
    "column_sampler"
   ]
  },
  {
   "cell_type": "code",
   "execution_count": 136,
   "id": "2122d9e9",
   "metadata": {
    "slideshow": {
     "slide_type": "slide"
    }
   },
   "outputs": [
    {
     "data": {
      "text/html": [
       "<div>\n",
       "<style scoped>\n",
       "    .dataframe tbody tr th:only-of-type {\n",
       "        vertical-align: middle;\n",
       "    }\n",
       "\n",
       "    .dataframe tbody tr th {\n",
       "        vertical-align: top;\n",
       "    }\n",
       "\n",
       "    .dataframe thead th {\n",
       "        text-align: right;\n",
       "    }\n",
       "</style>\n",
       "<table border=\"1\" class=\"dataframe\">\n",
       "  <thead>\n",
       "    <tr style=\"text-align: right;\">\n",
       "      <th></th>\n",
       "      <th>0</th>\n",
       "      <th>1</th>\n",
       "      <th>6</th>\n",
       "      <th>5</th>\n",
       "      <th>3</th>\n",
       "      <th>2</th>\n",
       "      <th>4</th>\n",
       "    </tr>\n",
       "  </thead>\n",
       "  <tbody>\n",
       "    <tr>\n",
       "      <th>0</th>\n",
       "      <td>0</td>\n",
       "      <td>1</td>\n",
       "      <td>6</td>\n",
       "      <td>5</td>\n",
       "      <td>3</td>\n",
       "      <td>2</td>\n",
       "      <td>4</td>\n",
       "    </tr>\n",
       "    <tr>\n",
       "      <th>1</th>\n",
       "      <td>7</td>\n",
       "      <td>8</td>\n",
       "      <td>13</td>\n",
       "      <td>12</td>\n",
       "      <td>10</td>\n",
       "      <td>9</td>\n",
       "      <td>11</td>\n",
       "    </tr>\n",
       "    <tr>\n",
       "      <th>2</th>\n",
       "      <td>14</td>\n",
       "      <td>15</td>\n",
       "      <td>20</td>\n",
       "      <td>19</td>\n",
       "      <td>17</td>\n",
       "      <td>16</td>\n",
       "      <td>18</td>\n",
       "    </tr>\n",
       "    <tr>\n",
       "      <th>3</th>\n",
       "      <td>21</td>\n",
       "      <td>22</td>\n",
       "      <td>27</td>\n",
       "      <td>26</td>\n",
       "      <td>24</td>\n",
       "      <td>23</td>\n",
       "      <td>25</td>\n",
       "    </tr>\n",
       "    <tr>\n",
       "      <th>4</th>\n",
       "      <td>28</td>\n",
       "      <td>29</td>\n",
       "      <td>34</td>\n",
       "      <td>33</td>\n",
       "      <td>31</td>\n",
       "      <td>30</td>\n",
       "      <td>32</td>\n",
       "    </tr>\n",
       "  </tbody>\n",
       "</table>\n",
       "</div>"
      ],
      "text/plain": [
       "    0   1   6   5   3   2   4\n",
       "0   0   1   6   5   3   2   4\n",
       "1   7   8  13  12  10   9  11\n",
       "2  14  15  20  19  17  16  18\n",
       "3  21  22  27  26  24  23  25\n",
       "4  28  29  34  33  31  30  32"
      ]
     },
     "execution_count": 136,
     "metadata": {},
     "output_type": "execute_result"
    }
   ],
   "source": [
    "df.take(column_sampler, axis=\"columns\")"
   ]
  },
  {
   "cell_type": "markdown",
   "id": "2dc2fe8f",
   "metadata": {
    "slideshow": {
     "slide_type": "slide"
    }
   },
   "source": [
    "Para seleccionar un subconjunto aleatorio (ramdom subset) sin reemplazo (la misma fila no puede aparecer dos veces), puede utilizar el método `sample` en Series y DataFrame:"
   ]
  },
  {
   "cell_type": "code",
   "execution_count": 137,
   "id": "e256af24",
   "metadata": {},
   "outputs": [
    {
     "data": {
      "text/html": [
       "<div>\n",
       "<style scoped>\n",
       "    .dataframe tbody tr th:only-of-type {\n",
       "        vertical-align: middle;\n",
       "    }\n",
       "\n",
       "    .dataframe tbody tr th {\n",
       "        vertical-align: top;\n",
       "    }\n",
       "\n",
       "    .dataframe thead th {\n",
       "        text-align: right;\n",
       "    }\n",
       "</style>\n",
       "<table border=\"1\" class=\"dataframe\">\n",
       "  <thead>\n",
       "    <tr style=\"text-align: right;\">\n",
       "      <th></th>\n",
       "      <th>0</th>\n",
       "      <th>1</th>\n",
       "      <th>2</th>\n",
       "      <th>3</th>\n",
       "      <th>4</th>\n",
       "      <th>5</th>\n",
       "      <th>6</th>\n",
       "    </tr>\n",
       "  </thead>\n",
       "  <tbody>\n",
       "    <tr>\n",
       "      <th>2</th>\n",
       "      <td>14</td>\n",
       "      <td>15</td>\n",
       "      <td>16</td>\n",
       "      <td>17</td>\n",
       "      <td>18</td>\n",
       "      <td>19</td>\n",
       "      <td>20</td>\n",
       "    </tr>\n",
       "    <tr>\n",
       "      <th>0</th>\n",
       "      <td>0</td>\n",
       "      <td>1</td>\n",
       "      <td>2</td>\n",
       "      <td>3</td>\n",
       "      <td>4</td>\n",
       "      <td>5</td>\n",
       "      <td>6</td>\n",
       "    </tr>\n",
       "    <tr>\n",
       "      <th>1</th>\n",
       "      <td>7</td>\n",
       "      <td>8</td>\n",
       "      <td>9</td>\n",
       "      <td>10</td>\n",
       "      <td>11</td>\n",
       "      <td>12</td>\n",
       "      <td>13</td>\n",
       "    </tr>\n",
       "  </tbody>\n",
       "</table>\n",
       "</div>"
      ],
      "text/plain": [
       "    0   1   2   3   4   5   6\n",
       "2  14  15  16  17  18  19  20\n",
       "0   0   1   2   3   4   5   6\n",
       "1   7   8   9  10  11  12  13"
      ]
     },
     "execution_count": 137,
     "metadata": {},
     "output_type": "execute_result"
    }
   ],
   "source": [
    "df.sample(n=3)"
   ]
  },
  {
   "cell_type": "markdown",
   "id": "d5f657b2",
   "metadata": {
    "slideshow": {
     "slide_type": "slide"
    }
   },
   "source": [
    "Para generar una muestra con reemplazo (para permitir elecciones repetidas), pase `replace=True` a `sample`:"
   ]
  },
  {
   "cell_type": "code",
   "execution_count": 138,
   "id": "3afdd34b",
   "metadata": {},
   "outputs": [
    {
     "data": {
      "text/plain": [
       "0    5\n",
       "1    7\n",
       "2   -1\n",
       "3    6\n",
       "4    4\n",
       "dtype: int64"
      ]
     },
     "execution_count": 138,
     "metadata": {},
     "output_type": "execute_result"
    }
   ],
   "source": [
    "choices = pd.Series([5, 7, -1, 6, 4])\n",
    "choices"
   ]
  },
  {
   "cell_type": "code",
   "execution_count": 139,
   "id": "52393ac2",
   "metadata": {
    "slideshow": {
     "slide_type": "slide"
    }
   },
   "outputs": [
    {
     "data": {
      "text/plain": [
       "0    5\n",
       "1    7\n",
       "1    7\n",
       "2   -1\n",
       "3    6\n",
       "1    7\n",
       "1    7\n",
       "2   -1\n",
       "4    4\n",
       "1    7\n",
       "dtype: int64"
      ]
     },
     "execution_count": 139,
     "metadata": {},
     "output_type": "execute_result"
    }
   ],
   "source": [
    "choices.sample(n=10, replace=True)"
   ]
  },
  {
   "cell_type": "markdown",
   "id": "d760d51e",
   "metadata": {
    "slideshow": {
     "slide_type": "slide"
    }
   },
   "source": [
    "### Cálculo de indicadores/variables ficticias (dummy)"
   ]
  },
  {
   "cell_type": "markdown",
   "id": "4e21f561",
   "metadata": {},
   "source": [
    "Otro tipo de transformación para modelado estadístico o aplicaciones de aprendizaje automático es convertir una variable categórica en un array de dummies o indicadores. Si una columna en un DataFrame tiene k valores distintos, se derivaría un array o DataFrame con k columnas que contengan todos los 1s y 0s. Pandas tiene una función `pandas.get_dummies` para hacer esto, aunque también podría idear una usted mismo. Veamos un ejemplo de DataFrame:"
   ]
  },
  {
   "cell_type": "code",
   "execution_count": 140,
   "id": "ce0c01ea",
   "metadata": {
    "slideshow": {
     "slide_type": "slide"
    }
   },
   "outputs": [
    {
     "data": {
      "text/html": [
       "<div>\n",
       "<style scoped>\n",
       "    .dataframe tbody tr th:only-of-type {\n",
       "        vertical-align: middle;\n",
       "    }\n",
       "\n",
       "    .dataframe tbody tr th {\n",
       "        vertical-align: top;\n",
       "    }\n",
       "\n",
       "    .dataframe thead th {\n",
       "        text-align: right;\n",
       "    }\n",
       "</style>\n",
       "<table border=\"1\" class=\"dataframe\">\n",
       "  <thead>\n",
       "    <tr style=\"text-align: right;\">\n",
       "      <th></th>\n",
       "      <th>key</th>\n",
       "      <th>data1</th>\n",
       "    </tr>\n",
       "  </thead>\n",
       "  <tbody>\n",
       "    <tr>\n",
       "      <th>0</th>\n",
       "      <td>b</td>\n",
       "      <td>0</td>\n",
       "    </tr>\n",
       "    <tr>\n",
       "      <th>1</th>\n",
       "      <td>b</td>\n",
       "      <td>1</td>\n",
       "    </tr>\n",
       "    <tr>\n",
       "      <th>2</th>\n",
       "      <td>a</td>\n",
       "      <td>2</td>\n",
       "    </tr>\n",
       "    <tr>\n",
       "      <th>3</th>\n",
       "      <td>c</td>\n",
       "      <td>3</td>\n",
       "    </tr>\n",
       "    <tr>\n",
       "      <th>4</th>\n",
       "      <td>a</td>\n",
       "      <td>4</td>\n",
       "    </tr>\n",
       "    <tr>\n",
       "      <th>5</th>\n",
       "      <td>b</td>\n",
       "      <td>5</td>\n",
       "    </tr>\n",
       "  </tbody>\n",
       "</table>\n",
       "</div>"
      ],
      "text/plain": [
       "  key  data1\n",
       "0   b      0\n",
       "1   b      1\n",
       "2   a      2\n",
       "3   c      3\n",
       "4   a      4\n",
       "5   b      5"
      ]
     },
     "execution_count": 140,
     "metadata": {},
     "output_type": "execute_result"
    }
   ],
   "source": [
    "df = pd.DataFrame({\"key\": [\"b\", \"b\", \"a\", \"c\", \"a\", \"b\"],\n",
    "                   \"data1\": range(6)})\n",
    "df"
   ]
  },
  {
   "cell_type": "code",
   "execution_count": 141,
   "id": "1024c694",
   "metadata": {
    "slideshow": {
     "slide_type": "slide"
    }
   },
   "outputs": [
    {
     "data": {
      "text/html": [
       "<div>\n",
       "<style scoped>\n",
       "    .dataframe tbody tr th:only-of-type {\n",
       "        vertical-align: middle;\n",
       "    }\n",
       "\n",
       "    .dataframe tbody tr th {\n",
       "        vertical-align: top;\n",
       "    }\n",
       "\n",
       "    .dataframe thead th {\n",
       "        text-align: right;\n",
       "    }\n",
       "</style>\n",
       "<table border=\"1\" class=\"dataframe\">\n",
       "  <thead>\n",
       "    <tr style=\"text-align: right;\">\n",
       "      <th></th>\n",
       "      <th>a</th>\n",
       "      <th>b</th>\n",
       "      <th>c</th>\n",
       "    </tr>\n",
       "  </thead>\n",
       "  <tbody>\n",
       "    <tr>\n",
       "      <th>0</th>\n",
       "      <td>0.0</td>\n",
       "      <td>1.0</td>\n",
       "      <td>0.0</td>\n",
       "    </tr>\n",
       "    <tr>\n",
       "      <th>1</th>\n",
       "      <td>0.0</td>\n",
       "      <td>1.0</td>\n",
       "      <td>0.0</td>\n",
       "    </tr>\n",
       "    <tr>\n",
       "      <th>2</th>\n",
       "      <td>1.0</td>\n",
       "      <td>0.0</td>\n",
       "      <td>0.0</td>\n",
       "    </tr>\n",
       "    <tr>\n",
       "      <th>3</th>\n",
       "      <td>0.0</td>\n",
       "      <td>0.0</td>\n",
       "      <td>1.0</td>\n",
       "    </tr>\n",
       "    <tr>\n",
       "      <th>4</th>\n",
       "      <td>1.0</td>\n",
       "      <td>0.0</td>\n",
       "      <td>0.0</td>\n",
       "    </tr>\n",
       "    <tr>\n",
       "      <th>5</th>\n",
       "      <td>0.0</td>\n",
       "      <td>1.0</td>\n",
       "      <td>0.0</td>\n",
       "    </tr>\n",
       "  </tbody>\n",
       "</table>\n",
       "</div>"
      ],
      "text/plain": [
       "     a    b    c\n",
       "0  0.0  1.0  0.0\n",
       "1  0.0  1.0  0.0\n",
       "2  1.0  0.0  0.0\n",
       "3  0.0  0.0  1.0\n",
       "4  1.0  0.0  0.0\n",
       "5  0.0  1.0  0.0"
      ]
     },
     "execution_count": 141,
     "metadata": {},
     "output_type": "execute_result"
    }
   ],
   "source": [
    "pd.get_dummies(df[\"key\"], dtype=float)"
   ]
  },
  {
   "cell_type": "markdown",
   "id": "f4308e53",
   "metadata": {},
   "source": [
    "Aquí se ha pasado `dtype=float` para cambiar el tipo de salida de boolean (el predeterminado en las versiones más recientes de pandas) a coma flotante (floating point)."
   ]
  },
  {
   "cell_type": "markdown",
   "id": "66ed13d8",
   "metadata": {
    "slideshow": {
     "slide_type": "slide"
    }
   },
   "source": [
    "En algunos casos, es posible que desee añadir un prefijo a las columnas en el DataFrame del indicador, que luego se pueden fusionar con los otros datos. `pandas.get_dummies` tiene un argumento de prefijo para hacer esto:"
   ]
  },
  {
   "cell_type": "code",
   "execution_count": 142,
   "id": "70ddf56c",
   "metadata": {
    "slideshow": {
     "slide_type": "slide"
    }
   },
   "outputs": [
    {
     "data": {
      "text/html": [
       "<div>\n",
       "<style scoped>\n",
       "    .dataframe tbody tr th:only-of-type {\n",
       "        vertical-align: middle;\n",
       "    }\n",
       "\n",
       "    .dataframe tbody tr th {\n",
       "        vertical-align: top;\n",
       "    }\n",
       "\n",
       "    .dataframe thead th {\n",
       "        text-align: right;\n",
       "    }\n",
       "</style>\n",
       "<table border=\"1\" class=\"dataframe\">\n",
       "  <thead>\n",
       "    <tr style=\"text-align: right;\">\n",
       "      <th></th>\n",
       "      <th>key_a</th>\n",
       "      <th>key_b</th>\n",
       "      <th>key_c</th>\n",
       "    </tr>\n",
       "  </thead>\n",
       "  <tbody>\n",
       "    <tr>\n",
       "      <th>0</th>\n",
       "      <td>0.0</td>\n",
       "      <td>1.0</td>\n",
       "      <td>0.0</td>\n",
       "    </tr>\n",
       "    <tr>\n",
       "      <th>1</th>\n",
       "      <td>0.0</td>\n",
       "      <td>1.0</td>\n",
       "      <td>0.0</td>\n",
       "    </tr>\n",
       "    <tr>\n",
       "      <th>2</th>\n",
       "      <td>1.0</td>\n",
       "      <td>0.0</td>\n",
       "      <td>0.0</td>\n",
       "    </tr>\n",
       "    <tr>\n",
       "      <th>3</th>\n",
       "      <td>0.0</td>\n",
       "      <td>0.0</td>\n",
       "      <td>1.0</td>\n",
       "    </tr>\n",
       "    <tr>\n",
       "      <th>4</th>\n",
       "      <td>1.0</td>\n",
       "      <td>0.0</td>\n",
       "      <td>0.0</td>\n",
       "    </tr>\n",
       "    <tr>\n",
       "      <th>5</th>\n",
       "      <td>0.0</td>\n",
       "      <td>1.0</td>\n",
       "      <td>0.0</td>\n",
       "    </tr>\n",
       "  </tbody>\n",
       "</table>\n",
       "</div>"
      ],
      "text/plain": [
       "   key_a  key_b  key_c\n",
       "0    0.0    1.0    0.0\n",
       "1    0.0    1.0    0.0\n",
       "2    1.0    0.0    0.0\n",
       "3    0.0    0.0    1.0\n",
       "4    1.0    0.0    0.0\n",
       "5    0.0    1.0    0.0"
      ]
     },
     "execution_count": 142,
     "metadata": {},
     "output_type": "execute_result"
    }
   ],
   "source": [
    "dummies = pd.get_dummies(df[\"key\"], prefix=\"key\", dtype=float)\n",
    "dummies"
   ]
  },
  {
   "cell_type": "code",
   "execution_count": 143,
   "id": "1db7903d",
   "metadata": {
    "slideshow": {
     "slide_type": "slide"
    }
   },
   "outputs": [
    {
     "data": {
      "text/html": [
       "<div>\n",
       "<style scoped>\n",
       "    .dataframe tbody tr th:only-of-type {\n",
       "        vertical-align: middle;\n",
       "    }\n",
       "\n",
       "    .dataframe tbody tr th {\n",
       "        vertical-align: top;\n",
       "    }\n",
       "\n",
       "    .dataframe thead th {\n",
       "        text-align: right;\n",
       "    }\n",
       "</style>\n",
       "<table border=\"1\" class=\"dataframe\">\n",
       "  <thead>\n",
       "    <tr style=\"text-align: right;\">\n",
       "      <th></th>\n",
       "      <th>data1</th>\n",
       "      <th>key_a</th>\n",
       "      <th>key_b</th>\n",
       "      <th>key_c</th>\n",
       "    </tr>\n",
       "  </thead>\n",
       "  <tbody>\n",
       "    <tr>\n",
       "      <th>0</th>\n",
       "      <td>0</td>\n",
       "      <td>0.0</td>\n",
       "      <td>1.0</td>\n",
       "      <td>0.0</td>\n",
       "    </tr>\n",
       "    <tr>\n",
       "      <th>1</th>\n",
       "      <td>1</td>\n",
       "      <td>0.0</td>\n",
       "      <td>1.0</td>\n",
       "      <td>0.0</td>\n",
       "    </tr>\n",
       "    <tr>\n",
       "      <th>2</th>\n",
       "      <td>2</td>\n",
       "      <td>1.0</td>\n",
       "      <td>0.0</td>\n",
       "      <td>0.0</td>\n",
       "    </tr>\n",
       "    <tr>\n",
       "      <th>3</th>\n",
       "      <td>3</td>\n",
       "      <td>0.0</td>\n",
       "      <td>0.0</td>\n",
       "      <td>1.0</td>\n",
       "    </tr>\n",
       "    <tr>\n",
       "      <th>4</th>\n",
       "      <td>4</td>\n",
       "      <td>1.0</td>\n",
       "      <td>0.0</td>\n",
       "      <td>0.0</td>\n",
       "    </tr>\n",
       "    <tr>\n",
       "      <th>5</th>\n",
       "      <td>5</td>\n",
       "      <td>0.0</td>\n",
       "      <td>1.0</td>\n",
       "      <td>0.0</td>\n",
       "    </tr>\n",
       "  </tbody>\n",
       "</table>\n",
       "</div>"
      ],
      "text/plain": [
       "   data1  key_a  key_b  key_c\n",
       "0      0    0.0    1.0    0.0\n",
       "1      1    0.0    1.0    0.0\n",
       "2      2    1.0    0.0    0.0\n",
       "3      3    0.0    0.0    1.0\n",
       "4      4    1.0    0.0    0.0\n",
       "5      5    0.0    1.0    0.0"
      ]
     },
     "execution_count": 143,
     "metadata": {},
     "output_type": "execute_result"
    }
   ],
   "source": [
    "df_with_dummy = df[[\"data1\"]].join(dummies) # .join lo veremos a detalle mas adelante\n",
    "df_with_dummy"
   ]
  },
  {
   "cell_type": "markdown",
   "id": "049835a5",
   "metadata": {
    "slideshow": {
     "slide_type": "slide"
    }
   },
   "source": [
    "Si una fila de un DataFrame pertenece a varias categorías, tenemos que utilizar un enfoque diferente para crear las variables ficticias. Veamos el conjunto de datos `MovieLens 1M`:"
   ]
  },
  {
   "cell_type": "code",
   "execution_count": 144,
   "id": "dc387f6e",
   "metadata": {
    "slideshow": {
     "slide_type": "slide"
    }
   },
   "outputs": [
    {
     "ename": "FileNotFoundError",
     "evalue": "[Errno 2] No such file or directory: 'movies.dat'",
     "output_type": "error",
     "traceback": [
      "\u001b[1;31m---------------------------------------------------------------------------\u001b[0m",
      "\u001b[1;31mFileNotFoundError\u001b[0m                         Traceback (most recent call last)",
      "Cell \u001b[1;32mIn[144], line 2\u001b[0m\n\u001b[0;32m      1\u001b[0m mnames \u001b[38;5;241m=\u001b[39m [\u001b[38;5;124m\"\u001b[39m\u001b[38;5;124mmovie_id\u001b[39m\u001b[38;5;124m\"\u001b[39m, \u001b[38;5;124m\"\u001b[39m\u001b[38;5;124mtitle\u001b[39m\u001b[38;5;124m\"\u001b[39m, \u001b[38;5;124m\"\u001b[39m\u001b[38;5;124mgenres\u001b[39m\u001b[38;5;124m\"\u001b[39m]\n\u001b[1;32m----> 2\u001b[0m movies \u001b[38;5;241m=\u001b[39m \u001b[43mpd\u001b[49m\u001b[38;5;241;43m.\u001b[39;49m\u001b[43mread_table\u001b[49m\u001b[43m(\u001b[49m\u001b[38;5;124;43m'\u001b[39;49m\u001b[38;5;124;43mmovies.dat\u001b[39;49m\u001b[38;5;124;43m'\u001b[39;49m\u001b[43m,\u001b[49m\u001b[43m \u001b[49m\u001b[43msep\u001b[49m\u001b[38;5;241;43m=\u001b[39;49m\u001b[38;5;124;43m\"\u001b[39;49m\u001b[38;5;124;43m::\u001b[39;49m\u001b[38;5;124;43m\"\u001b[39;49m\u001b[43m,\u001b[49m\n\u001b[0;32m      3\u001b[0m \u001b[43m                       \u001b[49m\u001b[43mheader\u001b[49m\u001b[38;5;241;43m=\u001b[39;49m\u001b[38;5;28;43;01mNone\u001b[39;49;00m\u001b[43m,\u001b[49m\u001b[43m \u001b[49m\u001b[43mnames\u001b[49m\u001b[38;5;241;43m=\u001b[39;49m\u001b[43mmnames\u001b[49m\u001b[43m,\u001b[49m\u001b[43m \u001b[49m\u001b[43mengine\u001b[49m\u001b[38;5;241;43m=\u001b[39;49m\u001b[38;5;124;43m\"\u001b[39;49m\u001b[38;5;124;43mpython\u001b[39;49m\u001b[38;5;124;43m\"\u001b[39;49m\u001b[43m)\u001b[49m\n\u001b[0;32m      5\u001b[0m movies[:\u001b[38;5;241m10\u001b[39m]                      \n",
      "File \u001b[1;32mc:\\Users\\CursosTardes\\anaconda3\\envs\\clase72-pandas-datacleaning-wrangling\\Lib\\site-packages\\pandas\\io\\parsers\\readers.py:1405\u001b[0m, in \u001b[0;36mread_table\u001b[1;34m(filepath_or_buffer, sep, delimiter, header, names, index_col, usecols, dtype, engine, converters, true_values, false_values, skipinitialspace, skiprows, skipfooter, nrows, na_values, keep_default_na, na_filter, verbose, skip_blank_lines, parse_dates, infer_datetime_format, keep_date_col, date_parser, date_format, dayfirst, cache_dates, iterator, chunksize, compression, thousands, decimal, lineterminator, quotechar, quoting, doublequote, escapechar, comment, encoding, encoding_errors, dialect, on_bad_lines, delim_whitespace, low_memory, memory_map, float_precision, storage_options, dtype_backend)\u001b[0m\n\u001b[0;32m   1392\u001b[0m kwds_defaults \u001b[38;5;241m=\u001b[39m _refine_defaults_read(\n\u001b[0;32m   1393\u001b[0m     dialect,\n\u001b[0;32m   1394\u001b[0m     delimiter,\n\u001b[1;32m   (...)\u001b[0m\n\u001b[0;32m   1401\u001b[0m     dtype_backend\u001b[38;5;241m=\u001b[39mdtype_backend,\n\u001b[0;32m   1402\u001b[0m )\n\u001b[0;32m   1403\u001b[0m kwds\u001b[38;5;241m.\u001b[39mupdate(kwds_defaults)\n\u001b[1;32m-> 1405\u001b[0m \u001b[38;5;28;01mreturn\u001b[39;00m \u001b[43m_read\u001b[49m\u001b[43m(\u001b[49m\u001b[43mfilepath_or_buffer\u001b[49m\u001b[43m,\u001b[49m\u001b[43m \u001b[49m\u001b[43mkwds\u001b[49m\u001b[43m)\u001b[49m\n",
      "File \u001b[1;32mc:\\Users\\CursosTardes\\anaconda3\\envs\\clase72-pandas-datacleaning-wrangling\\Lib\\site-packages\\pandas\\io\\parsers\\readers.py:620\u001b[0m, in \u001b[0;36m_read\u001b[1;34m(filepath_or_buffer, kwds)\u001b[0m\n\u001b[0;32m    617\u001b[0m _validate_names(kwds\u001b[38;5;241m.\u001b[39mget(\u001b[38;5;124m\"\u001b[39m\u001b[38;5;124mnames\u001b[39m\u001b[38;5;124m\"\u001b[39m, \u001b[38;5;28;01mNone\u001b[39;00m))\n\u001b[0;32m    619\u001b[0m \u001b[38;5;66;03m# Create the parser.\u001b[39;00m\n\u001b[1;32m--> 620\u001b[0m parser \u001b[38;5;241m=\u001b[39m \u001b[43mTextFileReader\u001b[49m\u001b[43m(\u001b[49m\u001b[43mfilepath_or_buffer\u001b[49m\u001b[43m,\u001b[49m\u001b[43m \u001b[49m\u001b[38;5;241;43m*\u001b[39;49m\u001b[38;5;241;43m*\u001b[39;49m\u001b[43mkwds\u001b[49m\u001b[43m)\u001b[49m\n\u001b[0;32m    622\u001b[0m \u001b[38;5;28;01mif\u001b[39;00m chunksize \u001b[38;5;129;01mor\u001b[39;00m iterator:\n\u001b[0;32m    623\u001b[0m     \u001b[38;5;28;01mreturn\u001b[39;00m parser\n",
      "File \u001b[1;32mc:\\Users\\CursosTardes\\anaconda3\\envs\\clase72-pandas-datacleaning-wrangling\\Lib\\site-packages\\pandas\\io\\parsers\\readers.py:1620\u001b[0m, in \u001b[0;36mTextFileReader.__init__\u001b[1;34m(self, f, engine, **kwds)\u001b[0m\n\u001b[0;32m   1617\u001b[0m     \u001b[38;5;28mself\u001b[39m\u001b[38;5;241m.\u001b[39moptions[\u001b[38;5;124m\"\u001b[39m\u001b[38;5;124mhas_index_names\u001b[39m\u001b[38;5;124m\"\u001b[39m] \u001b[38;5;241m=\u001b[39m kwds[\u001b[38;5;124m\"\u001b[39m\u001b[38;5;124mhas_index_names\u001b[39m\u001b[38;5;124m\"\u001b[39m]\n\u001b[0;32m   1619\u001b[0m \u001b[38;5;28mself\u001b[39m\u001b[38;5;241m.\u001b[39mhandles: IOHandles \u001b[38;5;241m|\u001b[39m \u001b[38;5;28;01mNone\u001b[39;00m \u001b[38;5;241m=\u001b[39m \u001b[38;5;28;01mNone\u001b[39;00m\n\u001b[1;32m-> 1620\u001b[0m \u001b[38;5;28mself\u001b[39m\u001b[38;5;241m.\u001b[39m_engine \u001b[38;5;241m=\u001b[39m \u001b[38;5;28;43mself\u001b[39;49m\u001b[38;5;241;43m.\u001b[39;49m\u001b[43m_make_engine\u001b[49m\u001b[43m(\u001b[49m\u001b[43mf\u001b[49m\u001b[43m,\u001b[49m\u001b[43m \u001b[49m\u001b[38;5;28;43mself\u001b[39;49m\u001b[38;5;241;43m.\u001b[39;49m\u001b[43mengine\u001b[49m\u001b[43m)\u001b[49m\n",
      "File \u001b[1;32mc:\\Users\\CursosTardes\\anaconda3\\envs\\clase72-pandas-datacleaning-wrangling\\Lib\\site-packages\\pandas\\io\\parsers\\readers.py:1880\u001b[0m, in \u001b[0;36mTextFileReader._make_engine\u001b[1;34m(self, f, engine)\u001b[0m\n\u001b[0;32m   1878\u001b[0m     \u001b[38;5;28;01mif\u001b[39;00m \u001b[38;5;124m\"\u001b[39m\u001b[38;5;124mb\u001b[39m\u001b[38;5;124m\"\u001b[39m \u001b[38;5;129;01mnot\u001b[39;00m \u001b[38;5;129;01min\u001b[39;00m mode:\n\u001b[0;32m   1879\u001b[0m         mode \u001b[38;5;241m+\u001b[39m\u001b[38;5;241m=\u001b[39m \u001b[38;5;124m\"\u001b[39m\u001b[38;5;124mb\u001b[39m\u001b[38;5;124m\"\u001b[39m\n\u001b[1;32m-> 1880\u001b[0m \u001b[38;5;28mself\u001b[39m\u001b[38;5;241m.\u001b[39mhandles \u001b[38;5;241m=\u001b[39m \u001b[43mget_handle\u001b[49m\u001b[43m(\u001b[49m\n\u001b[0;32m   1881\u001b[0m \u001b[43m    \u001b[49m\u001b[43mf\u001b[49m\u001b[43m,\u001b[49m\n\u001b[0;32m   1882\u001b[0m \u001b[43m    \u001b[49m\u001b[43mmode\u001b[49m\u001b[43m,\u001b[49m\n\u001b[0;32m   1883\u001b[0m \u001b[43m    \u001b[49m\u001b[43mencoding\u001b[49m\u001b[38;5;241;43m=\u001b[39;49m\u001b[38;5;28;43mself\u001b[39;49m\u001b[38;5;241;43m.\u001b[39;49m\u001b[43moptions\u001b[49m\u001b[38;5;241;43m.\u001b[39;49m\u001b[43mget\u001b[49m\u001b[43m(\u001b[49m\u001b[38;5;124;43m\"\u001b[39;49m\u001b[38;5;124;43mencoding\u001b[39;49m\u001b[38;5;124;43m\"\u001b[39;49m\u001b[43m,\u001b[49m\u001b[43m \u001b[49m\u001b[38;5;28;43;01mNone\u001b[39;49;00m\u001b[43m)\u001b[49m\u001b[43m,\u001b[49m\n\u001b[0;32m   1884\u001b[0m \u001b[43m    \u001b[49m\u001b[43mcompression\u001b[49m\u001b[38;5;241;43m=\u001b[39;49m\u001b[38;5;28;43mself\u001b[39;49m\u001b[38;5;241;43m.\u001b[39;49m\u001b[43moptions\u001b[49m\u001b[38;5;241;43m.\u001b[39;49m\u001b[43mget\u001b[49m\u001b[43m(\u001b[49m\u001b[38;5;124;43m\"\u001b[39;49m\u001b[38;5;124;43mcompression\u001b[39;49m\u001b[38;5;124;43m\"\u001b[39;49m\u001b[43m,\u001b[49m\u001b[43m \u001b[49m\u001b[38;5;28;43;01mNone\u001b[39;49;00m\u001b[43m)\u001b[49m\u001b[43m,\u001b[49m\n\u001b[0;32m   1885\u001b[0m \u001b[43m    \u001b[49m\u001b[43mmemory_map\u001b[49m\u001b[38;5;241;43m=\u001b[39;49m\u001b[38;5;28;43mself\u001b[39;49m\u001b[38;5;241;43m.\u001b[39;49m\u001b[43moptions\u001b[49m\u001b[38;5;241;43m.\u001b[39;49m\u001b[43mget\u001b[49m\u001b[43m(\u001b[49m\u001b[38;5;124;43m\"\u001b[39;49m\u001b[38;5;124;43mmemory_map\u001b[39;49m\u001b[38;5;124;43m\"\u001b[39;49m\u001b[43m,\u001b[49m\u001b[43m \u001b[49m\u001b[38;5;28;43;01mFalse\u001b[39;49;00m\u001b[43m)\u001b[49m\u001b[43m,\u001b[49m\n\u001b[0;32m   1886\u001b[0m \u001b[43m    \u001b[49m\u001b[43mis_text\u001b[49m\u001b[38;5;241;43m=\u001b[39;49m\u001b[43mis_text\u001b[49m\u001b[43m,\u001b[49m\n\u001b[0;32m   1887\u001b[0m \u001b[43m    \u001b[49m\u001b[43merrors\u001b[49m\u001b[38;5;241;43m=\u001b[39;49m\u001b[38;5;28;43mself\u001b[39;49m\u001b[38;5;241;43m.\u001b[39;49m\u001b[43moptions\u001b[49m\u001b[38;5;241;43m.\u001b[39;49m\u001b[43mget\u001b[49m\u001b[43m(\u001b[49m\u001b[38;5;124;43m\"\u001b[39;49m\u001b[38;5;124;43mencoding_errors\u001b[39;49m\u001b[38;5;124;43m\"\u001b[39;49m\u001b[43m,\u001b[49m\u001b[43m \u001b[49m\u001b[38;5;124;43m\"\u001b[39;49m\u001b[38;5;124;43mstrict\u001b[39;49m\u001b[38;5;124;43m\"\u001b[39;49m\u001b[43m)\u001b[49m\u001b[43m,\u001b[49m\n\u001b[0;32m   1888\u001b[0m \u001b[43m    \u001b[49m\u001b[43mstorage_options\u001b[49m\u001b[38;5;241;43m=\u001b[39;49m\u001b[38;5;28;43mself\u001b[39;49m\u001b[38;5;241;43m.\u001b[39;49m\u001b[43moptions\u001b[49m\u001b[38;5;241;43m.\u001b[39;49m\u001b[43mget\u001b[49m\u001b[43m(\u001b[49m\u001b[38;5;124;43m\"\u001b[39;49m\u001b[38;5;124;43mstorage_options\u001b[39;49m\u001b[38;5;124;43m\"\u001b[39;49m\u001b[43m,\u001b[49m\u001b[43m \u001b[49m\u001b[38;5;28;43;01mNone\u001b[39;49;00m\u001b[43m)\u001b[49m\u001b[43m,\u001b[49m\n\u001b[0;32m   1889\u001b[0m \u001b[43m\u001b[49m\u001b[43m)\u001b[49m\n\u001b[0;32m   1890\u001b[0m \u001b[38;5;28;01massert\u001b[39;00m \u001b[38;5;28mself\u001b[39m\u001b[38;5;241m.\u001b[39mhandles \u001b[38;5;129;01mis\u001b[39;00m \u001b[38;5;129;01mnot\u001b[39;00m \u001b[38;5;28;01mNone\u001b[39;00m\n\u001b[0;32m   1891\u001b[0m f \u001b[38;5;241m=\u001b[39m \u001b[38;5;28mself\u001b[39m\u001b[38;5;241m.\u001b[39mhandles\u001b[38;5;241m.\u001b[39mhandle\n",
      "File \u001b[1;32mc:\\Users\\CursosTardes\\anaconda3\\envs\\clase72-pandas-datacleaning-wrangling\\Lib\\site-packages\\pandas\\io\\common.py:873\u001b[0m, in \u001b[0;36mget_handle\u001b[1;34m(path_or_buf, mode, encoding, compression, memory_map, is_text, errors, storage_options)\u001b[0m\n\u001b[0;32m    868\u001b[0m \u001b[38;5;28;01melif\u001b[39;00m \u001b[38;5;28misinstance\u001b[39m(handle, \u001b[38;5;28mstr\u001b[39m):\n\u001b[0;32m    869\u001b[0m     \u001b[38;5;66;03m# Check whether the filename is to be opened in binary mode.\u001b[39;00m\n\u001b[0;32m    870\u001b[0m     \u001b[38;5;66;03m# Binary mode does not support 'encoding' and 'newline'.\u001b[39;00m\n\u001b[0;32m    871\u001b[0m     \u001b[38;5;28;01mif\u001b[39;00m ioargs\u001b[38;5;241m.\u001b[39mencoding \u001b[38;5;129;01mand\u001b[39;00m \u001b[38;5;124m\"\u001b[39m\u001b[38;5;124mb\u001b[39m\u001b[38;5;124m\"\u001b[39m \u001b[38;5;129;01mnot\u001b[39;00m \u001b[38;5;129;01min\u001b[39;00m ioargs\u001b[38;5;241m.\u001b[39mmode:\n\u001b[0;32m    872\u001b[0m         \u001b[38;5;66;03m# Encoding\u001b[39;00m\n\u001b[1;32m--> 873\u001b[0m         handle \u001b[38;5;241m=\u001b[39m \u001b[38;5;28;43mopen\u001b[39;49m\u001b[43m(\u001b[49m\n\u001b[0;32m    874\u001b[0m \u001b[43m            \u001b[49m\u001b[43mhandle\u001b[49m\u001b[43m,\u001b[49m\n\u001b[0;32m    875\u001b[0m \u001b[43m            \u001b[49m\u001b[43mioargs\u001b[49m\u001b[38;5;241;43m.\u001b[39;49m\u001b[43mmode\u001b[49m\u001b[43m,\u001b[49m\n\u001b[0;32m    876\u001b[0m \u001b[43m            \u001b[49m\u001b[43mencoding\u001b[49m\u001b[38;5;241;43m=\u001b[39;49m\u001b[43mioargs\u001b[49m\u001b[38;5;241;43m.\u001b[39;49m\u001b[43mencoding\u001b[49m\u001b[43m,\u001b[49m\n\u001b[0;32m    877\u001b[0m \u001b[43m            \u001b[49m\u001b[43merrors\u001b[49m\u001b[38;5;241;43m=\u001b[39;49m\u001b[43merrors\u001b[49m\u001b[43m,\u001b[49m\n\u001b[0;32m    878\u001b[0m \u001b[43m            \u001b[49m\u001b[43mnewline\u001b[49m\u001b[38;5;241;43m=\u001b[39;49m\u001b[38;5;124;43m\"\u001b[39;49m\u001b[38;5;124;43m\"\u001b[39;49m\u001b[43m,\u001b[49m\n\u001b[0;32m    879\u001b[0m \u001b[43m        \u001b[49m\u001b[43m)\u001b[49m\n\u001b[0;32m    880\u001b[0m     \u001b[38;5;28;01melse\u001b[39;00m:\n\u001b[0;32m    881\u001b[0m         \u001b[38;5;66;03m# Binary mode\u001b[39;00m\n\u001b[0;32m    882\u001b[0m         handle \u001b[38;5;241m=\u001b[39m \u001b[38;5;28mopen\u001b[39m(handle, ioargs\u001b[38;5;241m.\u001b[39mmode)\n",
      "\u001b[1;31mFileNotFoundError\u001b[0m: [Errno 2] No such file or directory: 'movies.dat'"
     ]
    }
   ],
   "source": [
    "mnames = [\"movie_id\", \"title\", \"genres\"]\n",
    "movies = pd.read_table('movies.dat', sep=\"::\",\n",
    "                       header=None, names=mnames, engine=\"python\")\n",
    "\n",
    "movies[:10]                      "
   ]
  },
  {
   "cell_type": "markdown",
   "id": "281dc707",
   "metadata": {
    "slideshow": {
     "slide_type": "slide"
    }
   },
   "source": [
    "Pandas ha implementado un método especial de la serie `str.get_dummies` (los métodos que empiezan por `str`. Se tratan con más detalle más adelante en Manipulación de cadenas) que maneja este escenario de pertenencia a múltiples grupos codificados como una cadena delimitada:"
   ]
  },
  {
   "cell_type": "code",
   "execution_count": null,
   "id": "0a4e525b",
   "metadata": {
    "slideshow": {
     "slide_type": "slide"
    }
   },
   "outputs": [
    {
     "data": {
      "text/html": [
       "<div>\n",
       "<style scoped>\n",
       "    .dataframe tbody tr th:only-of-type {\n",
       "        vertical-align: middle;\n",
       "    }\n",
       "\n",
       "    .dataframe tbody tr th {\n",
       "        vertical-align: top;\n",
       "    }\n",
       "\n",
       "    .dataframe thead th {\n",
       "        text-align: right;\n",
       "    }\n",
       "</style>\n",
       "<table border=\"1\" class=\"dataframe\">\n",
       "  <thead>\n",
       "    <tr style=\"text-align: right;\">\n",
       "      <th></th>\n",
       "      <th>Action</th>\n",
       "      <th>Adventure</th>\n",
       "      <th>Animation</th>\n",
       "      <th>Children's</th>\n",
       "      <th>Comedy</th>\n",
       "      <th>Crime</th>\n",
       "      <th>Documentary</th>\n",
       "      <th>Drama</th>\n",
       "      <th>Fantasy</th>\n",
       "      <th>Film-Noir</th>\n",
       "      <th>Horror</th>\n",
       "      <th>Musical</th>\n",
       "      <th>Mystery</th>\n",
       "      <th>Romance</th>\n",
       "      <th>Sci-Fi</th>\n",
       "      <th>Thriller</th>\n",
       "      <th>War</th>\n",
       "      <th>Western</th>\n",
       "    </tr>\n",
       "  </thead>\n",
       "  <tbody>\n",
       "    <tr>\n",
       "      <th>0</th>\n",
       "      <td>0</td>\n",
       "      <td>0</td>\n",
       "      <td>1</td>\n",
       "      <td>1</td>\n",
       "      <td>1</td>\n",
       "      <td>0</td>\n",
       "      <td>0</td>\n",
       "      <td>0</td>\n",
       "      <td>0</td>\n",
       "      <td>0</td>\n",
       "      <td>0</td>\n",
       "      <td>0</td>\n",
       "      <td>0</td>\n",
       "      <td>0</td>\n",
       "      <td>0</td>\n",
       "      <td>0</td>\n",
       "      <td>0</td>\n",
       "      <td>0</td>\n",
       "    </tr>\n",
       "    <tr>\n",
       "      <th>1</th>\n",
       "      <td>0</td>\n",
       "      <td>1</td>\n",
       "      <td>0</td>\n",
       "      <td>1</td>\n",
       "      <td>0</td>\n",
       "      <td>0</td>\n",
       "      <td>0</td>\n",
       "      <td>0</td>\n",
       "      <td>1</td>\n",
       "      <td>0</td>\n",
       "      <td>0</td>\n",
       "      <td>0</td>\n",
       "      <td>0</td>\n",
       "      <td>0</td>\n",
       "      <td>0</td>\n",
       "      <td>0</td>\n",
       "      <td>0</td>\n",
       "      <td>0</td>\n",
       "    </tr>\n",
       "    <tr>\n",
       "      <th>2</th>\n",
       "      <td>0</td>\n",
       "      <td>0</td>\n",
       "      <td>0</td>\n",
       "      <td>0</td>\n",
       "      <td>1</td>\n",
       "      <td>0</td>\n",
       "      <td>0</td>\n",
       "      <td>0</td>\n",
       "      <td>0</td>\n",
       "      <td>0</td>\n",
       "      <td>0</td>\n",
       "      <td>0</td>\n",
       "      <td>0</td>\n",
       "      <td>1</td>\n",
       "      <td>0</td>\n",
       "      <td>0</td>\n",
       "      <td>0</td>\n",
       "      <td>0</td>\n",
       "    </tr>\n",
       "    <tr>\n",
       "      <th>3</th>\n",
       "      <td>0</td>\n",
       "      <td>0</td>\n",
       "      <td>0</td>\n",
       "      <td>0</td>\n",
       "      <td>1</td>\n",
       "      <td>0</td>\n",
       "      <td>0</td>\n",
       "      <td>1</td>\n",
       "      <td>0</td>\n",
       "      <td>0</td>\n",
       "      <td>0</td>\n",
       "      <td>0</td>\n",
       "      <td>0</td>\n",
       "      <td>0</td>\n",
       "      <td>0</td>\n",
       "      <td>0</td>\n",
       "      <td>0</td>\n",
       "      <td>0</td>\n",
       "    </tr>\n",
       "    <tr>\n",
       "      <th>4</th>\n",
       "      <td>0</td>\n",
       "      <td>0</td>\n",
       "      <td>0</td>\n",
       "      <td>0</td>\n",
       "      <td>1</td>\n",
       "      <td>0</td>\n",
       "      <td>0</td>\n",
       "      <td>0</td>\n",
       "      <td>0</td>\n",
       "      <td>0</td>\n",
       "      <td>0</td>\n",
       "      <td>0</td>\n",
       "      <td>0</td>\n",
       "      <td>0</td>\n",
       "      <td>0</td>\n",
       "      <td>0</td>\n",
       "      <td>0</td>\n",
       "      <td>0</td>\n",
       "    </tr>\n",
       "    <tr>\n",
       "      <th>...</th>\n",
       "      <td>...</td>\n",
       "      <td>...</td>\n",
       "      <td>...</td>\n",
       "      <td>...</td>\n",
       "      <td>...</td>\n",
       "      <td>...</td>\n",
       "      <td>...</td>\n",
       "      <td>...</td>\n",
       "      <td>...</td>\n",
       "      <td>...</td>\n",
       "      <td>...</td>\n",
       "      <td>...</td>\n",
       "      <td>...</td>\n",
       "      <td>...</td>\n",
       "      <td>...</td>\n",
       "      <td>...</td>\n",
       "      <td>...</td>\n",
       "      <td>...</td>\n",
       "    </tr>\n",
       "    <tr>\n",
       "      <th>3878</th>\n",
       "      <td>0</td>\n",
       "      <td>0</td>\n",
       "      <td>0</td>\n",
       "      <td>0</td>\n",
       "      <td>1</td>\n",
       "      <td>0</td>\n",
       "      <td>0</td>\n",
       "      <td>0</td>\n",
       "      <td>0</td>\n",
       "      <td>0</td>\n",
       "      <td>0</td>\n",
       "      <td>0</td>\n",
       "      <td>0</td>\n",
       "      <td>0</td>\n",
       "      <td>0</td>\n",
       "      <td>0</td>\n",
       "      <td>0</td>\n",
       "      <td>0</td>\n",
       "    </tr>\n",
       "    <tr>\n",
       "      <th>3879</th>\n",
       "      <td>0</td>\n",
       "      <td>0</td>\n",
       "      <td>0</td>\n",
       "      <td>0</td>\n",
       "      <td>0</td>\n",
       "      <td>0</td>\n",
       "      <td>0</td>\n",
       "      <td>1</td>\n",
       "      <td>0</td>\n",
       "      <td>0</td>\n",
       "      <td>0</td>\n",
       "      <td>0</td>\n",
       "      <td>0</td>\n",
       "      <td>0</td>\n",
       "      <td>0</td>\n",
       "      <td>0</td>\n",
       "      <td>0</td>\n",
       "      <td>0</td>\n",
       "    </tr>\n",
       "    <tr>\n",
       "      <th>3880</th>\n",
       "      <td>0</td>\n",
       "      <td>0</td>\n",
       "      <td>0</td>\n",
       "      <td>0</td>\n",
       "      <td>0</td>\n",
       "      <td>0</td>\n",
       "      <td>0</td>\n",
       "      <td>1</td>\n",
       "      <td>0</td>\n",
       "      <td>0</td>\n",
       "      <td>0</td>\n",
       "      <td>0</td>\n",
       "      <td>0</td>\n",
       "      <td>0</td>\n",
       "      <td>0</td>\n",
       "      <td>0</td>\n",
       "      <td>0</td>\n",
       "      <td>0</td>\n",
       "    </tr>\n",
       "    <tr>\n",
       "      <th>3881</th>\n",
       "      <td>0</td>\n",
       "      <td>0</td>\n",
       "      <td>0</td>\n",
       "      <td>0</td>\n",
       "      <td>0</td>\n",
       "      <td>0</td>\n",
       "      <td>0</td>\n",
       "      <td>1</td>\n",
       "      <td>0</td>\n",
       "      <td>0</td>\n",
       "      <td>0</td>\n",
       "      <td>0</td>\n",
       "      <td>0</td>\n",
       "      <td>0</td>\n",
       "      <td>0</td>\n",
       "      <td>0</td>\n",
       "      <td>0</td>\n",
       "      <td>0</td>\n",
       "    </tr>\n",
       "    <tr>\n",
       "      <th>3882</th>\n",
       "      <td>0</td>\n",
       "      <td>0</td>\n",
       "      <td>0</td>\n",
       "      <td>0</td>\n",
       "      <td>0</td>\n",
       "      <td>0</td>\n",
       "      <td>0</td>\n",
       "      <td>1</td>\n",
       "      <td>0</td>\n",
       "      <td>0</td>\n",
       "      <td>0</td>\n",
       "      <td>0</td>\n",
       "      <td>0</td>\n",
       "      <td>0</td>\n",
       "      <td>0</td>\n",
       "      <td>1</td>\n",
       "      <td>0</td>\n",
       "      <td>0</td>\n",
       "    </tr>\n",
       "  </tbody>\n",
       "</table>\n",
       "<p>3883 rows × 18 columns</p>\n",
       "</div>"
      ],
      "text/plain": [
       "      Action  Adventure  Animation  Children's  Comedy  Crime  Documentary  \\\n",
       "0          0          0          1           1       1      0            0   \n",
       "1          0          1          0           1       0      0            0   \n",
       "2          0          0          0           0       1      0            0   \n",
       "3          0          0          0           0       1      0            0   \n",
       "4          0          0          0           0       1      0            0   \n",
       "...      ...        ...        ...         ...     ...    ...          ...   \n",
       "3878       0          0          0           0       1      0            0   \n",
       "3879       0          0          0           0       0      0            0   \n",
       "3880       0          0          0           0       0      0            0   \n",
       "3881       0          0          0           0       0      0            0   \n",
       "3882       0          0          0           0       0      0            0   \n",
       "\n",
       "      Drama  Fantasy  Film-Noir  Horror  Musical  Mystery  Romance  Sci-Fi  \\\n",
       "0         0        0          0       0        0        0        0       0   \n",
       "1         0        1          0       0        0        0        0       0   \n",
       "2         0        0          0       0        0        0        1       0   \n",
       "3         1        0          0       0        0        0        0       0   \n",
       "4         0        0          0       0        0        0        0       0   \n",
       "...     ...      ...        ...     ...      ...      ...      ...     ...   \n",
       "3878      0        0          0       0        0        0        0       0   \n",
       "3879      1        0          0       0        0        0        0       0   \n",
       "3880      1        0          0       0        0        0        0       0   \n",
       "3881      1        0          0       0        0        0        0       0   \n",
       "3882      1        0          0       0        0        0        0       0   \n",
       "\n",
       "      Thriller  War  Western  \n",
       "0            0    0        0  \n",
       "1            0    0        0  \n",
       "2            0    0        0  \n",
       "3            0    0        0  \n",
       "4            0    0        0  \n",
       "...        ...  ...      ...  \n",
       "3878         0    0        0  \n",
       "3879         0    0        0  \n",
       "3880         0    0        0  \n",
       "3881         0    0        0  \n",
       "3882         1    0        0  \n",
       "\n",
       "[3883 rows x 18 columns]"
      ]
     },
     "execution_count": 227,
     "metadata": {},
     "output_type": "execute_result"
    }
   ],
   "source": [
    "dummies = movies[\"genres\"].str.get_dummies(\"|\")\n",
    "dummies"
   ]
  },
  {
   "cell_type": "code",
   "execution_count": null,
   "id": "1f8986eb",
   "metadata": {
    "slideshow": {
     "slide_type": "slide"
    }
   },
   "outputs": [
    {
     "data": {
      "text/html": [
       "<div>\n",
       "<style scoped>\n",
       "    .dataframe tbody tr th:only-of-type {\n",
       "        vertical-align: middle;\n",
       "    }\n",
       "\n",
       "    .dataframe tbody tr th {\n",
       "        vertical-align: top;\n",
       "    }\n",
       "\n",
       "    .dataframe thead th {\n",
       "        text-align: right;\n",
       "    }\n",
       "</style>\n",
       "<table border=\"1\" class=\"dataframe\">\n",
       "  <thead>\n",
       "    <tr style=\"text-align: right;\">\n",
       "      <th></th>\n",
       "      <th>Action</th>\n",
       "      <th>Adventure</th>\n",
       "      <th>Animation</th>\n",
       "      <th>Children's</th>\n",
       "      <th>Comedy</th>\n",
       "      <th>Crime</th>\n",
       "    </tr>\n",
       "  </thead>\n",
       "  <tbody>\n",
       "    <tr>\n",
       "      <th>0</th>\n",
       "      <td>0</td>\n",
       "      <td>0</td>\n",
       "      <td>1</td>\n",
       "      <td>1</td>\n",
       "      <td>1</td>\n",
       "      <td>0</td>\n",
       "    </tr>\n",
       "    <tr>\n",
       "      <th>1</th>\n",
       "      <td>0</td>\n",
       "      <td>1</td>\n",
       "      <td>0</td>\n",
       "      <td>1</td>\n",
       "      <td>0</td>\n",
       "      <td>0</td>\n",
       "    </tr>\n",
       "    <tr>\n",
       "      <th>2</th>\n",
       "      <td>0</td>\n",
       "      <td>0</td>\n",
       "      <td>0</td>\n",
       "      <td>0</td>\n",
       "      <td>1</td>\n",
       "      <td>0</td>\n",
       "    </tr>\n",
       "    <tr>\n",
       "      <th>3</th>\n",
       "      <td>0</td>\n",
       "      <td>0</td>\n",
       "      <td>0</td>\n",
       "      <td>0</td>\n",
       "      <td>1</td>\n",
       "      <td>0</td>\n",
       "    </tr>\n",
       "    <tr>\n",
       "      <th>4</th>\n",
       "      <td>0</td>\n",
       "      <td>0</td>\n",
       "      <td>0</td>\n",
       "      <td>0</td>\n",
       "      <td>1</td>\n",
       "      <td>0</td>\n",
       "    </tr>\n",
       "    <tr>\n",
       "      <th>5</th>\n",
       "      <td>1</td>\n",
       "      <td>0</td>\n",
       "      <td>0</td>\n",
       "      <td>0</td>\n",
       "      <td>0</td>\n",
       "      <td>1</td>\n",
       "    </tr>\n",
       "    <tr>\n",
       "      <th>6</th>\n",
       "      <td>0</td>\n",
       "      <td>0</td>\n",
       "      <td>0</td>\n",
       "      <td>0</td>\n",
       "      <td>1</td>\n",
       "      <td>0</td>\n",
       "    </tr>\n",
       "    <tr>\n",
       "      <th>7</th>\n",
       "      <td>0</td>\n",
       "      <td>1</td>\n",
       "      <td>0</td>\n",
       "      <td>1</td>\n",
       "      <td>0</td>\n",
       "      <td>0</td>\n",
       "    </tr>\n",
       "    <tr>\n",
       "      <th>8</th>\n",
       "      <td>1</td>\n",
       "      <td>0</td>\n",
       "      <td>0</td>\n",
       "      <td>0</td>\n",
       "      <td>0</td>\n",
       "      <td>0</td>\n",
       "    </tr>\n",
       "    <tr>\n",
       "      <th>9</th>\n",
       "      <td>1</td>\n",
       "      <td>1</td>\n",
       "      <td>0</td>\n",
       "      <td>0</td>\n",
       "      <td>0</td>\n",
       "      <td>0</td>\n",
       "    </tr>\n",
       "  </tbody>\n",
       "</table>\n",
       "</div>"
      ],
      "text/plain": [
       "   Action  Adventure  Animation  Children's  Comedy  Crime\n",
       "0       0          0          1           1       1      0\n",
       "1       0          1          0           1       0      0\n",
       "2       0          0          0           0       1      0\n",
       "3       0          0          0           0       1      0\n",
       "4       0          0          0           0       1      0\n",
       "5       1          0          0           0       0      1\n",
       "6       0          0          0           0       1      0\n",
       "7       0          1          0           1       0      0\n",
       "8       1          0          0           0       0      0\n",
       "9       1          1          0           0       0      0"
      ]
     },
     "execution_count": 228,
     "metadata": {},
     "output_type": "execute_result"
    }
   ],
   "source": [
    "dummies.iloc[:10, :6]"
   ]
  },
  {
   "cell_type": "markdown",
   "id": "1b6564d4",
   "metadata": {
    "slideshow": {
     "slide_type": "slide"
    }
   },
   "source": [
    "Entonces, como antes, puedes combinar esto con `movies` añadiendo un `\"Genre_\"` a los nombres de las columnas en el DataFrame de `dummies` con el método `add_prefix`:"
   ]
  },
  {
   "cell_type": "code",
   "execution_count": null,
   "id": "2e0f4da7",
   "metadata": {
    "slideshow": {
     "slide_type": "slide"
    }
   },
   "outputs": [],
   "source": [
    "movies_windic = movies.join(dummies.add_prefix(\"Genre_\"))"
   ]
  },
  {
   "cell_type": "code",
   "execution_count": null,
   "id": "94f3864b",
   "metadata": {
    "slideshow": {
     "slide_type": "slide"
    }
   },
   "outputs": [
    {
     "data": {
      "text/plain": [
       "movie_id                                       1\n",
       "title                           Toy Story (1995)\n",
       "genres               Animation|Children's|Comedy\n",
       "Genre_Action                                   0\n",
       "Genre_Adventure                                0\n",
       "Genre_Animation                                1\n",
       "Genre_Children's                               1\n",
       "Genre_Comedy                                   1\n",
       "Genre_Crime                                    0\n",
       "Genre_Documentary                              0\n",
       "Genre_Drama                                    0\n",
       "Genre_Fantasy                                  0\n",
       "Genre_Film-Noir                                0\n",
       "Genre_Horror                                   0\n",
       "Genre_Musical                                  0\n",
       "Genre_Mystery                                  0\n",
       "Genre_Romance                                  0\n",
       "Genre_Sci-Fi                                   0\n",
       "Genre_Thriller                                 0\n",
       "Genre_War                                      0\n",
       "Genre_Western                                  0\n",
       "Name: 0, dtype: object"
      ]
     },
     "execution_count": 230,
     "metadata": {},
     "output_type": "execute_result"
    }
   ],
   "source": [
    "movies_windic.iloc[0]"
   ]
  },
  {
   "cell_type": "markdown",
   "id": "b1ad2428",
   "metadata": {
    "slideshow": {
     "slide_type": "skip"
    }
   },
   "source": [
    "Nota: Para datos mucho más grandes, este método de construcción de variables indicadoras con pertenencia múltiple no es especialmente rápido. Sería mejor escribir una función de nivel inferior que escriba directamente en una array de NumPy y, a continuación, envolver el resultado en un DataFrame."
   ]
  },
  {
   "cell_type": "markdown",
   "id": "3e660c6e",
   "metadata": {
    "slideshow": {
     "slide_type": "slide"
    }
   },
   "source": [
    "Una receta útil para aplicaciones estadísticas es combinar `pandas.get_dummies` con una función de discretización como `pandas.cut`:"
   ]
  },
  {
   "cell_type": "code",
   "execution_count": null,
   "id": "2511c868",
   "metadata": {
    "slideshow": {
     "slide_type": "slide"
    }
   },
   "outputs": [
    {
     "data": {
      "text/plain": [
       "array([0.92961609, 0.31637555, 0.18391881, 0.20456028, 0.56772503,\n",
       "       0.5955447 , 0.96451452, 0.6531771 , 0.74890664, 0.65356987])"
      ]
     },
     "execution_count": 231,
     "metadata": {},
     "output_type": "execute_result"
    }
   ],
   "source": [
    "np.random.seed(12345) # para que el ejemplo sea repetible\n",
    "\n",
    "values = np.random.uniform(size=10)\n",
    "values"
   ]
  },
  {
   "cell_type": "code",
   "execution_count": null,
   "id": "6a48c194",
   "metadata": {
    "slideshow": {
     "slide_type": "slide"
    }
   },
   "outputs": [],
   "source": [
    "bins = [0, 0.2, 0.4, 0.6, 0.8, 1]"
   ]
  },
  {
   "cell_type": "code",
   "execution_count": null,
   "id": "67dc5c3f",
   "metadata": {},
   "outputs": [
    {
     "data": {
      "text/html": [
       "<div>\n",
       "<style scoped>\n",
       "    .dataframe tbody tr th:only-of-type {\n",
       "        vertical-align: middle;\n",
       "    }\n",
       "\n",
       "    .dataframe tbody tr th {\n",
       "        vertical-align: top;\n",
       "    }\n",
       "\n",
       "    .dataframe thead th {\n",
       "        text-align: right;\n",
       "    }\n",
       "</style>\n",
       "<table border=\"1\" class=\"dataframe\">\n",
       "  <thead>\n",
       "    <tr style=\"text-align: right;\">\n",
       "      <th></th>\n",
       "      <th>(0.0, 0.2]</th>\n",
       "      <th>(0.2, 0.4]</th>\n",
       "      <th>(0.4, 0.6]</th>\n",
       "      <th>(0.6, 0.8]</th>\n",
       "      <th>(0.8, 1.0]</th>\n",
       "    </tr>\n",
       "  </thead>\n",
       "  <tbody>\n",
       "    <tr>\n",
       "      <th>0</th>\n",
       "      <td>False</td>\n",
       "      <td>False</td>\n",
       "      <td>False</td>\n",
       "      <td>False</td>\n",
       "      <td>True</td>\n",
       "    </tr>\n",
       "    <tr>\n",
       "      <th>1</th>\n",
       "      <td>False</td>\n",
       "      <td>True</td>\n",
       "      <td>False</td>\n",
       "      <td>False</td>\n",
       "      <td>False</td>\n",
       "    </tr>\n",
       "    <tr>\n",
       "      <th>2</th>\n",
       "      <td>True</td>\n",
       "      <td>False</td>\n",
       "      <td>False</td>\n",
       "      <td>False</td>\n",
       "      <td>False</td>\n",
       "    </tr>\n",
       "    <tr>\n",
       "      <th>3</th>\n",
       "      <td>False</td>\n",
       "      <td>True</td>\n",
       "      <td>False</td>\n",
       "      <td>False</td>\n",
       "      <td>False</td>\n",
       "    </tr>\n",
       "    <tr>\n",
       "      <th>4</th>\n",
       "      <td>False</td>\n",
       "      <td>False</td>\n",
       "      <td>True</td>\n",
       "      <td>False</td>\n",
       "      <td>False</td>\n",
       "    </tr>\n",
       "    <tr>\n",
       "      <th>5</th>\n",
       "      <td>False</td>\n",
       "      <td>False</td>\n",
       "      <td>True</td>\n",
       "      <td>False</td>\n",
       "      <td>False</td>\n",
       "    </tr>\n",
       "    <tr>\n",
       "      <th>6</th>\n",
       "      <td>False</td>\n",
       "      <td>False</td>\n",
       "      <td>False</td>\n",
       "      <td>False</td>\n",
       "      <td>True</td>\n",
       "    </tr>\n",
       "    <tr>\n",
       "      <th>7</th>\n",
       "      <td>False</td>\n",
       "      <td>False</td>\n",
       "      <td>False</td>\n",
       "      <td>True</td>\n",
       "      <td>False</td>\n",
       "    </tr>\n",
       "    <tr>\n",
       "      <th>8</th>\n",
       "      <td>False</td>\n",
       "      <td>False</td>\n",
       "      <td>False</td>\n",
       "      <td>True</td>\n",
       "      <td>False</td>\n",
       "    </tr>\n",
       "    <tr>\n",
       "      <th>9</th>\n",
       "      <td>False</td>\n",
       "      <td>False</td>\n",
       "      <td>False</td>\n",
       "      <td>True</td>\n",
       "      <td>False</td>\n",
       "    </tr>\n",
       "  </tbody>\n",
       "</table>\n",
       "</div>"
      ],
      "text/plain": [
       "   (0.0, 0.2]  (0.2, 0.4]  (0.4, 0.6]  (0.6, 0.8]  (0.8, 1.0]\n",
       "0       False       False       False       False        True\n",
       "1       False        True       False       False       False\n",
       "2        True       False       False       False       False\n",
       "3       False        True       False       False       False\n",
       "4       False       False        True       False       False\n",
       "5       False       False        True       False       False\n",
       "6       False       False       False       False        True\n",
       "7       False       False       False        True       False\n",
       "8       False       False       False        True       False\n",
       "9       False       False       False        True       False"
      ]
     },
     "execution_count": 233,
     "metadata": {},
     "output_type": "execute_result"
    }
   ],
   "source": [
    "pd.get_dummies(pd.cut(values, bins))"
   ]
  },
  {
   "cell_type": "markdown",
   "id": "cd623ff5",
   "metadata": {
    "slideshow": {
     "slide_type": "slide"
    }
   },
   "source": [
    "## 2.3 Extension de tipos de datos "
   ]
  },
  {
   "cell_type": "markdown",
   "id": "5ca4d683",
   "metadata": {},
   "source": [
    "Pandas se construyó originalmente sobre las capacidades presentes en NumPy, una librería de cálculo de arrays utilizada principalmente para trabajar con datos numéricos. Muchos conceptos de pandas, como los datos que faltan, se implementaron utilizando lo que estaba disponible en NumPy mientras se intentaba maximizar la compatibilidad entre las bibliotecas que utilizaban conjuntamente NumPy y pandas."
   ]
  },
  {
   "cell_type": "markdown",
   "id": "09e713c9",
   "metadata": {
    "slideshow": {
     "slide_type": "slide"
    }
   },
   "source": [
    "Basarse en NumPy conllevó una serie de deficiencias, como:"
   ]
  },
  {
   "cell_type": "markdown",
   "id": "b223e39e",
   "metadata": {},
   "source": [
    "El manejo de datos faltantes para algunos tipos de datos numéricos, como enteros y booleanos, era incompleto. Como resultado, cuando se introducían datos perdidos en tales datos, pandas convertía el tipo de datos a float64 y utilizaba np.nan para representar valores nulos. Esto tenía efectos agravantes al introducir problemas sutiles en muchos algoritmos de pandas.\n",
    "\n",
    "Los conjuntos de datos con muchos datos de cadenas eran costosos computacionalmente y utilizaban mucha memoria.\n",
    "\n",
    "Algunos tipos de datos, como intervalos de tiempo, timedeltas, y timestamps con zonas horarias, no podían ser soportados eficientemente sin usar arrays de objetos Python computacionalmente caros."
   ]
  },
  {
   "cell_type": "markdown",
   "id": "83e81a4b",
   "metadata": {
    "slideshow": {
     "slide_type": "slide"
    }
   },
   "source": [
    "Más recientemente, pandas ha desarrollado un sistema de tipos de extensión que permite añadir nuevos tipos de datos aunque no estén soportados nativamente por NumPy. Estos nuevos tipos de datos pueden ser tratados como de primera clase junto con los datos procedentes de arrays NumPy."
   ]
  },
  {
   "cell_type": "markdown",
   "id": "3e59eae5",
   "metadata": {
    "slideshow": {
     "slide_type": "slide"
    }
   },
   "source": [
    "Veamos un ejemplo en el que creamos una Serie de enteros con un valor perdido:"
   ]
  },
  {
   "cell_type": "code",
   "execution_count": null,
   "id": "553ba495",
   "metadata": {},
   "outputs": [
    {
     "data": {
      "text/plain": [
       "0    1.0\n",
       "1    2.0\n",
       "2    3.0\n",
       "3    NaN\n",
       "dtype: float64"
      ]
     },
     "execution_count": 234,
     "metadata": {},
     "output_type": "execute_result"
    }
   ],
   "source": [
    "s = pd.Series([1, 2, 3, None])\n",
    "s"
   ]
  },
  {
   "cell_type": "code",
   "execution_count": null,
   "id": "01af46af",
   "metadata": {
    "slideshow": {
     "slide_type": "slide"
    }
   },
   "outputs": [
    {
     "data": {
      "text/plain": [
       "dtype('float64')"
      ]
     },
     "execution_count": 235,
     "metadata": {},
     "output_type": "execute_result"
    }
   ],
   "source": [
    "s.dtype"
   ]
  },
  {
   "cell_type": "markdown",
   "id": "eb8167ef",
   "metadata": {},
   "source": [
    "Principalmente por razones de retrocompatibilidad, Series utiliza el comportamiento heredado de usar un tipo de datos float64 y np.nan para el valor perdido. Podríamos crear esta Serie en su lugar usando pandas.Int64Dtype:"
   ]
  },
  {
   "cell_type": "code",
   "execution_count": null,
   "id": "77c7e1fb",
   "metadata": {
    "slideshow": {
     "slide_type": "slide"
    }
   },
   "outputs": [
    {
     "data": {
      "text/plain": [
       "0       1\n",
       "1       2\n",
       "2       3\n",
       "3    <NA>\n",
       "dtype: Int64"
      ]
     },
     "execution_count": 236,
     "metadata": {},
     "output_type": "execute_result"
    }
   ],
   "source": [
    "s = pd.Series([1, 2, 3, None], dtype=pd.Int64Dtype())\n",
    "s"
   ]
  },
  {
   "cell_type": "code",
   "execution_count": null,
   "id": "559c6fe8",
   "metadata": {
    "slideshow": {
     "slide_type": "slide"
    }
   },
   "outputs": [
    {
     "data": {
      "text/plain": [
       "0    False\n",
       "1    False\n",
       "2    False\n",
       "3     True\n",
       "dtype: bool"
      ]
     },
     "execution_count": 237,
     "metadata": {},
     "output_type": "execute_result"
    }
   ],
   "source": [
    "s.isna()"
   ]
  },
  {
   "cell_type": "code",
   "execution_count": null,
   "id": "393d2a71",
   "metadata": {
    "slideshow": {
     "slide_type": "slide"
    }
   },
   "outputs": [
    {
     "data": {
      "text/plain": [
       "Int64Dtype()"
      ]
     },
     "execution_count": 238,
     "metadata": {},
     "output_type": "execute_result"
    }
   ],
   "source": [
    "s.dtype"
   ]
  },
  {
   "cell_type": "markdown",
   "id": "e664e541",
   "metadata": {
    "slideshow": {
     "slide_type": "slide"
    }
   },
   "source": [
    "La salida `<NA>` indica que falta un valor para un array de tipo extensión. Esto utiliza el valor centinela especial `pandas.NA`:"
   ]
  },
  {
   "cell_type": "code",
   "execution_count": null,
   "id": "453462d4",
   "metadata": {},
   "outputs": [
    {
     "data": {
      "text/plain": [
       "<NA>"
      ]
     },
     "execution_count": 239,
     "metadata": {},
     "output_type": "execute_result"
    }
   ],
   "source": [
    "s[3]"
   ]
  },
  {
   "cell_type": "code",
   "execution_count": null,
   "id": "11a048a7",
   "metadata": {},
   "outputs": [
    {
     "data": {
      "text/plain": [
       "True"
      ]
     },
     "execution_count": 240,
     "metadata": {},
     "output_type": "execute_result"
    }
   ],
   "source": [
    "s[3] is pd.NA"
   ]
  },
  {
   "cell_type": "markdown",
   "id": "32c17af1",
   "metadata": {
    "slideshow": {
     "slide_type": "slide"
    }
   },
   "source": [
    "También podríamos haber utilizado la abreviatura `\"Int64\"` en lugar de `pd.Int64Dtype()` para especificar el tipo. La mayúscula es necesaria, de lo contrario será un tipo sin extensión basado en NumPy:"
   ]
  },
  {
   "cell_type": "code",
   "execution_count": null,
   "id": "581948de",
   "metadata": {},
   "outputs": [
    {
     "data": {
      "text/plain": [
       "0       1\n",
       "1       2\n",
       "2       3\n",
       "3    <NA>\n",
       "dtype: Int64"
      ]
     },
     "execution_count": 241,
     "metadata": {},
     "output_type": "execute_result"
    }
   ],
   "source": [
    "s = pd.Series([1, 2, 3, None], dtype=\"Int64\")\n",
    "s"
   ]
  },
  {
   "cell_type": "markdown",
   "id": "4ac2f17a",
   "metadata": {
    "slideshow": {
     "slide_type": "slide"
    }
   },
   "source": [
    "Pandas también tiene un tipo de extensión especializado para datos de cadena que no utiliza arrays de objetos NumPy (requiere la biblioteca pyarrow, que puede que necesite instalar por separado):"
   ]
  },
  {
   "cell_type": "code",
   "execution_count": null,
   "id": "a2e6b12f",
   "metadata": {},
   "outputs": [
    {
     "data": {
      "text/plain": [
       "0      one\n",
       "1      two\n",
       "2     <NA>\n",
       "3    three\n",
       "dtype: string"
      ]
     },
     "execution_count": 242,
     "metadata": {},
     "output_type": "execute_result"
    }
   ],
   "source": [
    "s = pd.Series(['one', 'two', None, 'three'], dtype=pd.StringDtype())\n",
    "s"
   ]
  },
  {
   "cell_type": "markdown",
   "id": "6345d53a",
   "metadata": {
    "slideshow": {
     "slide_type": "slide"
    }
   },
   "source": [
    "Estos arrays de cadenas suelen utilizar mucha menos memoria y, con frecuencia, son más eficientes desde el punto de vista computacional para realizar operaciones en grandes conjuntos de datos."
   ]
  },
  {
   "cell_type": "markdown",
   "id": "fb12c586",
   "metadata": {
    "slideshow": {
     "slide_type": "slide"
    }
   },
   "source": [
    "En la siguiente Tabla figura una lista de algunos de los tipos de extensión disponibles. "
   ]
  },
  {
   "cell_type": "markdown",
   "id": "74593e6d",
   "metadata": {
    "slideshow": {
     "slide_type": "slide"
    }
   },
   "source": [
    "**Pandas extension data types**"
   ]
  },
  {
   "cell_type": "markdown",
   "id": "084c6336",
   "metadata": {},
   "source": [
    "`BooleanDtype`: Datos booleanos anulables, utilice `\"boolean\"` al pasarlos como cadena.\n",
    "\n",
    "`CategoricalDtype`: Tipo de dato categórico, utilice `\"category\"` cuando pase como cadena\n",
    "\n",
    "`DatetimeTZDtype`: Datetime with time zone\n",
    "\n",
    "`Float32Dtype`: Coma flotante anulable 32-bit , use \"Float32\" cuando pase como cadena.\n",
    "\n",
    "`Float64Dtype`: Coma flotante anulable de 64 bits, utilice \"Float64\" al pasar como cadena.\n",
    "\n",
    "`Int8Dtype`: Entero con signo anulable de 8 bits, utilice \"Int8\" al pasarlo como cadena.\n",
    "\n",
    "`Int16Dtype`: Entero con signo anulable de 16 bits, utilice \"Int16\" al pasarlo como cadena.\n",
    "\n",
    "`Int32Dtype`: Entero con signo anulable de 32 bits, utilice \"Int32\" al pasarlo como cadena.\n",
    "\n",
    "`Int64Dtype`: Entero con signo anulable de 64 bits, utilice \"Int64\" al pasarlo como cadena.\n",
    "\n",
    "`UInt8Dtype`: Entero sin signo anulable de 8 bits, utilice \"UInt8\" al pasarlo como cadena.\n",
    "\n",
    "`UInt16Dtype`: Entero sin signo anulable de 16 bits, utilice \"UInt16\" al pasarlo como cadena.\n",
    "\n",
    "`UInt32Dtype`: Entero sin signo de 32 bits anulable, utilice \"UInt32\" al pasarlo como cadena.\n",
    "\n",
    "\n",
    "`UInt64Dtype`: Entero sin signo de 64 bits anulable, use \"UInt64\" cuando pase como cadena.\n",
    "\n",
    "\n",
    "\n"
   ]
  },
  {
   "cell_type": "markdown",
   "id": "0d1c99a4",
   "metadata": {
    "slideshow": {
     "slide_type": "slide"
    }
   },
   "source": [
    "Los tipos de extensión pueden pasarse al método Series `astype`, lo que permite convertirlos fácilmente como parte del proceso de limpieza de datos:"
   ]
  },
  {
   "cell_type": "code",
   "execution_count": null,
   "id": "2f8cec70",
   "metadata": {},
   "outputs": [
    {
     "data": {
      "text/html": [
       "<div>\n",
       "<style scoped>\n",
       "    .dataframe tbody tr th:only-of-type {\n",
       "        vertical-align: middle;\n",
       "    }\n",
       "\n",
       "    .dataframe tbody tr th {\n",
       "        vertical-align: top;\n",
       "    }\n",
       "\n",
       "    .dataframe thead th {\n",
       "        text-align: right;\n",
       "    }\n",
       "</style>\n",
       "<table border=\"1\" class=\"dataframe\">\n",
       "  <thead>\n",
       "    <tr style=\"text-align: right;\">\n",
       "      <th></th>\n",
       "      <th>A</th>\n",
       "      <th>B</th>\n",
       "      <th>C</th>\n",
       "    </tr>\n",
       "  </thead>\n",
       "  <tbody>\n",
       "    <tr>\n",
       "      <th>0</th>\n",
       "      <td>1.0</td>\n",
       "      <td>one</td>\n",
       "      <td>False</td>\n",
       "    </tr>\n",
       "    <tr>\n",
       "      <th>1</th>\n",
       "      <td>2.0</td>\n",
       "      <td>two</td>\n",
       "      <td>None</td>\n",
       "    </tr>\n",
       "    <tr>\n",
       "      <th>2</th>\n",
       "      <td>NaN</td>\n",
       "      <td>three</td>\n",
       "      <td>False</td>\n",
       "    </tr>\n",
       "    <tr>\n",
       "      <th>3</th>\n",
       "      <td>4.0</td>\n",
       "      <td>None</td>\n",
       "      <td>True</td>\n",
       "    </tr>\n",
       "  </tbody>\n",
       "</table>\n",
       "</div>"
      ],
      "text/plain": [
       "     A      B      C\n",
       "0  1.0    one  False\n",
       "1  2.0    two   None\n",
       "2  NaN  three  False\n",
       "3  4.0   None   True"
      ]
     },
     "execution_count": 243,
     "metadata": {},
     "output_type": "execute_result"
    }
   ],
   "source": [
    "df = pd.DataFrame({\"A\": [1, 2, None, 4],\n",
    "                   \"B\": [\"one\", \"two\", \"three\", None],\n",
    "                   \"C\": [False, None, False, True]})\n",
    "\n",
    "df\n"
   ]
  },
  {
   "cell_type": "code",
   "execution_count": null,
   "id": "67ae0182",
   "metadata": {
    "slideshow": {
     "slide_type": "slide"
    }
   },
   "outputs": [],
   "source": [
    "df[\"A\"] = df[\"A\"].astype(\"Int64\")"
   ]
  },
  {
   "cell_type": "code",
   "execution_count": null,
   "id": "4f5ebf69",
   "metadata": {},
   "outputs": [],
   "source": [
    "df[\"B\"] = df[\"B\"].astype(\"string\")"
   ]
  },
  {
   "cell_type": "code",
   "execution_count": null,
   "id": "32d37e4f",
   "metadata": {},
   "outputs": [],
   "source": [
    " df[\"C\"] = df[\"C\"].astype(\"boolean\")"
   ]
  },
  {
   "cell_type": "code",
   "execution_count": null,
   "id": "132bca9f",
   "metadata": {
    "slideshow": {
     "slide_type": "slide"
    }
   },
   "outputs": [
    {
     "data": {
      "text/html": [
       "<div>\n",
       "<style scoped>\n",
       "    .dataframe tbody tr th:only-of-type {\n",
       "        vertical-align: middle;\n",
       "    }\n",
       "\n",
       "    .dataframe tbody tr th {\n",
       "        vertical-align: top;\n",
       "    }\n",
       "\n",
       "    .dataframe thead th {\n",
       "        text-align: right;\n",
       "    }\n",
       "</style>\n",
       "<table border=\"1\" class=\"dataframe\">\n",
       "  <thead>\n",
       "    <tr style=\"text-align: right;\">\n",
       "      <th></th>\n",
       "      <th>A</th>\n",
       "      <th>B</th>\n",
       "      <th>C</th>\n",
       "    </tr>\n",
       "  </thead>\n",
       "  <tbody>\n",
       "    <tr>\n",
       "      <th>0</th>\n",
       "      <td>1</td>\n",
       "      <td>one</td>\n",
       "      <td>False</td>\n",
       "    </tr>\n",
       "    <tr>\n",
       "      <th>1</th>\n",
       "      <td>2</td>\n",
       "      <td>two</td>\n",
       "      <td>&lt;NA&gt;</td>\n",
       "    </tr>\n",
       "    <tr>\n",
       "      <th>2</th>\n",
       "      <td>&lt;NA&gt;</td>\n",
       "      <td>three</td>\n",
       "      <td>False</td>\n",
       "    </tr>\n",
       "    <tr>\n",
       "      <th>3</th>\n",
       "      <td>4</td>\n",
       "      <td>&lt;NA&gt;</td>\n",
       "      <td>True</td>\n",
       "    </tr>\n",
       "  </tbody>\n",
       "</table>\n",
       "</div>"
      ],
      "text/plain": [
       "      A      B      C\n",
       "0     1    one  False\n",
       "1     2    two   <NA>\n",
       "2  <NA>  three  False\n",
       "3     4   <NA>   True"
      ]
     },
     "execution_count": 247,
     "metadata": {},
     "output_type": "execute_result"
    }
   ],
   "source": [
    "df"
   ]
  },
  {
   "cell_type": "markdown",
   "id": "4c5fa90c",
   "metadata": {
    "slideshow": {
     "slide_type": "slide"
    }
   },
   "source": [
    "## 2.4 Manipulación de cadenas (string)"
   ]
  },
  {
   "cell_type": "markdown",
   "id": "e8b4bb14",
   "metadata": {},
   "source": [
    "Python ha sido durante mucho tiempo un lenguaje popular de manipulación de datos en bruto, en parte debido a su facilidad de uso para el procesamiento de cadenas y texto. La mayoría de las operaciones de texto se simplifican con los métodos incorporados en el objeto string. Para la comparación de patrones y manipulaciones de texto más complejas, pueden ser necesarias expresiones regulares. Pandas se suma a la mezcla al permitirle aplicar expresiones de cadena y regulares de forma concisa en arrays enteros de datos, manejando además la molestia de los datos que faltan."
   ]
  },
  {
   "cell_type": "markdown",
   "id": "61389da5",
   "metadata": {
    "slideshow": {
     "slide_type": "slide"
    }
   },
   "source": [
    "### Métodos de objetos de cadena incorporados en Python"
   ]
  },
  {
   "cell_type": "markdown",
   "id": "416d28fd",
   "metadata": {},
   "source": [
    "En muchas aplicaciones de manipulación de cadenas y scripts, los métodos de cadena incorporados son suficientes. Por ejemplo, una cadena separada por comas puede dividirse en trozos con split:"
   ]
  },
  {
   "cell_type": "code",
   "execution_count": null,
   "id": "37f8433d",
   "metadata": {},
   "outputs": [
    {
     "data": {
      "text/plain": [
       "['a', 'b', '  guido']"
      ]
     },
     "execution_count": 248,
     "metadata": {},
     "output_type": "execute_result"
    }
   ],
   "source": [
    "val = \"a,b,  guido\"\n",
    "val.split(\",\")"
   ]
  },
  {
   "cell_type": "markdown",
   "id": "db6ef029",
   "metadata": {
    "slideshow": {
     "slide_type": "slide"
    }
   },
   "source": [
    "`split` se combina a menudo con `strip` para recortar los espacios en blanco (incluidos los saltos de línea):"
   ]
  },
  {
   "cell_type": "code",
   "execution_count": null,
   "id": "738894a0",
   "metadata": {},
   "outputs": [
    {
     "data": {
      "text/plain": [
       "['a', 'b', 'guido']"
      ]
     },
     "execution_count": 249,
     "metadata": {},
     "output_type": "execute_result"
    }
   ],
   "source": [
    "pieces = [x.strip() for x in val.split(\",\")]\n",
    "pieces"
   ]
  },
  {
   "cell_type": "markdown",
   "id": "5bf4740c",
   "metadata": {
    "slideshow": {
     "slide_type": "slide"
    }
   },
   "source": [
    "Estas subcadenas (substrings) podrían concatenarse con un delimitador de dos puntos utilizando la suma:"
   ]
  },
  {
   "cell_type": "code",
   "execution_count": null,
   "id": "e9b544db",
   "metadata": {},
   "outputs": [
    {
     "data": {
      "text/plain": [
       "'a::b::guido'"
      ]
     },
     "execution_count": 250,
     "metadata": {},
     "output_type": "execute_result"
    }
   ],
   "source": [
    "first, second, third = pieces\n",
    "first + \"::\" + second + \"::\" + third"
   ]
  },
  {
   "cell_type": "markdown",
   "id": "915da313",
   "metadata": {
    "slideshow": {
     "slide_type": "slide"
    }
   },
   "source": [
    "Pero éste no es un método genérico práctico. Una forma más rápida y pitónica es pasar una lista o tupla al método `join` sobre la cadena \"::\":"
   ]
  },
  {
   "cell_type": "code",
   "execution_count": null,
   "id": "dfc61289",
   "metadata": {},
   "outputs": [
    {
     "data": {
      "text/plain": [
       "'a::b::guido'"
      ]
     },
     "execution_count": 251,
     "metadata": {},
     "output_type": "execute_result"
    }
   ],
   "source": [
    "\"::\".join(pieces)"
   ]
  },
  {
   "cell_type": "markdown",
   "id": "da054592",
   "metadata": {
    "slideshow": {
     "slide_type": "slide"
    }
   },
   "source": [
    "Otros métodos se ocupan de localizar subcadenas. Utilizar la palabra clave `in` de Python es la mejor forma de detectar una subcadena, aunque también se pueden utilizar `index` y `find`:"
   ]
  },
  {
   "cell_type": "code",
   "execution_count": null,
   "id": "a1083805",
   "metadata": {},
   "outputs": [
    {
     "data": {
      "text/plain": [
       "True"
      ]
     },
     "execution_count": 252,
     "metadata": {},
     "output_type": "execute_result"
    }
   ],
   "source": [
    "\"guido\" in val"
   ]
  },
  {
   "cell_type": "code",
   "execution_count": null,
   "id": "1e5dfabc",
   "metadata": {
    "slideshow": {
     "slide_type": "slide"
    }
   },
   "outputs": [
    {
     "data": {
      "text/plain": [
       "1"
      ]
     },
     "execution_count": 253,
     "metadata": {},
     "output_type": "execute_result"
    }
   ],
   "source": [
    "val.index(\",\")"
   ]
  },
  {
   "cell_type": "code",
   "execution_count": null,
   "id": "c98cad88",
   "metadata": {},
   "outputs": [
    {
     "data": {
      "text/plain": [
       "-1"
      ]
     },
     "execution_count": 254,
     "metadata": {},
     "output_type": "execute_result"
    }
   ],
   "source": [
    "val.find(\":\")"
   ]
  },
  {
   "cell_type": "markdown",
   "id": "38212870",
   "metadata": {
    "slideshow": {
     "slide_type": "slide"
    }
   },
   "source": [
    "Tenga en cuenta que la diferencia entre `find` e `index` es que index lanza una excepción si no se encuentra la cadena (en lugar de devolver -1):"
   ]
  },
  {
   "cell_type": "code",
   "execution_count": null,
   "id": "4cae00d8",
   "metadata": {},
   "outputs": [
    {
     "ename": "ValueError",
     "evalue": "substring not found",
     "output_type": "error",
     "traceback": [
      "\u001b[1;31m---------------------------------------------------------------------------\u001b[0m",
      "\u001b[1;31mValueError\u001b[0m                                Traceback (most recent call last)",
      "Cell \u001b[1;32mIn[255], line 1\u001b[0m\n\u001b[1;32m----> 1\u001b[0m \u001b[43mval\u001b[49m\u001b[38;5;241;43m.\u001b[39;49m\u001b[43mindex\u001b[49m\u001b[43m(\u001b[49m\u001b[38;5;124;43m\"\u001b[39;49m\u001b[38;5;124;43m:\u001b[39;49m\u001b[38;5;124;43m\"\u001b[39;49m\u001b[43m)\u001b[49m\n",
      "\u001b[1;31mValueError\u001b[0m: substring not found"
     ]
    }
   ],
   "source": [
    "val.index(\":\")"
   ]
  },
  {
   "cell_type": "markdown",
   "id": "e410eb1a",
   "metadata": {
    "slideshow": {
     "slide_type": "slide"
    }
   },
   "source": [
    "Por su parte, `count` devuelve el número de apariciones de una determinada subcadena:"
   ]
  },
  {
   "cell_type": "code",
   "execution_count": null,
   "id": "2e0f1857",
   "metadata": {},
   "outputs": [
    {
     "data": {
      "text/plain": [
       "2"
      ]
     },
     "execution_count": 256,
     "metadata": {},
     "output_type": "execute_result"
    }
   ],
   "source": [
    "val.count(\",\")"
   ]
  },
  {
   "cell_type": "markdown",
   "id": "ec89497a",
   "metadata": {
    "slideshow": {
     "slide_type": "slide"
    }
   },
   "source": [
    "`replace` sustituirá las ocurrencias de un patrón por otro. También se suele utilizar para eliminar patrones, pasando una cadena vacía:"
   ]
  },
  {
   "cell_type": "code",
   "execution_count": null,
   "id": "efa2f7c2",
   "metadata": {},
   "outputs": [
    {
     "data": {
      "text/plain": [
       "'a::b::  guido'"
      ]
     },
     "execution_count": 257,
     "metadata": {},
     "output_type": "execute_result"
    }
   ],
   "source": [
    "val.replace(\",\", \"::\")"
   ]
  },
  {
   "cell_type": "code",
   "execution_count": null,
   "id": "7f357aa5",
   "metadata": {
    "slideshow": {
     "slide_type": "slide"
    }
   },
   "outputs": [
    {
     "data": {
      "text/plain": [
       "'ab  guido'"
      ]
     },
     "execution_count": 258,
     "metadata": {},
     "output_type": "execute_result"
    }
   ],
   "source": [
    "val.replace(\",\", \"\")"
   ]
  },
  {
   "cell_type": "markdown",
   "id": "61612255",
   "metadata": {
    "slideshow": {
     "slide_type": "slide"
    }
   },
   "source": [
    "En el siguiente enlace puede encontrar mas [metodos de cadena]('https://www.w3schools.com/python/python_ref_string.asp')"
   ]
  },
  {
   "cell_type": "markdown",
   "id": "7d3dce3f",
   "metadata": {
    "slideshow": {
     "slide_type": "slide"
    }
   },
   "source": [
    "### Expresiones Regulares"
   ]
  },
  {
   "cell_type": "markdown",
   "id": "06477338",
   "metadata": {},
   "source": [
    "Las expresiones regulares proporcionan una forma flexible de buscar o hacer coincidir patrones de cadenas (a menudo más complejos) en el texto. Una expresión regular, comúnmente llamada regex, es una cadena formada según el lenguaje de expresiones regulares. El módulo re incorporado en Python se encarga de aplicar expresiones regulares a las cadenas; aquí daré varios ejemplos de su uso."
   ]
  },
  {
   "cell_type": "markdown",
   "id": "e6c2c1c4",
   "metadata": {
    "slideshow": {
     "slide_type": "slide"
    }
   },
   "source": [
    "Las funciones del módulo `re` se dividen en tres categorías: coincidencia de patrones, sustitución y división. Naturalmente, todas ellas están relacionadas; un `regex` describe un patrón a localizar en el texto, que luego puede utilizarse para muchos fines. Veamos un ejemplo sencillo: supongamos que queremos dividir una cadena con un número variable de caracteres de espacio en blanco (tabuladores, espacios y nuevas líneas)."
   ]
  },
  {
   "cell_type": "markdown",
   "id": "c87bdfcd",
   "metadata": {
    "slideshow": {
     "slide_type": "slide"
    }
   },
   "source": [
    "La expresión regular que describe uno o más caracteres de espacio en blanco es `\\s+`:"
   ]
  },
  {
   "cell_type": "code",
   "execution_count": null,
   "id": "76e42170",
   "metadata": {},
   "outputs": [
    {
     "data": {
      "text/plain": [
       "['foo', 'bar', 'baz', 'qux']"
      ]
     },
     "execution_count": 259,
     "metadata": {},
     "output_type": "execute_result"
    }
   ],
   "source": [
    "import re\n",
    "text = \"foo    bar\\t baz  \\tqux\"\n",
    "\n",
    "re.split(r\"\\s+\", text)"
   ]
  },
  {
   "cell_type": "markdown",
   "id": "2dff189e",
   "metadata": {
    "slideshow": {
     "slide_type": "slide"
    }
   },
   "source": [
    "Cuando se llama a `re.split(r\"\\s+\", text)`, primero se compila la expresión regular y luego se llama a su método split sobre el texto pasado. Puede compilar la expresión regular usted mismo con `re.compile`, formando un objeto `regex` reutilizable:"
   ]
  },
  {
   "cell_type": "code",
   "execution_count": null,
   "id": "aec4227f",
   "metadata": {
    "slideshow": {
     "slide_type": "slide"
    }
   },
   "outputs": [
    {
     "data": {
      "text/plain": [
       "['foo', 'bar', 'baz', 'qux']"
      ]
     },
     "execution_count": 260,
     "metadata": {},
     "output_type": "execute_result"
    }
   ],
   "source": [
    "regex = re.compile(r\"\\s+\")\n",
    "\n",
    "regex.split(text)"
   ]
  },
  {
   "cell_type": "markdown",
   "id": "9b13b7a4",
   "metadata": {
    "slideshow": {
     "slide_type": "slide"
    }
   },
   "source": [
    "Si, en cambio, desea obtener una lista de todos los patrones que coincidan con la expresión regular, puede utilizar el método `findall`:"
   ]
  },
  {
   "cell_type": "code",
   "execution_count": null,
   "id": "ef9dd737",
   "metadata": {},
   "outputs": [
    {
     "data": {
      "text/plain": [
       "['    ', '\\t ', '  \\t']"
      ]
     },
     "execution_count": 261,
     "metadata": {},
     "output_type": "execute_result"
    }
   ],
   "source": [
    "regex.findall(text)"
   ]
  },
  {
   "cell_type": "markdown",
   "id": "94178621",
   "metadata": {
    "slideshow": {
     "slide_type": "skip"
    }
   },
   "source": [
    "Para evitar escapes no deseados con \\ en una expresión regular, utilice literales de cadena sin procesar como `r\"C:\\x\"` en lugar del equivalente `\"C:\\\\x\"`."
   ]
  },
  {
   "cell_type": "markdown",
   "id": "853fea7e",
   "metadata": {
    "slideshow": {
     "slide_type": "skip"
    }
   },
   "source": [
    "La creación de un objeto regex con `re.compile` es muy recomendable si se pretende aplicar la misma expresión a muchas cadenas; de este modo se ahorrarán ciclos de CPU."
   ]
  },
  {
   "cell_type": "markdown",
   "id": "37c39cef",
   "metadata": {
    "slideshow": {
     "slide_type": "slide"
    }
   },
   "source": [
    "`match` y `search` están estrechamente relacionados con `findall`. Mientras que `findall` devuelve todas las coincidencias de una cadena, `search` sólo devuelve la primera coincidencia. Más rígidamente, `match` sólo encuentra coincidencias al principio de la cadena. Como ejemplo menos trivial, consideremos un bloque de texto y una expresión regular capaz de identificar la mayoría de las direcciones de correo electrónico:"
   ]
  },
  {
   "cell_type": "code",
   "execution_count": null,
   "id": "22b5b3ff",
   "metadata": {
    "slideshow": {
     "slide_type": "slide"
    }
   },
   "outputs": [],
   "source": [
    "text = \"\"\"Dave dave@google.com\n",
    "Steve steve@gmail.com\n",
    "Rob rob@gmail.com\n",
    "Ryan ryan@yahoo.com\"\"\"\n",
    "\n",
    "pattern = r\"[A-Z0-9._%+-]+@[A-Z0-9.-]+\\.[A-Z]{2,4}\"\n",
    "\n",
    "# re.IGNORECASE hace que la expresión regular no distinga \n",
    "# entre mayúsculas y minúsculas. \n",
    "regex = re.compile(pattern, flags=re.IGNORECASE)\n",
    "\n"
   ]
  },
  {
   "cell_type": "markdown",
   "id": "5b5a0165",
   "metadata": {
    "slideshow": {
     "slide_type": "slide"
    }
   },
   "source": [
    "Utilizando `findall` en el texto se obtiene una lista de las direcciones de correo electrónico:"
   ]
  },
  {
   "cell_type": "code",
   "execution_count": null,
   "id": "275638cb",
   "metadata": {},
   "outputs": [
    {
     "data": {
      "text/plain": [
       "['dave@google.com', 'steve@gmail.com', 'rob@gmail.com', 'ryan@yahoo.com']"
      ]
     },
     "execution_count": 263,
     "metadata": {},
     "output_type": "execute_result"
    }
   ],
   "source": [
    "regex.findall(text)"
   ]
  },
  {
   "cell_type": "markdown",
   "id": "3426511e",
   "metadata": {
    "slideshow": {
     "slide_type": "slide"
    }
   },
   "source": [
    "`search` devuelve un objeto coincidente especial para la primera dirección de correo electrónico del texto. Para la regex anterior, el objeto coincidente sólo puede indicarnos la posición inicial y final del patrón en la cadena:"
   ]
  },
  {
   "cell_type": "code",
   "execution_count": null,
   "id": "5faa7a9b",
   "metadata": {},
   "outputs": [
    {
     "data": {
      "text/plain": [
       "<re.Match object; span=(5, 20), match='dave@google.com'>"
      ]
     },
     "execution_count": 264,
     "metadata": {},
     "output_type": "execute_result"
    }
   ],
   "source": [
    "m = regex.search(text)\n",
    "m"
   ]
  },
  {
   "cell_type": "code",
   "execution_count": null,
   "id": "d73e4c76",
   "metadata": {
    "slideshow": {
     "slide_type": "slide"
    }
   },
   "outputs": [
    {
     "data": {
      "text/plain": [
       "'dave@google.com'"
      ]
     },
     "execution_count": 265,
     "metadata": {},
     "output_type": "execute_result"
    }
   ],
   "source": [
    "text[m.start():m.end()]"
   ]
  },
  {
   "cell_type": "markdown",
   "id": "39b85098",
   "metadata": {
    "slideshow": {
     "slide_type": "slide"
    }
   },
   "source": [
    "`regex.match` devuelve `None`, ya que sólo coincidirá si el patrón aparece al principio de la cadena:"
   ]
  },
  {
   "cell_type": "code",
   "execution_count": null,
   "id": "a10a5b4d",
   "metadata": {},
   "outputs": [
    {
     "name": "stdout",
     "output_type": "stream",
     "text": [
      "None\n"
     ]
    }
   ],
   "source": [
    "print(regex.match(text))"
   ]
  },
  {
   "cell_type": "markdown",
   "id": "e75ae64f",
   "metadata": {
    "slideshow": {
     "slide_type": "slide"
    }
   },
   "source": [
    "De forma similar, `sub` devolverá una nueva cadena con las ocurrencias del patrón sustituidas por una nueva cadena:"
   ]
  },
  {
   "cell_type": "code",
   "execution_count": null,
   "id": "d2cdd3e1",
   "metadata": {},
   "outputs": [
    {
     "name": "stdout",
     "output_type": "stream",
     "text": [
      "Dave REDACTED\n",
      "Steve REDACTED\n",
      "Rob REDACTED\n",
      "Ryan REDACTED\n"
     ]
    }
   ],
   "source": [
    "print(regex.sub(\"REDACTED\", text))"
   ]
  },
  {
   "cell_type": "markdown",
   "id": "bc791026",
   "metadata": {
    "slideshow": {
     "slide_type": "slide"
    }
   },
   "source": [
    "Supongamos que desea encontrar direcciones de correo electrónico y, al mismo tiempo, segmentar cada dirección en sus tres componentes: nombre de usuario, nombre de dominio y sufijo de dominio. Para ello, ponga entre paréntesis las partes del patrón que desea segmentar:"
   ]
  },
  {
   "cell_type": "code",
   "execution_count": null,
   "id": "769d871e",
   "metadata": {},
   "outputs": [],
   "source": [
    "pattern = r\"([A-Z0-9._%+-]+)@([A-Z0-9.-]+)\\.([A-Z]{2,4})\"\n",
    "\n",
    "regex = re.compile(pattern, flags=re.IGNORECASE)"
   ]
  },
  {
   "cell_type": "markdown",
   "id": "083c867b",
   "metadata": {
    "slideshow": {
     "slide_type": "slide"
    }
   },
   "source": [
    "Un objeto match producido por esta regex modificada devuelve una tupla de los componentes del patrón con su método groups:"
   ]
  },
  {
   "cell_type": "code",
   "execution_count": null,
   "id": "52622946",
   "metadata": {},
   "outputs": [
    {
     "data": {
      "text/plain": [
       "('wesm', 'bright', 'net')"
      ]
     },
     "execution_count": 269,
     "metadata": {},
     "output_type": "execute_result"
    }
   ],
   "source": [
    "m = regex.match(\"wesm@bright.net\")\n",
    "\n",
    "m.groups()"
   ]
  },
  {
   "cell_type": "markdown",
   "id": "cdba4975",
   "metadata": {
    "slideshow": {
     "slide_type": "slide"
    }
   },
   "source": [
    "`findall` devuelve una lista de tuplas cuando el patrón tiene grupos:"
   ]
  },
  {
   "cell_type": "code",
   "execution_count": null,
   "id": "c999c12e",
   "metadata": {},
   "outputs": [
    {
     "data": {
      "text/plain": [
       "[('dave', 'google', 'com'),\n",
       " ('steve', 'gmail', 'com'),\n",
       " ('rob', 'gmail', 'com'),\n",
       " ('ryan', 'yahoo', 'com')]"
      ]
     },
     "execution_count": 270,
     "metadata": {},
     "output_type": "execute_result"
    }
   ],
   "source": [
    "regex.findall(text)"
   ]
  },
  {
   "cell_type": "markdown",
   "id": "e650979f",
   "metadata": {
    "slideshow": {
     "slide_type": "slide"
    }
   },
   "source": [
    "`sub` también tiene acceso a los grupos de cada coincidencia mediante símbolos especiales como `\\1` y `\\2`. El símbolo `\\1` corresponde al primer grupo coincidente, `\\2` corresponde al segundo, y así sucesivamente:"
   ]
  },
  {
   "cell_type": "code",
   "execution_count": null,
   "id": "1f9a3643",
   "metadata": {},
   "outputs": [
    {
     "name": "stdout",
     "output_type": "stream",
     "text": [
      "Dave Username: dave, Domain: google, Suffix: com\n",
      "Steve Username: steve, Domain: gmail, Suffix: com\n",
      "Rob Username: rob, Domain: gmail, Suffix: com\n",
      "Ryan Username: ryan, Domain: yahoo, Suffix: com\n"
     ]
    }
   ],
   "source": [
    "print(regex.sub(r\"Username: \\1, Domain: \\2, Suffix: \\3\", text))"
   ]
  },
  {
   "cell_type": "markdown",
   "id": "f2dbe751",
   "metadata": {
    "slideshow": {
     "slide_type": "slide"
    }
   },
   "source": [
    "A continuación algunos metodos adicionales de expresiones regulares."
   ]
  },
  {
   "cell_type": "markdown",
   "id": "2bd36645",
   "metadata": {
    "slideshow": {
     "slide_type": "slide"
    }
   },
   "source": [
    "`findall`: Devuelve todos los patrones coincidentes no solapados en una cadena como una lista.\n",
    "\n",
    "`finditer`: Como findall, pero devuelve un iterador.\n",
    "\n",
    "`match`: \tCoincide con el patrón al inicio de la cadena y opcionalmente segmenta los componentes del patrón en grupos; si el patrón coincide, devuelve un objeto coincidente, y en caso contrario `None`.\n",
    "\n",
    "`search`: Escanea la cadena en busca de coincidencias con el patrón, devolviendo un objeto coincidente si es así; a diferencia de match, la coincidencia puede estar en cualquier parte de la cadena en lugar de sólo al principio.\n",
    "\n",
    "`split`: Rompe la cadena en trozos en cada aparición del patrón.\n",
    "\n",
    "`sub, subn`: Reemplazar todas (`sub`) o las primeras `n` ocurrencias (`subn`) del patrón en la cadena con la expresión de reemplazo; utilizar los símbolos `\\1`, `\\2`, ... para referirse a los elementos del grupo de coincidencia en la cadena de reemplazo."
   ]
  },
  {
   "cell_type": "markdown",
   "id": "c6e852d7",
   "metadata": {},
   "source": [
    "**JUEVES 05/10/2023**"
   ]
  },
  {
   "cell_type": "markdown",
   "id": "03bd6323",
   "metadata": {
    "slideshow": {
     "slide_type": "slide"
    }
   },
   "source": [
    "### Funciones de cadena en pandas"
   ]
  },
  {
   "cell_type": "markdown",
   "id": "1cb85931",
   "metadata": {},
   "source": [
    "Limpiar un conjunto de datos desordenado para su análisis suele requerir mucha manipulación de cadenas. Para complicar las cosas, una columna que contiene cadenas a veces tiene datos que faltan:"
   ]
  },
  {
   "cell_type": "code",
   "execution_count": null,
   "id": "c6714c0b",
   "metadata": {},
   "outputs": [
    {
     "data": {
      "text/plain": [
       "Dave     dave@google.com\n",
       "Steve    steve@gmail.com\n",
       "Rob        rob@gmail.com\n",
       "Wes                  NaN\n",
       "dtype: object"
      ]
     },
     "execution_count": 272,
     "metadata": {},
     "output_type": "execute_result"
    }
   ],
   "source": [
    "data = {\"Dave\": \"dave@google.com\",\n",
    "        \"Steve\": \"steve@gmail.com\",\n",
    "        \"Rob\": \"rob@gmail.com\",\n",
    "        \"Wes\": np.nan}\n",
    "\n",
    "data = pd.Series(data)\n",
    "data"
   ]
  },
  {
   "cell_type": "code",
   "execution_count": null,
   "id": "9bd32179",
   "metadata": {
    "slideshow": {
     "slide_type": "slide"
    }
   },
   "outputs": [
    {
     "data": {
      "text/plain": [
       "Dave     False\n",
       "Steve    False\n",
       "Rob      False\n",
       "Wes       True\n",
       "dtype: bool"
      ]
     },
     "execution_count": 273,
     "metadata": {},
     "output_type": "execute_result"
    }
   ],
   "source": [
    "data.isna()"
   ]
  },
  {
   "cell_type": "markdown",
   "id": "18a925e9",
   "metadata": {
    "slideshow": {
     "slide_type": "slide"
    }
   },
   "source": [
    "Se pueden aplicar métodos de cadenas y expresiones regulares (pasando una `lambda` u otra función) a cada valor utilizando `data.map`, pero fallará en los valores NA (nulos). Para hacer frente a esto, Series dispone de métodos orientados a arrays para operaciones con cadenas que omiten y propagan los valores NA. Se accede a ellos a través del atributo str de Series; por ejemplo, podríamos comprobar si cada dirección de correo electrónico contiene \"gmail\" con `str.contains`:"
   ]
  },
  {
   "cell_type": "code",
   "execution_count": null,
   "id": "78c475f9",
   "metadata": {
    "slideshow": {
     "slide_type": "slide"
    }
   },
   "outputs": [
    {
     "data": {
      "text/plain": [
       "Dave     False\n",
       "Steve     True\n",
       "Rob       True\n",
       "Wes        NaN\n",
       "dtype: object"
      ]
     },
     "execution_count": 131,
     "metadata": {},
     "output_type": "execute_result"
    }
   ],
   "source": [
    "data.str.contains(\"gmail\")"
   ]
  },
  {
   "cell_type": "markdown",
   "id": "00390592",
   "metadata": {
    "slideshow": {
     "slide_type": "slide"
    }
   },
   "source": [
    "Tenga en cuenta que el resultado de esta operación tiene un dtype objeto. pandas tiene tipos de extensión que proporcionan un tratamiento especializado de cadenas, enteros y datos booleanos:"
   ]
  },
  {
   "cell_type": "code",
   "execution_count": null,
   "id": "d46abbbb",
   "metadata": {},
   "outputs": [
    {
     "data": {
      "text/plain": [
       "Dave     dave@google.com\n",
       "Steve    steve@gmail.com\n",
       "Rob        rob@gmail.com\n",
       "Wes                 <NA>\n",
       "dtype: string"
      ]
     },
     "execution_count": 132,
     "metadata": {},
     "output_type": "execute_result"
    }
   ],
   "source": [
    "data_as_string_ext = data.astype('string')\n",
    "data_as_string_ext"
   ]
  },
  {
   "cell_type": "code",
   "execution_count": null,
   "id": "aabf945d",
   "metadata": {
    "slideshow": {
     "slide_type": "slide"
    }
   },
   "outputs": [
    {
     "data": {
      "text/plain": [
       "Dave     False\n",
       "Steve     True\n",
       "Rob       True\n",
       "Wes       <NA>\n",
       "dtype: boolean"
      ]
     },
     "execution_count": 133,
     "metadata": {},
     "output_type": "execute_result"
    }
   ],
   "source": [
    "data_as_string_ext.str.contains(\"gmail\")"
   ]
  },
  {
   "cell_type": "markdown",
   "id": "07acdbfb",
   "metadata": {
    "slideshow": {
     "slide_type": "slide"
    }
   },
   "source": [
    "También se pueden utilizar expresiones regulares, junto con otras opciones como IGNORECASE:"
   ]
  },
  {
   "cell_type": "code",
   "execution_count": null,
   "id": "1d54b1ac",
   "metadata": {},
   "outputs": [
    {
     "data": {
      "text/plain": [
       "Dave     [(dave, google, com)]\n",
       "Steve    [(steve, gmail, com)]\n",
       "Rob        [(rob, gmail, com)]\n",
       "Wes                        NaN\n",
       "dtype: object"
      ]
     },
     "execution_count": 134,
     "metadata": {},
     "output_type": "execute_result"
    }
   ],
   "source": [
    "pattern = r\"([A-Z0-9._%+-]+)@([A-Z0-9.-]+)\\.([A-Z]{2,4})\"\n",
    "data.str.findall(pattern, flags=re.IGNORECASE)"
   ]
  },
  {
   "cell_type": "markdown",
   "id": "19bf7cc2",
   "metadata": {
    "slideshow": {
     "slide_type": "slide"
    }
   },
   "source": [
    "Hay un par de formas de recuperar elementos vectorizados. Puede utilizar str.get o indexar en el atributo str:"
   ]
  },
  {
   "cell_type": "code",
   "execution_count": null,
   "id": "5bf1c37d",
   "metadata": {},
   "outputs": [
    {
     "data": {
      "text/plain": [
       "Dave     (dave, google, com)\n",
       "Steve    (steve, gmail, com)\n",
       "Rob        (rob, gmail, com)\n",
       "Wes                      NaN\n",
       "dtype: object"
      ]
     },
     "execution_count": 279,
     "metadata": {},
     "output_type": "execute_result"
    }
   ],
   "source": [
    "matches = data.str.findall(pattern, flags=re.IGNORECASE).str[0]\n",
    "# La línea .str[0] se utiliza para obtener la primera tupla\n",
    "# de la lista, que contiene los valores encontrados para el \n",
    "# primer grupo de captura en la expresión regular.\n",
    "matches"
   ]
  },
  {
   "cell_type": "code",
   "execution_count": null,
   "id": "0501a93e",
   "metadata": {
    "slideshow": {
     "slide_type": "slide"
    }
   },
   "outputs": [
    {
     "data": {
      "text/plain": [
       "Dave     google\n",
       "Steve     gmail\n",
       "Rob       gmail\n",
       "Wes         NaN\n",
       "dtype: object"
      ]
     },
     "execution_count": 282,
     "metadata": {},
     "output_type": "execute_result"
    }
   ],
   "source": [
    "matches.str.get(1)"
   ]
  },
  {
   "cell_type": "markdown",
   "id": "477646d5",
   "metadata": {
    "slideshow": {
     "slide_type": "slide"
    }
   },
   "source": [
    "De forma similar, puede cortar cadenas utilizando esta sintaxis:"
   ]
  },
  {
   "cell_type": "code",
   "execution_count": null,
   "id": "c7ddc27a",
   "metadata": {},
   "outputs": [
    {
     "data": {
      "text/plain": [
       "Dave     dave@\n",
       "Steve    steve\n",
       "Rob      rob@g\n",
       "Wes        NaN\n",
       "dtype: object"
      ]
     },
     "execution_count": 137,
     "metadata": {},
     "output_type": "execute_result"
    }
   ],
   "source": [
    "data.str[:5]"
   ]
  },
  {
   "cell_type": "markdown",
   "id": "acffb756",
   "metadata": {
    "slideshow": {
     "slide_type": "slide"
    }
   },
   "source": [
    "El método `str.extract` devolverá los grupos capturados de una expresión regular como un DataFrame:"
   ]
  },
  {
   "cell_type": "code",
   "execution_count": null,
   "id": "fa766f75",
   "metadata": {},
   "outputs": [
    {
     "data": {
      "text/html": [
       "<div>\n",
       "<style scoped>\n",
       "    .dataframe tbody tr th:only-of-type {\n",
       "        vertical-align: middle;\n",
       "    }\n",
       "\n",
       "    .dataframe tbody tr th {\n",
       "        vertical-align: top;\n",
       "    }\n",
       "\n",
       "    .dataframe thead th {\n",
       "        text-align: right;\n",
       "    }\n",
       "</style>\n",
       "<table border=\"1\" class=\"dataframe\">\n",
       "  <thead>\n",
       "    <tr style=\"text-align: right;\">\n",
       "      <th></th>\n",
       "      <th>0</th>\n",
       "      <th>1</th>\n",
       "      <th>2</th>\n",
       "    </tr>\n",
       "  </thead>\n",
       "  <tbody>\n",
       "    <tr>\n",
       "      <th>Dave</th>\n",
       "      <td>dave</td>\n",
       "      <td>google</td>\n",
       "      <td>com</td>\n",
       "    </tr>\n",
       "    <tr>\n",
       "      <th>Steve</th>\n",
       "      <td>steve</td>\n",
       "      <td>gmail</td>\n",
       "      <td>com</td>\n",
       "    </tr>\n",
       "    <tr>\n",
       "      <th>Rob</th>\n",
       "      <td>rob</td>\n",
       "      <td>gmail</td>\n",
       "      <td>com</td>\n",
       "    </tr>\n",
       "    <tr>\n",
       "      <th>Wes</th>\n",
       "      <td>NaN</td>\n",
       "      <td>NaN</td>\n",
       "      <td>NaN</td>\n",
       "    </tr>\n",
       "  </tbody>\n",
       "</table>\n",
       "</div>"
      ],
      "text/plain": [
       "           0       1    2\n",
       "Dave    dave  google  com\n",
       "Steve  steve   gmail  com\n",
       "Rob      rob   gmail  com\n",
       "Wes      NaN     NaN  NaN"
      ]
     },
     "execution_count": 138,
     "metadata": {},
     "output_type": "execute_result"
    }
   ],
   "source": [
    "data.str.extract(pattern, flags=re.IGNORECASE)"
   ]
  },
  {
   "cell_type": "markdown",
   "id": "1ec6c6a7",
   "metadata": {
    "slideshow": {
     "slide_type": "slide"
    }
   },
   "source": [
    "En la siguiente tabla se muestran otros métodos de String en Series"
   ]
  },
  {
   "cell_type": "markdown",
   "id": "f37ef6c6",
   "metadata": {
    "slideshow": {
     "slide_type": "slide"
    }
   },
   "source": [
    "`cat`: Concatenar cadenas por elementos con un delimitador opcional\n",
    "\n",
    "`contains`: Devuelve una matriz booleana si cada cadena contiene un patrón/regex.\n",
    "\n",
    "`count`: Contar ocurrencias del patrón\n",
    "\n",
    "`extract`: Utilice una expresión regular con grupos para extraer una o varias cadenas de una serie de cadenas; el resultado será un DataFrame con una columna por grupo.\n",
    "\n",
    "`endswith`: Equivale a x.endswith(pattern) para cada elemento\n",
    "\n",
    "`startswith`: Equivale a x.startswith(pattern) para cada elemento\n",
    "\n",
    " `findall`: Calcula la lista de todas las apariciones del patrón/regex para cada cadena.\n",
    " \n",
    " `get`: Índice en cada elemento (recuperar el i-ésimo elemento)\n",
    " \n",
    " `isalnum`: Equivalente a str.alnum incorporado\n",
    " \n",
    " `isalpha`: Equivalente al built-in str.isalpha.\n",
    " \n",
    " `isdecimal`: Equivalente al built-in str.isdecimal.\n",
    "\n",
    "`isdigit`: Equivalente al built-in str.isdigit\n",
    "\n",
    "`islower`: Equivalent to built-in str.islower\n",
    "\n",
    "`isnumeric`: Equivalent to built-in str.isnumeric.\n",
    "\n",
    "`isupper`: Equivalent to built-in str.isupper.\n",
    "\n",
    "`join`: Une las cadenas de cada elemento de la Serie con el separador pasado.\n",
    "\n",
    "`len`: Calcular la longitud de cada cadena.\n",
    "\n",
    "`lower, upper` : Convertir casos; equivalente a x.lower() o x.upper() para cada elemento.\n",
    "\n",
    "`match`: Utiliza re.match con la expresión regular pasada en cada elemento, devolviendo True o False si coincide\n",
    "\n",
    "`pad`: Añadir espacios en blanco a la izquierda, a la derecha o a ambos lados de las cadenas\n",
    "\n",
    "`center`: Equivale a pad(side=\"both\")\n",
    "\n",
    "`replace`: Reemplazar las ocurrencias de un patrón/regex por otra cadena\n",
    "\n",
    "`slice`: Corta cada cadena de la serie\n",
    "\n",
    "`split` : Dividir cadenas según delimitador o expresión regular\n",
    "\n",
    "`strip`: Recorta los espacios en blanco de ambos lados, incluidas las nuevas líneas.\n",
    "\n",
    "`rstrip`: Recortar los espacios en blanco de la derecha.\n",
    "\n",
    "`lstrip`: Recortar los espacios en blanco de la izquierda. "
   ]
  },
  {
   "cell_type": "markdown",
   "id": "16f12770",
   "metadata": {
    "slideshow": {
     "slide_type": "slide"
    }
   },
   "source": [
    "## 2.5 Datos Categóricos"
   ]
  },
  {
   "cell_type": "markdown",
   "id": "75ff005b",
   "metadata": {},
   "source": [
    "Ya hemos visto funciones como unique y value_counts, que nos permiten extraer los valores distintos de un array y calcular sus frecuencias, respectivamente:"
   ]
  },
  {
   "cell_type": "code",
   "execution_count": null,
   "id": "b29c62b6",
   "metadata": {
    "slideshow": {
     "slide_type": "slide"
    }
   },
   "outputs": [
    {
     "data": {
      "text/plain": [
       "0     apple\n",
       "1    orange\n",
       "2     apple\n",
       "3     apple\n",
       "4     apple\n",
       "5    orange\n",
       "6     apple\n",
       "7     apple\n",
       "dtype: object"
      ]
     },
     "execution_count": 139,
     "metadata": {},
     "output_type": "execute_result"
    }
   ],
   "source": [
    "values = pd.Series(['apple', 'orange', 'apple',\n",
    "                    'apple'] * 2)\n",
    "values               "
   ]
  },
  {
   "cell_type": "code",
   "execution_count": null,
   "id": "4190d2c9",
   "metadata": {
    "slideshow": {
     "slide_type": "slide"
    }
   },
   "outputs": [
    {
     "data": {
      "text/plain": [
       "array(['apple', 'orange'], dtype=object)"
      ]
     },
     "execution_count": 140,
     "metadata": {},
     "output_type": "execute_result"
    }
   ],
   "source": [
    "pd.unique(values)"
   ]
  },
  {
   "cell_type": "code",
   "execution_count": null,
   "id": "bb220f8a",
   "metadata": {},
   "outputs": [
    {
     "name": "stderr",
     "output_type": "stream",
     "text": [
      "C:\\Users\\juanj\\AppData\\Local\\Temp\\ipykernel_20236\\3297668723.py:1: FutureWarning: pandas.value_counts is deprecated and will be removed in a future version. Use pd.Series(obj).value_counts() instead.\n",
      "  pd.value_counts(values)\n"
     ]
    },
    {
     "data": {
      "text/plain": [
       "apple     6\n",
       "orange    2\n",
       "Name: count, dtype: int64"
      ]
     },
     "execution_count": 141,
     "metadata": {},
     "output_type": "execute_result"
    }
   ],
   "source": [
    "pd.value_counts(values)"
   ]
  },
  {
   "cell_type": "markdown",
   "id": "72536dde",
   "metadata": {
    "slideshow": {
     "slide_type": "slide"
    }
   },
   "source": [
    "Muchos sistemas de datos (para almacenamiento de datos, cálculo estadístico u otros usos) han desarrollado enfoques especializados para representar datos con valores repetidos para un almacenamiento y cálculo más eficientes. En el almacenamiento de datos, una práctica recomendada consiste en utilizar las denominadas tablas de dimensiones, que contienen los valores distintos y almacenan las observaciones primarias como claves enteras que hacen referencia a la tabla de dimensiones:"
   ]
  },
  {
   "cell_type": "code",
   "execution_count": null,
   "id": "5990ccda",
   "metadata": {},
   "outputs": [
    {
     "data": {
      "text/plain": [
       "0    0\n",
       "1    1\n",
       "2    0\n",
       "3    0\n",
       "4    0\n",
       "5    1\n",
       "6    0\n",
       "7    0\n",
       "dtype: int64"
      ]
     },
     "execution_count": 142,
     "metadata": {},
     "output_type": "execute_result"
    }
   ],
   "source": [
    "values = pd.Series([0, 1, 0, 0] * 2)\n",
    "values"
   ]
  },
  {
   "cell_type": "code",
   "execution_count": null,
   "id": "81b685dd",
   "metadata": {},
   "outputs": [
    {
     "data": {
      "text/plain": [
       "0     apple\n",
       "1    orange\n",
       "dtype: object"
      ]
     },
     "execution_count": 143,
     "metadata": {},
     "output_type": "execute_result"
    }
   ],
   "source": [
    "dim = pd.Series(['apple', 'orange'])\n",
    "dim"
   ]
  },
  {
   "cell_type": "markdown",
   "id": "0ce57bf9",
   "metadata": {
    "slideshow": {
     "slide_type": "slide"
    }
   },
   "source": [
    "Podemos utilizar el método `take` para restaurar la serie original de cadenas:"
   ]
  },
  {
   "cell_type": "code",
   "execution_count": null,
   "id": "902fa20d",
   "metadata": {},
   "outputs": [
    {
     "data": {
      "text/plain": [
       "0     apple\n",
       "1    orange\n",
       "0     apple\n",
       "0     apple\n",
       "0     apple\n",
       "1    orange\n",
       "0     apple\n",
       "0     apple\n",
       "dtype: object"
      ]
     },
     "execution_count": 144,
     "metadata": {},
     "output_type": "execute_result"
    }
   ],
   "source": [
    "dim.take(values)"
   ]
  },
  {
   "cell_type": "markdown",
   "id": "205356cc",
   "metadata": {
    "slideshow": {
     "slide_type": "slide"
    }
   },
   "source": [
    "Esta representación como números enteros se denomina representación categórica o codificada en diccionario. La array de valores distintos puede denominarse categorías, diccionario o niveles de los datos. Aqui utilizaremos los términos categórico y categorías. Los valores enteros que hacen referencia a las categorías se denominan códigos de categoría o simplemente códigos."
   ]
  },
  {
   "cell_type": "markdown",
   "id": "738287ea",
   "metadata": {
    "slideshow": {
     "slide_type": "slide"
    }
   },
   "source": [
    "La representación por categorías puede mejorar considerablemente el rendimiento de los análisis. También puede realizar transformaciones en las categorías sin modificar los códigos (sus valores enteros). Algunos ejemplos de transformaciones que pueden realizarse con un coste relativamente bajo son:\n",
    "\n",
    "- Renombrar categorías\n",
    "- Añadir una nueva categoría sin cambiar el orden o la posición de las categorías existentes"
   ]
  },
  {
   "cell_type": "markdown",
   "id": "c8311a57",
   "metadata": {
    "slideshow": {
     "slide_type": "slide"
    }
   },
   "source": [
    "### Extension de tipos de datos categóricos en Pandas"
   ]
  },
  {
   "cell_type": "markdown",
   "id": "9f4e76ce",
   "metadata": {},
   "source": [
    "Pandas tiene un tipo de extensión especial `Categorical` para contener datos que utilizan la representación o codificación categórica basada en enteros. Esta es una técnica popular de compresión de datos para datos con muchas ocurrencias de valores similares y puede proporcionar un rendimiento significativamente más rápido con un menor uso de memoria, especialmente para datos de cadenas."
   ]
  },
  {
   "cell_type": "markdown",
   "id": "7fca37ed",
   "metadata": {
    "slideshow": {
     "slide_type": "slide"
    }
   },
   "source": [
    "Volvamos al ejemplo de la serie anterior:"
   ]
  },
  {
   "cell_type": "code",
   "execution_count": null,
   "id": "fa7d8110",
   "metadata": {},
   "outputs": [],
   "source": [
    "fruits = ['apple', 'orange', 'apple', 'apple'] * 2\n"
   ]
  },
  {
   "cell_type": "code",
   "execution_count": null,
   "id": "b1d0527e",
   "metadata": {
    "slideshow": {
     "slide_type": "slide"
    }
   },
   "outputs": [
    {
     "data": {
      "text/plain": [
       "8"
      ]
     },
     "execution_count": 146,
     "metadata": {},
     "output_type": "execute_result"
    }
   ],
   "source": [
    "N = len(fruits)\n",
    "N"
   ]
  },
  {
   "cell_type": "code",
   "execution_count": null,
   "id": "f1f0f9ca",
   "metadata": {},
   "outputs": [],
   "source": [
    "rng = np.random.default_rng(seed=12345)"
   ]
  },
  {
   "cell_type": "code",
   "execution_count": null,
   "id": "15905118",
   "metadata": {
    "slideshow": {
     "slide_type": "slide"
    }
   },
   "outputs": [
    {
     "data": {
      "text/html": [
       "<div>\n",
       "<style scoped>\n",
       "    .dataframe tbody tr th:only-of-type {\n",
       "        vertical-align: middle;\n",
       "    }\n",
       "\n",
       "    .dataframe tbody tr th {\n",
       "        vertical-align: top;\n",
       "    }\n",
       "\n",
       "    .dataframe thead th {\n",
       "        text-align: right;\n",
       "    }\n",
       "</style>\n",
       "<table border=\"1\" class=\"dataframe\">\n",
       "  <thead>\n",
       "    <tr style=\"text-align: right;\">\n",
       "      <th></th>\n",
       "      <th>basket_id</th>\n",
       "      <th>fruit</th>\n",
       "      <th>count</th>\n",
       "      <th>weight</th>\n",
       "    </tr>\n",
       "  </thead>\n",
       "  <tbody>\n",
       "    <tr>\n",
       "      <th>0</th>\n",
       "      <td>0</td>\n",
       "      <td>apple</td>\n",
       "      <td>11</td>\n",
       "      <td>1.564438</td>\n",
       "    </tr>\n",
       "    <tr>\n",
       "      <th>1</th>\n",
       "      <td>1</td>\n",
       "      <td>orange</td>\n",
       "      <td>5</td>\n",
       "      <td>1.331256</td>\n",
       "    </tr>\n",
       "    <tr>\n",
       "      <th>2</th>\n",
       "      <td>2</td>\n",
       "      <td>apple</td>\n",
       "      <td>12</td>\n",
       "      <td>2.393235</td>\n",
       "    </tr>\n",
       "    <tr>\n",
       "      <th>3</th>\n",
       "      <td>3</td>\n",
       "      <td>apple</td>\n",
       "      <td>6</td>\n",
       "      <td>0.746937</td>\n",
       "    </tr>\n",
       "    <tr>\n",
       "      <th>4</th>\n",
       "      <td>4</td>\n",
       "      <td>apple</td>\n",
       "      <td>5</td>\n",
       "      <td>2.691024</td>\n",
       "    </tr>\n",
       "    <tr>\n",
       "      <th>5</th>\n",
       "      <td>5</td>\n",
       "      <td>orange</td>\n",
       "      <td>12</td>\n",
       "      <td>3.767211</td>\n",
       "    </tr>\n",
       "    <tr>\n",
       "      <th>6</th>\n",
       "      <td>6</td>\n",
       "      <td>apple</td>\n",
       "      <td>10</td>\n",
       "      <td>0.992983</td>\n",
       "    </tr>\n",
       "    <tr>\n",
       "      <th>7</th>\n",
       "      <td>7</td>\n",
       "      <td>apple</td>\n",
       "      <td>11</td>\n",
       "      <td>3.795525</td>\n",
       "    </tr>\n",
       "  </tbody>\n",
       "</table>\n",
       "</div>"
      ],
      "text/plain": [
       "   basket_id   fruit  count    weight\n",
       "0          0   apple     11  1.564438\n",
       "1          1  orange      5  1.331256\n",
       "2          2   apple     12  2.393235\n",
       "3          3   apple      6  0.746937\n",
       "4          4   apple      5  2.691024\n",
       "5          5  orange     12  3.767211\n",
       "6          6   apple     10  0.992983\n",
       "7          7   apple     11  3.795525"
      ]
     },
     "execution_count": 148,
     "metadata": {},
     "output_type": "execute_result"
    }
   ],
   "source": [
    "df = pd.DataFrame({'fruit': fruits,\n",
    "                   'basket_id': np.arange(N),\n",
    "                   'count': rng.integers(3, 15, size=N),\n",
    "                   'weight': rng.uniform(0, 4, size=N)},\n",
    "                    columns=['basket_id', 'fruit', 'count', 'weight'])\n",
    "\n",
    "df"
   ]
  },
  {
   "cell_type": "markdown",
   "id": "6aa2f9c8",
   "metadata": {
    "slideshow": {
     "slide_type": "slide"
    }
   },
   "source": [
    "Aquí, `df['fruta']` es un array de objetos de cadena de Python. Podemos convertirlo en categórico llamando a:"
   ]
  },
  {
   "cell_type": "code",
   "execution_count": null,
   "id": "da16ef22",
   "metadata": {},
   "outputs": [
    {
     "data": {
      "text/plain": [
       "0     apple\n",
       "1    orange\n",
       "2     apple\n",
       "3     apple\n",
       "4     apple\n",
       "5    orange\n",
       "6     apple\n",
       "7     apple\n",
       "Name: fruit, dtype: category\n",
       "Categories (2, object): ['apple', 'orange']"
      ]
     },
     "execution_count": 149,
     "metadata": {},
     "output_type": "execute_result"
    }
   ],
   "source": [
    "fruit_cat = df['fruit'].astype('category')\n",
    "fruit_cat"
   ]
  },
  {
   "cell_type": "markdown",
   "id": "5eeb1fde",
   "metadata": {
    "slideshow": {
     "slide_type": "slide"
    }
   },
   "source": [
    "Los valores de `fruit_cat` son ahora una instancia de pandas.Categorical, a la que se puede acceder mediante el atributo .array:"
   ]
  },
  {
   "cell_type": "code",
   "execution_count": null,
   "id": "9bce5baf",
   "metadata": {},
   "outputs": [
    {
     "data": {
      "text/plain": [
       "pandas.core.arrays.categorical.Categorical"
      ]
     },
     "execution_count": 150,
     "metadata": {},
     "output_type": "execute_result"
    }
   ],
   "source": [
    "c = fruit_cat.array\n",
    "type(c)"
   ]
  },
  {
   "cell_type": "markdown",
   "id": "c9aae8aa",
   "metadata": {
    "slideshow": {
     "slide_type": "slide"
    }
   },
   "source": [
    "El objeto `Categorical` tiene atributos de categorías y códigos:"
   ]
  },
  {
   "cell_type": "code",
   "execution_count": null,
   "id": "e776d430",
   "metadata": {},
   "outputs": [
    {
     "data": {
      "text/plain": [
       "Index(['apple', 'orange'], dtype='object')"
      ]
     },
     "execution_count": 151,
     "metadata": {},
     "output_type": "execute_result"
    }
   ],
   "source": [
    "c.categories"
   ]
  },
  {
   "cell_type": "code",
   "execution_count": null,
   "id": "9ee319ff",
   "metadata": {},
   "outputs": [
    {
     "data": {
      "text/plain": [
       "array([0, 1, 0, 0, 0, 1, 0, 0], dtype=int8)"
      ]
     },
     "execution_count": 152,
     "metadata": {},
     "output_type": "execute_result"
    }
   ],
   "source": [
    "c.codes"
   ]
  },
  {
   "cell_type": "markdown",
   "id": "f4eea820",
   "metadata": {
    "slideshow": {
     "slide_type": "slide"
    }
   },
   "source": [
    "Un truco útil para obtener una correspondencia entre códigos y categorías es:"
   ]
  },
  {
   "cell_type": "code",
   "execution_count": null,
   "id": "5d1a0156",
   "metadata": {},
   "outputs": [
    {
     "data": {
      "text/plain": [
       "{0: 'apple', 1: 'orange'}"
      ]
     },
     "execution_count": 153,
     "metadata": {},
     "output_type": "execute_result"
    }
   ],
   "source": [
    "dict(enumerate(c.categories))\n"
   ]
  },
  {
   "cell_type": "markdown",
   "id": "3928f41c",
   "metadata": {
    "slideshow": {
     "slide_type": "slide"
    }
   },
   "source": [
    "Puede convertir una columna DataFrame en categórica asignando el resultado convertido:"
   ]
  },
  {
   "cell_type": "code",
   "execution_count": null,
   "id": "8ae58662",
   "metadata": {},
   "outputs": [],
   "source": [
    "df['fruit'] = df['fruit'].astype('category')"
   ]
  },
  {
   "cell_type": "code",
   "execution_count": null,
   "id": "1e348cd6",
   "metadata": {},
   "outputs": [
    {
     "data": {
      "text/plain": [
       "0     apple\n",
       "1    orange\n",
       "2     apple\n",
       "3     apple\n",
       "4     apple\n",
       "5    orange\n",
       "6     apple\n",
       "7     apple\n",
       "Name: fruit, dtype: category\n",
       "Categories (2, object): ['apple', 'orange']"
      ]
     },
     "execution_count": 155,
     "metadata": {},
     "output_type": "execute_result"
    }
   ],
   "source": [
    "df[\"fruit\"]"
   ]
  },
  {
   "cell_type": "markdown",
   "id": "2ff960be",
   "metadata": {
    "slideshow": {
     "slide_type": "slide"
    }
   },
   "source": [
    "También puede crear `pandas.Categorical` directamente a partir de otros tipos de secuencias de Python:"
   ]
  },
  {
   "cell_type": "code",
   "execution_count": null,
   "id": "a479e9f7",
   "metadata": {},
   "outputs": [
    {
     "data": {
      "text/plain": [
       "['foo', 'bar', 'baz', 'foo', 'bar']\n",
       "Categories (3, object): ['bar', 'baz', 'foo']"
      ]
     },
     "execution_count": 156,
     "metadata": {},
     "output_type": "execute_result"
    }
   ],
   "source": [
    "my_categories = pd.Categorical(['foo', 'bar', 'baz', 'foo', 'bar'])\n",
    "my_categories"
   ]
  },
  {
   "cell_type": "markdown",
   "id": "dd690558",
   "metadata": {
    "slideshow": {
     "slide_type": "slide"
    }
   },
   "source": [
    "Si ha obtenido datos categóricos codificados de otra fuente, puede utilizar el constructor alternativo `from_codes`:"
   ]
  },
  {
   "cell_type": "code",
   "execution_count": null,
   "id": "eba6b4bb",
   "metadata": {},
   "outputs": [],
   "source": [
    "categories = ['foo', 'bar', 'baz']\n",
    "codes = [0, 1, 2, 0, 0, 1]"
   ]
  },
  {
   "cell_type": "code",
   "execution_count": null,
   "id": "6ec17d44",
   "metadata": {
    "slideshow": {
     "slide_type": "slide"
    }
   },
   "outputs": [
    {
     "data": {
      "text/plain": [
       "['foo', 'bar', 'baz', 'foo', 'foo', 'bar']\n",
       "Categories (3, object): ['foo', 'bar', 'baz']"
      ]
     },
     "execution_count": 158,
     "metadata": {},
     "output_type": "execute_result"
    }
   ],
   "source": [
    "my_cats_2 = pd.Categorical.from_codes(codes, categories)\n",
    "my_cats_2"
   ]
  },
  {
   "cell_type": "markdown",
   "id": "f2fd49f9",
   "metadata": {
    "slideshow": {
     "slide_type": "slide"
    }
   },
   "source": [
    "A menos que se especifique explícitamente, las conversiones categóricas no asumen un orden específico de las categorías. Por lo tanto, la matriz de categorías puede estar en un orden diferente dependiendo del orden de los datos de entrada. Cuando utilice `from_codes` o cualquiera de los otros constructores, puede indicar que las categorías tienen un orden significativo:"
   ]
  },
  {
   "cell_type": "code",
   "execution_count": null,
   "id": "1e621ac6",
   "metadata": {},
   "outputs": [
    {
     "data": {
      "text/plain": [
       "['foo', 'bar', 'baz', 'foo', 'foo', 'bar']\n",
       "Categories (3, object): ['foo' < 'bar' < 'baz']"
      ]
     },
     "execution_count": 159,
     "metadata": {},
     "output_type": "execute_result"
    }
   ],
   "source": [
    "ordered_cat = pd.Categorical.from_codes(codes, categories,\n",
    "                                        ordered=True)\n",
    "ordered_cat"
   ]
  },
  {
   "cell_type": "markdown",
   "id": "0fa99e7d",
   "metadata": {
    "slideshow": {
     "slide_type": "slide"
    }
   },
   "source": [
    "La salida `[foo < bar < baz]` indica que 'foo' precede a 'bar' en la ordenación, y así sucesivamente. Una instancia categórica desordenada puede ordenarse con `as_ordered`:"
   ]
  },
  {
   "cell_type": "code",
   "execution_count": null,
   "id": "9b4f35e8",
   "metadata": {},
   "outputs": [
    {
     "data": {
      "text/plain": [
       "['foo', 'bar', 'baz', 'foo', 'foo', 'bar']\n",
       "Categories (3, object): ['foo' < 'bar' < 'baz']"
      ]
     },
     "execution_count": 160,
     "metadata": {},
     "output_type": "execute_result"
    }
   ],
   "source": [
    "my_cats_2.as_ordered()"
   ]
  },
  {
   "cell_type": "markdown",
   "id": "67fe70cf",
   "metadata": {
    "slideshow": {
     "slide_type": "slide"
    }
   },
   "source": [
    "Por último, los datos categóricos no tienen por qué ser cadenas, aunque sólo he mostrado ejemplos de cadenas. Un array categórico puede consistir en cualquier tipo de valor inmutable."
   ]
  },
  {
   "cell_type": "markdown",
   "id": "2aad9de0",
   "metadata": {
    "slideshow": {
     "slide_type": "slide"
    }
   },
   "source": [
    "### Cálculos con datos categorías"
   ]
  },
  {
   "cell_type": "markdown",
   "id": "289f3d28",
   "metadata": {
    "slideshow": {
     "slide_type": "slide"
    }
   },
   "source": [
    "El uso de `Categorical` en pandas comparado con la versión no codificada (como un array de cadenas) generalmente se comporta de la misma manera. Algunas partes de pandas, como la función `groupby`, funcionan mejor cuando se trabaja con `categoricals`. También hay algunas funciones que pueden utilizar la bandera `ordered`.\n",
    "\n",
    "Consideremos algunos datos numéricos aleatorios y utilicemos la función `pandas.qcut binning`. Esto devuelve `pandas.Categorical`; hemos usado `pandas.cut` anteriormente pero hemos pasado por alto los detalles de cómo funcionan los categóricos:"
   ]
  },
  {
   "cell_type": "code",
   "execution_count": null,
   "id": "f37d854b",
   "metadata": {
    "slideshow": {
     "slide_type": "slide"
    }
   },
   "outputs": [
    {
     "data": {
      "text/plain": [
       "array([-1.42382504,  1.26372846, -0.87066174, -0.25917323, -0.07534331])"
      ]
     },
     "execution_count": 161,
     "metadata": {},
     "output_type": "execute_result"
    }
   ],
   "source": [
    "rng = np.random.default_rng(seed=12345)\n",
    "\n",
    "draws = rng.standard_normal(1000)\n",
    "\n",
    "draws[:5]"
   ]
  },
  {
   "cell_type": "markdown",
   "id": "9fddcaf8",
   "metadata": {
    "slideshow": {
     "slide_type": "slide"
    }
   },
   "source": [
    "Calculemos un intervalo de cuartiles de estos datos y extraigamos algunas estadísticas:"
   ]
  },
  {
   "cell_type": "code",
   "execution_count": null,
   "id": "3bc93262",
   "metadata": {
    "slideshow": {
     "slide_type": "slide"
    }
   },
   "outputs": [
    {
     "data": {
      "text/plain": [
       "[(-3.121, -0.675], (0.687, 3.211], (-3.121, -0.675], (-0.675, 0.0134], (-0.675, 0.0134], ..., (0.0134, 0.687], (0.0134, 0.687], (-0.675, 0.0134], (0.0134, 0.687], (-0.675, 0.0134]]\n",
       "Length: 1000\n",
       "Categories (4, interval[float64, right]): [(-3.121, -0.675] < (-0.675, 0.0134] < (0.0134, 0.687] < (0.687, 3.211]]"
      ]
     },
     "execution_count": 162,
     "metadata": {},
     "output_type": "execute_result"
    }
   ],
   "source": [
    "bins = pd.qcut(draws, 4)\n",
    "bins"
   ]
  },
  {
   "cell_type": "markdown",
   "id": "3f07f374",
   "metadata": {
    "slideshow": {
     "slide_type": "slide"
    }
   },
   "source": [
    "Aunque son útiles, los cuartiles exactos de la muestra pueden ser menos útiles para elaborar un informe que los nombres de los cuartiles. Podemos conseguirlo con el argumento labels de `qcut`:"
   ]
  },
  {
   "cell_type": "code",
   "execution_count": null,
   "id": "bdb6ea74",
   "metadata": {
    "slideshow": {
     "slide_type": "slide"
    }
   },
   "outputs": [
    {
     "data": {
      "text/plain": [
       "['Q1', 'Q4', 'Q1', 'Q2', 'Q2', ..., 'Q3', 'Q3', 'Q2', 'Q3', 'Q2']\n",
       "Length: 1000\n",
       "Categories (4, object): ['Q1' < 'Q2' < 'Q3' < 'Q4']"
      ]
     },
     "execution_count": 163,
     "metadata": {},
     "output_type": "execute_result"
    }
   ],
   "source": [
    "bins = pd.qcut(draws, 4, labels=['Q1', 'Q2', 'Q3', 'Q4'])\n",
    "bins"
   ]
  },
  {
   "cell_type": "code",
   "execution_count": null,
   "id": "ba144c8b",
   "metadata": {
    "slideshow": {
     "slide_type": "slide"
    }
   },
   "outputs": [
    {
     "data": {
      "text/plain": [
       "array([0, 3, 0, 1, 1, 0, 0, 2, 2, 0], dtype=int8)"
      ]
     },
     "execution_count": 164,
     "metadata": {},
     "output_type": "execute_result"
    }
   ],
   "source": [
    "bins.codes[:10]"
   ]
  },
  {
   "cell_type": "markdown",
   "id": "6d28386c",
   "metadata": {
    "slideshow": {
     "slide_type": "slide"
    }
   },
   "source": [
    "La etiqueta categórica `bins` no contiene información sobre los bordes de los bins en los datos, por lo que podemos utilizar `groupby` para extraer algunos estadísticos de resumen:"
   ]
  },
  {
   "cell_type": "code",
   "execution_count": null,
   "id": "264157af",
   "metadata": {
    "slideshow": {
     "slide_type": "slide"
    }
   },
   "outputs": [],
   "source": [
    "bins = pd.Series(bins, name='quartile')"
   ]
  },
  {
   "cell_type": "code",
   "execution_count": null,
   "id": "1ac768be",
   "metadata": {
    "slideshow": {
     "slide_type": "slide"
    }
   },
   "outputs": [
    {
     "name": "stderr",
     "output_type": "stream",
     "text": [
      "C:\\Users\\juanj\\AppData\\Local\\Temp\\ipykernel_20236\\2441121649.py:1: FutureWarning: The default of observed=False is deprecated and will be changed to True in a future version of pandas. Pass observed=False to retain current behavior or observed=True to adopt the future default and silence this warning.\n",
      "  results = (pd.Series(draws)\n"
     ]
    },
    {
     "data": {
      "text/html": [
       "<div>\n",
       "<style scoped>\n",
       "    .dataframe tbody tr th:only-of-type {\n",
       "        vertical-align: middle;\n",
       "    }\n",
       "\n",
       "    .dataframe tbody tr th {\n",
       "        vertical-align: top;\n",
       "    }\n",
       "\n",
       "    .dataframe thead th {\n",
       "        text-align: right;\n",
       "    }\n",
       "</style>\n",
       "<table border=\"1\" class=\"dataframe\">\n",
       "  <thead>\n",
       "    <tr style=\"text-align: right;\">\n",
       "      <th></th>\n",
       "      <th>quartile</th>\n",
       "      <th>count</th>\n",
       "      <th>min</th>\n",
       "      <th>max</th>\n",
       "    </tr>\n",
       "  </thead>\n",
       "  <tbody>\n",
       "    <tr>\n",
       "      <th>0</th>\n",
       "      <td>Q1</td>\n",
       "      <td>250</td>\n",
       "      <td>-3.119609</td>\n",
       "      <td>-0.678494</td>\n",
       "    </tr>\n",
       "    <tr>\n",
       "      <th>1</th>\n",
       "      <td>Q2</td>\n",
       "      <td>250</td>\n",
       "      <td>-0.673305</td>\n",
       "      <td>0.008009</td>\n",
       "    </tr>\n",
       "    <tr>\n",
       "      <th>2</th>\n",
       "      <td>Q3</td>\n",
       "      <td>250</td>\n",
       "      <td>0.018753</td>\n",
       "      <td>0.686183</td>\n",
       "    </tr>\n",
       "    <tr>\n",
       "      <th>3</th>\n",
       "      <td>Q4</td>\n",
       "      <td>250</td>\n",
       "      <td>0.688282</td>\n",
       "      <td>3.211418</td>\n",
       "    </tr>\n",
       "  </tbody>\n",
       "</table>\n",
       "</div>"
      ],
      "text/plain": [
       "  quartile  count       min       max\n",
       "0       Q1    250 -3.119609 -0.678494\n",
       "1       Q2    250 -0.673305  0.008009\n",
       "2       Q3    250  0.018753  0.686183\n",
       "3       Q4    250  0.688282  3.211418"
      ]
     },
     "execution_count": 168,
     "metadata": {},
     "output_type": "execute_result"
    }
   ],
   "source": [
    "results = (pd.Series(draws)\n",
    "           .groupby(bins)\n",
    "           .agg(['count', 'min', 'max'])\n",
    "           .reset_index())\n",
    "# el método agg calcula las estadísticas resumidas para cada grupo, \n",
    "# en este caso, el número de elementos en cada grupo, \n",
    "# el valor mínimo y el valor máximo.\n",
    "results"
   ]
  },
  {
   "cell_type": "markdown",
   "id": "63dca4af",
   "metadata": {
    "slideshow": {
     "slide_type": "slide"
    }
   },
   "source": [
    "La columna \"quartile\" del resultado conserva la información categórica original, incluida la ordenación, de los intervalos:"
   ]
  },
  {
   "cell_type": "code",
   "execution_count": null,
   "id": "a3651584",
   "metadata": {
    "slideshow": {
     "slide_type": "slide"
    }
   },
   "outputs": [
    {
     "data": {
      "text/plain": [
       "0    Q1\n",
       "1    Q2\n",
       "2    Q3\n",
       "3    Q4\n",
       "Name: quartile, dtype: category\n",
       "Categories (4, object): ['Q1' < 'Q2' < 'Q3' < 'Q4']"
      ]
     },
     "execution_count": 169,
     "metadata": {},
     "output_type": "execute_result"
    }
   ],
   "source": [
    "results['quartile']"
   ]
  },
  {
   "cell_type": "markdown",
   "id": "bb5d5b22",
   "metadata": {
    "slideshow": {
     "slide_type": "slide"
    }
   },
   "source": [
    "### Mejor rendimiento con categóricos"
   ]
  },
  {
   "cell_type": "markdown",
   "id": "c494e515",
   "metadata": {},
   "source": [
    "Como anteriormente se ha dicho que los tipos categóricos pueden mejorar el rendimiento y el uso de memoria, así que veamos algunos ejemplos. Consideremos una serie con 10 millones de elementos y un pequeño número de categorías distintas:"
   ]
  },
  {
   "cell_type": "code",
   "execution_count": null,
   "id": "827c3915",
   "metadata": {
    "slideshow": {
     "slide_type": "slide"
    }
   },
   "outputs": [],
   "source": [
    "N = 10_000_000"
   ]
  },
  {
   "cell_type": "code",
   "execution_count": null,
   "id": "2e58d70b",
   "metadata": {},
   "outputs": [
    {
     "data": {
      "text/plain": [
       "0          foo\n",
       "1          bar\n",
       "2          baz\n",
       "3          qux\n",
       "4          foo\n",
       "          ... \n",
       "9999995    qux\n",
       "9999996    foo\n",
       "9999997    bar\n",
       "9999998    baz\n",
       "9999999    qux\n",
       "Length: 10000000, dtype: object"
      ]
     },
     "execution_count": 172,
     "metadata": {},
     "output_type": "execute_result"
    }
   ],
   "source": [
    "labels = pd.Series(['foo', 'bar', 'baz', 'qux'] * (N // 4))\n",
    "labels"
   ]
  },
  {
   "cell_type": "markdown",
   "id": "4b25401d",
   "metadata": {
    "slideshow": {
     "slide_type": "slide"
    }
   },
   "source": [
    "Ahora convertimos las etiquetas en categóricas:"
   ]
  },
  {
   "cell_type": "code",
   "execution_count": null,
   "id": "d887718d",
   "metadata": {},
   "outputs": [],
   "source": [
    "categories = labels.astype('category')"
   ]
  },
  {
   "cell_type": "markdown",
   "id": "9c883624",
   "metadata": {
    "slideshow": {
     "slide_type": "slide"
    }
   },
   "source": [
    "Ahora observamos que las etiquetas utilizan bastante más memoria que las categorías:"
   ]
  },
  {
   "cell_type": "code",
   "execution_count": null,
   "id": "f447f96f",
   "metadata": {
    "slideshow": {
     "slide_type": "slide"
    }
   },
   "outputs": [
    {
     "data": {
      "text/plain": [
       "600000128"
      ]
     },
     "execution_count": 175,
     "metadata": {},
     "output_type": "execute_result"
    }
   ],
   "source": [
    "labels.memory_usage(deep=True)"
   ]
  },
  {
   "cell_type": "code",
   "execution_count": null,
   "id": "75cdad8c",
   "metadata": {},
   "outputs": [
    {
     "data": {
      "text/plain": [
       "10000540"
      ]
     },
     "execution_count": 176,
     "metadata": {},
     "output_type": "execute_result"
    }
   ],
   "source": [
    "categories.memory_usage(deep=True)"
   ]
  },
  {
   "cell_type": "markdown",
   "id": "8e8ae56f",
   "metadata": {
    "slideshow": {
     "slide_type": "slide"
    }
   },
   "source": [
    "La conversión a categoría no es gratuita, por supuesto, pero es un coste único:"
   ]
  },
  {
   "cell_type": "code",
   "execution_count": null,
   "id": "96e00a8f",
   "metadata": {},
   "outputs": [
    {
     "name": "stdout",
     "output_type": "stream",
     "text": [
      "CPU times: total: 703 ms\n",
      "Wall time: 1.26 s\n"
     ]
    }
   ],
   "source": [
    "%time _ = labels.astype('category')"
   ]
  },
  {
   "cell_type": "code",
   "execution_count": null,
   "id": "f03b294f",
   "metadata": {},
   "outputs": [],
   "source": []
  },
  {
   "cell_type": "markdown",
   "id": "d64f1636",
   "metadata": {
    "slideshow": {
     "slide_type": "slide"
    }
   },
   "source": [
    "Las operaciones `GroupBy` pueden ser significativamente más rápidas con categóricas porque los algoritmos subyacentes utilizan arrays de códigos basada en enteros en lugar de un array  de cadenas. Aquí comparamos el rendimiento de value_counts(), que utiliza internamente la maquinaria `GroupBy`:"
   ]
  },
  {
   "cell_type": "code",
   "execution_count": null,
   "id": "918708ed",
   "metadata": {
    "slideshow": {
     "slide_type": "slide"
    }
   },
   "outputs": [
    {
     "name": "stdout",
     "output_type": "stream",
     "text": [
      "718 ms ± 72.3 ms per loop (mean ± std. dev. of 7 runs, 1 loop each)\n"
     ]
    }
   ],
   "source": [
    " %timeit labels.value_counts()"
   ]
  },
  {
   "cell_type": "code",
   "execution_count": null,
   "id": "43b88993",
   "metadata": {},
   "outputs": [
    {
     "name": "stdout",
     "output_type": "stream",
     "text": [
      "115 ms ± 7.31 ms per loop (mean ± std. dev. of 7 runs, 10 loops each)\n"
     ]
    }
   ],
   "source": [
    "%timeit categories.value_counts()"
   ]
  },
  {
   "cell_type": "markdown",
   "id": "170248f9",
   "metadata": {
    "slideshow": {
     "slide_type": "slide"
    }
   },
   "source": [
    "###  Métodos categóricos"
   ]
  },
  {
   "cell_type": "markdown",
   "id": "d17712c1",
   "metadata": {
    "slideshow": {
     "slide_type": "slide"
    }
   },
   "source": [
    "Las series que contienen datos categóricos disponen de varios métodos especiales similares a los métodos de cadena especializados de Series.str. Esto también proporciona un acceso conveniente a las categorías y códigos. Considere la Serie:"
   ]
  },
  {
   "cell_type": "code",
   "execution_count": null,
   "id": "51dbf164",
   "metadata": {
    "slideshow": {
     "slide_type": "slide"
    }
   },
   "outputs": [
    {
     "data": {
      "text/plain": [
       "0    a\n",
       "1    b\n",
       "2    c\n",
       "3    d\n",
       "4    a\n",
       "5    b\n",
       "6    c\n",
       "7    d\n",
       "dtype: category\n",
       "Categories (4, object): ['a', 'b', 'c', 'd']"
      ]
     },
     "execution_count": 182,
     "metadata": {},
     "output_type": "execute_result"
    }
   ],
   "source": [
    " s = pd.Series(['a', 'b', 'c', 'd'] * 2)\n",
    "    \n",
    "cat_s = s.astype('category')\n",
    "cat_s"
   ]
  },
  {
   "cell_type": "markdown",
   "id": "cf37683c",
   "metadata": {
    "slideshow": {
     "slide_type": "slide"
    }
   },
   "source": [
    "El atributo especial de acceso `cat` proporciona acceso a métodos categóricos:"
   ]
  },
  {
   "cell_type": "code",
   "execution_count": null,
   "id": "c6db5280",
   "metadata": {},
   "outputs": [
    {
     "data": {
      "text/plain": [
       "0    0\n",
       "1    1\n",
       "2    2\n",
       "3    3\n",
       "4    0\n",
       "5    1\n",
       "6    2\n",
       "7    3\n",
       "dtype: int8"
      ]
     },
     "execution_count": 183,
     "metadata": {},
     "output_type": "execute_result"
    }
   ],
   "source": [
    "cat_s.cat.codes"
   ]
  },
  {
   "cell_type": "code",
   "execution_count": null,
   "id": "1afc9d76",
   "metadata": {
    "slideshow": {
     "slide_type": "slide"
    }
   },
   "outputs": [
    {
     "data": {
      "text/plain": [
       "Index(['a', 'b', 'c', 'd'], dtype='object')"
      ]
     },
     "execution_count": 184,
     "metadata": {},
     "output_type": "execute_result"
    }
   ],
   "source": [
    "cat_s.cat.categories"
   ]
  },
  {
   "cell_type": "markdown",
   "id": "ae29f3b2",
   "metadata": {
    "slideshow": {
     "slide_type": "slide"
    }
   },
   "source": [
    "Supongamos que sabemos que el conjunto real de categorías para estos datos se extiende más allá de los cuatro valores observados en los datos. Podemos utilizar el método `set_categories` para cambiarlas:"
   ]
  },
  {
   "cell_type": "code",
   "execution_count": null,
   "id": "64c893c0",
   "metadata": {
    "slideshow": {
     "slide_type": "slide"
    }
   },
   "outputs": [
    {
     "data": {
      "text/plain": [
       "0    a\n",
       "1    b\n",
       "2    c\n",
       "3    d\n",
       "4    a\n",
       "5    b\n",
       "6    c\n",
       "7    d\n",
       "dtype: category\n",
       "Categories (5, object): ['a', 'b', 'c', 'd', 'e']"
      ]
     },
     "execution_count": 185,
     "metadata": {},
     "output_type": "execute_result"
    }
   ],
   "source": [
    "actual_categories = ['a', 'b', 'c', 'd', 'e']\n",
    "\n",
    "cat_s2 = cat_s.cat.set_categories(actual_categories)\n",
    "\n",
    "cat_s2"
   ]
  },
  {
   "cell_type": "markdown",
   "id": "6c40b64d",
   "metadata": {
    "slideshow": {
     "slide_type": "slide"
    }
   },
   "source": [
    "Aunque parezca que los datos no cambian, las nuevas categorías se reflejarán en las operaciones que las utilicen. Por ejemplo, value_counts respeta las categorías, si están presentes:\n",
    "\n"
   ]
  },
  {
   "cell_type": "code",
   "execution_count": null,
   "id": "39a6fe71",
   "metadata": {},
   "outputs": [
    {
     "data": {
      "text/plain": [
       "a    2\n",
       "b    2\n",
       "c    2\n",
       "d    2\n",
       "Name: count, dtype: int64"
      ]
     },
     "execution_count": 186,
     "metadata": {},
     "output_type": "execute_result"
    }
   ],
   "source": [
    " cat_s.value_counts()"
   ]
  },
  {
   "cell_type": "code",
   "execution_count": null,
   "id": "900c58f1",
   "metadata": {
    "slideshow": {
     "slide_type": "slide"
    }
   },
   "outputs": [
    {
     "data": {
      "text/plain": [
       "a    2\n",
       "b    2\n",
       "c    2\n",
       "d    2\n",
       "e    0\n",
       "Name: count, dtype: int64"
      ]
     },
     "execution_count": 187,
     "metadata": {},
     "output_type": "execute_result"
    }
   ],
   "source": [
    "cat_s2.value_counts()"
   ]
  },
  {
   "cell_type": "markdown",
   "id": "defb7f94",
   "metadata": {
    "slideshow": {
     "slide_type": "slide"
    }
   },
   "source": [
    "En grandes conjuntos de datos, las categorías se utilizan a menudo como una herramienta conveniente para ahorrar memoria y mejorar el rendimiento. Después de filtrar un gran DataFrame o Series, muchas de las categorías pueden no aparecer en los datos. Para ayudar con esto, podemos utilizar el método remove_unused_categories para recortar las categorías no observadas:"
   ]
  },
  {
   "cell_type": "code",
   "execution_count": null,
   "id": "cac64966",
   "metadata": {
    "slideshow": {
     "slide_type": "slide"
    }
   },
   "outputs": [
    {
     "data": {
      "text/plain": [
       "0    a\n",
       "1    b\n",
       "4    a\n",
       "5    b\n",
       "dtype: category\n",
       "Categories (4, object): ['a', 'b', 'c', 'd']"
      ]
     },
     "execution_count": 189,
     "metadata": {},
     "output_type": "execute_result"
    }
   ],
   "source": [
    "cat_s3 = cat_s[cat_s.isin(['a', 'b'])]\n",
    "cat_s3"
   ]
  },
  {
   "cell_type": "code",
   "execution_count": null,
   "id": "3e098e14",
   "metadata": {},
   "outputs": [
    {
     "data": {
      "text/plain": [
       "0    a\n",
       "1    b\n",
       "4    a\n",
       "5    b\n",
       "dtype: category\n",
       "Categories (2, object): ['a', 'b']"
      ]
     },
     "execution_count": 190,
     "metadata": {},
     "output_type": "execute_result"
    }
   ],
   "source": [
    "cat_s3.cat.remove_unused_categories()"
   ]
  },
  {
   "cell_type": "markdown",
   "id": "6ca1668a",
   "metadata": {
    "slideshow": {
     "slide_type": "slide"
    }
   },
   "source": [
    "### Creación de variables ficticias para la modelización"
   ]
  },
  {
   "cell_type": "markdown",
   "id": "3839bd00",
   "metadata": {
    "slideshow": {
     "slide_type": "slide"
    }
   },
   "source": [
    "Cuando se utilizan herramientas estadísticas o de aprendizaje automático, a menudo se transforman los datos categóricos en variables ficticias, lo que también se conoce como codificación de una sola vez (one-hot encoding). Esto implica crear un DataFrame con una columna para cada categoría distinta; estas columnas contienen 1s para ocurrencias de una categoría dada y 0 en caso contrario."
   ]
  },
  {
   "cell_type": "markdown",
   "id": "7d523344",
   "metadata": {
    "slideshow": {
     "slide_type": "slide"
    }
   },
   "source": [
    "Consideremos el ejemplo anterior:"
   ]
  },
  {
   "cell_type": "code",
   "execution_count": null,
   "id": "89bf6557",
   "metadata": {},
   "outputs": [],
   "source": [
    "cat_s = pd.Series(['a', 'b', 'c', 'd'] * 2, dtype='category')"
   ]
  },
  {
   "cell_type": "markdown",
   "id": "e33efe1f",
   "metadata": {},
   "source": [
    "Como se ha mencionado anteriormente , la función pandas.get_dummies convierte estos datos categóricos unidimensionales en un DataFrame que contiene la variable ficticia:"
   ]
  },
  {
   "cell_type": "code",
   "execution_count": null,
   "id": "7b3a5814",
   "metadata": {},
   "outputs": [
    {
     "data": {
      "text/html": [
       "<div>\n",
       "<style scoped>\n",
       "    .dataframe tbody tr th:only-of-type {\n",
       "        vertical-align: middle;\n",
       "    }\n",
       "\n",
       "    .dataframe tbody tr th {\n",
       "        vertical-align: top;\n",
       "    }\n",
       "\n",
       "    .dataframe thead th {\n",
       "        text-align: right;\n",
       "    }\n",
       "</style>\n",
       "<table border=\"1\" class=\"dataframe\">\n",
       "  <thead>\n",
       "    <tr style=\"text-align: right;\">\n",
       "      <th></th>\n",
       "      <th>a</th>\n",
       "      <th>b</th>\n",
       "      <th>c</th>\n",
       "      <th>d</th>\n",
       "    </tr>\n",
       "  </thead>\n",
       "  <tbody>\n",
       "    <tr>\n",
       "      <th>0</th>\n",
       "      <td>1.0</td>\n",
       "      <td>0.0</td>\n",
       "      <td>0.0</td>\n",
       "      <td>0.0</td>\n",
       "    </tr>\n",
       "    <tr>\n",
       "      <th>1</th>\n",
       "      <td>0.0</td>\n",
       "      <td>1.0</td>\n",
       "      <td>0.0</td>\n",
       "      <td>0.0</td>\n",
       "    </tr>\n",
       "    <tr>\n",
       "      <th>2</th>\n",
       "      <td>0.0</td>\n",
       "      <td>0.0</td>\n",
       "      <td>1.0</td>\n",
       "      <td>0.0</td>\n",
       "    </tr>\n",
       "    <tr>\n",
       "      <th>3</th>\n",
       "      <td>0.0</td>\n",
       "      <td>0.0</td>\n",
       "      <td>0.0</td>\n",
       "      <td>1.0</td>\n",
       "    </tr>\n",
       "    <tr>\n",
       "      <th>4</th>\n",
       "      <td>1.0</td>\n",
       "      <td>0.0</td>\n",
       "      <td>0.0</td>\n",
       "      <td>0.0</td>\n",
       "    </tr>\n",
       "    <tr>\n",
       "      <th>5</th>\n",
       "      <td>0.0</td>\n",
       "      <td>1.0</td>\n",
       "      <td>0.0</td>\n",
       "      <td>0.0</td>\n",
       "    </tr>\n",
       "    <tr>\n",
       "      <th>6</th>\n",
       "      <td>0.0</td>\n",
       "      <td>0.0</td>\n",
       "      <td>1.0</td>\n",
       "      <td>0.0</td>\n",
       "    </tr>\n",
       "    <tr>\n",
       "      <th>7</th>\n",
       "      <td>0.0</td>\n",
       "      <td>0.0</td>\n",
       "      <td>0.0</td>\n",
       "      <td>1.0</td>\n",
       "    </tr>\n",
       "  </tbody>\n",
       "</table>\n",
       "</div>"
      ],
      "text/plain": [
       "     a    b    c    d\n",
       "0  1.0  0.0  0.0  0.0\n",
       "1  0.0  1.0  0.0  0.0\n",
       "2  0.0  0.0  1.0  0.0\n",
       "3  0.0  0.0  0.0  1.0\n",
       "4  1.0  0.0  0.0  0.0\n",
       "5  0.0  1.0  0.0  0.0\n",
       "6  0.0  0.0  1.0  0.0\n",
       "7  0.0  0.0  0.0  1.0"
      ]
     },
     "execution_count": 140,
     "metadata": {},
     "output_type": "execute_result"
    }
   ],
   "source": [
    "pd.get_dummies(cat_s, dtype=float)"
   ]
  },
  {
   "cell_type": "code",
   "execution_count": null,
   "id": "321a59b2",
   "metadata": {},
   "outputs": [],
   "source": []
  }
 ],
 "metadata": {
  "celltoolbar": "Slideshow",
  "kernelspec": {
   "display_name": "Python 3 (ipykernel)",
   "language": "python",
   "name": "python3"
  },
  "language_info": {
   "codemirror_mode": {
    "name": "ipython",
    "version": 3
   },
   "file_extension": ".py",
   "mimetype": "text/x-python",
   "name": "python",
   "nbconvert_exporter": "python",
   "pygments_lexer": "ipython3",
   "version": "3.12.4"
  }
 },
 "nbformat": 4,
 "nbformat_minor": 5
}
