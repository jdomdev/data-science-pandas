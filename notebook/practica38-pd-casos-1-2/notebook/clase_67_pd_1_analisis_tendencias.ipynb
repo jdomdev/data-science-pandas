{
 "cells": [
  {
   "cell_type": "markdown",
   "id": "1f183e6d",
   "metadata": {},
   "source": [
    "# Análisis Descriptivo: Análisis de Tendencias de las ventas del negocio"
   ]
  },
  {
   "cell_type": "markdown",
   "id": "845a8c2e",
   "metadata": {},
   "source": [
    "El análisis de tendencia es una técnica estadística que se utiliza para identificar patrones o tendencias en un conjunto de datos a lo largo del tiempo. El análisis de tendencia es utilizado para predecir la dirección futura del comportamiento de los datos basándose en su comportamiento pasado."
   ]
  },
  {
   "cell_type": "markdown",
   "id": "ce99ea90",
   "metadata": {},
   "source": [
    "### Carga de las librerías de pyhton necesarias"
   ]
  },
  {
   "cell_type": "code",
   "execution_count": 19,
   "id": "6435daaf",
   "metadata": {},
   "outputs": [],
   "source": [
    "# Debe instalar las librerias necesarias antes del import\n",
    "import pyodbc\n",
    "import pandas as pd\n",
    "import numpy as np\n",
    "import matplotlib.pyplot as plt\n",
    "import seaborn as sns\n",
    "\n",
    "plt.rcParams['figure.figsize'] = [12, 8]\n",
    "\n",
    "pd.options.display.float_format = '{:.2f}'.format"
   ]
  },
  {
   "cell_type": "markdown",
   "id": "da98587a",
   "metadata": {},
   "source": [
    "Las librerías de Python son conjuntos de código predefinidos que se utilizan para realizar tareas específicas en el lenguaje de programación Python.\n",
    "Las librerías se utilizan para diferentes propósitos, como manipulación de datos, análisis de datos, visualización de datos, aprendizaje automático, desarrollo web, entre otros. "
   ]
  },
  {
   "cell_type": "markdown",
   "id": "90dc0f21",
   "metadata": {},
   "source": [
    "### Conexión a SQL Server y extracción de los datos"
   ]
  },
  {
   "cell_type": "markdown",
   "id": "3a5fcc80-13a9-4b50-86d7-1abf901bf94f",
   "metadata": {},
   "source": [
    "- Explique línea a línea el código mostrado abajo. Debe explicar tambien la query. Puede probar aparte la query desde Azure Data Studio o directamente desde SQL Server Managment Studio."
   ]
  },
  {
   "cell_type": "code",
   "execution_count": 20,
   "id": "e4087e9c",
   "metadata": {},
   "outputs": [
    {
     "name": "stderr",
     "output_type": "stream",
     "text": [
      "C:\\Users\\bytetech\\AppData\\Local\\Temp\\ipykernel_4492\\1025063462.py:24: UserWarning: pandas only supports SQLAlchemy connectable (engine/connection) or database string URI or sqlite3 DBAPI2 connection. Other DBAPI2 objects are not tested. Please consider using SQLAlchemy.\n",
      "  ventas = pd.read_sql(input_query, conn_str)\n"
     ]
    }
   ],
   "source": [
    "\"\"\" Mediante el módulo importado 'pyodbc' y su método 'connect', realizamos la cadena de conexión a la base de datos\n",
    " \tcon los siguientes argumentos:\n",
    " \t\t- Driver: controlador para la BDD\n",
    "\t\t- Server: la máquina que aloja la BDD\n",
    "\t\t- Database: el nombre de la BDD\n",
    "\t\t- Trusted_Connection: indicamos que será una conexión de confianza con el actual usuario de Windows \"\"\"\n",
    "conn_str = pyodbc.connect('Driver={SQL Server};' 'Server=DESKTOP-QRE2MBQ;''Database=AdventureWorks2019;''Trusted_Connection=yes;')\n",
    "# En Server=BALRODJJ debes colocar el nombre de tu (base de datos)*-> servidor.\n",
    "# Lo demás se deja igual\n",
    "\n",
    "# Recogemos la query que aplicaremos a la BDD como String\n",
    "input_query = '''select\n",
    "\t year(t1.OrderDate) as 'año', \n",
    "\t month(t1.OrderDate) as 'mes',\n",
    "\t sum(t1.TotalDue) as 'ventas'\n",
    "from Sales.SalesOrderHeader as t1\n",
    "\tgroup by year(t1.OrderDate), month(t1.OrderDate) \n",
    "\torder by year(t1.OrderDate), month(t1.OrderDate)'''\n",
    "\n",
    "# Mediante el módulo pandas(pd) y su método 'read_sql' recogemos la devolución de la ejecución de la query en un DataFrame \n",
    "# con los argumentos:\n",
    "#\t- input_query: la query como string\n",
    "#\t- conn_str: cadena de conexión\n",
    "ventas = pd.read_sql(input_query, conn_str)"
   ]
  },
  {
   "cell_type": "code",
   "execution_count": 21,
   "id": "13b7d255-5adb-438b-b2aa-1b37c8f7caae",
   "metadata": {},
   "outputs": [
    {
     "data": {
      "text/html": [
       "<div>\n",
       "<style scoped>\n",
       "    .dataframe tbody tr th:only-of-type {\n",
       "        vertical-align: middle;\n",
       "    }\n",
       "\n",
       "    .dataframe tbody tr th {\n",
       "        vertical-align: top;\n",
       "    }\n",
       "\n",
       "    .dataframe thead th {\n",
       "        text-align: right;\n",
       "    }\n",
       "</style>\n",
       "<table border=\"1\" class=\"dataframe\">\n",
       "  <thead>\n",
       "    <tr style=\"text-align: right;\">\n",
       "      <th></th>\n",
       "      <th>año</th>\n",
       "      <th>mes</th>\n",
       "      <th>ventas</th>\n",
       "    </tr>\n",
       "  </thead>\n",
       "  <tbody>\n",
       "    <tr>\n",
       "      <th>0</th>\n",
       "      <td>2011</td>\n",
       "      <td>5</td>\n",
       "      <td>567020.95</td>\n",
       "    </tr>\n",
       "    <tr>\n",
       "      <th>1</th>\n",
       "      <td>2011</td>\n",
       "      <td>6</td>\n",
       "      <td>507096.47</td>\n",
       "    </tr>\n",
       "    <tr>\n",
       "      <th>2</th>\n",
       "      <td>2011</td>\n",
       "      <td>7</td>\n",
       "      <td>2292182.88</td>\n",
       "    </tr>\n",
       "    <tr>\n",
       "      <th>3</th>\n",
       "      <td>2011</td>\n",
       "      <td>8</td>\n",
       "      <td>2800576.17</td>\n",
       "    </tr>\n",
       "    <tr>\n",
       "      <th>4</th>\n",
       "      <td>2011</td>\n",
       "      <td>9</td>\n",
       "      <td>554791.61</td>\n",
       "    </tr>\n",
       "    <tr>\n",
       "      <th>5</th>\n",
       "      <td>2011</td>\n",
       "      <td>10</td>\n",
       "      <td>5156269.53</td>\n",
       "    </tr>\n",
       "    <tr>\n",
       "      <th>6</th>\n",
       "      <td>2011</td>\n",
       "      <td>11</td>\n",
       "      <td>815313.02</td>\n",
       "    </tr>\n",
       "    <tr>\n",
       "      <th>7</th>\n",
       "      <td>2011</td>\n",
       "      <td>12</td>\n",
       "      <td>1462448.90</td>\n",
       "    </tr>\n",
       "    <tr>\n",
       "      <th>8</th>\n",
       "      <td>2012</td>\n",
       "      <td>1</td>\n",
       "      <td>4458337.44</td>\n",
       "    </tr>\n",
       "    <tr>\n",
       "      <th>9</th>\n",
       "      <td>2012</td>\n",
       "      <td>2</td>\n",
       "      <td>1649051.90</td>\n",
       "    </tr>\n",
       "    <tr>\n",
       "      <th>10</th>\n",
       "      <td>2012</td>\n",
       "      <td>3</td>\n",
       "      <td>3336347.47</td>\n",
       "    </tr>\n",
       "    <tr>\n",
       "      <th>11</th>\n",
       "      <td>2012</td>\n",
       "      <td>4</td>\n",
       "      <td>1871923.50</td>\n",
       "    </tr>\n",
       "    <tr>\n",
       "      <th>12</th>\n",
       "      <td>2012</td>\n",
       "      <td>5</td>\n",
       "      <td>3452924.45</td>\n",
       "    </tr>\n",
       "    <tr>\n",
       "      <th>13</th>\n",
       "      <td>2012</td>\n",
       "      <td>6</td>\n",
       "      <td>4610647.22</td>\n",
       "    </tr>\n",
       "    <tr>\n",
       "      <th>14</th>\n",
       "      <td>2012</td>\n",
       "      <td>7</td>\n",
       "      <td>3840231.46</td>\n",
       "    </tr>\n",
       "    <tr>\n",
       "      <th>15</th>\n",
       "      <td>2012</td>\n",
       "      <td>8</td>\n",
       "      <td>2442451.18</td>\n",
       "    </tr>\n",
       "    <tr>\n",
       "      <th>16</th>\n",
       "      <td>2012</td>\n",
       "      <td>9</td>\n",
       "      <td>3881724.19</td>\n",
       "    </tr>\n",
       "    <tr>\n",
       "      <th>17</th>\n",
       "      <td>2012</td>\n",
       "      <td>10</td>\n",
       "      <td>2858060.20</td>\n",
       "    </tr>\n",
       "    <tr>\n",
       "      <th>18</th>\n",
       "      <td>2012</td>\n",
       "      <td>11</td>\n",
       "      <td>2097153.13</td>\n",
       "    </tr>\n",
       "    <tr>\n",
       "      <th>19</th>\n",
       "      <td>2012</td>\n",
       "      <td>12</td>\n",
       "      <td>3176848.17</td>\n",
       "    </tr>\n",
       "    <tr>\n",
       "      <th>20</th>\n",
       "      <td>2013</td>\n",
       "      <td>1</td>\n",
       "      <td>2340061.55</td>\n",
       "    </tr>\n",
       "    <tr>\n",
       "      <th>21</th>\n",
       "      <td>2013</td>\n",
       "      <td>2</td>\n",
       "      <td>2600218.87</td>\n",
       "    </tr>\n",
       "    <tr>\n",
       "      <th>22</th>\n",
       "      <td>2013</td>\n",
       "      <td>3</td>\n",
       "      <td>3831605.94</td>\n",
       "    </tr>\n",
       "    <tr>\n",
       "      <th>23</th>\n",
       "      <td>2013</td>\n",
       "      <td>4</td>\n",
       "      <td>2840711.17</td>\n",
       "    </tr>\n",
       "    <tr>\n",
       "      <th>24</th>\n",
       "      <td>2013</td>\n",
       "      <td>5</td>\n",
       "      <td>3658084.95</td>\n",
       "    </tr>\n",
       "    <tr>\n",
       "      <th>25</th>\n",
       "      <td>2013</td>\n",
       "      <td>6</td>\n",
       "      <td>5726265.26</td>\n",
       "    </tr>\n",
       "    <tr>\n",
       "      <th>26</th>\n",
       "      <td>2013</td>\n",
       "      <td>7</td>\n",
       "      <td>5521840.84</td>\n",
       "    </tr>\n",
       "    <tr>\n",
       "      <th>27</th>\n",
       "      <td>2013</td>\n",
       "      <td>8</td>\n",
       "      <td>3733973.00</td>\n",
       "    </tr>\n",
       "    <tr>\n",
       "      <th>28</th>\n",
       "      <td>2013</td>\n",
       "      <td>9</td>\n",
       "      <td>5083505.34</td>\n",
       "    </tr>\n",
       "    <tr>\n",
       "      <th>29</th>\n",
       "      <td>2013</td>\n",
       "      <td>10</td>\n",
       "      <td>5374375.94</td>\n",
       "    </tr>\n",
       "    <tr>\n",
       "      <th>30</th>\n",
       "      <td>2013</td>\n",
       "      <td>11</td>\n",
       "      <td>3694668.00</td>\n",
       "    </tr>\n",
       "    <tr>\n",
       "      <th>31</th>\n",
       "      <td>2013</td>\n",
       "      <td>12</td>\n",
       "      <td>4560577.10</td>\n",
       "    </tr>\n",
       "    <tr>\n",
       "      <th>32</th>\n",
       "      <td>2014</td>\n",
       "      <td>1</td>\n",
       "      <td>4798027.87</td>\n",
       "    </tr>\n",
       "    <tr>\n",
       "      <th>33</th>\n",
       "      <td>2014</td>\n",
       "      <td>2</td>\n",
       "      <td>1478213.29</td>\n",
       "    </tr>\n",
       "    <tr>\n",
       "      <th>34</th>\n",
       "      <td>2014</td>\n",
       "      <td>3</td>\n",
       "      <td>8097036.31</td>\n",
       "    </tr>\n",
       "    <tr>\n",
       "      <th>35</th>\n",
       "      <td>2014</td>\n",
       "      <td>4</td>\n",
       "      <td>1985886.15</td>\n",
       "    </tr>\n",
       "    <tr>\n",
       "      <th>36</th>\n",
       "      <td>2014</td>\n",
       "      <td>5</td>\n",
       "      <td>6006183.21</td>\n",
       "    </tr>\n",
       "    <tr>\n",
       "      <th>37</th>\n",
       "      <td>2014</td>\n",
       "      <td>6</td>\n",
       "      <td>54151.48</td>\n",
       "    </tr>\n",
       "  </tbody>\n",
       "</table>\n",
       "</div>"
      ],
      "text/plain": [
       "     año  mes     ventas\n",
       "0   2011    5  567020.95\n",
       "1   2011    6  507096.47\n",
       "2   2011    7 2292182.88\n",
       "3   2011    8 2800576.17\n",
       "4   2011    9  554791.61\n",
       "5   2011   10 5156269.53\n",
       "6   2011   11  815313.02\n",
       "7   2011   12 1462448.90\n",
       "8   2012    1 4458337.44\n",
       "9   2012    2 1649051.90\n",
       "10  2012    3 3336347.47\n",
       "11  2012    4 1871923.50\n",
       "12  2012    5 3452924.45\n",
       "13  2012    6 4610647.22\n",
       "14  2012    7 3840231.46\n",
       "15  2012    8 2442451.18\n",
       "16  2012    9 3881724.19\n",
       "17  2012   10 2858060.20\n",
       "18  2012   11 2097153.13\n",
       "19  2012   12 3176848.17\n",
       "20  2013    1 2340061.55\n",
       "21  2013    2 2600218.87\n",
       "22  2013    3 3831605.94\n",
       "23  2013    4 2840711.17\n",
       "24  2013    5 3658084.95\n",
       "25  2013    6 5726265.26\n",
       "26  2013    7 5521840.84\n",
       "27  2013    8 3733973.00\n",
       "28  2013    9 5083505.34\n",
       "29  2013   10 5374375.94\n",
       "30  2013   11 3694668.00\n",
       "31  2013   12 4560577.10\n",
       "32  2014    1 4798027.87\n",
       "33  2014    2 1478213.29\n",
       "34  2014    3 8097036.31\n",
       "35  2014    4 1985886.15\n",
       "36  2014    5 6006183.21\n",
       "37  2014    6   54151.48"
      ]
     },
     "execution_count": 21,
     "metadata": {},
     "output_type": "execute_result"
    }
   ],
   "source": [
    "ventas"
   ]
  },
  {
   "cell_type": "markdown",
   "id": "40aebcf7",
   "metadata": {},
   "source": [
    "__Ejecución query en Microsoft SQL Server:__"
   ]
  },
  {
   "cell_type": "markdown",
   "id": "e88df8a8",
   "metadata": {},
   "source": [
    "![img_select_sqlserver](../img/img-I.PNG)"
   ]
  },
  {
   "cell_type": "markdown",
   "id": "0988a2ee",
   "metadata": {},
   "source": [
    "__Ejecución query en Azure Data Studio:__"
   ]
  },
  {
   "cell_type": "markdown",
   "id": "4ef34258",
   "metadata": {},
   "source": [
    "![img_select_azure](../img/img-II.PNG)"
   ]
  },
  {
   "cell_type": "markdown",
   "id": "388977fd-209b-4651-8def-76e32ac8bdcf",
   "metadata": {},
   "source": [
    "### El código **no** da error, sin embargo imprime un `warning` donde se sugiere el uso de `SQLAlchemy` en vez de `pyodbc`. Investigue como se hace la conexión a SQL Server con SQLAlchemy utilizando la misma base de datos , pruebe con la misma query anterior, guardar los resultados en un nuevo dataframe usando read_sql e imprima la tabla. Explicar linea por linea el código utilizado."
   ]
  },
  {
   "cell_type": "markdown",
   "id": "e217d01c",
   "metadata": {},
   "source": [
    "__*(UserWarning: pandas only supports SQLAlchemy connectable (engine/connection) or database string URI or sqlite3 DBAPI2 connection. Other DBAPI2 objects are not tested. Please consider using SQLAlchemy.)__"
   ]
  },
  {
   "cell_type": "code",
   "execution_count": 22,
   "id": "e821593b",
   "metadata": {},
   "outputs": [
    {
     "data": {
      "text/html": [
       "<div>\n",
       "<style scoped>\n",
       "    .dataframe tbody tr th:only-of-type {\n",
       "        vertical-align: middle;\n",
       "    }\n",
       "\n",
       "    .dataframe tbody tr th {\n",
       "        vertical-align: top;\n",
       "    }\n",
       "\n",
       "    .dataframe thead th {\n",
       "        text-align: right;\n",
       "    }\n",
       "</style>\n",
       "<table border=\"1\" class=\"dataframe\">\n",
       "  <thead>\n",
       "    <tr style=\"text-align: right;\">\n",
       "      <th></th>\n",
       "      <th>año</th>\n",
       "      <th>mes</th>\n",
       "      <th>ventas</th>\n",
       "    </tr>\n",
       "  </thead>\n",
       "  <tbody>\n",
       "    <tr>\n",
       "      <th>0</th>\n",
       "      <td>2011</td>\n",
       "      <td>5</td>\n",
       "      <td>567020.95</td>\n",
       "    </tr>\n",
       "    <tr>\n",
       "      <th>1</th>\n",
       "      <td>2011</td>\n",
       "      <td>6</td>\n",
       "      <td>507096.47</td>\n",
       "    </tr>\n",
       "    <tr>\n",
       "      <th>2</th>\n",
       "      <td>2011</td>\n",
       "      <td>7</td>\n",
       "      <td>2292182.88</td>\n",
       "    </tr>\n",
       "    <tr>\n",
       "      <th>3</th>\n",
       "      <td>2011</td>\n",
       "      <td>8</td>\n",
       "      <td>2800576.17</td>\n",
       "    </tr>\n",
       "    <tr>\n",
       "      <th>4</th>\n",
       "      <td>2011</td>\n",
       "      <td>9</td>\n",
       "      <td>554791.61</td>\n",
       "    </tr>\n",
       "    <tr>\n",
       "      <th>5</th>\n",
       "      <td>2011</td>\n",
       "      <td>10</td>\n",
       "      <td>5156269.53</td>\n",
       "    </tr>\n",
       "    <tr>\n",
       "      <th>6</th>\n",
       "      <td>2011</td>\n",
       "      <td>11</td>\n",
       "      <td>815313.02</td>\n",
       "    </tr>\n",
       "    <tr>\n",
       "      <th>7</th>\n",
       "      <td>2011</td>\n",
       "      <td>12</td>\n",
       "      <td>1462448.90</td>\n",
       "    </tr>\n",
       "    <tr>\n",
       "      <th>8</th>\n",
       "      <td>2012</td>\n",
       "      <td>1</td>\n",
       "      <td>4458337.44</td>\n",
       "    </tr>\n",
       "    <tr>\n",
       "      <th>9</th>\n",
       "      <td>2012</td>\n",
       "      <td>2</td>\n",
       "      <td>1649051.90</td>\n",
       "    </tr>\n",
       "    <tr>\n",
       "      <th>10</th>\n",
       "      <td>2012</td>\n",
       "      <td>3</td>\n",
       "      <td>3336347.47</td>\n",
       "    </tr>\n",
       "    <tr>\n",
       "      <th>11</th>\n",
       "      <td>2012</td>\n",
       "      <td>4</td>\n",
       "      <td>1871923.50</td>\n",
       "    </tr>\n",
       "    <tr>\n",
       "      <th>12</th>\n",
       "      <td>2012</td>\n",
       "      <td>5</td>\n",
       "      <td>3452924.45</td>\n",
       "    </tr>\n",
       "    <tr>\n",
       "      <th>13</th>\n",
       "      <td>2012</td>\n",
       "      <td>6</td>\n",
       "      <td>4610647.22</td>\n",
       "    </tr>\n",
       "    <tr>\n",
       "      <th>14</th>\n",
       "      <td>2012</td>\n",
       "      <td>7</td>\n",
       "      <td>3840231.46</td>\n",
       "    </tr>\n",
       "    <tr>\n",
       "      <th>15</th>\n",
       "      <td>2012</td>\n",
       "      <td>8</td>\n",
       "      <td>2442451.18</td>\n",
       "    </tr>\n",
       "    <tr>\n",
       "      <th>16</th>\n",
       "      <td>2012</td>\n",
       "      <td>9</td>\n",
       "      <td>3881724.19</td>\n",
       "    </tr>\n",
       "    <tr>\n",
       "      <th>17</th>\n",
       "      <td>2012</td>\n",
       "      <td>10</td>\n",
       "      <td>2858060.20</td>\n",
       "    </tr>\n",
       "    <tr>\n",
       "      <th>18</th>\n",
       "      <td>2012</td>\n",
       "      <td>11</td>\n",
       "      <td>2097153.13</td>\n",
       "    </tr>\n",
       "    <tr>\n",
       "      <th>19</th>\n",
       "      <td>2012</td>\n",
       "      <td>12</td>\n",
       "      <td>3176848.17</td>\n",
       "    </tr>\n",
       "    <tr>\n",
       "      <th>20</th>\n",
       "      <td>2013</td>\n",
       "      <td>1</td>\n",
       "      <td>2340061.55</td>\n",
       "    </tr>\n",
       "    <tr>\n",
       "      <th>21</th>\n",
       "      <td>2013</td>\n",
       "      <td>2</td>\n",
       "      <td>2600218.87</td>\n",
       "    </tr>\n",
       "    <tr>\n",
       "      <th>22</th>\n",
       "      <td>2013</td>\n",
       "      <td>3</td>\n",
       "      <td>3831605.94</td>\n",
       "    </tr>\n",
       "    <tr>\n",
       "      <th>23</th>\n",
       "      <td>2013</td>\n",
       "      <td>4</td>\n",
       "      <td>2840711.17</td>\n",
       "    </tr>\n",
       "    <tr>\n",
       "      <th>24</th>\n",
       "      <td>2013</td>\n",
       "      <td>5</td>\n",
       "      <td>3658084.95</td>\n",
       "    </tr>\n",
       "    <tr>\n",
       "      <th>25</th>\n",
       "      <td>2013</td>\n",
       "      <td>6</td>\n",
       "      <td>5726265.26</td>\n",
       "    </tr>\n",
       "    <tr>\n",
       "      <th>26</th>\n",
       "      <td>2013</td>\n",
       "      <td>7</td>\n",
       "      <td>5521840.84</td>\n",
       "    </tr>\n",
       "    <tr>\n",
       "      <th>27</th>\n",
       "      <td>2013</td>\n",
       "      <td>8</td>\n",
       "      <td>3733973.00</td>\n",
       "    </tr>\n",
       "    <tr>\n",
       "      <th>28</th>\n",
       "      <td>2013</td>\n",
       "      <td>9</td>\n",
       "      <td>5083505.34</td>\n",
       "    </tr>\n",
       "    <tr>\n",
       "      <th>29</th>\n",
       "      <td>2013</td>\n",
       "      <td>10</td>\n",
       "      <td>5374375.94</td>\n",
       "    </tr>\n",
       "    <tr>\n",
       "      <th>30</th>\n",
       "      <td>2013</td>\n",
       "      <td>11</td>\n",
       "      <td>3694668.00</td>\n",
       "    </tr>\n",
       "    <tr>\n",
       "      <th>31</th>\n",
       "      <td>2013</td>\n",
       "      <td>12</td>\n",
       "      <td>4560577.10</td>\n",
       "    </tr>\n",
       "    <tr>\n",
       "      <th>32</th>\n",
       "      <td>2014</td>\n",
       "      <td>1</td>\n",
       "      <td>4798027.87</td>\n",
       "    </tr>\n",
       "    <tr>\n",
       "      <th>33</th>\n",
       "      <td>2014</td>\n",
       "      <td>2</td>\n",
       "      <td>1478213.29</td>\n",
       "    </tr>\n",
       "    <tr>\n",
       "      <th>34</th>\n",
       "      <td>2014</td>\n",
       "      <td>3</td>\n",
       "      <td>8097036.31</td>\n",
       "    </tr>\n",
       "    <tr>\n",
       "      <th>35</th>\n",
       "      <td>2014</td>\n",
       "      <td>4</td>\n",
       "      <td>1985886.15</td>\n",
       "    </tr>\n",
       "    <tr>\n",
       "      <th>36</th>\n",
       "      <td>2014</td>\n",
       "      <td>5</td>\n",
       "      <td>6006183.21</td>\n",
       "    </tr>\n",
       "    <tr>\n",
       "      <th>37</th>\n",
       "      <td>2014</td>\n",
       "      <td>6</td>\n",
       "      <td>54151.48</td>\n",
       "    </tr>\n",
       "  </tbody>\n",
       "</table>\n",
       "</div>"
      ],
      "text/plain": [
       "     año  mes     ventas\n",
       "0   2011    5  567020.95\n",
       "1   2011    6  507096.47\n",
       "2   2011    7 2292182.88\n",
       "3   2011    8 2800576.17\n",
       "4   2011    9  554791.61\n",
       "5   2011   10 5156269.53\n",
       "6   2011   11  815313.02\n",
       "7   2011   12 1462448.90\n",
       "8   2012    1 4458337.44\n",
       "9   2012    2 1649051.90\n",
       "10  2012    3 3336347.47\n",
       "11  2012    4 1871923.50\n",
       "12  2012    5 3452924.45\n",
       "13  2012    6 4610647.22\n",
       "14  2012    7 3840231.46\n",
       "15  2012    8 2442451.18\n",
       "16  2012    9 3881724.19\n",
       "17  2012   10 2858060.20\n",
       "18  2012   11 2097153.13\n",
       "19  2012   12 3176848.17\n",
       "20  2013    1 2340061.55\n",
       "21  2013    2 2600218.87\n",
       "22  2013    3 3831605.94\n",
       "23  2013    4 2840711.17\n",
       "24  2013    5 3658084.95\n",
       "25  2013    6 5726265.26\n",
       "26  2013    7 5521840.84\n",
       "27  2013    8 3733973.00\n",
       "28  2013    9 5083505.34\n",
       "29  2013   10 5374375.94\n",
       "30  2013   11 3694668.00\n",
       "31  2013   12 4560577.10\n",
       "32  2014    1 4798027.87\n",
       "33  2014    2 1478213.29\n",
       "34  2014    3 8097036.31\n",
       "35  2014    4 1985886.15\n",
       "36  2014    5 6006183.21\n",
       "37  2014    6   54151.48"
      ]
     },
     "execution_count": 22,
     "metadata": {},
     "output_type": "execute_result"
    }
   ],
   "source": [
    "# Desde el módulo 'sqlalchemy', previamente instalado, importamos la función 'create_engine'\n",
    "from sqlalchemy import create_engine\n",
    "\n",
    "# Crear una cadena de conexión para SQLAlchemy con argumentos:\n",
    "#   - Nombre del servidor \n",
    "#   - Nombre de la BDD\n",
    "#   - Driver\n",
    "conn_str = 'mssql+pyodbc://DESKTOP-QRE2MBQ/AdventureWorks2019?driver=ODBC+Driver+17+for+SQL+Server'\n",
    "\n",
    "# Crear una instancia de motor de SQLAlchemy sólo con la cadena de conexión como argumnento\n",
    "# (obviamos los **kwargs)\n",
    "engine = create_engine(conn_str)\n",
    "\n",
    "# Definir la consulta SQL\n",
    "input_query = '''\n",
    "select\n",
    "    year(t1.OrderDate) as 'año', \n",
    "    month(t1.OrderDate) as 'mes',\n",
    "    sum(t1.TotalDue) as 'ventas'\n",
    "from Sales.SalesOrderHeader as t1\n",
    "    group by year(t1.OrderDate), month(t1.OrderDate) \n",
    "    order by year(t1.OrderDate), month(t1.OrderDate)\n",
    "'''\n",
    "\n",
    "# Ejecutar la consulta y almacenar el resultado en un DataFrame de pandas\n",
    "ventas = pd.read_sql_query(input_query, engine)\n",
    "\n",
    "# Mostrar el DataFrame resultante\n",
    "#print(ventas)\n",
    "ventas\n"
   ]
  },
  {
   "cell_type": "markdown",
   "id": "f0b853a6",
   "metadata": {},
   "source": [
    "### Exploración del dataset extraído (ventas)"
   ]
  },
  {
   "cell_type": "markdown",
   "id": "4f1fc40a-cf45-40e9-9603-7d484f4249ab",
   "metadata": {},
   "source": [
    "- Muestre la información general del dataframe (info):"
   ]
  },
  {
   "cell_type": "code",
   "execution_count": 23,
   "id": "3fa02ca6-461b-4620-bbb8-1a37104e88db",
   "metadata": {},
   "outputs": [
    {
     "name": "stdout",
     "output_type": "stream",
     "text": [
      "<class 'pandas.core.frame.DataFrame'>\n",
      "RangeIndex: 38 entries, 0 to 37\n",
      "Data columns (total 3 columns):\n",
      " #   Column  Non-Null Count  Dtype  \n",
      "---  ------  --------------  -----  \n",
      " 0   año     38 non-null     int64  \n",
      " 1   mes     38 non-null     int64  \n",
      " 2   ventas  38 non-null     float64\n",
      "dtypes: float64(1), int64(2)\n",
      "memory usage: 1.0 KB\n"
     ]
    }
   ],
   "source": [
    "ventas.info()"
   ]
  },
  {
   "cell_type": "markdown",
   "id": "efeec6ef-c877-4eb3-8af1-b94a526f2c0a",
   "metadata": {},
   "source": [
    "- Imprima un resumen de las principales estadisticas descriptivas para el dataframe ventas: count, mean, std, min, 25%,  50%, 75%, max. Explique e interprete la salida. "
   ]
  },
  {
   "cell_type": "code",
   "execution_count": 24,
   "id": "51cf8eb7-ec4f-405f-8010-34d44a8d8c6d",
   "metadata": {},
   "outputs": [
    {
     "data": {
      "text/html": [
       "<div>\n",
       "<style scoped>\n",
       "    .dataframe tbody tr th:only-of-type {\n",
       "        vertical-align: middle;\n",
       "    }\n",
       "\n",
       "    .dataframe tbody tr th {\n",
       "        vertical-align: top;\n",
       "    }\n",
       "\n",
       "    .dataframe thead th {\n",
       "        text-align: right;\n",
       "    }\n",
       "</style>\n",
       "<table border=\"1\" class=\"dataframe\">\n",
       "  <thead>\n",
       "    <tr style=\"text-align: right;\">\n",
       "      <th></th>\n",
       "      <th>año</th>\n",
       "      <th>mes</th>\n",
       "      <th>ventas</th>\n",
       "    </tr>\n",
       "  </thead>\n",
       "  <tbody>\n",
       "    <tr>\n",
       "      <th>count</th>\n",
       "      <td>38.00</td>\n",
       "      <td>38.00</td>\n",
       "      <td>38.00</td>\n",
       "    </tr>\n",
       "    <tr>\n",
       "      <th>mean</th>\n",
       "      <td>2012.42</td>\n",
       "      <td>6.45</td>\n",
       "      <td>3242547.00</td>\n",
       "    </tr>\n",
       "    <tr>\n",
       "      <th>std</th>\n",
       "      <td>1.00</td>\n",
       "      <td>3.41</td>\n",
       "      <td>1787700.91</td>\n",
       "    </tr>\n",
       "    <tr>\n",
       "      <th>min</th>\n",
       "      <td>2011.00</td>\n",
       "      <td>1.00</td>\n",
       "      <td>54151.48</td>\n",
       "    </tr>\n",
       "    <tr>\n",
       "      <th>25%</th>\n",
       "      <td>2012.00</td>\n",
       "      <td>4.00</td>\n",
       "      <td>2013702.89</td>\n",
       "    </tr>\n",
       "    <tr>\n",
       "      <th>50%</th>\n",
       "      <td>2012.00</td>\n",
       "      <td>6.00</td>\n",
       "      <td>3256597.82</td>\n",
       "    </tr>\n",
       "    <tr>\n",
       "      <th>75%</th>\n",
       "      <td>2013.00</td>\n",
       "      <td>9.00</td>\n",
       "      <td>4535017.18</td>\n",
       "    </tr>\n",
       "    <tr>\n",
       "      <th>max</th>\n",
       "      <td>2014.00</td>\n",
       "      <td>12.00</td>\n",
       "      <td>8097036.31</td>\n",
       "    </tr>\n",
       "  </tbody>\n",
       "</table>\n",
       "</div>"
      ],
      "text/plain": [
       "          año   mes     ventas\n",
       "count   38.00 38.00      38.00\n",
       "mean  2012.42  6.45 3242547.00\n",
       "std      1.00  3.41 1787700.91\n",
       "min   2011.00  1.00   54151.48\n",
       "25%   2012.00  4.00 2013702.89\n",
       "50%   2012.00  6.00 3256597.82\n",
       "75%   2013.00  9.00 4535017.18\n",
       "max   2014.00 12.00 8097036.31"
      ]
     },
     "execution_count": 24,
     "metadata": {},
     "output_type": "execute_result"
    }
   ],
   "source": [
    "ventas.describe()"
   ]
  },
  {
   "cell_type": "markdown",
   "id": "0632eb4f",
   "metadata": {},
   "source": [
    "- __count:__\n",
    "    - Cuenta el número de valores no nulos\n",
    "        - __38 registros__ para todas las columnas('año', 'mes' y 'ventas').\n",
    "\n",
    "- __mean:__\n",
    "    - Calcula la media aritmética de las ventas por columna\n",
    "        - __año: 2012.42__ (mediados del 2012)\n",
    "        - __mes: 6.45__ (mediados de Junio)\n",
    "        - __ventas: 3.242.547,00__(M)(total de la media)\n",
    "\n",
    "- __std (standard deviation):__\n",
    "    - Calcula la desviación estándar, que mide la dispersión de las ventas respecto a su media\n",
    "        - __año: 1.00 año__ por abajo(2011.42) y por arriba(2013.42) sobre la media: 2012.42\n",
    "            - Entre __2011 y 2013__ (rango de años en torno al año de la media)\n",
    "\n",
    "        - __mes: 3.41 meses__ por abajo(3.04: principios Marzo) y por arriba(9.86: finales Septiembre) sobre la media: 6.45\n",
    "            - Entre __principios de Marzo y finales de Septiembre__ (rango de meses en torno a los mese de la media)\n",
    "            \n",
    "        - __ventas: 1.787.700,91(M)__ por debajo(1.454.846,09(M)) y por encima(5.030.247,91(M)) sobre la media: 3.242.547,00(M)\n",
    "            - Entre __1.454.846,09(M) y 5.030.247,91(M)__ (rango para el total de ventas)\n",
    "\n",
    "- __min:__\n",
    "    - Encuentra el valor mínimo en las ventas por columna\n",
    "        - __año: 2011.00__ Año del valor mínimo\n",
    "        - __mes: 1.00__ Mes del valor mínimo: Enero\n",
    "        - __ventas: 54.151,48(K)__ Total mínimo de las ventas para año y mes anteriores\n",
    "\n",
    "- __25% (first quartile/Q1):__\n",
    "    - Encuentra el primer cuartil, que es el valor debajo del cual se encuentra el 25% de los datos.\n",
    "        - __año: 2012.00__ Por debajo del año 2012 se encuentra el 25% de las ventas\t\n",
    "        - __mes: 4.00__ Hasta el cuarto mes(Abril) se encuentra el 25% de las ventas\n",
    "        - __ventas: 2.013.702,89(M)__ Hasta 2.013.702,89, se encuentra el 25% del total de las ventas\n",
    "\n",
    "- __50% (median):__\n",
    "    - Encuentra la mediana, que es el valor medio de los datos ordenados.\n",
    "        - __año: 2012.00__ Año que divide el número de ventas a la mitad\n",
    "        - __mes: 6.00__ Mes que divide el número de ventas a la mitad(Junio)\n",
    "        - __ventas: 3.256.597,82(M)__ Cantidad total que divide el total a la mitad\n",
    "\n",
    "- __75% (third quartile/Q3):__\n",
    "    - Encuentra el tercer cuartil, que es el valor debajo del cual se encuentra el 75% de las ventas.\n",
    "        - __año: 2013.00__ Por debajo del año 2013 se encuentran el 75% de las ventas\n",
    "        - __mes: 9.00__ Por debajo del mes de Septiembre se encuentran el 75% de las ventas\n",
    "        - __ventas: 4.535.017,18(M)__ Por debajo de 4.535.017,18 se tenemos el 75% del total de las ventas\n",
    "\n",
    "- __max:__\n",
    "    - Encuentra el valor máximo en los datos.\n",
    "        - __año: 2014.00__\tAño en el que se encuentra el mayor número de ventas\n",
    "        - __mes: 12.00__ Mes en el que se encuentra el valor máximo de ventas(Diciembre) \n",
    "        - __ventas: 8.097.036,31(M)__ Total de ventas máximo\n"
   ]
  },
  {
   "cell_type": "markdown",
   "id": "4c9d4057",
   "metadata": {},
   "source": [
    "- Mostrar las dimensiones del dataset"
   ]
  },
  {
   "cell_type": "code",
   "execution_count": 25,
   "id": "75770ef7-8983-46ff-8bf8-78bedfd5a4e3",
   "metadata": {},
   "outputs": [
    {
     "name": "stdout",
     "output_type": "stream",
     "text": [
      "Dimensiones del DataFrame: (38, 3)\n"
     ]
    }
   ],
   "source": [
    "print(f\"Dimensiones del DataFrame: {ventas.shape}\")"
   ]
  },
  {
   "cell_type": "code",
   "execution_count": 26,
   "id": "87ac2e47",
   "metadata": {},
   "outputs": [
    {
     "data": {
      "text/plain": [
       "(38, 3)"
      ]
     },
     "execution_count": 26,
     "metadata": {},
     "output_type": "execute_result"
    }
   ],
   "source": [
    "ventas.shape"
   ]
  },
  {
   "cell_type": "markdown",
   "id": "bca68806-3b0f-4901-b6c7-726f0fd9325d",
   "metadata": {},
   "source": [
    "- Imprimir en un objeto tipo Index todas las columnas del dataframe"
   ]
  },
  {
   "cell_type": "code",
   "execution_count": 27,
   "id": "831aa235-bca9-45fa-a769-872fb3b1d307",
   "metadata": {},
   "outputs": [
    {
     "name": "stdout",
     "output_type": "stream",
     "text": [
      "Columnas del DataFrame: Index(['año', 'mes', 'ventas'], dtype='object')\n"
     ]
    }
   ],
   "source": [
    "print(\"Columnas del DataFrame:\", ventas.columns)"
   ]
  },
  {
   "cell_type": "markdown",
   "id": "f9eaa9b4-86cc-446b-8666-b53af01e4cac",
   "metadata": {},
   "source": [
    "- Muestre el contenido de las primeras 15 líneas del dataframe"
   ]
  },
  {
   "cell_type": "code",
   "execution_count": 28,
   "id": "10ff1751-8639-4a88-ba8b-a61b9d4858f0",
   "metadata": {},
   "outputs": [
    {
     "data": {
      "text/html": [
       "<div>\n",
       "<style scoped>\n",
       "    .dataframe tbody tr th:only-of-type {\n",
       "        vertical-align: middle;\n",
       "    }\n",
       "\n",
       "    .dataframe tbody tr th {\n",
       "        vertical-align: top;\n",
       "    }\n",
       "\n",
       "    .dataframe thead th {\n",
       "        text-align: right;\n",
       "    }\n",
       "</style>\n",
       "<table border=\"1\" class=\"dataframe\">\n",
       "  <thead>\n",
       "    <tr style=\"text-align: right;\">\n",
       "      <th></th>\n",
       "      <th>año</th>\n",
       "      <th>mes</th>\n",
       "      <th>ventas</th>\n",
       "    </tr>\n",
       "  </thead>\n",
       "  <tbody>\n",
       "    <tr>\n",
       "      <th>0</th>\n",
       "      <td>2011</td>\n",
       "      <td>5</td>\n",
       "      <td>567020.95</td>\n",
       "    </tr>\n",
       "    <tr>\n",
       "      <th>1</th>\n",
       "      <td>2011</td>\n",
       "      <td>6</td>\n",
       "      <td>507096.47</td>\n",
       "    </tr>\n",
       "    <tr>\n",
       "      <th>2</th>\n",
       "      <td>2011</td>\n",
       "      <td>7</td>\n",
       "      <td>2292182.88</td>\n",
       "    </tr>\n",
       "    <tr>\n",
       "      <th>3</th>\n",
       "      <td>2011</td>\n",
       "      <td>8</td>\n",
       "      <td>2800576.17</td>\n",
       "    </tr>\n",
       "    <tr>\n",
       "      <th>4</th>\n",
       "      <td>2011</td>\n",
       "      <td>9</td>\n",
       "      <td>554791.61</td>\n",
       "    </tr>\n",
       "    <tr>\n",
       "      <th>5</th>\n",
       "      <td>2011</td>\n",
       "      <td>10</td>\n",
       "      <td>5156269.53</td>\n",
       "    </tr>\n",
       "    <tr>\n",
       "      <th>6</th>\n",
       "      <td>2011</td>\n",
       "      <td>11</td>\n",
       "      <td>815313.02</td>\n",
       "    </tr>\n",
       "    <tr>\n",
       "      <th>7</th>\n",
       "      <td>2011</td>\n",
       "      <td>12</td>\n",
       "      <td>1462448.90</td>\n",
       "    </tr>\n",
       "    <tr>\n",
       "      <th>8</th>\n",
       "      <td>2012</td>\n",
       "      <td>1</td>\n",
       "      <td>4458337.44</td>\n",
       "    </tr>\n",
       "    <tr>\n",
       "      <th>9</th>\n",
       "      <td>2012</td>\n",
       "      <td>2</td>\n",
       "      <td>1649051.90</td>\n",
       "    </tr>\n",
       "    <tr>\n",
       "      <th>10</th>\n",
       "      <td>2012</td>\n",
       "      <td>3</td>\n",
       "      <td>3336347.47</td>\n",
       "    </tr>\n",
       "    <tr>\n",
       "      <th>11</th>\n",
       "      <td>2012</td>\n",
       "      <td>4</td>\n",
       "      <td>1871923.50</td>\n",
       "    </tr>\n",
       "    <tr>\n",
       "      <th>12</th>\n",
       "      <td>2012</td>\n",
       "      <td>5</td>\n",
       "      <td>3452924.45</td>\n",
       "    </tr>\n",
       "    <tr>\n",
       "      <th>13</th>\n",
       "      <td>2012</td>\n",
       "      <td>6</td>\n",
       "      <td>4610647.22</td>\n",
       "    </tr>\n",
       "    <tr>\n",
       "      <th>14</th>\n",
       "      <td>2012</td>\n",
       "      <td>7</td>\n",
       "      <td>3840231.46</td>\n",
       "    </tr>\n",
       "  </tbody>\n",
       "</table>\n",
       "</div>"
      ],
      "text/plain": [
       "     año  mes     ventas\n",
       "0   2011    5  567020.95\n",
       "1   2011    6  507096.47\n",
       "2   2011    7 2292182.88\n",
       "3   2011    8 2800576.17\n",
       "4   2011    9  554791.61\n",
       "5   2011   10 5156269.53\n",
       "6   2011   11  815313.02\n",
       "7   2011   12 1462448.90\n",
       "8   2012    1 4458337.44\n",
       "9   2012    2 1649051.90\n",
       "10  2012    3 3336347.47\n",
       "11  2012    4 1871923.50\n",
       "12  2012    5 3452924.45\n",
       "13  2012    6 4610647.22\n",
       "14  2012    7 3840231.46"
      ]
     },
     "execution_count": 28,
     "metadata": {},
     "output_type": "execute_result"
    }
   ],
   "source": [
    "ventas.head(15)"
   ]
  },
  {
   "cell_type": "markdown",
   "id": "901cb91c-e275-46b8-9953-8f9f012ec6f2",
   "metadata": {},
   "source": [
    "- Muestre las últimas cinco líneas del dataframe"
   ]
  },
  {
   "cell_type": "code",
   "execution_count": 29,
   "id": "8ac42a65-3500-411d-9c35-1950327a956d",
   "metadata": {},
   "outputs": [
    {
     "data": {
      "text/html": [
       "<div>\n",
       "<style scoped>\n",
       "    .dataframe tbody tr th:only-of-type {\n",
       "        vertical-align: middle;\n",
       "    }\n",
       "\n",
       "    .dataframe tbody tr th {\n",
       "        vertical-align: top;\n",
       "    }\n",
       "\n",
       "    .dataframe thead th {\n",
       "        text-align: right;\n",
       "    }\n",
       "</style>\n",
       "<table border=\"1\" class=\"dataframe\">\n",
       "  <thead>\n",
       "    <tr style=\"text-align: right;\">\n",
       "      <th></th>\n",
       "      <th>año</th>\n",
       "      <th>mes</th>\n",
       "      <th>ventas</th>\n",
       "    </tr>\n",
       "  </thead>\n",
       "  <tbody>\n",
       "    <tr>\n",
       "      <th>33</th>\n",
       "      <td>2014</td>\n",
       "      <td>2</td>\n",
       "      <td>1478213.29</td>\n",
       "    </tr>\n",
       "    <tr>\n",
       "      <th>34</th>\n",
       "      <td>2014</td>\n",
       "      <td>3</td>\n",
       "      <td>8097036.31</td>\n",
       "    </tr>\n",
       "    <tr>\n",
       "      <th>35</th>\n",
       "      <td>2014</td>\n",
       "      <td>4</td>\n",
       "      <td>1985886.15</td>\n",
       "    </tr>\n",
       "    <tr>\n",
       "      <th>36</th>\n",
       "      <td>2014</td>\n",
       "      <td>5</td>\n",
       "      <td>6006183.21</td>\n",
       "    </tr>\n",
       "    <tr>\n",
       "      <th>37</th>\n",
       "      <td>2014</td>\n",
       "      <td>6</td>\n",
       "      <td>54151.48</td>\n",
       "    </tr>\n",
       "  </tbody>\n",
       "</table>\n",
       "</div>"
      ],
      "text/plain": [
       "     año  mes     ventas\n",
       "33  2014    2 1478213.29\n",
       "34  2014    3 8097036.31\n",
       "35  2014    4 1985886.15\n",
       "36  2014    5 6006183.21\n",
       "37  2014    6   54151.48"
      ]
     },
     "execution_count": 29,
     "metadata": {},
     "output_type": "execute_result"
    }
   ],
   "source": [
    "ventas.tail(5)"
   ]
  },
  {
   "cell_type": "markdown",
   "id": "143fd4d2-0779-4aa5-a7a1-31c5d54036d2",
   "metadata": {},
   "source": [
    "- Calcule Correlaciones y Covarianzas. Explicar resultados"
   ]
  },
  {
   "cell_type": "code",
   "execution_count": 30,
   "id": "e7bd609b-aaac-44d1-b008-6572c973ff96",
   "metadata": {},
   "outputs": [
    {
     "name": "stdout",
     "output_type": "stream",
     "text": [
      "Matriz de correlación:\n",
      "          año   mes  ventas\n",
      "año     1.00 -0.40    0.42\n",
      "mes    -0.40  1.00   -0.04\n",
      "ventas  0.42 -0.04    1.00\n",
      "\n",
      "Matriz de covarianza:\n",
      "              año        mes           ventas\n",
      "año         1.01      -1.38        750498.19\n",
      "mes        -1.38      11.66       -241446.93\n",
      "ventas 750498.19 -241446.93 3195874540096.30\n"
     ]
    }
   ],
   "source": [
    "# Matriz de CORRELACIÓN\n",
    "correlaciones = ventas.corr()\n",
    "print(\"Matriz de correlación:\\n\", correlaciones)\n",
    "print(\"\")\n",
    "# Matriz de COVARIANZA\n",
    "covarianzas = ventas.cov()\n",
    "print(\"Matriz de covarianza:\\n\", covarianzas)"
   ]
  },
  {
   "cell_type": "markdown",
   "id": "09352e20",
   "metadata": {},
   "source": [
    "¿Qué nos dice la `Correlación`?:\n",
    "- Entre las columnas __'año'__ y __'mes'__ existe una correlación de __-0.40__ (moderada negativa)\n",
    "    - A medida que avanzan los años, los meses decrecen -> en los últimos años las ventas se concentran en los primeros meses\n",
    "- Entre las columnas __'año'__ y __'ventas'__ existe una correlación de __0.42__ (moderada positiva)\n",
    "    - A medida que avanzan los años, aumentan el total en unidad de moneda\n",
    "- Entre las columnas __'mes'__ y __'ventas'__ existe una correlación de __-0.04__ (cuasi perfecta sin correlación)\n",
    "    - Existe una relación casi nula entre ambas columnas\n",
    "\n",
    "¿Qué nos dice la `Covarianza`?:\n",
    "- Entre las columnas __'año'__ y __'mes'__ existe una covarianza de __-1.38__ (moderada negativa)\n",
    "    - A medida que avanza el año, disminuye el total(unidades de moneda) de ventas en el mes\n",
    "- Entre las columnas __'año'__ y __'ventas'__ existe una covarianza de __750.498,19__ (muy positiva)\n",
    "    - A medida que avanzan los años, aumenta el total en unidades de moneda\n",
    "- Entre las columnas __'mes'__ y __'ventas'__ existe una covarianza de __-241.446,93__ (muy negativa)\n",
    "    - A medida que __avanzan__ los __meses__, __disminuye__ el total en unidades de moneda\n",
    "    [Como se ha comentado, podría indicar que en los últimos años las mayores ventas se obtienen a principios de año]"
   ]
  },
  {
   "cell_type": "markdown",
   "id": "5b4bc3ae",
   "metadata": {},
   "source": [
    "## Visualización gráfica de los datos"
   ]
  },
  {
   "cell_type": "markdown",
   "id": "e6947453",
   "metadata": {},
   "source": [
    "### Gráfico de barras de las ventas por mes"
   ]
  },
  {
   "cell_type": "markdown",
   "id": "39116fc4",
   "metadata": {},
   "source": [
    "Se realiza una exploración visual de curva que dibuja las ventas agrupadas por mes."
   ]
  },
  {
   "cell_type": "markdown",
   "id": "65fc915b-91f5-4439-9595-ddf3f30a0625",
   "metadata": {},
   "source": [
    "- Explique línea por línea el siguiente código:"
   ]
  },
  {
   "cell_type": "code",
   "execution_count": 31,
   "id": "4bc6103d",
   "metadata": {},
   "outputs": [
    {
     "data": {
      "image/png": "[encoded data removed]",
      "text/plain": [
       "<Figure size 1200x800 with 1 Axes>"
      ]
     },
     "metadata": {},
     "output_type": "display_data"
    }
   ],
   "source": [
    "# Agrupa el DataFrame 'ventas' por la columna 'mes' -> ventas.groupby('mes')\n",
    "# Sumando los valores de la columna ventas para cada grupo(mes) -> 'ventas'].sum()\n",
    "# Restablece el índice del DataFrame resultante para convertir los índices de los grupos en columnas normales -> .reset_index()\n",
    "# El resultado es un nuevo DataFrame 'ventas_por_mes' con dos columnas: mes y ventas.\n",
    "ventas_por_mes = ventas.groupby('mes')['ventas'].sum().reset_index()\n",
    "\n",
    "# Llamada función barplot de seaborn para crear un gráfico de barras -> sns.barplot\n",
    "# Variable representada en el eje x -> x='mes'\n",
    "# Variable representada en el eje y -> y='ventas'\n",
    "# DataFrame ventas_por_mes como fuente de datos para el gráfico -> data=ventas_por_mes\n",
    "sns.barplot(x='mes', y='ventas', data=ventas_por_mes)\n",
    "# Establecimiento de título para el gráfico\n",
    "plt.title('Ventas por mes')\n",
    "# Impresión del gráfico\n",
    "plt.show()"
   ]
  },
  {
   "cell_type": "code",
   "execution_count": 58,
   "id": "a4b29dd1",
   "metadata": {},
   "outputs": [
    {
     "data": {
      "text/html": [
       "<div>\n",
       "<style scoped>\n",
       "    .dataframe tbody tr th:only-of-type {\n",
       "        vertical-align: middle;\n",
       "    }\n",
       "\n",
       "    .dataframe tbody tr th {\n",
       "        vertical-align: top;\n",
       "    }\n",
       "\n",
       "    .dataframe thead th {\n",
       "        text-align: right;\n",
       "    }\n",
       "</style>\n",
       "<table border=\"1\" class=\"dataframe\">\n",
       "  <thead>\n",
       "    <tr style=\"text-align: right;\">\n",
       "      <th></th>\n",
       "      <th>mes</th>\n",
       "      <th>ventas</th>\n",
       "    </tr>\n",
       "  </thead>\n",
       "  <tbody>\n",
       "    <tr>\n",
       "      <th>0</th>\n",
       "      <td>1</td>\n",
       "      <td>11596426.87</td>\n",
       "    </tr>\n",
       "    <tr>\n",
       "      <th>1</th>\n",
       "      <td>2</td>\n",
       "      <td>5727484.06</td>\n",
       "    </tr>\n",
       "    <tr>\n",
       "      <th>2</th>\n",
       "      <td>3</td>\n",
       "      <td>15264989.72</td>\n",
       "    </tr>\n",
       "    <tr>\n",
       "      <th>3</th>\n",
       "      <td>4</td>\n",
       "      <td>6698520.83</td>\n",
       "    </tr>\n",
       "    <tr>\n",
       "      <th>4</th>\n",
       "      <td>5</td>\n",
       "      <td>13684213.56</td>\n",
       "    </tr>\n",
       "    <tr>\n",
       "      <th>5</th>\n",
       "      <td>6</td>\n",
       "      <td>10898160.43</td>\n",
       "    </tr>\n",
       "    <tr>\n",
       "      <th>6</th>\n",
       "      <td>7</td>\n",
       "      <td>11654255.19</td>\n",
       "    </tr>\n",
       "    <tr>\n",
       "      <th>7</th>\n",
       "      <td>8</td>\n",
       "      <td>8977000.36</td>\n",
       "    </tr>\n",
       "    <tr>\n",
       "      <th>8</th>\n",
       "      <td>9</td>\n",
       "      <td>9520021.13</td>\n",
       "    </tr>\n",
       "    <tr>\n",
       "      <th>9</th>\n",
       "      <td>10</td>\n",
       "      <td>13388705.67</td>\n",
       "    </tr>\n",
       "    <tr>\n",
       "      <th>10</th>\n",
       "      <td>11</td>\n",
       "      <td>6607134.14</td>\n",
       "    </tr>\n",
       "    <tr>\n",
       "      <th>11</th>\n",
       "      <td>12</td>\n",
       "      <td>9199874.16</td>\n",
       "    </tr>\n",
       "  </tbody>\n",
       "</table>\n",
       "</div>"
      ],
      "text/plain": [
       "    mes      ventas\n",
       "0     1 11596426.87\n",
       "1     2  5727484.06\n",
       "2     3 15264989.72\n",
       "3     4  6698520.83\n",
       "4     5 13684213.56\n",
       "5     6 10898160.43\n",
       "6     7 11654255.19\n",
       "7     8  8977000.36\n",
       "8     9  9520021.13\n",
       "9    10 13388705.67\n",
       "10   11  6607134.14\n",
       "11   12  9199874.16"
      ]
     },
     "execution_count": 58,
     "metadata": {},
     "output_type": "execute_result"
    }
   ],
   "source": [
    "ventas_por_mes"
   ]
  },
  {
   "cell_type": "markdown",
   "id": "517fe194-a7cb-4a70-8445-21222ab0ac17",
   "metadata": {},
   "source": [
    "- Interpretar o explicar lo que el gráfico de arriba 'esta diciendo'."
   ]
  },
  {
   "cell_type": "markdown",
   "id": "6f0eeadd",
   "metadata": {},
   "source": [
    "- Los meses centrales Mayo, Junio y Julio mantienen un buen nivel de ventas\n",
    "\n",
    "- Meses con Ventas Más Altas:\n",
    "    - Marzo (3): $15,264,989.72\n",
    "    - Mayo (5): $13,684,213.56\n",
    "    - Octubre (10): $13,388,705.67\n",
    "    - Estos meses tienen las ventas más altas del año. Marzo es particularmente notable con ventas significativamente superiores a otros meses.\n",
    "\n",
    "- Meses con Ventas Más Bajas:\n",
    "    - Febrero (2): $5,727,484.06\n",
    "    - Abril (4): $6,698,520.83\n",
    "    - Noviembre (11): $6,607,134.14\n",
    "    - Estos meses presentan las ventas más bajas del año. Febrero es el mes con las ventas más bajas, seguido de abril y noviembre.\n",
    "\n",
    "- Variabilidad de Ventas:\n",
    "    - Las ventas mensuales varían significativamente a lo largo del año, con un rango desde aproximadamente $5.7 millones hasta $15.3 millones.\n",
    "\n",
    "- Meses con Ventas Moderadas:\n",
    "    - Enero (1): $11,596,426.87\n",
    "    - Junio (6): $10,898,160.43\n",
    "    - Julio (7): $11,654,255.19\n",
    "    - Agosto (8): $8,977,000.36\n",
    "    - Septiembre (9): $9,520,021.13\n",
    "    - Diciembre (12): $9,199,874.16\n",
    "    - Estos meses presentan ventas moderadas, situándose entre los valores más altos y más bajos."
   ]
  },
  {
   "cell_type": "markdown",
   "id": "fd85d5fb",
   "metadata": {},
   "source": [
    "### Gráfico de línea de las ventas por año"
   ]
  },
  {
   "cell_type": "markdown",
   "id": "d49f891b",
   "metadata": {},
   "source": [
    "Se observa la curva que dibuja la evolución de las ventas agrupadas por año."
   ]
  },
  {
   "cell_type": "markdown",
   "id": "b0ac39e8-3bdc-4e0f-b2dc-bf74d7408dfe",
   "metadata": {},
   "source": [
    "- Explique línea por línea el siguiente código:"
   ]
  },
  {
   "cell_type": "code",
   "execution_count": 32,
   "id": "edf27161",
   "metadata": {},
   "outputs": [
    {
     "data": {
      "image/png": "[encoded data removed]",
      "text/plain": [
       "<Figure size 1200x800 with 1 Axes>"
      ]
     },
     "metadata": {},
     "output_type": "display_data"
    }
   ],
   "source": [
    "# Variable 'ventas_por_año = ': \n",
    "    # ventas.groupby('año'): objeto 'GroupBy' que agrupa los datos del DataFrame ventas por la columna 'año'.     \n",
    "    # ['ventas'].sum(): ventas totales por año\n",
    "    # reset_index(): restablecemos el índice en la 'Serie' convertida a 'DataFrame' de ventas totales por año.\n",
    "ventas_por_año = ventas.groupby('año')['ventas'].sum().reset_index()\n",
    "\n",
    "# Función plot de matplotlib para crear una gráfica de línea.\n",
    "    # ventas_por_año['año']: columna 'año' del DataFrame ventas_por_año como eje x de la gráfica.\n",
    "    # ventas_por_año['ventas']: columna 'ventas' del DataFrame ventas_por_año como eje y de la gráfica.\n",
    "plt.plot(ventas_por_año['año'], ventas_por_año['ventas'])\n",
    "# Establecemos el título de la gráfica\n",
    "plt.title('Ventas por año')\n",
    "# Establemos la etiqueta al eje X\n",
    "plt.xlabel('Año')\n",
    "# Establemos la etiqueta al eje Y\n",
    "plt.ylabel('Ventas')\n",
    "# Visualización de la gráfica por pantalla\n",
    "plt.show()"
   ]
  },
  {
   "cell_type": "markdown",
   "id": "811b0d40-3adb-4560-9df1-7427875218c0",
   "metadata": {},
   "source": [
    "- Interpretar o explicar lo que el gráfico de arriba 'esta diciendo'."
   ]
  },
  {
   "cell_type": "markdown",
   "id": "3a4a5216",
   "metadata": {},
   "source": [
    "La gráfica ofrece 2 fases:\n",
    "- __FASE 1__:\n",
    "    - __Subfase 1.1__: \n",
    "        - __2011.0 -> 2012.0__: el __aumento__ de las ventas pasa de algo menos de __1.5M__ de unidades de moneda a más de __3.5M__ con un crecimiento exponencial\n",
    "    - __Subfase 1.2__: \n",
    "        - __2012.0 -> 2013.0__: el __aumento__ de las ventas pasa de algo más de __3.5M__ de unidades de moneda a algo menos de __5.0M__ con un crecimiento notable, aunque algo menor que la subfase anterior\n",
    "- __FASE 2__:\n",
    "    - __2013.0 -> 2014.0__: __descenso__ de las ventas desde algo menos de __5.0M__ de unidades de moneda hasta caer por debajo de __2.5M__ con un decrecimiento exponencial"
   ]
  },
  {
   "cell_type": "markdown",
   "id": "8196accf",
   "metadata": {},
   "source": [
    "### Prueba formal: Prueba de tendencia"
   ]
  },
  {
   "cell_type": "markdown",
   "id": "f8df1a03",
   "metadata": {},
   "source": [
    "Existen diferentes métodos para realizar el análisis de tendencia, pero uno de los más utilizados es la `regresión lineal`. La regresión lineal es una técnica estadística que se utiliza para encontrar la relación entre una variable dependiente (por ejemplo, el precio de una acción) y una o más variables independientes (por ejemplo, el tiempo).\n",
    "\n",
    "Se realiza una prueba de tendencia utilizando la función linregress de la biblioteca scipy.stats. Esta función calcula la `pendiente` de una línea de regresión lineal y el valor `p` asociado, que indica la probabilidad de que la pendiente sea cero. Si el valor `p` es menor que `0,05`, se concluye que hay evidencia de una tendencia significativa en los datos."
   ]
  },
  {
   "cell_type": "markdown",
   "id": "90201e80-9a7c-41b1-8b59-cd6bfbc3f03a",
   "metadata": {},
   "source": [
    "- Explicar el siguiente código:"
   ]
  },
  {
   "cell_type": "code",
   "execution_count": 33,
   "id": "21fb6ea8",
   "metadata": {},
   "outputs": [
    {
     "name": "stdout",
     "output_type": "stream",
     "text": [
      "Pendiente:  745198.0612926556\n",
      "Valor p:  0.008957361661882999\n",
      "La tendencia es significativa\n"
     ]
    }
   ],
   "source": [
    "# Importación de la función 'linregress' del módulo 'scipy.stats'\n",
    "# Se utiliza para realizar una regresión lineal simple, \n",
    "# que calcula la línea de mejor ajuste para un conjunto de datos\n",
    "from scipy.stats import linregress\n",
    "\n",
    "# Llamada a la función linregress pasando dos series de datos: \n",
    "# los valores de la columna 'año' y los valores de la columna 'ventas' del DataFrame ventas:\n",
    "#   - ventas['año']: valores de la variable independiente (eje x)\n",
    "#   - ventas['ventas']: valores de la variable dependiente (eje y)\n",
    "\n",
    "# slope, intercept, r_value, p_value, std_err: La función linregress devuelve cinco valores:\n",
    "#   - slope: Pendiente de la línea de regresión, que indica el cambio en la variable dependiente (ventas) \n",
    "#            por cada unidad de cambio en la variable independiente (año).\n",
    "#   - intercept: Intersección de la línea de regresión con el eje y, que es el valor de las ventas cuando el año es cero.\n",
    "#   - r_value: Coeficiente de correlación, que mide la fuerza y la dirección de la relación lineal entre las dos variables.\n",
    "#   - p_value: Valor p, que indica la probabilidad de obtener un coeficiente de regresión al menos tan extremo \n",
    "#              como el observado si la hipótesis nula es cierta (es decir, si no hay relación lineal).\n",
    "#   - std_err: Error estándar de la pendiente, que mide la precisión de la estimación de la pendiente.\n",
    "slope, intercept, r_value, p_value, std_err = linregress(ventas['año'], ventas['ventas'])\n",
    "\n",
    "# Variables\n",
    "#   - 'Pendiente' de la línea de regresión\n",
    "#   - 'Probabilidad' de que no haya relación líneal\n",
    "print('Pendiente: ', slope)\n",
    "print('Valor p: ', p_value)\n",
    "# Mensaje informativo\n",
    "if p_value < 0.05:\n",
    "    print('La tendencia es significativa')\n",
    "else:\n",
    "    print('No hay evidencia de tendencia significativa')"
   ]
  },
  {
   "cell_type": "markdown",
   "id": "d48ee46b",
   "metadata": {},
   "source": [
    "## Conclusiones"
   ]
  },
  {
   "cell_type": "markdown",
   "id": "17fd1682",
   "metadata": {},
   "source": [
    "Luego del análisis realizado se puede concluir que la *pendiente* de **745198.0612926556** indica que hay un aumento en las ventas por año en la base de datos AdventureWorks2019. Es decir, en promedio, las ventas están aumentando en **745198.06 unidades por año**.\n",
    "\n",
    "El *valor p* de **0.008957361661882999** indica que la probabilidad de obtener una pendiente tan grande como la observada en los datos si la pendiente real es cero es de aproximadamente **0.9%**. Como este valor p es menor que el nivel de significancia comúnmente utilizado de *0.05*, se concluye que hay evidencia suficiente para afirmar que hay una tendencia significativa en los datos.\n",
    "\n",
    "***Por lo tanto, se puede afirmar que las ventas de AdventureWorks2019 están aumentando significativamente con el tiempo.***"
   ]
  },
  {
   "cell_type": "markdown",
   "id": "52fd71a6",
   "metadata": {},
   "source": [
    "## Recomendaciones"
   ]
  },
  {
   "cell_type": "markdown",
   "id": "cf9529d0",
   "metadata": {},
   "source": [
    "Dado que las ventas están aumentando significativamente con el tiempo, una recomendación para la empresa podría ser continuar invirtiendo en áreas clave para mantener esta tendencia positiva. Por ejemplo, la empresa podría considerar:\n",
    "\n",
    "* *Mejorar el marketing*: la empresa podría invertir en esfuerzos de marketing para aumentar la conciencia de marca y atraer a más clientes potenciales.\n",
    "\n",
    "* *Expandir la oferta de productos*: si la empresa ve un aumento en las ventas en ciertas categorías de productos, podría considerar expandir su oferta en esas áreas para aprovechar esa tendencia.\n",
    "\n",
    "* *Optimizar la cadena de suministro*: si la empresa ve una tendencia a largo plazo de aumento en las ventas, podría considerar optimizar su cadena de suministro para garantizar que pueda satisfacer la demanda futura y mantener su nivel de servicio al cliente.\n",
    "\n",
    "* *Fomentar la fidelidad del cliente*: la empresa podría implementar programas de lealtad para fomentar la fidelidad del cliente y aumentar la retención.\n",
    "\n",
    "* *Explorar nuevos canales de venta*: la empresa podría considerar expandir su presencia en línea o abrir nuevas tiendas para aprovechar la tendencia positiva en las ventas.\n",
    "\n",
    "En general, la recomendación sería que la empresa mantenga un enfoque en la comprensión y la satisfacción de las necesidades de sus clientes, así como en la eficiencia operativa, a medida que busca capitalizar en la tendencia positiva en las ventas."
   ]
  },
  {
   "cell_type": "markdown",
   "id": "28e61805-e1bc-4a01-9040-2cfe6d094ec1",
   "metadata": {},
   "source": [
    "- Efectuar nuevas consultas sql (desde **Azure Data Studio** o desde **SQL Server Managment Studio**).  Suponga que aún no le han informado del objetivo negocio, por lo tanto debe en primer lugar entender los datos que tiene. Explorar los datos que tienes en la misma base de datos **AdventureWorks2019** y ver que información relevante y de utilidad se puede extraer de allí. Guardar la(s) query(s) final(es) y luego pasarlo a `SQLALchemy` para obtener un dataframe final sobre el cual vas a realizar análisis descriptivos (con pandas) como los efectuados en el caso expuesto arriba. Los plots son opcionales. Elaborar conclusiones y recomendaciones sobre el potencial de tus resultados.   "
   ]
  },
  {
   "cell_type": "markdown",
   "id": "490a01c5",
   "metadata": {},
   "source": [
    "1. Total de Ventas"
   ]
  },
  {
   "cell_type": "code",
   "execution_count": 36,
   "id": "26d00183-6058-42c5-b9d0-a211349690a8",
   "metadata": {},
   "outputs": [
    {
     "data": {
      "text/html": [
       "<div>\n",
       "<style scoped>\n",
       "    .dataframe tbody tr th:only-of-type {\n",
       "        vertical-align: middle;\n",
       "    }\n",
       "\n",
       "    .dataframe tbody tr th {\n",
       "        vertical-align: top;\n",
       "    }\n",
       "\n",
       "    .dataframe thead th {\n",
       "        text-align: right;\n",
       "    }\n",
       "</style>\n",
       "<table border=\"1\" class=\"dataframe\">\n",
       "  <thead>\n",
       "    <tr style=\"text-align: right;\">\n",
       "      <th></th>\n",
       "      <th>Año</th>\n",
       "      <th>TotalVentas</th>\n",
       "    </tr>\n",
       "  </thead>\n",
       "  <tbody>\n",
       "    <tr>\n",
       "      <th>0</th>\n",
       "      <td>2011</td>\n",
       "      <td>14155699.53</td>\n",
       "    </tr>\n",
       "    <tr>\n",
       "      <th>1</th>\n",
       "      <td>2012</td>\n",
       "      <td>37675700.31</td>\n",
       "    </tr>\n",
       "    <tr>\n",
       "      <th>2</th>\n",
       "      <td>2013</td>\n",
       "      <td>48965887.96</td>\n",
       "    </tr>\n",
       "    <tr>\n",
       "      <th>3</th>\n",
       "      <td>2014</td>\n",
       "      <td>22419498.32</td>\n",
       "    </tr>\n",
       "  </tbody>\n",
       "</table>\n",
       "</div>"
      ],
      "text/plain": [
       "    Año  TotalVentas\n",
       "0  2011  14155699.53\n",
       "1  2012  37675700.31\n",
       "2  2013  48965887.96\n",
       "3  2014  22419498.32"
      ]
     },
     "execution_count": 36,
     "metadata": {},
     "output_type": "execute_result"
    }
   ],
   "source": [
    "import pandas as pd\n",
    "from sqlalchemy import create_engine\n",
    "\n",
    "# Configurar la conexión a la base de datos\n",
    "engine = create_engine('mssql+pyodbc://DESKTOP-QRE2MBQ/AdventureWorks2019?driver=ODBC+Driver+17+for+SQL+Server')\n",
    "\n",
    "# Consultas SQL\n",
    "query = \"\"\"\n",
    "        SELECT YEAR(OrderDate) AS Año, SUM(TotalDue) AS TotalVentas\n",
    "        FROM Sales.SalesOrderHeader\n",
    "        GROUP BY YEAR(OrderDate)\n",
    "        ORDER BY Año;\n",
    "    \"\"\"\n",
    "\n",
    "# Ejecutar consultas y almacenar resultados en DataFrames\n",
    "ventas_x_anio = pd.read_sql(query, engine)\n",
    "\n",
    "# Mostrar resultados\n",
    "ventas_x_anio\n"
   ]
  },
  {
   "cell_type": "code",
   "execution_count": 37,
   "id": "e5667897",
   "metadata": {},
   "outputs": [
    {
     "name": "stdout",
     "output_type": "stream",
     "text": [
      "\n",
      "Estadísticas descriptivas:\n",
      "           Año  TotalVentas\n",
      "count    4.00         4.00\n",
      "mean  2012.50  30804196.53\n",
      "std      1.29  15540701.58\n",
      "min   2011.00  14155699.53\n",
      "25%   2011.75  20353548.62\n",
      "50%   2012.50  30047599.31\n",
      "75%   2013.25  40498247.22\n",
      "max   2014.00  48965887.96\n"
     ]
    }
   ],
   "source": [
    "# Aplicar estadísticas descriptivas\n",
    "print(f\"\\nEstadísticas descriptivas:\\n\", ventas_x_anio.describe())"
   ]
  },
  {
   "cell_type": "markdown",
   "id": "40c5abe1",
   "metadata": {},
   "source": [
    "GRÁFICO DE BARRAS\n",
    "\n",
    "Total Ventas Por Año"
   ]
  },
  {
   "cell_type": "code",
   "execution_count": 52,
   "id": "1794f90d",
   "metadata": {},
   "outputs": [
    {
     "data": {
      "image/png": "[encoded data removed]",
      "text/plain": [
       "<Figure size 1200x800 with 1 Axes>"
      ]
     },
     "metadata": {},
     "output_type": "display_data"
    }
   ],
   "source": [
    "# Llamada a la función barplot de seaborn para crear un gráfico de barras -> sns.barplot\n",
    "# Variable representada en el eje x -> x='Año'\n",
    "# Variable representada en el eje y -> y='TotalVentas'\n",
    "# DataFrame ventas_por_mes como fuente de datos para el gráfico -> data=ventas_x_anio\n",
    "sns.barplot(x='Año', y='TotalVentas', data=ventas_x_anio)\n",
    "# Establecimiento de título para el gráfico\n",
    "plt.title('Ventas por año')\n",
    "# Impresión del gráfico\n",
    "plt.show()"
   ]
  },
  {
   "cell_type": "markdown",
   "id": "380062fc",
   "metadata": {},
   "source": [
    "GRÁFICO DE LÍNEA\n",
    "\n",
    "Total Ventas Por Año"
   ]
  },
  {
   "cell_type": "code",
   "execution_count": 53,
   "id": "f8c579d3",
   "metadata": {},
   "outputs": [
    {
     "data": {
      "image/png": "[encoded data removed]",
      "text/plain": [
       "<Figure size 1200x800 with 1 Axes>"
      ]
     },
     "metadata": {},
     "output_type": "display_data"
    }
   ],
   "source": [
    "# Función plot de matplotlib para crear una gráfica de línea:\n",
    "    # ventas_x_anio['Año']: columna 'Año' del DataFrame ventas_x_anio como eje x de la gráfica\n",
    "    # ventas_por_año['ventas']: columna 'TotalVentas' del DataFrame ventas_x_anio como el eje y de la gráfica\n",
    "plt.plot(ventas_x_anio['Año'], ventas_x_anio['TotalVentas'])\n",
    "# Establecemos el título de la gráfica\n",
    "plt.title('Total ventas por año')\n",
    "# Establemos la etiqueta al eje X\n",
    "plt.xlabel('Año')\n",
    "# Establemos la etiqueta al eje Y\n",
    "plt.ylabel('Total Ventas')\n",
    "# Visualización de la gráfica por pantalla\n",
    "plt.show()"
   ]
  },
  {
   "cell_type": "markdown",
   "id": "2612ab13",
   "metadata": {},
   "source": [
    "__A. CONCLUSIONES__\n",
    "\n",
    "- __A.1. Tendencia de Ventas__:\n",
    "    - Las ventas han mostrado un crecimiento significativo de 2011 a 2013, con un aumento especialmente notable de 2011 a 2012 y luego a 2013.\n",
    "    - En 2014, las ventas han disminuido considerablemente en comparación con 2013.\n",
    "\n",
    "- __A.2. Crecimiento Anual__:\n",
    "    - 2011: €14,155,699.53\n",
    "    - 2012: €37,675,700.31 (incremento de €23,519,000.78 respecto a 2011)\n",
    "    - 2013: €48,965,887.96 (incremento de €11,290,187.65 respecto a 2012)\n",
    "    - 2014: €22,419,498.32 (disminución de €26,546,389.64 respecto a 2013)"
   ]
  },
  {
   "cell_type": "markdown",
   "id": "ce3f5715",
   "metadata": {},
   "source": [
    "__B. RECOMENDACIONES DE MEJORA__\n",
    "\n",
    "- __B.1. Análisis de la Disminución en 2014__:\n",
    "    - Investigación Interna: Revisar los factores internos que pueden haber contribuido a la disminución de las ventas en 2014, como cambios en la estrategia de ventas, reducción de personal clave, problemas de producción, etc.\n",
    "    - Análisis Externo: Examinar factores externos, como cambios en el mercado, competencia, tendencias económicas o cambios en la demanda de los clientes.\n",
    "\n",
    "- __B.2. Optimización de la Estrategia de Ventas__:\n",
    "    - Revisar Estrategias Previas: Analizar las estrategias que llevaron al crecimiento en 2012 y 2013, e intentar replicarlas o adaptarlas para el futuro.\n",
    "    - Diversificación de Productos/Servicios: Evaluar si la diversificación de la línea de productos o servicios podría atraer a más clientes y aumentar las ventas.\n",
    "    - Expansión de Mercado: Considerar la expansión a nuevos mercados geográficos o segmentos de clientes para aumentar la base de clientes.\n",
    "\n",
    "- __B.3. Mejora del Servicio al Cliente__:\n",
    "    - Feedback de Clientes: Recoger y analizar el feedback de los clientes para identificar áreas de mejora en productos y servicios.\n",
    "    - Programas de Lealtad: Implementar programas de lealtad para retener a los clientes existentes y fomentar las compras repetidas.\n",
    "\n",
    "- __B.4. Marketing y Promociones__:\n",
    "    - Campañas de Marketing: Desarrollar campañas de marketing dirigidas que aprovechen los canales más efectivos para llegar a los clientes.\n",
    "    - Promociones Estacionales: Aprovechar las temporadas de alta demanda con promociones y descuentos para aumentar las ventas durante esos períodos.\n",
    "\n",
    "- __B.5. Monitoreo Continuo y Adaptación__:\n",
    "    - KPIs y Métricas: Establecer indicadores clave de rendimiento (KPIs) y monitorear regularmente las métricas de ventas para identificar rápidamente las tendencias y responder a ellas.\n",
    "    - Análisis de Competencia: Mantener un análisis continuo de la competencia para ajustar las estrategias según las tendencias del mercado y las acciones de los competidores.\n",
    "\n",
    "- __B.6. Innovación y Tecnología__:\n",
    "    - Adopción de Tecnología: Implementar nuevas tecnologías para mejorar la eficiencia operativa y la experiencia del cliente.\n",
    "    - Innovación en Productos: Invertir en investigación y desarrollo para innovar y ofrecer productos y servicios que satisfagan las necesidades cambiantes de los clientes."
   ]
  },
  {
   "cell_type": "markdown",
   "id": "9d887d98",
   "metadata": {},
   "source": [
    "2. Total de Ventas por Vendedor"
   ]
  },
  {
   "cell_type": "code",
   "execution_count": 38,
   "id": "4b148971",
   "metadata": {},
   "outputs": [
    {
     "data": {
      "text/html": [
       "<div>\n",
       "<style scoped>\n",
       "    .dataframe tbody tr th:only-of-type {\n",
       "        vertical-align: middle;\n",
       "    }\n",
       "\n",
       "    .dataframe tbody tr th {\n",
       "        vertical-align: top;\n",
       "    }\n",
       "\n",
       "    .dataframe thead th {\n",
       "        text-align: right;\n",
       "    }\n",
       "</style>\n",
       "<table border=\"1\" class=\"dataframe\">\n",
       "  <thead>\n",
       "    <tr style=\"text-align: right;\">\n",
       "      <th></th>\n",
       "      <th>SalesPersonID</th>\n",
       "      <th>TotalVentas</th>\n",
       "    </tr>\n",
       "  </thead>\n",
       "  <tbody>\n",
       "    <tr>\n",
       "      <th>0</th>\n",
       "      <td>NaN</td>\n",
       "      <td>32441339.12</td>\n",
       "    </tr>\n",
       "    <tr>\n",
       "      <th>1</th>\n",
       "      <td>276.00</td>\n",
       "      <td>11695019.06</td>\n",
       "    </tr>\n",
       "    <tr>\n",
       "      <th>2</th>\n",
       "      <td>277.00</td>\n",
       "      <td>11342385.90</td>\n",
       "    </tr>\n",
       "    <tr>\n",
       "      <th>3</th>\n",
       "      <td>275.00</td>\n",
       "      <td>10475367.08</td>\n",
       "    </tr>\n",
       "    <tr>\n",
       "      <th>4</th>\n",
       "      <td>289.00</td>\n",
       "      <td>9585124.95</td>\n",
       "    </tr>\n",
       "    <tr>\n",
       "      <th>5</th>\n",
       "      <td>279.00</td>\n",
       "      <td>8086073.68</td>\n",
       "    </tr>\n",
       "    <tr>\n",
       "      <th>6</th>\n",
       "      <td>281.00</td>\n",
       "      <td>7259567.88</td>\n",
       "    </tr>\n",
       "    <tr>\n",
       "      <th>7</th>\n",
       "      <td>282.00</td>\n",
       "      <td>6683536.66</td>\n",
       "    </tr>\n",
       "    <tr>\n",
       "      <th>8</th>\n",
       "      <td>290.00</td>\n",
       "      <td>5087977.21</td>\n",
       "    </tr>\n",
       "    <tr>\n",
       "      <th>9</th>\n",
       "      <td>283.00</td>\n",
       "      <td>4207894.60</td>\n",
       "    </tr>\n",
       "    <tr>\n",
       "      <th>10</th>\n",
       "      <td>278.00</td>\n",
       "      <td>4069422.21</td>\n",
       "    </tr>\n",
       "    <tr>\n",
       "      <th>11</th>\n",
       "      <td>280.00</td>\n",
       "      <td>3748246.12</td>\n",
       "    </tr>\n",
       "    <tr>\n",
       "      <th>12</th>\n",
       "      <td>284.00</td>\n",
       "      <td>2608116.38</td>\n",
       "    </tr>\n",
       "    <tr>\n",
       "      <th>13</th>\n",
       "      <td>288.00</td>\n",
       "      <td>2062393.14</td>\n",
       "    </tr>\n",
       "    <tr>\n",
       "      <th>14</th>\n",
       "      <td>286.00</td>\n",
       "      <td>1606441.45</td>\n",
       "    </tr>\n",
       "    <tr>\n",
       "      <th>15</th>\n",
       "      <td>274.00</td>\n",
       "      <td>1235934.45</td>\n",
       "    </tr>\n",
       "    <tr>\n",
       "      <th>16</th>\n",
       "      <td>287.00</td>\n",
       "      <td>826417.47</td>\n",
       "    </tr>\n",
       "    <tr>\n",
       "      <th>17</th>\n",
       "      <td>285.00</td>\n",
       "      <td>195528.78</td>\n",
       "    </tr>\n",
       "  </tbody>\n",
       "</table>\n",
       "</div>"
      ],
      "text/plain": [
       "    SalesPersonID  TotalVentas\n",
       "0             NaN  32441339.12\n",
       "1          276.00  11695019.06\n",
       "2          277.00  11342385.90\n",
       "3          275.00  10475367.08\n",
       "4          289.00   9585124.95\n",
       "5          279.00   8086073.68\n",
       "6          281.00   7259567.88\n",
       "7          282.00   6683536.66\n",
       "8          290.00   5087977.21\n",
       "9          283.00   4207894.60\n",
       "10         278.00   4069422.21\n",
       "11         280.00   3748246.12\n",
       "12         284.00   2608116.38\n",
       "13         288.00   2062393.14\n",
       "14         286.00   1606441.45\n",
       "15         274.00   1235934.45\n",
       "16         287.00    826417.47\n",
       "17         285.00    195528.78"
      ]
     },
     "execution_count": 38,
     "metadata": {},
     "output_type": "execute_result"
    }
   ],
   "source": [
    "import pandas as pd\n",
    "from sqlalchemy import create_engine\n",
    "\n",
    "# Configurar la conexión a la base de datos\n",
    "engine = create_engine('mssql+pyodbc://DESKTOP-QRE2MBQ/AdventureWorks2019?driver=ODBC+Driver+17+for+SQL+Server')\n",
    "\n",
    "# Consultas SQL\n",
    "# TotalVentasPorVendedor\n",
    "query = \"\"\"\n",
    "        SELECT SalesPersonID, SUM(TotalDue) AS TotalVentas\n",
    "        FROM Sales.SalesOrderHeader\n",
    "        GROUP BY SalesPersonID\n",
    "        ORDER BY TotalVentas DESC;\n",
    "    \"\"\"\n",
    "\n",
    "# Ejecutar consulta y almacenar resultado en DataFrame\n",
    "ventas_x_vendedor = pd.read_sql(query, engine)\n",
    "\n",
    "# Mostrar resultados\n",
    "ventas_x_vendedor"
   ]
  },
  {
   "cell_type": "code",
   "execution_count": 39,
   "id": "fd1b698e",
   "metadata": {},
   "outputs": [
    {
     "name": "stdout",
     "output_type": "stream",
     "text": [
      "\n",
      "Estadísticas descriptivas:\n",
      "        SalesPersonID  TotalVentas\n",
      "count          17.00        18.00\n",
      "mean          282.00   6845377.01\n",
      "std             5.05   7391769.61\n",
      "min           274.00    195528.78\n",
      "25%           278.00   2198823.95\n",
      "50%           282.00   4647935.91\n",
      "75%           286.00   9210362.13\n",
      "max           290.00  32441339.12\n"
     ]
    }
   ],
   "source": [
    "# Aplicar estadísticas descriptivas\n",
    "print(f\"\\nEstadísticas descriptivas:\\n\", ventas_x_vendedor.describe())"
   ]
  },
  {
   "cell_type": "markdown",
   "id": "3e692087",
   "metadata": {},
   "source": [
    "3. Tiempo Promedio de Envío"
   ]
  },
  {
   "cell_type": "code",
   "execution_count": 42,
   "id": "0d600767",
   "metadata": {},
   "outputs": [
    {
     "data": {
      "text/html": [
       "<div>\n",
       "<style scoped>\n",
       "    .dataframe tbody tr th:only-of-type {\n",
       "        vertical-align: middle;\n",
       "    }\n",
       "\n",
       "    .dataframe tbody tr th {\n",
       "        vertical-align: top;\n",
       "    }\n",
       "\n",
       "    .dataframe thead th {\n",
       "        text-align: right;\n",
       "    }\n",
       "</style>\n",
       "<table border=\"1\" class=\"dataframe\">\n",
       "  <thead>\n",
       "    <tr style=\"text-align: right;\">\n",
       "      <th></th>\n",
       "      <th>TiempoPromedioEnvio</th>\n",
       "    </tr>\n",
       "  </thead>\n",
       "  <tbody>\n",
       "    <tr>\n",
       "      <th>0</th>\n",
       "      <td>7</td>\n",
       "    </tr>\n",
       "  </tbody>\n",
       "</table>\n",
       "</div>"
      ],
      "text/plain": [
       "   TiempoPromedioEnvio\n",
       "0                    7"
      ]
     },
     "execution_count": 42,
     "metadata": {},
     "output_type": "execute_result"
    }
   ],
   "source": [
    "import pandas as pd\n",
    "from sqlalchemy import create_engine\n",
    "\n",
    "# Configurar la conexión a la base de datos\n",
    "engine = create_engine('mssql+pyodbc://DESKTOP-QRE2MBQ/AdventureWorks2019?driver=ODBC+Driver+17+for+SQL+Server')\n",
    "\n",
    "# Consultas SQL\n",
    "# TiempoPromedioEnvio\n",
    "query = \"\"\"\n",
    "        SELECT AVG(DATEDIFF(day, OrderDate, ShipDate)) AS TiempoPromedioEnvio\n",
    "        FROM Sales.SalesOrderHeader\n",
    "        WHERE ShipDate IS NOT NULL;\n",
    "    \"\"\"\n",
    "\n",
    "# Ejecutar consulta y almacenar resultado en DataFrame\n",
    "tiempo_promedio_envio = pd.read_sql(query, engine)\n",
    "\n",
    "# Mostrar resultados\n",
    "tiempo_promedio_envio"
   ]
  },
  {
   "cell_type": "code",
   "execution_count": 43,
   "id": "45590220",
   "metadata": {},
   "outputs": [
    {
     "name": "stdout",
     "output_type": "stream",
     "text": [
      "\n",
      "Estadísticas descriptivas:\n",
      "        TiempoPromedioEnvio\n",
      "count                 1.00\n",
      "mean                  7.00\n",
      "std                    NaN\n",
      "min                   7.00\n",
      "25%                   7.00\n",
      "50%                   7.00\n",
      "75%                   7.00\n",
      "max                   7.00\n"
     ]
    }
   ],
   "source": [
    "# Aplicar estadísticas descriptivas\n",
    "print(f\"\\nEstadísticas descriptivas:\\n\", tiempo_promedio_envio.describe())"
   ]
  },
  {
   "cell_type": "markdown",
   "id": "096cb0c3",
   "metadata": {},
   "source": [
    "4. Ventas por Método de Envío"
   ]
  },
  {
   "cell_type": "code",
   "execution_count": 45,
   "id": "4c38a1cf",
   "metadata": {},
   "outputs": [
    {
     "data": {
      "text/html": [
       "<div>\n",
       "<style scoped>\n",
       "    .dataframe tbody tr th:only-of-type {\n",
       "        vertical-align: middle;\n",
       "    }\n",
       "\n",
       "    .dataframe tbody tr th {\n",
       "        vertical-align: top;\n",
       "    }\n",
       "\n",
       "    .dataframe thead th {\n",
       "        text-align: right;\n",
       "    }\n",
       "</style>\n",
       "<table border=\"1\" class=\"dataframe\">\n",
       "  <thead>\n",
       "    <tr style=\"text-align: right;\">\n",
       "      <th></th>\n",
       "      <th>ShipMethodID</th>\n",
       "      <th>TotalVentas</th>\n",
       "    </tr>\n",
       "  </thead>\n",
       "  <tbody>\n",
       "    <tr>\n",
       "      <th>0</th>\n",
       "      <td>5</td>\n",
       "      <td>90775446.99</td>\n",
       "    </tr>\n",
       "    <tr>\n",
       "      <th>1</th>\n",
       "      <td>1</td>\n",
       "      <td>32441339.12</td>\n",
       "    </tr>\n",
       "  </tbody>\n",
       "</table>\n",
       "</div>"
      ],
      "text/plain": [
       "   ShipMethodID  TotalVentas\n",
       "0             5  90775446.99\n",
       "1             1  32441339.12"
      ]
     },
     "execution_count": 45,
     "metadata": {},
     "output_type": "execute_result"
    }
   ],
   "source": [
    "import pandas as pd\n",
    "from sqlalchemy import create_engine\n",
    "\n",
    "# Configurar la conexión a la base de datos\n",
    "engine = create_engine('mssql+pyodbc://DESKTOP-QRE2MBQ/AdventureWorks2019?driver=ODBC+Driver+17+for+SQL+Server')\n",
    "\n",
    "# Consultas SQL\n",
    "# VentasPorMetodoEnvio   \n",
    "query =  \"\"\"\n",
    "        SELECT ShipMethodID, SUM(TotalDue) AS TotalVentas\n",
    "        FROM Sales.SalesOrderHeader\n",
    "        GROUP BY ShipMethodID\n",
    "        ORDER BY TotalVentas DESC;\n",
    "    \"\"\"\n",
    "\n",
    "# Ejecutar consulta y almacenar resultado en DataFrame\n",
    "ventas_x_metodo_envio = pd.read_sql(query, engine)\n",
    "\n",
    "# Mostrar resultados\n",
    "ventas_x_metodo_envio"
   ]
  },
  {
   "cell_type": "code",
   "execution_count": 47,
   "id": "34b77baf",
   "metadata": {},
   "outputs": [
    {
     "name": "stdout",
     "output_type": "stream",
     "text": [
      "\n",
      "Estadísticas descriptivas:\n",
      "        ShipMethodID  TotalVentas\n",
      "count          2.00         2.00\n",
      "mean           3.00  61608393.06\n",
      "std            2.83  41248443.25\n",
      "min            1.00  32441339.12\n",
      "25%            2.00  47024866.09\n",
      "50%            3.00  61608393.06\n",
      "75%            4.00  76191920.03\n",
      "max            5.00  90775446.99\n"
     ]
    }
   ],
   "source": [
    "# Aplicar estadísticas descriptivas\n",
    "print(f\"\\nEstadísticas descriptivas:\\n\", ventas_x_metodo_envio.describe())"
   ]
  },
  {
   "cell_type": "markdown",
   "id": "b8f6f09f",
   "metadata": {},
   "source": [
    "5. Subtotal de Impuestos y Flete por Año"
   ]
  },
  {
   "cell_type": "code",
   "execution_count": 49,
   "id": "38a9592c",
   "metadata": {},
   "outputs": [
    {
     "data": {
      "text/html": [
       "<div>\n",
       "<style scoped>\n",
       "    .dataframe tbody tr th:only-of-type {\n",
       "        vertical-align: middle;\n",
       "    }\n",
       "\n",
       "    .dataframe tbody tr th {\n",
       "        vertical-align: top;\n",
       "    }\n",
       "\n",
       "    .dataframe thead th {\n",
       "        text-align: right;\n",
       "    }\n",
       "</style>\n",
       "<table border=\"1\" class=\"dataframe\">\n",
       "  <thead>\n",
       "    <tr style=\"text-align: right;\">\n",
       "      <th></th>\n",
       "      <th>Año</th>\n",
       "      <th>Subtotal</th>\n",
       "      <th>Impuestos</th>\n",
       "      <th>Flete</th>\n",
       "    </tr>\n",
       "  </thead>\n",
       "  <tbody>\n",
       "    <tr>\n",
       "      <th>0</th>\n",
       "      <td>2011</td>\n",
       "      <td>12641672.21</td>\n",
       "      <td>1153544.57</td>\n",
       "      <td>360482.74</td>\n",
       "    </tr>\n",
       "    <tr>\n",
       "      <th>1</th>\n",
       "      <td>2012</td>\n",
       "      <td>33524301.33</td>\n",
       "      <td>3162970.58</td>\n",
       "      <td>988428.40</td>\n",
       "    </tr>\n",
       "    <tr>\n",
       "      <th>2</th>\n",
       "      <td>2013</td>\n",
       "      <td>43622479.05</td>\n",
       "      <td>4071168.46</td>\n",
       "      <td>1272240.45</td>\n",
       "    </tr>\n",
       "    <tr>\n",
       "      <th>3</th>\n",
       "      <td>2014</td>\n",
       "      <td>20057928.81</td>\n",
       "      <td>1799290.84</td>\n",
       "      <td>562278.66</td>\n",
       "    </tr>\n",
       "  </tbody>\n",
       "</table>\n",
       "</div>"
      ],
      "text/plain": [
       "    Año    Subtotal  Impuestos      Flete\n",
       "0  2011 12641672.21 1153544.57  360482.74\n",
       "1  2012 33524301.33 3162970.58  988428.40\n",
       "2  2013 43622479.05 4071168.46 1272240.45\n",
       "3  2014 20057928.81 1799290.84  562278.66"
      ]
     },
     "execution_count": 49,
     "metadata": {},
     "output_type": "execute_result"
    }
   ],
   "source": [
    "import pandas as pd\n",
    "from sqlalchemy import create_engine\n",
    "\n",
    "# Configurar la conexión a la base de datos\n",
    "engine = create_engine('mssql+pyodbc://DESKTOP-QRE2MBQ/AdventureWorks2019?driver=ODBC+Driver+17+for+SQL+Server')\n",
    "\n",
    "# Consultas SQL\n",
    "# SubtotalImpuestosFletePorAño    \n",
    "query = \"\"\"\n",
    "        SELECT YEAR(OrderDate) AS Año, SUM(SubTotal) AS Subtotal, SUM(TaxAmt) AS Impuestos, SUM(Freight) AS Flete\n",
    "        FROM Sales.SalesOrderHeader\n",
    "        GROUP BY YEAR(OrderDate)\n",
    "        ORDER BY Año;\n",
    "    \"\"\"\n",
    "\n",
    "# Ejecutar consulta y almacenar resultado en DataFrame\n",
    "sub_imp_flete_x_anio = pd.read_sql(query, engine)\n",
    "\n",
    "# Mostrar resultados\n",
    "sub_imp_flete_x_anio"
   ]
  },
  {
   "cell_type": "code",
   "execution_count": 57,
   "id": "3ba1f1f5",
   "metadata": {},
   "outputs": [
    {
     "name": "stdout",
     "output_type": "stream",
     "text": [
      "\n",
      "Estadísticas descriptivas:\n",
      "           Año    Subtotal  Impuestos      Flete\n",
      "count    4.00        4.00       4.00       4.00\n",
      "mean  2012.50 27461595.35 2546743.62  795857.56\n",
      "std      1.29 13812735.26 1316978.36  411555.80\n",
      "min   2011.00 12641672.21 1153544.57  360482.74\n",
      "25%   2011.75 18203864.66 1637854.28  511829.68\n",
      "50%   2012.50 26791115.07 2481130.71  775353.53\n",
      "75%   2013.25 36048845.76 3390020.05 1059381.42\n",
      "max   2014.00 43622479.05 4071168.46 1272240.45\n"
     ]
    }
   ],
   "source": [
    "# Aplicar estadísticas descriptivas\n",
    "print(f\"\\nEstadísticas descriptivas:\\n\", sub_imp_flete_x_anio.describe())"
   ]
  },
  {
   "cell_type": "markdown",
   "id": "8e68bb24",
   "metadata": {},
   "source": [
    "GRÁFICO DE BARRAS\n",
    "\n",
    "Subtotal Impuestos Flete Por Año"
   ]
  },
  {
   "cell_type": "code",
   "execution_count": 55,
   "id": "4648297a",
   "metadata": {},
   "outputs": [
    {
     "data": {
      "image/png": "[encoded data removed]",
      "text/plain": [
       "<Figure size 1200x800 with 1 Axes>"
      ]
     },
     "metadata": {},
     "output_type": "display_data"
    }
   ],
   "source": [
    "flete_x_anio = sub_imp_flete_x_anio.groupby('Año')['Flete'].sum().reset_index()\n",
    "\n",
    "sns.barplot(x='Año', y='Flete', data=flete_x_anio)\n",
    "# Establecimiento de título para el gráfico\n",
    "plt.title('Subtotal Impuestos Flete Por Año')\n",
    "# Impresión del gráfico\n",
    "plt.show()"
   ]
  },
  {
   "cell_type": "markdown",
   "id": "f7d14715",
   "metadata": {},
   "source": [
    "GRÁFICO DE LÍNEA\n",
    "\n",
    "Subtotal Impuestos Flete Por Año"
   ]
  },
  {
   "cell_type": "code",
   "execution_count": 56,
   "id": "96f2efd6",
   "metadata": {},
   "outputs": [
    {
     "data": {
      "image/png": "[encoded data removed]",
      "text/plain": [
       "<Figure size 1200x800 with 1 Axes>"
      ]
     },
     "metadata": {},
     "output_type": "display_data"
    }
   ],
   "source": [
    "flete_x_anio = sub_imp_flete_x_anio.groupby('Año')['Flete'].sum().reset_index()\n",
    "\n",
    "plt.plot(flete_x_anio['Año'], flete_x_anio['Flete'])\n",
    "# Establecemos el título de la gráfica\n",
    "plt.title('Flete por Año')\n",
    "# Establemos la etiqueta al eje X\n",
    "plt.xlabel('Año')\n",
    "# Establemos la etiqueta al eje Y\n",
    "plt.ylabel('Flete')\n",
    "# Visualización de la gráfica por pantalla\n",
    "plt.show()"
   ]
  },
  {
   "cell_type": "markdown",
   "id": "ca0439c0",
   "metadata": {},
   "source": [
    "__A. CONCLUSIONES__\n",
    "\n",
    "- __A.1. Tendencia de Subtotal de Ventas__:\n",
    "    - 2011: €12,641,672.21\n",
    "    - 2012: €33,524,301.33\n",
    "    - 2013: €43,622,479.05\n",
    "    - 2014: €20,057,928.81\n",
    "    - Hay un crecimiento significativo en el subtotal de ventas de 2011 a 2013. Sin embargo, en 2014, se observa una caída considerable en comparación con 2013.\n",
    "\n",
    "- __A.2. Impuestos__:\n",
    "    - 2011: €1,153,544.57\n",
    "    - 2012: €3,162,970.58\n",
    "    - 2013: €4,071,168.46\n",
    "    - 2014: €1,799,290.84\n",
    "    - Los impuestos también muestran una tendencia similar a la de las ventas, aumentando hasta 2013 y luego disminuyendo en 2014.\n",
    "\n",
    "- __A.3. Flete__:\n",
    "    - 2011: €360,482.74\n",
    "    - 2012: €988,428.40\n",
    "    - 2013: €1,272,240.45\n",
    "    - 2014: €562,278.66\n",
    "    - Los costos de flete siguen la misma tendencia de aumento hasta 2013 y disminución en 2014."
   ]
  },
  {
   "cell_type": "markdown",
   "id": "d8536969",
   "metadata": {},
   "source": [
    "__B. RECOMENDACIONES DE MEJORA__\n",
    "\n",
    "- __B.1. Optimización de Costos de Flete__:\n",
    "    - Negociación con Proveedores: Negociar mejores tarifas con los proveedores de servicios de flete.\n",
    "    - Optimización Logística: Implementar prácticas logísticas eficientes para reducir los costos de envío.\n",
    "    - Tecnología de Gestión de Transporte: Usar software de gestión de transporte para optimizar rutas y reducir costos.\n",
    "\n",
    "- __B.2. Estrategia de Impuestos__:\n",
    "    - Incentivos Fiscales: Explorar incentivos fiscales y programas de exención de impuestos que puedan reducir la carga fiscal.\n",
    "    - Cumplimiento y Planificación: Asegurar el cumplimiento y una planificación fiscal efectiva para minimizar la carga impositiva."
   ]
  }
 ],
 "metadata": {
  "kernelspec": {
   "display_name": "Python 3 (ipykernel)",
   "language": "python",
   "name": "python3"
  },
  "language_info": {
   "codemirror_mode": {
    "name": "ipython",
    "version": 3
   },
   "file_extension": ".py",
   "mimetype": "text/x-python",
   "name": "python",
   "nbconvert_exporter": "python",
   "pygments_lexer": "ipython3",
   "version": "3.12.5"
  }
 },
 "nbformat": 4,
 "nbformat_minor": 5
}
